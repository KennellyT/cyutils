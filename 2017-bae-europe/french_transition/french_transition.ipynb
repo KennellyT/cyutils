{
 "cells": [
  {
   "cell_type": "markdown",
   "metadata": {
    "collapsed": false
   },
   "source": [
    "### Import Necessary Module and Set Path "
   ]
  },
  {
   "cell_type": "code",
   "execution_count": 1,
   "metadata": {
    "collapsed": true
   },
   "outputs": [],
   "source": [
    "import sqlite3 as lite\n",
    "import os\n",
    "import sys\n",
    "import numpy as np\n",
    "from pyne import nucname\n",
    "import collections\n",
    "import matplotlib.pyplot as plt\n",
    "sys.path.insert(0, '../../scripts/')\n",
    "jupyter_directory = os.getcwd()"
   ]
  },
  {
   "cell_type": "code",
   "execution_count": 2,
   "metadata": {
    "collapsed": false
   },
   "outputs": [],
   "source": [
    "import analysis as an"
   ]
  },
  {
   "cell_type": "markdown",
   "metadata": {},
   "source": [
    "## Run Cyclus Input file"
   ]
  },
  {
   "cell_type": "code",
   "execution_count": 81,
   "metadata": {
    "collapsed": false
   },
   "outputs": [
    {
     "name": "stdout",
     "output_type": "stream",
     "text": [
      "              :                                                               \n",
      "          .CL:CC CC             _Q     _Q  _Q_Q    _Q    _Q              _Q   \n",
      "        CC;CCCCCCCC:C;         /_\\)   /_\\)/_/\\\\)  /_\\)  /_\\)            /_\\)  \n",
      "        CCCCCCCCCCCCCl       __O|/O___O|/O_OO|/O__O|/O__O|/O____________O|/O__\n",
      "     CCCCCCf     iCCCLCC     /////////////////////////////////////////////////\n",
      "     iCCCt  ;;;;;.  CCCC                                                      \n",
      "    CCCC  ;;;;;;;;;. CClL.                          c                         \n",
      "   CCCC ,;;       ;;: CCCC  ;                   : CCCCi                       \n",
      "    CCC ;;         ;;  CC   ;;:                CCC`   `C;                     \n",
      "  lCCC ;;              CCCC  ;;;:             :CC .;;. C;   ;    :   ;  :;;   \n",
      "  CCCC ;.              CCCC    ;;;,           CC ;    ; Ci  ;    :   ;  :  ;  \n",
      "   iCC :;               CC       ;;;,        ;C ;       CC  ;    :   ; .      \n",
      "  CCCi ;;               CCC        ;;;.      .C ;       tf  ;    :   ;  ;.    \n",
      "  CCC  ;;               CCC          ;;;;;;; fC :       lC  ;    :   ;    ;:  \n",
      "   iCf ;;               CC         :;;:      tC ;       CC  ;    :   ;     ;  \n",
      "  fCCC :;              LCCf      ;;;:         LC :.  ,: C   ;    ;   ; ;   ;  \n",
      "  CCCC  ;;             CCCC    ;;;:           CCi `;;` CC.  ;;;; :;.;.  ; ,;  \n",
      "    CCl ;;             CC    ;;;;              CCC    CCL                     \n",
      "   tCCC  ;;        ;; CCCL  ;;;                  tCCCCC.                      \n",
      "    CCCC  ;;     :;; CCCCf  ;                     ,L                          \n",
      "     lCCC   ;;;;;;  CCCL                                                      \n",
      "     CCCCCC  :;;  fCCCCC                                                      \n",
      "      . CCCC     CCCC .                                                       \n",
      "       .CCCCCCCCCCCCCi                                                        \n",
      "          iCCCCCLCf                                                           \n",
      "           .  C. ,                                                            \n",
      "              :                                                               \n",
      "Experimental Warning: MatlSellPolicy is experimental and its API may be subject to change\n",
      "Experimental Warning: the Mixer archetype is experimental\n",
      "Experimental Warning: MatlBuyPolicy is experimental and its API may be subject to change\n",
      "Experimental Warning: MatlSellPolicy is experimental and its API may be subject to change\n",
      "Experimental Warning: The Storage Facility is experimental.\n",
      "Experimental Warning: MatlSellPolicy is experimental and its API may be subject to change\n",
      "Experimental Warning: the Mixer archetype is experimental\n",
      "Experimental Warning: MatlSellPolicy is experimental and its API may be subject to change\n",
      "Experimental Warning: the Mixer archetype is experimental\n",
      "Experimental Warning: MatlSellPolicy is experimental and its API may be subject to change\n",
      "Experimental Warning: the Mixer archetype is experimental\n",
      "Experimental Warning: MatlBuyPolicy is experimental and its API may be subject to change\n",
      "Experimental Warning: MatlSellPolicy is experimental and its API may be subject to change\n",
      "Experimental Warning: The Storage Facility is experimental.\n",
      "Experimental Warning: MatlBuyPolicy is experimental and its API may be subject to change\n",
      "Experimental Warning: MatlSellPolicy is experimental and its API may be subject to change\n",
      "Experimental Warning: The Storage Facility is experimental.\n",
      "Experimental Warning: MatlSellPolicy is experimental and its API may be subject to change\n",
      "Experimental Warning: the Mixer archetype is experimental\n",
      "Experimental Warning: MatlSellPolicy is experimental and its API may be subject to change\n",
      "Experimental Warning: the Mixer archetype is experimental\n",
      "Experimental Warning: MatlSellPolicy is experimental and its API may be subject to change\n",
      "Experimental Warning: the Mixer archetype is experimental\n",
      "Experimental Warning: MatlSellPolicy is experimental and its API may be subject to change\n",
      "Experimental Warning: the Mixer archetype is experimental\n",
      "Experimental Warning: MatlBuyPolicy is experimental and its API may be subject to change\n",
      "Experimental Warning: MatlSellPolicy is experimental and its API may be subject to change\n",
      "Experimental Warning: The Storage Facility is experimental.\n",
      "Experimental Warning: MatlSellPolicy is experimental and its API may be subject to change\n",
      "Experimental Warning: the Mixer archetype is experimental\n",
      "Experimental Warning: MatlBuyPolicy is experimental and its API may be subject to change\n",
      "Experimental Warning: MatlSellPolicy is experimental and its API may be subject to change\n",
      "Experimental Warning: The Storage Facility is experimental.\n",
      "Experimental Warning: MatlSellPolicy is experimental and its API may be subject to change\n",
      "Experimental Warning: the Mixer archetype is experimental\n",
      "\n",
      "Status: Cyclus run successful!\n",
      "Output location: mixer.sqlite\n",
      "Simulation ID: 08bf88c8-5c39-4a0d-8f80-6160ceb8e8bb\n"
     ]
    }
   ],
   "source": [
    "! rm mixer.sqlite\n",
    "! cyclus -o mixer.sqlite mixer.xml"
   ]
  },
  {
   "cell_type": "code",
   "execution_count": 15,
   "metadata": {
    "collapsed": false
   },
   "outputs": [
    {
     "name": "stdout",
     "output_type": "stream",
     "text": [
      "              :                                                               \n",
      "          .CL:CC CC             _Q     _Q  _Q_Q    _Q    _Q              _Q   \n",
      "        CC;CCCCCCCC:C;         /_\\)   /_\\)/_/\\\\)  /_\\)  /_\\)            /_\\)  \n",
      "        CCCCCCCCCCCCCl       __O|/O___O|/O_OO|/O__O|/O__O|/O____________O|/O__\n",
      "     CCCCCCf     iCCCLCC     /////////////////////////////////////////////////\n",
      "     iCCCt  ;;;;;.  CCCC                                                      \n",
      "    CCCC  ;;;;;;;;;. CClL.                          c                         \n",
      "   CCCC ,;;       ;;: CCCC  ;                   : CCCCi                       \n",
      "    CCC ;;         ;;  CC   ;;:                CCC`   `C;                     \n",
      "  lCCC ;;              CCCC  ;;;:             :CC .;;. C;   ;    :   ;  :;;   \n",
      "  CCCC ;.              CCCC    ;;;,           CC ;    ; Ci  ;    :   ;  :  ;  \n",
      "   iCC :;               CC       ;;;,        ;C ;       CC  ;    :   ; .      \n",
      "  CCCi ;;               CCC        ;;;.      .C ;       tf  ;    :   ;  ;.    \n",
      "  CCC  ;;               CCC          ;;;;;;; fC :       lC  ;    :   ;    ;:  \n",
      "   iCf ;;               CC         :;;:      tC ;       CC  ;    :   ;     ;  \n",
      "  fCCC :;              LCCf      ;;;:         LC :.  ,: C   ;    ;   ; ;   ;  \n",
      "  CCCC  ;;             CCCC    ;;;:           CCi `;;` CC.  ;;;; :;.;.  ; ,;  \n",
      "    CCl ;;             CC    ;;;;              CCC    CCL                     \n",
      "   tCCC  ;;        ;; CCCL  ;;;                  tCCCCC.                      \n",
      "    CCCC  ;;     :;; CCCCf  ;                     ,L                          \n",
      "     lCCC   ;;;;;;  CCCL                                                      \n",
      "     CCCCCC  :;;  fCCCCC                                                      \n",
      "      . CCCC     CCCC .                                                       \n",
      "       .CCCCCCCCCCCCCi                                                        \n",
      "          iCCCCCLCf                                                           \n",
      "           .  C. ,                                                            \n",
      "              :                                                               \n",
      "Experimental Warning: MatlSellPolicy is experimental and its API may be subject to change\n",
      "Experimental Warning: the Mixer archetype is experimental\n",
      "Experimental Warning: MatlSellPolicy is experimental and its API may be subject to change\n",
      "Experimental Warning: the Mixer archetype is experimental\n",
      "Experimental Warning: MatlSellPolicy is experimental and its API may be subject to change\n",
      "Experimental Warning: the Mixer archetype is experimental\n",
      "Experimental Warning: MatlSellPolicy is experimental and its API may be subject to change\n",
      "Experimental Warning: the Mixer archetype is experimental\n",
      "Experimental Warning: MatlSellPolicy is experimental and its API may be subject to change\n",
      "Experimental Warning: the Mixer archetype is experimental\n",
      "\n",
      "Status: Cyclus run successful!\n",
      "Output location: astrid.sqlite\n",
      "Simulation ID: 969722c7-91c5-47b8-a986-1418afaf819d\n"
     ]
    }
   ],
   "source": [
    "! rm astrid.sqlite\n",
    "! cyclus -o astrid.sqlite 1970-2160_Just_ASTRID.xml"
   ]
  },
  {
   "cell_type": "markdown",
   "metadata": {},
   "source": [
    "### The output file should be named \n",
    "         \n",
    "          astrid.sqlite"
   ]
  },
  {
   "cell_type": "code",
   "execution_count": 11,
   "metadata": {
    "collapsed": false
   },
   "outputs": [
    {
     "name": "stdout",
     "output_type": "stream",
     "text": [
      "Sink_Source_Inst has no values\n",
      "Sink_Source_Inst has no values\n",
      "Total MOX used in MTHM:\n",
      "116115.072\n",
      "Total MOX from legacy UOX Waste in MTHM:\n",
      "16372.2155369\n",
      "Total MOX from MOX Waste in MTHM:\n",
      "150426.875377\n",
      "Total Tailings used in MTHM:\n",
      "105664.71552\n",
      "Total Pu reprocessed in MTHM:\n",
      "15011.9181823\n",
      "Total Reprocessed Uranium Stockpile: \n",
      "separ to stora\n",
      "251100.555477\n",
      "Total Reprocess Waste: \n",
      "15011.9181823\n",
      "Finished!\n"
     ]
    }
   ],
   "source": [
    "# Wait for the complete message to move on\n",
    "filename = 'mixer.sqlite'\n",
    "\n",
    "cur = an.get_cursor(filename)\n",
    "init_year, init_month, duration, timestep = an.get_timesteps(cur)\n",
    "\n",
    "# get power / number timeseries\n",
    "an.plot_power(cur)\n",
    "\n",
    "# get fuel source and inventory\n",
    "fuel = an.fuel_usage_timeseries(cur, ['mox'])\n",
    "an.stacked_bar_chart(fuel, timestep,\n",
    "                  'Years', 'Mass[MTHM]',\n",
    "                  'Total Fuel Mass vs Time',\n",
    "                  'where_fuel',\n",
    "                  init_year)\n",
    "\n",
    "# plutonium flux\n",
    "agent_ids = an.get_agent_ids(cur, 'separations')\n",
    "pu = an.facility_commodity_flux(cur, agent_ids, ['uox_Pu', 'mox_Pu'], True)\n",
    "pu['pu from legacy'] = pu.pop('uox_Pu')\n",
    "pu['pu from spent sfr fuel'] = pu.pop('mox_Pu')\n",
    "an.stacked_bar_chart(pu, timestep, 'Years', 'Mass [MTHM]', 'Total Pu Mass vs Time', 'pu', init_year)\n",
    "\n",
    "fuel_dict = collections.OrderedDict()\n",
    "fuel_dict['from spent uox'] = [x/.09 for x in pu['pu from legacy']]\n",
    "fuel_dict['from spent mox'] = [x/.09 for x in pu['pu from spent sfr fuel']]\n",
    "an.stacked_bar_chart(fuel_dict, timestep, 'Years', 'Mass [MTHM]', 'Total Fuel Mass vs Time', 'fuel', init_year)\n",
    "\n",
    "tailings = collections.OrderedDict()\n",
    "tailings['tailings used'] = [i * .91 for i in fuel['mox']]\n",
    "an.stacked_bar_chart(tailings, timestep, 'Years', 'Mass [MTHM]', 'Total Tailings Usage vs Time', 'tails', init_year)\n",
    "\n",
    "\n",
    "\n",
    "\"\"\"\n",
    "# get pu demand\n",
    "demand = collections.OrderedDict()\n",
    "demand['pu_from_legacy'] = [i * .09 for i in fuel_dict['from_spent_uox']]\n",
    "demand['pu_from_spent_mox'] = [i * .09 for i in fuel_dict['from_spent_mox']]\n",
    "total_mox = ([x + y for x, y in zip(fuel_dict['from_spent_uox'], fuel_dict['from_spent_mox'])])\n",
    "demand['pu_total'] = [i *.09 for i in total_mox]\n",
    "demand['num_astrid'] = [i / 4.9 for i in demand['pu_from_legacy']]\n",
    "demand['tailings'] = [i * .91 for i in total_mox]\n",
    "an.multi_line_plot(demand, timestep,\n",
    "                'Years', 'Mass[MTHM]',\n",
    "                'Total Demand vs Time',\n",
    "                'demand',\n",
    "                init_year)\n",
    "\"\"\"\n",
    "print('Total MOX used in MTHM:')\n",
    "print(max(fuel['mox']))\n",
    "print('Total MOX from legacy UOX Waste in MTHM:')\n",
    "print(max(fuel_dict['from spent uox']))\n",
    "print('Total MOX from MOX Waste in MTHM:')\n",
    "print(max(fuel_dict['from spent mox']))\n",
    "print('Total Tailings used in MTHM:')\n",
    "print(max(tailings['tailings used']))\n",
    "print('Total Pu reprocessed in MTHM:')\n",
    "print(max([x+y for x, y in zip(pu['pu from legacy'], pu['pu from spent sfr fuel'])]))\n",
    "\n",
    "\n",
    "# get total legacy snf reprocessed:\n",
    "x = cur.execute('SELECT sum(massfrac) FROM recipes LEFT OUTER JOIN compositions ON '\n",
    "                'compositions.qualid = recipes.qualid '\n",
    "                'WHERE recipe = \"uox_used_fuel_recipe\" '\n",
    "                'and (nucid > 940000000 and nucid < 950000000)').fetchone()\n",
    "y = cur.execute('SELECT sum(massfrac) FROM recipes LEFT OUTER JOIN compositions ON '\n",
    "                'compositions.qualid = recipes.qualid '\n",
    "                'WHERE recipe = \"sfr_spent_mox_recipe\" '\n",
    "                'and (nucid > 940000000 and nucid < 950000000)').fetchone()\n",
    "# print('Total Legacy SNF reprocessed: ')\n",
    "# print(max(i / x[0] for i in pu['pu_from_legacy']))\n",
    "dictionary = {}\n",
    "rep_throughput_legacy = [i / x[0] for i in pu['pu from legacy']]\n",
    "rep_throughput_mox = [i / y[0] for i in pu['pu from spent sfr fuel']]\n",
    "dictionary['reprocessing throughput'] = [x + y for x, y in zip(rep_throughput_legacy, rep_throughput_mox)]\n",
    "an.stacked_bar_chart(dictionary, timestep, 'Years', 'Reprocessing Throughput [MTHM]',\n",
    "                     'Reprocessing Throughput vs Time', 'throughput', init_year)\n",
    "\n",
    "\n",
    "# get reprocessing waste\n",
    "agent_ids = an.get_agent_ids(cur, 'separations')\n",
    "reprocess_waste = an.facility_commodity_flux(cur, agent_ids, ['uox_reprocess_waste', 'mox_reprocess_waste'], True)\n",
    "an.stacked_bar_chart(reprocess_waste, timestep, 'Years', 'Mass [MTHM]',\n",
    "                     'Reprocess Waste vs Time', 'reprocess_waste', init_year)\n",
    "\n",
    "# get rep U inventory\n",
    "rep_U = an.get_trade_dict(cur, 'separations', 'storage', False, False)\n",
    "\n",
    "print('Total Reprocessed Uranium Stockpile: ')\n",
    "print(max(rep_U))\n",
    "print(max(rep_U['separ to stora']))\n",
    "\n",
    "rep_U = an.get_trade_dict(cur, 'separations', 'storage', False, True)\n",
    "an.stacked_bar_chart(rep_U, timestep, 'Years', 'Mass [MTHM]',\n",
    "                     'Reprocessed U vs Time', 'rep_U', init_year)\n",
    "\n",
    "# get Pu isotopics\n",
    "trade_dict = an.get_trade_dict(cur, 'separations', 'mixer', False, False)\n",
    "print('Total Reprocess Waste: ')\n",
    "print(max(trade_dict['separ to mixer']))\n",
    "trade_dict = an.get_trade_dict(cur, 'separations', 'mixer', False, True)\n",
    "an.stacked_bar_chart(trade_dict, timestep, 'Years', 'Mass [MTHM]',\n",
    "                     'Reprocessed Pu vs Time', 'rep_pu', init_year)\n",
    "\n",
    "\n",
    "print('Finished!')"
   ]
  },
  {
   "cell_type": "code",
   "execution_count": 16,
   "metadata": {
    "collapsed": false,
    "scrolled": true
   },
   "outputs": [
    {
     "name": "stdout",
     "output_type": "stream",
     "text": [
      "Total MOX used in MTHM:\n",
      "169960.1\n",
      "Total MOX from legacy UOX Waste in MTHM:\n",
      "16381.5\n",
      "Total MOX from MOX Waste in MTHM:\n",
      "153578.6\n",
      "Total Tailings used in MTHM:\n",
      "154663.691\n",
      "Total Pu reprocessed in MTHM:\n",
      "15296.409\n",
      "Total Legacy SNF reprocessed: \n",
      "157246.263528\n",
      "Sink_Source_Inst has no values\n",
      "Sink_Source_Inst has no values\n",
      "['33', '34']\n",
      "['28', '29']\n",
      "SELECT time, sum(quantity)*massfrac, nucid FROM transactions INNER JOIN resources ON resources.resourceid = transactions.resourceid LEFT OUTER JOIN compositions ON compositions.qualid = resources.qualid WHERE (senderid = 33 OR senderid = 34) AND (receiverid = 28 OR receiverid = 29) GROUP BY time, nucid\n",
      "Finished!\n"
     ]
    }
   ],
   "source": [
    "# Wait for the complete message to move on\n",
    "filename = 'astrid.sqlite'\n",
    "\n",
    "cur = an.get_cursor(filename)\n",
    "init_year, init_month, duration, timestep = an.get_timesteps(cur)\n",
    "\n",
    "# get fuel source and inventory\n",
    "fuel_dict = an.where_comm(\n",
    "    cur, 'mox', ['mox_uox_fuel_fab', 'mox_mox_fuel_fab'])\n",
    "fuel_dict['from_spent_uox'] = fuel_dict.pop('mox_uox_fuel_fab')\n",
    "fuel_dict['from_spent_mox'] = fuel_dict.pop('mox_mox_fuel_fab')\n",
    "an.stacked_bar_chart(fuel_dict, timestep,\n",
    "                  'Years', 'Mass[MTHM]',\n",
    "                  'Total Fuel Mass vs Time',\n",
    "                  'where_fuel',\n",
    "                  init_year)\n",
    "\n",
    "# get pu demand\n",
    "demand = collections.OrderedDict()\n",
    "demand['pu_from_legacy'] = [i * .09 for i in fuel_dict['from_spent_uox']]\n",
    "demand['pu_from_spent_mox'] = [i * .09 for i in fuel_dict['from_spent_mox']]\n",
    "total_mox = ([x + y for x, y in zip(fuel_dict['from_spent_uox'], fuel_dict['from_spent_mox'])])\n",
    "demand['pu_total'] = [i *.09 for i in total_mox]\n",
    "demand['num_astrid'] = [i / 4.9 for i in demand['pu_from_legacy']]\n",
    "demand['tailings'] = [i * .91 for i in total_mox]\n",
    "an.multi_line_plot(demand, timestep,\n",
    "                'Years', 'Mass[MTHM]',\n",
    "                'Total Demand vs Time',\n",
    "                'demand',\n",
    "                init_year)\n",
    "print('Total MOX used in MTHM:')\n",
    "print(max(total_mox))\n",
    "print('Total MOX from legacy UOX Waste in MTHM:')\n",
    "print(max(fuel_dict['from_spent_uox']))\n",
    "print('Total MOX from MOX Waste in MTHM:')\n",
    "print(max(fuel_dict['from_spent_mox']))\n",
    "print('Total Tailings used in MTHM:')\n",
    "print(max(demand['tailings']))\n",
    "print('Total Pu reprocessed in MTHM:')\n",
    "print(max(demand['pu_total']))\n",
    "\n",
    "\n",
    "# get total legacy snf reprocessed:\n",
    "x = cur.execute('SELECT sum(massfrac) FROM recipes LEFT OUTER JOIN compositions ON '\n",
    "                'compositions.qualid = recipes.qualid '\n",
    "                'WHERE recipe = \"uox_used_fuel_recipe\" '\n",
    "                'and (nucid > 940000000 and nucid < 950000000)').fetchone()\n",
    "y = cur.execute('SELECT sum(massfrac) FROM recipes LEFT OUTER JOIN compositions ON '\n",
    "                'compositions.qualid = recipes.qualid '\n",
    "                'WHERE recipe = \"sfr_spent_mox_recipe\" '\n",
    "                'and (nucid > 940000000 and nucid < 950000000)').fetchone()\n",
    "print('Total Legacy SNF reprocessed: ')\n",
    "print(max(i / x[0] for i in demand['pu_from_legacy']))\n",
    "dictionary = {}\n",
    "rep_throughput_legacy = [i / x[0] for i in demand['pu_from_legacy']]\n",
    "rep_throughput_mox = [i / y[0] for i in demand['pu_from_spent_mox']]\n",
    "dictionary['reprocess throughput'] = [x + y for x, y in zip(rep_throughput_legacy, rep_throughput_mox)]\n",
    "\n",
    "# get power / number timeseries\n",
    "an.plot_power(cur)\n",
    "\n",
    "# get reprocessing waste\n",
    "agent_ids = an.get_agent_ids(cur, 'separations')\n",
    "reprocess_waste = an.facility_commodity_flux(cur, agent_ids, ['uox_reprocess_waste', 'mox_reprocess_waste'], True)\n",
    "an.stacked_bar_chart(reprocess_waste, timestep, 'Years', 'Mass [MTHM]',\n",
    "                     'Reprocess Waste vs Time', 'reprocess_waste', init_year)\n",
    "\n",
    "# get Pu isotopics\n",
    "trade_dict = an.get_trade_dict(cur, 'separations', 'fuelfab', False, True)\n",
    "an.stacked_bar_chart(trade_dict, timestep, 'Years', 'Mass [MTHM]',\n",
    "                     'Reprocessed Pu vs Time', 'rep_pu', init_year)\n",
    "\n",
    "print('Finished!')"
   ]
  },
  {
   "cell_type": "code",
   "execution_count": 4,
   "metadata": {
    "collapsed": false
   },
   "outputs": [],
   "source": [
    "# Get double axes for pu and # astrid start.\n",
    "fig, ax = plt.subplots()\n",
    "ax2 = ax.twinx()\n",
    "yaxis = an.timestep_to_years(init_year, timestep)\n",
    "ax.plot(yaxis, demand['pu_from_legacy'], 'k')\n",
    "ax.set_xlabel('time (s)')\n",
    "ax.set_ylabel('total plutonium [tons]')\n",
    "\n",
    "ax2.plot(yaxis, demand['num_astrid'], 'k')\n",
    "ax2.set_ylabel('Number of ASTRIDs')\n",
    "\n",
    "for t in ax.get_yticklabels():\n",
    "    t.set_color('k')\n",
    "for t in ax2.get_yticklabels():\n",
    "    t.set_color('k')\n",
    "plt.grid(True)\n",
    "plt.savefig('Pu_Num_astrid.png',\n",
    "                    format='png',\n",
    "                    bbox_inches='tight')\n"
   ]
  },
  {
   "cell_type": "code",
   "execution_count": 5,
   "metadata": {
    "collapsed": false
   },
   "outputs": [
    {
     "name": "stdout",
     "output_type": "stream",
     "text": [
      "Composition for fresh sfr fuel: \n",
      "U235: 0.2730239374280984 %\n",
      "U238: 90.73495520527135 %\n",
      "Pu238: 0.10659409411644825 %\n",
      "Pu239: 4.977360229327613 %\n",
      "Pu240: 2.229865302638476 %\n",
      "Pu241: 1.2104416968428016 %\n",
      "Pu242: 0.46774720231950573 %\n",
      "Pu244: 1.2332055710476654e-05 %\n",
      "\n",
      " \n",
      "\n",
      "Composition for fresh sfr spent fuel: \n",
      "H3: 1.861709546285802e-05 %\n",
      "He4: 0.0008340070322985747 %\n",
      "Kr81: 8.564618921994767e-10 %\n",
      "Kr85: 0.003143538324284237 %\n",
      "Sr90: 0.05877950376970925 %\n",
      "Tc99: 0.1782414638949942 %\n",
      "I129: 0.056255335910956175 %\n",
      "Cs134: 0.005744992216764006 %\n",
      "Cs135: 0.30432882523365073 %\n",
      "Cs137: 0.2684242617089776 %\n",
      "Pb206: 1.2899313751333013e-16 %\n",
      "Pb207: 2.016841306998443e-14 %\n",
      "Pb208: 6.260127069923578e-09 %\n",
      "Pb210: 8.676866111431851e-16 %\n",
      "Bi209: 2.7710994371158423e-12 %\n",
      "Ra226: 5.489299917832239e-12 %\n",
      "Ra228: 5.225780481958388e-19 %\n",
      "Ac227: 5.157912802220785e-13 %\n",
      "Th228: 1.0697836894168597e-08 %\n",
      "Th229: 4.3318489973791243e-10 %\n",
      "Th230: 2.2797647781296572e-07 %\n",
      "Th232: 4.715830589882708e-09 %\n",
      "Pa231: 1.3856333486723872e-08 %\n",
      "U232: 8.524102403164481e-07 %\n",
      "U233: 5.890817362339683e-07 %\n",
      "U234: 0.017336948120108154 %\n",
      "U235: 0.02126620770874285 %\n",
      "U236: 0.033442525717311176 %\n",
      "U238: 86.10986675954075 %\n",
      "Np237: 0.07575666018250783 %\n",
      "Pu238: 0.10670149603415578 %\n",
      "Pu239: 9.07657446618874 %\n",
      "Pu240: 2.9765715625794757 %\n",
      "Pu241: 0.3320053923623894 %\n",
      "Pu242: 0.16681717416581707 %\n",
      "Pu244: 5.819249223386256e-07 %\n",
      "Am241: 0.13027840676722044 %\n",
      "Am242M: 0.008483211676731762 %\n",
      "Am243: 0.03835978205011266 %\n",
      "Cm242: 0.005681263113881363 %\n",
      "Cm243: 0.00034546944897790693 %\n",
      "Cm244: 0.018955494029293023 %\n",
      "Cm245: 0.004194801720798637 %\n",
      "Cm246: 0.0015287629974205506 %\n",
      "Cm247: 5.6657196221970926e-05 %\n",
      "Cm248: 4.048948641503128e-06 %\n",
      "Cm250: 6.827786089830957e-13 %\n",
      "Cf249: 6.869104008680164e-08 %\n",
      "Cf250: 7.142835221056145e-09 %\n",
      "Cf251: 2.0281933415102968e-10 %\n",
      "Cf252: 4.2779540228494535e-12 %\n"
     ]
    }
   ],
   "source": [
    "# Fresh and Spent Fuel Composition\n",
    "cur = an.get_cursor(filename)\n",
    "\n",
    "sfr_fuel_qualid = cur.execute('SELECT qualid FROM transactions '\n",
    "                              'INNER JOIN resources ON '\n",
    "                              'resources.resourceid = transactions.resourceid '\n",
    "                              'WHERE commodity = \"mox\"').fetchone()\n",
    "fresh_sfr_mox_comp = cur.execute('SELECT nucid, massfrac FROM compositions '\n",
    "                                 'WHERE qualid = ' + str(sfr_fuel_qualid[0])).fetchall()\n",
    "print('Composition for fresh sfr fuel: ')\n",
    "for isotope in fresh_sfr_mox_comp:\n",
    "    print(nucname.name(isotope[0]) + ': ' + str(isotope[1] * 100) + ' %')\n",
    "\n",
    "print('\\n \\n')\n",
    "\n",
    "sfr_waste_comp = cur.execute('SELECT nucid, massfrac FROM recipes '\n",
    "                             'LEFT OUTER JOIN compositions '\n",
    "                             'ON recipes.qualid = compositions.qualid '\n",
    "                             'WHERE recipe = \"sfr_spent_mox_recipe\"').fetchall()\n",
    "print('Composition for fresh sfr spent fuel: ')\n",
    "for isotope in sfr_waste_comp:\n",
    "    print(nucname.name(isotope[0]) + ': ' + str(isotope[1] * 100) + ' %')"
   ]
  },
  {
   "cell_type": "code",
   "execution_count": 4,
   "metadata": {
    "collapsed": false
   },
   "outputs": [
    {
     "data": {
      "image/png": "[encoded data removed]",
      "text/plain": [
       "<IPython.core.display.Image object>"
      ]
     },
     "execution_count": 4,
     "metadata": {},
     "output_type": "execute_result"
    }
   ],
   "source": [
    "# Display Net Capacity vs Time\n",
    "from IPython.display import Image\n",
    "Image(filename='Net Capacity vs Time.png')\n",
    "\n",
    "# Display Number of Reactors vs Time\n",
    "from IPython.display import Image\n",
    "Image(filename='Number of Reactors vs Time.png')\n",
    "\n",
    "# Display fuel usage vs Time\n",
    "from IPython.display import Image\n",
    "Image(filename='where_fuel.png')\n",
    "\n",
    "# Display tailings demand vs Time\n",
    "from IPython.display import Image\n",
    "Image(filename='tailings_demand.png')\n",
    "\n",
    "# Display plutonium demand vs Time\n",
    "from IPython.display import Image\n",
    "Image(filename='pu_total_demand.png')\n",
    "\n",
    "# Display reprocess waste vs Time\n",
    "from IPython.display import Image\n",
    "Image(filename='reprocess_waste.png')"
   ]
  },
  {
   "cell_type": "code",
   "execution_count": null,
   "metadata": {
    "collapsed": true
   },
   "outputs": [],
   "source": []
  },
  {
   "cell_type": "code",
   "execution_count": null,
   "metadata": {
    "collapsed": true
   },
   "outputs": [],
   "source": []
  },
  {
   "cell_type": "code",
   "execution_count": null,
   "metadata": {
    "collapsed": true
   },
   "outputs": [],
   "source": []
  },
  {
   "cell_type": "code",
   "execution_count": null,
   "metadata": {
    "collapsed": true
   },
   "outputs": [],
   "source": []
  },
  {
   "cell_type": "code",
   "execution_count": null,
   "metadata": {
    "collapsed": true
   },
   "outputs": [],
   "source": []
  },
  {
   "cell_type": "code",
   "execution_count": null,
   "metadata": {
    "collapsed": true
   },
   "outputs": [],
   "source": []
  }
 ],
 "metadata": {
  "kernelspec": {
   "display_name": "Python 3",
   "language": "python",
   "name": "python3"
  },
  "language_info": {
   "codemirror_mode": {
    "name": "ipython",
    "version": 3
   },
   "file_extension": ".py",
   "mimetype": "text/x-python",
   "name": "python",
   "nbconvert_exporter": "python",
   "pygments_lexer": "ipython3",
   "version": "3.5.2"
  }
 },
 "nbformat": 4,
 "nbformat_minor": 2
}
