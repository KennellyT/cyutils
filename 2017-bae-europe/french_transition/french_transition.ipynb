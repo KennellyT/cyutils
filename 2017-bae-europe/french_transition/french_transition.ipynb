{
 "cells": [
  {
   "cell_type": "markdown",
   "metadata": {},
   "source": [
    "### Import Necessary Module and Set Path "
   ]
  },
  {
   "cell_type": "code",
   "execution_count": 8,
   "metadata": {
    "collapsed": true
   },
   "outputs": [],
   "source": [
    "import sqlite3 as lite\n",
    "import os\n",
    "import sys\n",
    "import numpy as np\n",
    "from pyne import nucname\n",
    "import collections\n",
    "import matplotlib.pyplot as plt\n",
    "sys.path.insert(0, '../../scripts/')\n",
    "jupyter_directory = os.getcwd()"
   ]
  },
  {
   "cell_type": "code",
   "execution_count": 9,
   "metadata": {
    "collapsed": true
   },
   "outputs": [],
   "source": [
    "import analysis as an"
   ]
  },
  {
   "cell_type": "markdown",
   "metadata": {},
   "source": [
    "## Run Cyclus Input file"
   ]
  },
  {
   "cell_type": "code",
   "execution_count": 4,
   "metadata": {},
   "outputs": [
    {
     "name": "stdout",
     "output_type": "stream",
     "text": [
      "              :                                                               \n",
      "          .CL:CC CC             _Q     _Q  _Q_Q    _Q    _Q              _Q   \n",
      "        CC;CCCCCCCC:C;         /_\\)   /_\\)/_/\\\\)  /_\\)  /_\\)            /_\\)  \n",
      "        CCCCCCCCCCCCCl       __O|/O___O|/O_OO|/O__O|/O__O|/O____________O|/O__\n",
      "     CCCCCCf     iCCCLCC     /////////////////////////////////////////////////\n",
      "     iCCCt  ;;;;;.  CCCC                                                      \n",
      "    CCCC  ;;;;;;;;;. CClL.                          c                         \n",
      "   CCCC ,;;       ;;: CCCC  ;                   : CCCCi                       \n",
      "    CCC ;;         ;;  CC   ;;:                CCC`   `C;                     \n",
      "  lCCC ;;              CCCC  ;;;:             :CC .;;. C;   ;    :   ;  :;;   \n",
      "  CCCC ;.              CCCC    ;;;,           CC ;    ; Ci  ;    :   ;  :  ;  \n",
      "   iCC :;               CC       ;;;,        ;C ;       CC  ;    :   ; .      \n",
      "  CCCi ;;               CCC        ;;;.      .C ;       tf  ;    :   ;  ;.    \n",
      "  CCC  ;;               CCC          ;;;;;;; fC :       lC  ;    :   ;    ;:  \n",
      "   iCf ;;               CC         :;;:      tC ;       CC  ;    :   ;     ;  \n",
      "  fCCC :;              LCCf      ;;;:         LC :.  ,: C   ;    ;   ; ;   ;  \n",
      "  CCCC  ;;             CCCC    ;;;:           CCi `;;` CC.  ;;;; :;.;.  ; ,;  \n",
      "    CCl ;;             CC    ;;;;              CCC    CCL                     \n",
      "   tCCC  ;;        ;; CCCL  ;;;                  tCCCCC.                      \n",
      "    CCCC  ;;     :;; CCCCf  ;                     ,L                          \n",
      "     lCCC   ;;;;;;  CCCL                                                      \n",
      "     CCCCCC  :;;  fCCCCC                                                      \n",
      "      . CCCC     CCCC .                                                       \n",
      "       .CCCCCCCCCCCCCi                                                        \n",
      "          iCCCCCLCf                                                           \n",
      "           .  C. ,                                                            \n",
      "              :                                                               \n",
      "Experimental Warning: MatlSellPolicy is experimental and its API may be subject to change\n",
      "Experimental Warning: the Mixer archetype is experimental\n",
      "Experimental Warning: MatlBuyPolicy is experimental and its API may be subject to change\n",
      "Experimental Warning: MatlSellPolicy is experimental and its API may be subject to change\n",
      "Experimental Warning: The Storage Facility is experimental.\n",
      "Experimental Warning: MatlSellPolicy is experimental and its API may be subject to change\n",
      "Experimental Warning: the Mixer archetype is experimental\n",
      "Experimental Warning: MatlSellPolicy is experimental and its API may be subject to change\n",
      "Experimental Warning: the Mixer archetype is experimental\n",
      "Experimental Warning: MatlBuyPolicy is experimental and its API may be subject to change\n",
      "Experimental Warning: MatlSellPolicy is experimental and its API may be subject to change\n",
      "Experimental Warning: The Storage Facility is experimental.\n",
      "Experimental Warning: MatlBuyPolicy is experimental and its API may be subject to change\n",
      "Experimental Warning: MatlSellPolicy is experimental and its API may be subject to change\n",
      "Experimental Warning: The Storage Facility is experimental.\n",
      "Experimental Warning: MatlBuyPolicy is experimental and its API may be subject to change\n",
      "Experimental Warning: MatlSellPolicy is experimental and its API may be subject to change\n",
      "Experimental Warning: The Storage Facility is experimental.\n",
      "Experimental Warning: MatlBuyPolicy is experimental and its API may be subject to change\n",
      "Experimental Warning: MatlSellPolicy is experimental and its API may be subject to change\n",
      "Experimental Warning: The Storage Facility is experimental.\n",
      "Experimental Warning: MatlSellPolicy is experimental and its API may be subject to change\n",
      "Experimental Warning: the Mixer archetype is experimental\n",
      "Experimental Warning: MatlSellPolicy is experimental and its API may be subject to change\n",
      "Experimental Warning: the Mixer archetype is experimental\n",
      "Experimental Warning: MatlSellPolicy is experimental and its API may be subject to change\n",
      "Experimental Warning: the Mixer archetype is experimental\n",
      "Experimental Warning: MatlSellPolicy is experimental and its API may be subject to change\n",
      "Experimental Warning: the Mixer archetype is experimental\n",
      "Experimental Warning: MatlBuyPolicy is experimental and its API may be subject to change\n",
      "Experimental Warning: MatlSellPolicy is experimental and its API may be subject to change\n",
      "Experimental Warning: The Storage Facility is experimental.\n",
      "Experimental Warning: MatlBuyPolicy is experimental and its API may be subject to change\n",
      "Experimental Warning: MatlSellPolicy is experimental and its API may be subject to change\n",
      "Experimental Warning: The Storage Facility is experimental.\n",
      "Experimental Warning: MatlSellPolicy is experimental and its API may be subject to change\n",
      "Experimental Warning: the Mixer archetype is experimental\n",
      "Experimental Warning: MatlSellPolicy is experimental and its API may be subject to change\n",
      "Experimental Warning: the Mixer archetype is experimental\n",
      "Experimental Warning: MatlBuyPolicy is experimental and its API may be subject to change\n",
      "Experimental Warning: MatlSellPolicy is experimental and its API may be subject to change\n",
      "Experimental Warning: The Storage Facility is experimental.\n",
      "Further Experimental Warnings will be suppressed.\n",
      "\n",
      "Status: Cyclus run successful!\n",
      "Output location: astrid.sqlite\n",
      "Simulation ID: 2d5004ce-4afe-4c1d-8b74-c8026ae385a1\n"
     ]
    }
   ],
   "source": [
    "! rm astrid.sqlite\n",
    "! cyclus -o astrid.sqlite astrid.xml"
   ]
  },
  {
   "cell_type": "markdown",
   "metadata": {},
   "source": [
    "### The output file should be named \n",
    "         \n",
    "          astrid.sqlite"
   ]
  },
  {
   "cell_type": "code",
   "execution_count": 10,
   "metadata": {},
   "outputs": [],
   "source": [
    "# get sqlite cursor and simulation time parameters\n",
    "filename = 'cyclus.sqlite'\n",
    "cur = an.get_cursor(filename)\n",
    "init_year, init_month, duration, timestep = an.get_timesteps(cur)"
   ]
  },
  {
   "cell_type": "code",
   "execution_count": 11,
   "metadata": {},
   "outputs": [
    {
     "name": "stderr",
     "output_type": "stream",
     "text": [
      "/home/dkadkf/anaconda3/lib/python3.5/site-packages/matplotlib/__init__.py:1710: MatplotlibDeprecationWarning: The *left* kwarg to `bar` is deprecated use *x* instead. Support for *left* will be removed in Matplotlib 3.0\n",
      "  return func(ax, *args, **kwargs)\n"
     ]
    }
   ],
   "source": [
    "# get where_fuel\n",
    "# Wait for the complete message to move on\n",
    "agent_ids = an.get_prototype_id(cur, 'uox_mixer')\n",
    "fuel_from_uox = an.facility_commodity_flux(cur, agent_ids, ['mox'], True, False)\n",
    "agent_ids = an.get_prototype_id(cur, 'mox_mixer')\n",
    "fuel_from_mox = an.facility_commodity_flux(cur, agent_ids, ['mox'], True, False)\n",
    "dict = {}\n",
    "dict['fuel from spent uox'] = fuel_from_uox['mox']\n",
    "dict['fuel from spent mox'] = fuel_from_mox['mox']\n",
    "an.stacked_bar_chart(dict, timestep,\n",
    "                  'Years', 'Mass[MTHM]',\n",
    "                  'MOX Fuel Loading vs Time',\n",
    "                  'where_fuel_sep',\n",
    "                  init_year)"
   ]
  },
  {
   "cell_type": "code",
   "execution_count": 12,
   "metadata": {},
   "outputs": [
    {
     "name": "stderr",
     "output_type": "stream",
     "text": [
      "/home/dkadkf/anaconda3/lib/python3.5/site-packages/matplotlib/__init__.py:1710: MatplotlibDeprecationWarning: The *left* kwarg to `bar` is deprecated use *x* instead. Support for *left* will be removed in Matplotlib 3.0\n",
      "  return func(ax, *args, **kwargs)\n"
     ]
    }
   ],
   "source": [
    "# cum plutonium flux\n",
    "agent_ids = an.get_agent_ids(cur, 'separations')\n",
    "pu = an.facility_commodity_flux(cur, agent_ids, ['uox_Pu', 'mox_Pu'], True, False)\n",
    "pu['pu from legacy'] = pu.pop('uox_Pu')\n",
    "pu['pu from spent sfr fuel'] = pu.pop('mox_Pu')\n",
    "an.stacked_bar_chart(pu, timestep, 'Years', 'Mass [MTHM]', 'Total Pu Mass vs Time', 'pu', init_year)"
   ]
  },
  {
   "cell_type": "code",
   "execution_count": 13,
   "metadata": {},
   "outputs": [
    {
     "name": "stderr",
     "output_type": "stream",
     "text": [
      "/home/dkadkf/anaconda3/lib/python3.5/site-packages/matplotlib/__init__.py:1710: MatplotlibDeprecationWarning: The *left* kwarg to `bar` is deprecated use *x* instead. Support for *left* will be removed in Matplotlib 3.0\n",
      "  return func(ax, *args, **kwargs)\n"
     ]
    }
   ],
   "source": [
    "# get reprocessing waste\n",
    "agent_ids = an.get_agent_ids(cur, 'separations')\n",
    "reprocess_waste = an.facility_commodity_flux(cur, agent_ids, ['uox_reprocess_waste', 'mox_reprocess_waste'], True, False)\n",
    "an.stacked_bar_chart(reprocess_waste, timestep, 'Years', 'Mass [MTHM]',\n",
    "                     'Reprocess Waste vs Time', 'reprocess_waste', init_year)"
   ]
  },
  {
   "cell_type": "code",
   "execution_count": 15,
   "metadata": {
    "scrolled": true
   },
   "outputs": [
    {
     "name": "stdout",
     "output_type": "stream",
     "text": [
      "Sink_Source_Inst has no values\n"
     ]
    },
    {
     "name": "stderr",
     "output_type": "stream",
     "text": [
      "/home/dkadkf/anaconda3/lib/python3.5/site-packages/matplotlib/__init__.py:1710: MatplotlibDeprecationWarning: The *left* kwarg to `bar` is deprecated use *x* instead. Support for *left* will be removed in Matplotlib 3.0\n",
      "  return func(ax, *args, **kwargs)\n"
     ]
    },
    {
     "name": "stdout",
     "output_type": "stream",
     "text": [
      "Sink_Source_Inst has no values\n",
      "Total Reprocessed Uranium Stockpile: \n",
      "182473.880105\n",
      "Total Reprocess Waste: \n",
      "17610.9446076\n",
      "Total MOX used in MTHM:\n",
      "63820.416\n",
      "Total MOX from legacy UOX Waste in MTHM:\n",
      "3056.832\n",
      "Total Pu from legacy UNF:\n",
      "1351.52735956\n",
      "Total legacy UNF reprocessed in MTHM:\n",
      "71726.2971111\n",
      "Total MOX from MOX Waste in MTHM:\n",
      "60763.584\n",
      "Total Tailings used in MTHM:\n",
      "58076.57856\n",
      "Total Pu reprocessed in MTHM:\n",
      "17610.9446076\n",
      "Finished!\n"
     ]
    }
   ],
   "source": [
    "an.plot_power(cur)\n",
    "\n",
    "\n",
    "# get fuel source and inventory\n",
    "fuel = an.fuel_usage_timeseries(cur, ['mox'], True)\n",
    "\n",
    "# tails flux\n",
    "tailings = collections.OrderedDict()\n",
    "agent_ids = an.get_agent_ids(cur, 'separations')\n",
    "pu = an.facility_commodity_flux(cur, agent_ids, ['uox_Pu', 'mox_Pu'], True, True)\n",
    "pu['pu from legacy'] = pu.pop('uox_Pu')\n",
    "pu['pu from spent sfr fuel'] = pu.pop('mox_Pu')\n",
    "tailings['tailings used'] = [i * .91 for i in fuel['mox']]\n",
    "\n",
    "# cum plutonium flux\n",
    "agent_ids = an.get_agent_ids(cur, 'separations')\n",
    "pu = an.facility_commodity_flux(cur, agent_ids, ['uox_Pu', 'mox_Pu'], True, True)\n",
    "pu['pu from legacy'] = pu.pop('uox_Pu')\n",
    "pu['pu from spent sfr fuel'] = pu.pop('mox_Pu')\n",
    "\n",
    "\n",
    "# get total legacy snf reprocessed:\n",
    "#Pu in spent uox\n",
    "x = cur.execute('SELECT sum(massfrac) FROM recipes LEFT OUTER JOIN compositions ON '\n",
    "                'compositions.qualid = recipes.qualid '\n",
    "                'WHERE recipe = \"uox_used_fuel_recipe\" '\n",
    "                'and (nucid > 940000000 and nucid < 950000000)').fetchone()\n",
    "y = cur.execute('SELECT sum(massfrac) FROM recipes LEFT OUTER JOIN compositions ON '\n",
    "                'compositions.qualid = recipes.qualid '\n",
    "                'WHERE recipe = \"sfr_spent_mox_recipe\" '\n",
    "                'and (nucid > 940000000 and nucid < 950000000)').fetchone()\n",
    "# print('Total Legacy SNF reprocessed: ')\n",
    "# print(max(i / x[0] for i in pu['pu from legacy']))\n",
    "dictionary = {}\n",
    "rep_throughput_legacy = [i / x[0] for i in pu['pu from legacy']]\n",
    "rep_throughput_mox = [i / y[0] for i in pu['pu from spent sfr fuel']]\n",
    "dictionary['reprocessing throughput'] = [x + y for x, y in zip(rep_throughput_legacy, rep_throughput_mox)]\n",
    "\n",
    "# get reprocessing waste\n",
    "agent_ids = an.get_agent_ids(cur, 'separations')\n",
    "reprocess_waste = an.facility_commodity_flux(cur, agent_ids, ['uox_reprocess_waste', 'mox_reprocess_waste'], True, True)\n",
    "\n",
    "\n",
    "# get rep U inventorypu['pu from legacy'])/x[0]\n",
    "rep_U = an.get_trade_dict(cur, 'separations', 'storage', False, False)\n",
    "print('Total Reprocessed Uranium Stockpile: ')\n",
    "print(max(rep_U['separ to stora']))\n",
    "\n",
    "# get Pu isotopics\n",
    "trade_dict = an.get_trade_dict(cur, 'separations', 'mixer', False, False)\n",
    "print('Total Reprocess Waste: ')\n",
    "print(max(trade_dict['separ to mixer']))\n",
    "trade_dict = an.get_trade_dict(cur, 'separations', 'mixer', False, True)\n",
    "\n",
    "agent_ids = an.get_prototype_id(cur, 'uox_mixer')\n",
    "fuel_from_uox = an.facility_commodity_flux(cur, agent_ids, ['mox'], True, False)\n",
    "agent_ids = an.get_prototype_id(cur, 'mox_mixer')\n",
    "fuel_from_mox = an.facility_commodity_flux(cur, agent_ids, ['mox'], True, False)\n",
    "dict = {}\n",
    "dict['fuel from spent uox'] = fuel_from_uox['mox']\n",
    "dict['fuel from spent mox'] = fuel_from_mox['mox']\n",
    "\n",
    "\n",
    "print('Total MOX used in MTHM:')\n",
    "print(max(fuel['mox']))\n",
    "print('Total MOX from legacy UOX Waste in MTHM:')\n",
    "print(sum(dict['fuel from spent uox']))\n",
    "print('Total Pu from legacy UNF:')\n",
    "print(max(pu['pu from legacy']))\n",
    "print('Total legacy UNF reprocessed in MTHM:')\n",
    "print(sum(dict['fuel from spent uox'])*.22/x[0])\n",
    "print('Total MOX from MOX Waste in MTHM:')\n",
    "print(sum(dict['fuel from spent mox']))\n",
    "print('Total Tailings used in MTHM:')\n",
    "print(max(tailings['tailings used']))\n",
    "print('Total Pu reprocessed in MTHM:')\n",
    "print(max([x+y for x, y in zip(pu['pu from legacy'], pu['pu from spent sfr fuel'])]))\n",
    "\n",
    "print('Finished!')"
   ]
  },
  {
   "cell_type": "code",
   "execution_count": 19,
   "metadata": {},
   "outputs": [
    {
     "data": {
      "image/png": "[encoded data removed]",
      "text/plain": [
       "<IPython.core.display.Image object>"
      ]
     },
     "execution_count": 19,
     "metadata": {},
     "output_type": "execute_result"
    }
   ],
   "source": [
    "# Display fuel loading with origin\n",
    "from IPython.display import Image\n",
    "Image(filename='where_fuel_sep.png')"
   ]
  },
  {
   "cell_type": "code",
   "execution_count": 20,
   "metadata": {},
   "outputs": [
    {
     "data": {
      "image/png": "[encoded data removed]",
      "text/plain": [
       "<IPython.core.display.Image object>"
      ]
     },
     "execution_count": 20,
     "metadata": {},
     "output_type": "execute_result"
    }
   ],
   "source": [
    "# Display Reprocess Waste\n",
    "from IPython.display import Image\n",
    "Image(filename='reprocess_waste.png')"
   ]
  },
  {
   "cell_type": "code",
   "execution_count": 21,
   "metadata": {},
   "outputs": [
    {
     "data": {
      "image/png": "[encoded data removed]",
      "text/plain": [
       "<IPython.core.display.Image object>"
      ]
     },
     "execution_count": 21,
     "metadata": {},
     "output_type": "execute_result"
    }
   ],
   "source": [
    "# Display plutonium\n",
    "from IPython.display import Image\n",
    "Image(filename='pu.png')"
   ]
  },
  {
   "cell_type": "code",
   "execution_count": null,
   "metadata": {
    "collapsed": true
   },
   "outputs": [],
   "source": []
  }
 ],
 "metadata": {
  "kernelspec": {
   "display_name": "Python [default]",
   "language": "python",
   "name": "python3"
  },
  "language_info": {
   "codemirror_mode": {
    "name": "ipython",
    "version": 3
   },
   "file_extension": ".py",
   "mimetype": "text/x-python",
   "name": "python",
   "nbconvert_exporter": "python",
   "pygments_lexer": "ipython3",
   "version": "3.5.3"
  }
 },
 "nbformat": 4,
 "nbformat_minor": 2
}
