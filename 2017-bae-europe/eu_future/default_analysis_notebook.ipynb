{
 "cells": [
  {
   "cell_type": "markdown",
   "metadata": {},
   "source": [
    "### Import Necessary Module and Set Path "
   ]
  },
  {
   "cell_type": "code",
   "execution_count": 48,
   "metadata": {
    "collapsed": true
   },
   "outputs": [],
   "source": [
    "import sqlite3 as lite\n",
    "import os\n",
    "import sys\n",
    "import numpy as np\n",
    "import collections\n",
    "sys.path.insert(0, '../../scripts/')\n",
    "jupyter_directory = os.getcwd()"
   ]
  },
  {
   "cell_type": "code",
   "execution_count": 49,
   "metadata": {
    "collapsed": true
   },
   "outputs": [],
   "source": [
    "import analysis as an"
   ]
  },
  {
   "cell_type": "markdown",
   "metadata": {},
   "source": [
    "## Run Cyclus Input file"
   ]
  },
  {
   "cell_type": "code",
   "execution_count": 3,
   "metadata": {},
   "outputs": [
    {
     "name": "stdout",
     "output_type": "stream",
     "text": [
      "              :                                                               \n",
      "          .CL:CC CC             _Q     _Q  _Q_Q    _Q    _Q              _Q   \n",
      "        CC;CCCCCCCC:C;         /_\\)   /_\\)/_/\\\\)  /_\\)  /_\\)            /_\\)  \n",
      "        CCCCCCCCCCCCCl       __O|/O___O|/O_OO|/O__O|/O__O|/O____________O|/O__\n",
      "     CCCCCCf     iCCCLCC     /////////////////////////////////////////////////\n",
      "     iCCCt  ;;;;;.  CCCC                                                      \n",
      "    CCCC  ;;;;;;;;;. CClL.                          c                         \n",
      "   CCCC ,;;       ;;: CCCC  ;                   : CCCCi                       \n",
      "    CCC ;;         ;;  CC   ;;:                CCC`   `C;                     \n",
      "  lCCC ;;              CCCC  ;;;:             :CC .;;. C;   ;    :   ;  :;;   \n",
      "  CCCC ;.              CCCC    ;;;,           CC ;    ; Ci  ;    :   ;  :  ;  \n",
      "   iCC :;               CC       ;;;,        ;C ;       CC  ;    :   ; .      \n",
      "  CCCi ;;               CCC        ;;;.      .C ;       tf  ;    :   ;  ;.    \n",
      "  CCC  ;;               CCC          ;;;;;;; fC :       lC  ;    :   ;    ;:  \n",
      "   iCf ;;               CC         :;;:      tC ;       CC  ;    :   ;     ;  \n",
      "  fCCC :;              LCCf      ;;;:         LC :.  ,: C   ;    ;   ; ;   ;  \n",
      "  CCCC  ;;             CCCC    ;;;:           CCi `;;` CC.  ;;;; :;.;.  ; ,;  \n",
      "    CCl ;;             CC    ;;;;              CCC    CCL                     \n",
      "   tCCC  ;;        ;; CCCL  ;;;                  tCCCCC.                      \n",
      "    CCCC  ;;     :;; CCCCf  ;                     ,L                          \n",
      "     lCCC   ;;;;;;  CCCL                                                      \n",
      "     CCCCCC  :;;  fCCCCC                                                      \n",
      "      . CCCC     CCCC .                                                       \n",
      "       .CCCCCCCCCCCCCi                                                        \n",
      "          iCCCCCLCf                                                           \n",
      "           .  C. ,                                                            \n",
      "              :                                                               \n",
      "Experimental Warning: MatlSellPolicy is experimental and its API may be subject to change\n",
      "Experimental Warning: the Mixer archetype is experimental\n",
      "Experimental Warning: MatlBuyPolicy is experimental and its API may be subject to change\n",
      "Experimental Warning: MatlSellPolicy is experimental and its API may be subject to change\n",
      "Experimental Warning: The Storage Facility is experimental.\n",
      "Experimental Warning: MatlSellPolicy is experimental and its API may be subject to change\n",
      "Experimental Warning: the Mixer archetype is experimental\n",
      "Experimental Warning: MatlSellPolicy is experimental and its API may be subject to change\n",
      "Experimental Warning: the Mixer archetype is experimental\n",
      "Experimental Warning: MatlSellPolicy is experimental and its API may be subject to change\n",
      "Experimental Warning: the Mixer archetype is experimental\n",
      "Experimental Warning: MatlBuyPolicy is experimental and its API may be subject to change\n",
      "Experimental Warning: MatlSellPolicy is experimental and its API may be subject to change\n",
      "Experimental Warning: The Storage Facility is experimental.\n",
      "Experimental Warning: MatlBuyPolicy is experimental and its API may be subject to change\n",
      "Experimental Warning: MatlSellPolicy is experimental and its API may be subject to change\n",
      "Experimental Warning: The Storage Facility is experimental.\n",
      "Experimental Warning: MatlBuyPolicy is experimental and its API may be subject to change\n",
      "Experimental Warning: MatlSellPolicy is experimental and its API may be subject to change\n",
      "Experimental Warning: The Storage Facility is experimental.\n",
      "Experimental Warning: MatlBuyPolicy is experimental and its API may be subject to change\n",
      "Experimental Warning: MatlSellPolicy is experimental and its API may be subject to change\n",
      "Experimental Warning: The Storage Facility is experimental.\n",
      "Experimental Warning: MatlBuyPolicy is experimental and its API may be subject to change\n",
      "Experimental Warning: MatlSellPolicy is experimental and its API may be subject to change\n",
      "Experimental Warning: The Storage Facility is experimental.\n",
      "Experimental Warning: MatlBuyPolicy is experimental and its API may be subject to change\n",
      "Experimental Warning: MatlSellPolicy is experimental and its API may be subject to change\n",
      "Experimental Warning: The Storage Facility is experimental.\n",
      "Experimental Warning: MatlSellPolicy is experimental and its API may be subject to change\n",
      "Experimental Warning: the Mixer archetype is experimental\n",
      "Experimental Warning: MatlSellPolicy is experimental and its API may be subject to change\n",
      "Experimental Warning: the Mixer archetype is experimental\n",
      "Experimental Warning: MatlSellPolicy is experimental and its API may be subject to change\n",
      "Experimental Warning: the Mixer archetype is experimental\n",
      "Experimental Warning: MatlBuyPolicy is experimental and its API may be subject to change\n",
      "Experimental Warning: MatlSellPolicy is experimental and its API may be subject to change\n",
      "Experimental Warning: The Storage Facility is experimental.\n",
      "Experimental Warning: MatlBuyPolicy is experimental and its API may be subject to change\n",
      "Experimental Warning: MatlSellPolicy is experimental and its API may be subject to change\n",
      "Experimental Warning: The Storage Facility is experimental.\n",
      "Experimental Warning: MatlSellPolicy is experimental and its API may be subject to change\n",
      "Further Experimental Warnings will be suppressed.\n",
      "\n",
      "Status: Cyclus run successful!\n",
      "Output location: eu_future.sqlite\n",
      "Simulation ID: a989cd04-3882-484e-a47b-1f56cf0f6f43\n"
     ]
    }
   ],
   "source": [
    "! rm eu_future.sqlite\n",
    "! cyclus default_input_file.xml"
   ]
  },
  {
   "cell_type": "markdown",
   "metadata": {},
   "source": [
    "### The output file should be named \n",
    "         \n",
    "          eu_future.sqlite"
   ]
  },
  {
   "cell_type": "code",
   "execution_count": 50,
   "metadata": {
    "collapsed": true
   },
   "outputs": [],
   "source": [
    "# get sqlite cursor and simulation time data\n",
    "cur = an.get_cursor('cyclus.sqlite')\n",
    "init_year, init_month, duration, timestep = an.get_timesteps(cur)"
   ]
  },
  {
   "cell_type": "code",
   "execution_count": 51,
   "metadata": {
    "scrolled": true
   },
   "outputs": [
    {
     "name": "stderr",
     "output_type": "stream",
     "text": [
      "/home/dkadkf/anaconda3/lib/python3.5/site-packages/matplotlib/__init__.py:1710: MatplotlibDeprecationWarning: The *left* kwarg to `bar` is deprecated use *x* instead. Support for *left* will be removed in Matplotlib 3.0\n",
      "  return func(ax, *args, **kwargs)\n"
     ]
    },
    {
     "name": "stdout",
     "output_type": "stream",
     "text": [
      "french_facilities has no values\n",
      "Sink_Source_Inst has no values\n",
      "french_facilities has no values\n",
      "Sink_Source_Inst has no values\n"
     ]
    }
   ],
   "source": [
    "# get number of reactors and capacity timeseries\n",
    "an.plot_power(cur)"
   ]
  },
  {
   "cell_type": "code",
   "execution_count": 52,
   "metadata": {},
   "outputs": [
    {
     "name": "stderr",
     "output_type": "stream",
     "text": [
      "/home/dkadkf/anaconda3/lib/python3.5/site-packages/matplotlib/__init__.py:1710: MatplotlibDeprecationWarning: The *left* kwarg to `bar` is deprecated use *x* instead. Support for *left* will be removed in Matplotlib 3.0\n",
      "  return func(ax, *args, **kwargs)\n"
     ]
    }
   ],
   "source": [
    "# just france\n",
    "cur = an.get_cursor('cyclus.sqlite')\n",
    "\n",
    "parentid = cur.execute('SELECT agentid FROM agententry WHERE '\n",
    "                       'Prototype LIKE \"%france%\" '\n",
    "                       'AND Kind = \"Inst\"').fetchone()\n",
    "entry_exit = cur.execute('SELECT max(value), timeseriespower.agentid, '\n",
    "                         'parentid, entertime, prototype, entertime + lifetime'\n",
    "                         ' FROM agententry '\n",
    "                         'INNER JOIN timeseriespower '\n",
    "                         'ON agententry.agentid = timeseriespower.agentid '\n",
    "                         'WHERE parentid = %i '\n",
    "                         'GROUP BY timeseriespower.agentid' %parentid[0]).fetchall()\n",
    "\n",
    "init_year, init_month, duration, timestep = an.get_timesteps(cur)\n",
    "dictionary = {}\n",
    "lwr_cap = 0\n",
    "astrid_cap = 0\n",
    "dictionary['lwr'] = []\n",
    "dictionary['astrid'] = []\n",
    "for t in timestep:\n",
    "    for agent in entry_exit:\n",
    "        if (agent['entertime'] == t) and agent['prototype'] == 'astrid':\n",
    "            astrid_cap += agent['max(value)'] * 0.001\n",
    "        if (agent['entertime'] == t) and agent['prototype'] != 'astrid':\n",
    "            lwr_cap += agent['max(value)'] * 0.001\n",
    "        \n",
    "        if (agent['entertime + lifetime'] == t) and agent['prototype'] == 'astrid':\n",
    "            astrid_cap -= agent['max(value)'] * 0.001\n",
    "        if (agent['entertime + lifetime'] == t) and agent['prototype'] != 'astrid':\n",
    "            lwr_cap -= agent['max(value)'] * 0.001\n",
    "    dictionary['lwr'].append(lwr_cap)\n",
    "    dictionary['astrid'].append(astrid_cap)\n",
    "an.stacked_bar_chart(dictionary, timestep,\n",
    "                  'Years', 'Net_Capacity [GWe]',\n",
    "                  'Net Capacity vs Time',\n",
    "                  'france_power_plot', init_year)\n",
    "            "
   ]
  },
  {
   "cell_type": "code",
   "execution_count": 53,
   "metadata": {
    "collapsed": true
   },
   "outputs": [],
   "source": [
    "# astrid deployment number per timestep\n",
    "parentid = cur.execute('SELECT agentid FROM agententry WHERE '\n",
    "                       'Prototype LIKE \"%france%\" '\n",
    "                       'AND Kind = \"Inst\"').fetchone()\n",
    "entry_exit = cur.execute('SELECT max(value), timeseriespower.agentid, '\n",
    "                         'parentid, entertime, prototype, entertime + lifetime'\n",
    "                         ' FROM agententry '\n",
    "                         'INNER JOIN timeseriespower '\n",
    "                         'ON agententry.agentid = timeseriespower.agentid '\n",
    "                         'WHERE parentid = %i '\n",
    "                         'GROUP BY timeseriespower.agentid' %parentid[0]).fetchall()\n",
    "\n",
    "init_year, init_month, duration, timestep = an.get_timesteps(cur)\n",
    "dictionary = {}\n",
    "\n",
    "cum_dict = {}\n",
    "num_dict = {}\n",
    "cum_dict['cum'] = []\n",
    "num_dict['num'] = []\n",
    "astrid_cum = 0\n",
    "for t in timestep:\n",
    "    astrid_num = 0\n",
    "    for agent in entry_exit:\n",
    "        if (agent['entertime'] == t) and agent['prototype'] == 'astrid':\n",
    "            astrid_num += 1\n",
    "            astrid_cum += 1\n",
    "        \n",
    "        if (agent['entertime + lifetime'] == t) and agent['prototype'] == 'astrid':\n",
    "            astrid_cum -= 1\n",
    "\n",
    "    cum_dict['cum'].append(astrid_cum)\n",
    "    num_dict['num'].append(astrid_num)\n",
    "\n",
    "an.double_axis_bar_line_plot(num_dict, cum_dict, timestep,\n",
    "                             'Years', 'Number of SFRs Deployed', ' Number of SFRs Operational',\n",
    "                             'Build number and cumulative ASTRID Number vs Time', 'sfr_deploy.png',\n",
    "                             init_year)"
   ]
  },
  {
   "cell_type": "code",
   "execution_count": 54,
   "metadata": {},
   "outputs": [
    {
     "name": "stdout",
     "output_type": "stream",
     "text": [
      "0.01188489984729947\n"
     ]
    }
   ],
   "source": [
    "# Pu Composition in Spent Fuels:\n",
    "pu_frac_spent_uox = cur.execute('SELECT sum(massfrac) FROM recipes LEFT OUTER JOIN compositions ON '\n",
    "                'compositions.qualid = recipes.qualid '\n",
    "                'WHERE recipe = \"uox_used_fuel_recipe\" '\n",
    "                'and (nucid > 940000000 and nucid < 950000000)').fetchone()\n",
    "pu_frac_spent_astrid = cur.execute('SELECT sum(massfrac) FROM recipes LEFT OUTER JOIN compositions ON '\n",
    "                'compositions.qualid = recipes.qualid '\n",
    "                'WHERE recipe = \"sfr_spent_mox_recipe\" '\n",
    "                'and (nucid > 940000000 and nucid < 950000000)').fetchone()\n",
    "print(pu_frac_spent_uox[0])"
   ]
  },
  {
   "cell_type": "code",
   "execution_count": 55,
   "metadata": {},
   "outputs": [
    {
     "name": "stdout",
     "output_type": "stream",
     "text": [
      "Spain_government\n",
      "9771.62\n",
      "Netherlands_government\n",
      "539.214\n",
      "Slovenia_government\n",
      "765.782\n",
      "Sweden_government\n",
      "16063.372\n",
      "Bulgaria_government\n",
      "3237.838\n",
      "Lithuania_government\n",
      "2644.78\n",
      "Poland_government\n",
      "1807.638\n",
      "Italy_government\n",
      "583.324\n",
      "Romania_government\n",
      "Romania_governmenthas none you silly \n",
      "\n",
      "Czech_Republic_government\n",
      "4413.94\n",
      "french_facilities\n",
      "french_facilitieshas none you silly \n",
      "\n",
      "France_government\n",
      "France_governmenthas none you silly \n",
      "\n",
      "UK_government\n",
      "13272.752\n",
      "Belgium_government\n",
      "6644.508\n",
      "Hungary_government\n",
      "3119.324\n",
      "Germany_government\n",
      "23868.728\n",
      "Slovakia_government\n",
      "2746.468\n",
      "Finland_government\n",
      "5713.92\n",
      "Sink_Source_Inst\n",
      "Sink_Source_Insthas none you silly \n",
      "\n",
      "Used UOX available for reprocessing Except France\n",
      "95193.208\n"
     ]
    }
   ],
   "source": [
    "# Fuel Used\n",
    "\n",
    "inst_output_dict = an.commod_per_inst(cur, 'uox_waste', 960)\n",
    "total = 0\n",
    "for key in inst_output_dict:\n",
    "    print(key)\n",
    "    try:\n",
    "        print(inst_output_dict[key]/1000)\n",
    "        total += inst_output_dict[key]/1000\n",
    "    except:\n",
    "        print(key + 'has none you silly \\n')\n",
    "\n",
    "print('Used UOX available for reprocessing Except France')\n",
    "print(total)\n"
   ]
  },
  {
   "cell_type": "code",
   "execution_count": 56,
   "metadata": {},
   "outputs": [
    {
     "name": "stdout",
     "output_type": "stream",
     "text": [
      "French UNF UOX total in 2050: 63194.186000\n",
      "French UNF reprocesed up until 2050: 56812.027438\n",
      "French UNF UOX unused in 2050: 6382.158562\n",
      "Total UOX UNF available for Rerprocessing in 2050:101575.366562\n"
     ]
    }
   ],
   "source": [
    "# French UOX UNF total, in sink, and reprocessed\n",
    "agent_ids = an.get_agent_ids(cur, 'Reactor')\n",
    "french = an.facility_commodity_flux(cur, agent_ids, ['french_uox_waste'], True, True)\n",
    "print('French UNF UOX total in 2050: %f' %french['french_uox_waste'][960])\n",
    "\n",
    "agent_ids = an.get_prototype_id(cur, 'LA_HAGUE')\n",
    "french_rep = an.facility_commodity_flux(cur, agent_ids, ['cooled_french_uox_waste'], False, True)\n",
    "print('French UNF reprocesed up until 2050: %f' %french_rep['cooled_french_uox_waste'][960])\n",
    "\n",
    "\n",
    "unused = french['french_uox_waste'][960] - french_rep['cooled_french_uox_waste'][960]\n",
    "print('French UNF UOX unused in 2050: %f' %unused)\n",
    "\n",
    "#french['in_sink'] = [x - y for x, y in zip(french['french_uox_waste'], french_rep['cooled_french_uox_waste'])] \n",
    "#print('French SNF in Sink')\n",
    "#print(sum(french['in_sink']))\n",
    "\n",
    "\n",
    "total_uox_unf = total + unused\n",
    "\n",
    "print('Total UOX UNF available for Rerprocessing in 2050:%f' %total_uox_unf)"
   ]
  },
  {
   "cell_type": "code",
   "execution_count": 57,
   "metadata": {},
   "outputs": [
    {
     "name": "stdout",
     "output_type": "stream",
     "text": [
      "Pu-238 has mass fraction of 0.000100 - 10.157537 tonnes available from 2050 UNF\n",
      "Pu-239 has mass fraction of 0.005180 - 526.160399 tonnes available from 2050 UNF\n",
      "Pu-240 has mass fraction of 0.002320 - 235.654850 tonnes available from 2050 UNF\n",
      "Pu-241 has mass fraction of 0.001260 - 127.984962 tonnes available from 2050 UNF\n",
      "Pu-242 has mass fraction of 0.000487 - 49.467204 tonnes available from 2050 UNF\n",
      "Total: 0.009347 - 949.424951 tonnes available \n"
     ]
    }
   ],
   "source": [
    "# plutonium from UNF inventory\n",
    "pu_iso_list = [238, 239, 240, 241, 242]\n",
    "mass_frac_list = [0.0001, 0.00518, 0.00232, 0.00126, 0.000487]\n",
    "for i in range(5):\n",
    "    print('Pu-%i has mass fraction of %f - %f tonnes available from 2050 UNF' %(pu_iso_list[i], mass_frac_list[i], mass_frac_list[i] * total_uox_unf))\n",
    "print('Total: %f - %f tonnes available ' %(sum(mass_frac_list), sum(mass_frac_list) * total_uox_unf))\n"
   ]
  },
  {
   "cell_type": "code",
   "execution_count": 58,
   "metadata": {},
   "outputs": [
    {
     "name": "stdout",
     "output_type": "stream",
     "text": [
      "Total ASTIRD MOX Loaded: 59583.168000\n",
      "Total Dep U Usage for production of ASTRID MOX:46474.871040\n"
     ]
    }
   ],
   "source": [
    "# MOX usage to ASTRID\n",
    "agent_ids = an.get_agent_ids(cur, 'Reactor')\n",
    "french = an.facility_commodity_flux(cur, agent_ids, ['astrid_fuel_legacy', 'astrid_fuel_new'], False, True)\n",
    "fuel_usage = [x+y for x,y in zip(french['astrid_fuel_legacy'], french['astrid_fuel_new'])]\n",
    "print('Total ASTIRD MOX Loaded: %f' %max(fuel_usage))\n",
    "\n",
    "dep_u = [x * 0.78 for x in fuel_usage]\n",
    "print('Total Dep U Usage for production of ASTRID MOX:%f' %max(dep_u))\n"
   ]
  },
  {
   "cell_type": "code",
   "execution_count": 59,
   "metadata": {},
   "outputs": [
    {
     "name": "stdout",
     "output_type": "stream",
     "text": [
      "601\n",
      "1176\n",
      "Average UOX Reprocessing Throughput is : 90.178163\n"
     ]
    }
   ],
   "source": [
    "# Average UOX reprocessing\n",
    "agent_ids = an.get_prototype_id(cur, 'uox_reprocessing')\n",
    "uox_pu_throughput = an.facility_commodity_flux(cur, agent_ids, ['uox_Pu'], True, False)\n",
    "uox_reprocess_throughput = np.array([x / pu_frac_spent_uox[0] for x in uox_pu_throughput['uox_Pu']])\n",
    "# start is the time \n",
    "start = uox_reprocess_throughput.nonzero()[0][0]\n",
    "end = uox_reprocess_throughput.nonzero()[0][-1]\n",
    "print(start)\n",
    "print(end)\n",
    "print('Average UOX Reprocessing Throughput is : %f' %uox_reprocess_throughput[start:end].mean())"
   ]
  },
  {
   "cell_type": "code",
   "execution_count": 60,
   "metadata": {},
   "outputs": [
    {
     "name": "stdout",
     "output_type": "stream",
     "text": [
      "Average ASTRID Reprocessing Throughput is : 34.480734\n"
     ]
    }
   ],
   "source": [
    "# Average ASTRID Reprocessing\n",
    "agent_ids = an.get_prototype_id(cur, 'astrid_reprocessing')\n",
    "astrid_pu_throughput = an.facility_commodity_flux(cur, agent_ids, ['astrid_Pu'], True, False)\n",
    "astrid_reprocess_throughput = np.array([x / pu_frac_spent_astrid[0] for x in astrid_pu_throughput['astrid_Pu']])\n",
    "# start is the time\n",
    "start = astrid_reprocess_throughput.nonzero()[0][0]\n",
    "end = astrid_reprocess_throughput.nonzero()[0][-1]\n",
    "print('Average ASTRID Reprocessing Throughput is : %f' %astrid_reprocess_throughput[start:end].mean())"
   ]
  },
  {
   "cell_type": "code",
   "execution_count": 61,
   "metadata": {},
   "outputs": [
    {
     "name": "stdout",
     "output_type": "stream",
     "text": [
      "Average total reprocessing throughput is: 59.431419\n"
     ]
    }
   ],
   "source": [
    "# Average Total Reprocessing\n",
    "total_reprocess_throughput = astrid_reprocess_throughput + uox_reprocess_throughput\n",
    "start = uox_reprocess_throughput.nonzero()[0][0]\n",
    "end = astrid_reprocess_throughput.nonzero()[0][-1]\n",
    "print('Average total reprocessing throughput is: %f' %total_reprocess_throughput[start:end].mean())"
   ]
  },
  {
   "cell_type": "code",
   "execution_count": 62,
   "metadata": {},
   "outputs": [
    {
     "name": "stdout",
     "output_type": "stream",
     "text": [
      "Average ASTRID MOX fabrication throuhgput: 43.270275\n"
     ]
    }
   ],
   "source": [
    "# Average fuel fabrication\n",
    "\n",
    "agent_id = an.get_prototype_id(cur, 'astrid_mixer_uox')\n",
    "agent_id2 = an.get_prototype_id(cur, 'astrid_mixer_astrid')\n",
    "agent_ids = [agent_id[0], agent_id2[0]]\n",
    "\n",
    "fab_throughput = an.facility_commodity_flux(cur, agent_ids, ['astrid_fuel_legacy', 'astrid_fuel_new'], True, False)\n",
    "total_fab = np.array([x + y for x, y in zip(fab_throughput['astrid_fuel_legacy'], fab_throughput['astrid_fuel_new'])])\n",
    "average_fab = total_fab[total_fab.nonzero()].mean()\n",
    "print('Average ASTRID MOX fabrication throuhgput: %f' %average_fab)\n"
   ]
  },
  {
   "cell_type": "code",
   "execution_count": 63,
   "metadata": {},
   "outputs": [
    {
     "name": "stdout",
     "output_type": "stream",
     "text": [
      "Total Pu reprocessed: 13747.347200\n"
     ]
    }
   ],
   "source": [
    "# Total Pu Reprocessed\n",
    "pu_throughput = sum([x+y for x,y in zip(uox_pu_throughput['uox_Pu'], astrid_pu_throughput['astrid_Pu'])])\n",
    "print('Total Pu reprocessed: %f' %pu_throughput)"
   ]
  },
  {
   "cell_type": "code",
   "execution_count": 64,
   "metadata": {},
   "outputs": [
    {
     "name": "stdout",
     "output_type": "stream",
     "text": [
      "ASTRID fuel from UOX Waste: 2772.864000\n",
      "ASTRID fuel from ASTRID Waste: 56810.304000\n"
     ]
    }
   ],
   "source": [
    "# Total ASTRID from UOX Waste\n",
    "agent_ids = an.get_agent_ids(cur, 'Reactor')\n",
    "astrid_fuel = an.facility_commodity_flux(cur, agent_ids, ['astrid_fuel_legacy','astrid_fuel_new'], False, True)\n",
    "print('ASTRID fuel from UOX Waste: %f' %max(astrid_fuel['astrid_fuel_legacy']))\n",
    "print('ASTRID fuel from ASTRID Waste: %f' %max(astrid_fuel['astrid_fuel_new']))"
   ]
  },
  {
   "cell_type": "code",
   "execution_count": 65,
   "metadata": {},
   "outputs": [
    {
     "name": "stdout",
     "output_type": "stream",
     "text": [
      "Total legacy UNF reprocessed: 51328.163286\n"
     ]
    }
   ],
   "source": [
    "# Total Legacy UNF Reprocessed:\n",
    "total_legacy_unf = max(astrid_fuel['astrid_fuel_legacy']) * .22 / pu_frac_spent_uox[0]\n",
    "print('Total legacy UNF reprocessed: %f' %total_legacy_unf)"
   ]
  },
  {
   "cell_type": "code",
   "execution_count": 66,
   "metadata": {},
   "outputs": [
    {
     "name": "stdout",
     "output_type": "stream",
     "text": [
      "Total reprocessed uranium stockpile: 148587.122738\n"
     ]
    }
   ],
   "source": [
    "# Total reprocessed U stockpile\n",
    "agent_ids = an.get_agent_ids(cur, 'Sink')\n",
    "repu = an.facility_commodity_flux(cur, agent_ids, ['uox_U', 'astrid_U'], False, True)\n",
    "total_repu = [x+y for x,y in zip(repu['uox_U'], repu['astrid_U'])]\n",
    "print('Total reprocessed uranium stockpile: %f' %max(total_repu))"
   ]
  },
  {
   "cell_type": "code",
   "execution_count": 67,
   "metadata": {},
   "outputs": [
    {
     "name": "stdout",
     "output_type": "stream",
     "text": [
      "Total raffinate stockpile: 17121.918387\n"
     ]
    }
   ],
   "source": [
    "# Total Raffinate\n",
    "raff = an.facility_commodity_flux(cur, agent_ids, ['uox_raffinate', 'astrid_raffinate', 'lahague_raffinate'], False, True)\n",
    "total_raff = [x+y+z for x,y,z in zip(raff['uox_raffinate'], raff['astrid_raffinate'], raff['lahague_raffinate'])]\n",
    "print('Total raffinate stockpile: %f' %max(total_raff))"
   ]
  },
  {
   "cell_type": "code",
   "execution_count": 68,
   "metadata": {},
   "outputs": [
    {
     "name": "stdout",
     "output_type": "stream",
     "text": [
      "Total UOX Loaded up until 2050: 161468.147000 MTHM\n"
     ]
    }
   ],
   "source": [
    "# UOX loaded up until 2050\n",
    "agent_ids = an.get_agent_ids(cur, 'Reactor')\n",
    "uox_loaded = an.facility_commodity_flux(cur, agent_ids, ['uox'], False, True)\n",
    "tot_uox_loaded_2050 = uox_loaded['uox'][960]\n",
    "print('Total UOX Loaded up until 2050: %f MTHM' %tot_uox_loaded_2050)"
   ]
  },
  {
   "cell_type": "code",
   "execution_count": 69,
   "metadata": {},
   "outputs": [
    {
     "name": "stdout",
     "output_type": "stream",
     "text": [
      "Total MOX Loaded up until 2050: 7371.488000 MTHM\n"
     ]
    }
   ],
   "source": [
    "# LWR MOX loaded up until 2050\n",
    "mox_loaded = an.facility_commodity_flux(cur, agent_ids, ['mox'], False, True)\n",
    "tot_mox_loaded_2050 = mox_loaded['mox'][960]\n",
    "print('Total MOX Loaded up until 2050: %f MTHM' %tot_mox_loaded_2050)"
   ]
  },
  {
   "cell_type": "code",
   "execution_count": 70,
   "metadata": {},
   "outputs": [
    {
     "name": "stdout",
     "output_type": "stream",
     "text": [
      "Total tails at 2050: 977715.924096\n"
     ]
    }
   ],
   "source": [
    "# Tails up until 2050\n",
    "agent_ids = an.get_agent_ids(cur, 'Enrichment')\n",
    "tails = an.facility_commodity_flux(cur, agent_ids, ['tails'], True, True)\n",
    "tails_2050 = tails['tails'][960]\n",
    "print('Total tails at 2050: %f' %tails_2050)\n"
   ]
  },
  {
   "cell_type": "code",
   "execution_count": 71,
   "metadata": {},
   "outputs": [
    {
     "name": "stdout",
     "output_type": "stream",
     "text": [
      "Total natural U at 2050: 1139184.071096\n"
     ]
    }
   ],
   "source": [
    "# Natural U used until 2050\n",
    "source = an.nat_u_timeseries(cur)\n",
    "source_2050 = source[960]\n",
    "print('Total natural U at 2050: %f' %source_2050)"
   ]
  },
  {
   "cell_type": "code",
   "execution_count": 72,
   "metadata": {
    "scrolled": false
   },
   "outputs": [
    {
     "name": "stdout",
     "output_type": "stream",
     "text": [
      "Total Tails in MTHM:\n",
      "977075.881274\n"
     ]
    }
   ],
   "source": [
    "# get tailings timeseries both cumulative and non-cumulative up till 2050\n",
    "\n",
    "agent_ids = an.get_agent_ids(cur, 'Storage')\n",
    "tails_dict = an.facility_commodity_flux(cur, agent_ids, ['tails'], False)\n",
    "tails_dict['tails'] = tails_dict['tails'][:960]\n",
    "tails_no_cum = an.facility_commodity_flux(cur, agent_ids, ['tails'], False, False)\n",
    "tails_no_cum['tails'] = tails_no_cum['tails'][:960]\n",
    "an.double_axis_bar_line_plot(tails_no_cum, tails_dict, timestep[:960], 'Years', 'Monthly Discharge Mass [MTHM]', 'Cumulative Mass [MTHM]',\n",
    "                    'Tails Mass vs Time', 'tailings', init_year)\n",
    "\n",
    "print('Total Tails in MTHM:')\n",
    "print(max(tails_dict['tails']))"
   ]
  },
  {
   "cell_type": "code",
   "execution_count": 73,
   "metadata": {},
   "outputs": [
    {
     "name": "stderr",
     "output_type": "stream",
     "text": [
      "/home/dkadkf/anaconda3/lib/python3.5/site-packages/matplotlib/__init__.py:1710: MatplotlibDeprecationWarning: The *left* kwarg to `bar` is deprecated use *x* instead. Support for *left* will be removed in Matplotlib 3.0\n",
      "  return func(ax, *args, **kwargs)\n"
     ]
    }
   ],
   "source": [
    "# get total fuel mass vs time plot up until 2050\n",
    "fuel_dict = an.fuel_usage_timeseries(cur, ['uox', 'mox'], True)\n",
    "fuel_dict['uox'] = fuel_dict['uox'][:960]\n",
    "fuel_dict['mox'] = fuel_dict['mox'][:960]\n",
    "an.stacked_bar_chart(fuel_dict, timestep[:960],\n",
    "                  'Years', 'Mass[MTHM]',\n",
    "                  'Total LWR Fuel Mass vs Time',\n",
    "                  'total_fuel',\n",
    "                  init_year)"
   ]
  },
  {
   "cell_type": "code",
   "execution_count": 74,
   "metadata": {},
   "outputs": [
    {
     "name": "stderr",
     "output_type": "stream",
     "text": [
      "/home/dkadkf/anaconda3/lib/python3.5/site-packages/matplotlib/__init__.py:1710: MatplotlibDeprecationWarning: The *left* kwarg to `bar` is deprecated use *x* instead. Support for *left* will be removed in Matplotlib 3.0\n",
      "  return func(ax, *args, **kwargs)\n"
     ]
    }
   ],
   "source": [
    "# get astrid fuel discharge vs time plot\n",
    "storageids = an.get_agent_ids(cur, 'storage')\n",
    "astrid_discharge = an.facility_commodity_flux(cur, storageids, ['astrid_unf'], False, False)\n",
    "an.stacked_bar_chart(astrid_discharge, timestep,\n",
    "                  'Years', 'Mass[MTHM]',\n",
    "                  'ASTRID UNF discharge vs Time',\n",
    "                  'astrid_unf',\n",
    "                  init_year)"
   ]
  },
  {
   "cell_type": "code",
   "execution_count": 75,
   "metadata": {
    "scrolled": true
   },
   "outputs": [
    {
     "name": "stderr",
     "output_type": "stream",
     "text": [
      "/home/dkadkf/anaconda3/lib/python3.5/site-packages/matplotlib/__init__.py:1710: MatplotlibDeprecationWarning: The *left* kwarg to `bar` is deprecated use *x* instead. Support for *left* will be removed in Matplotlib 3.0\n",
      "  return func(ax, *args, **kwargs)\n"
     ]
    },
    {
     "name": "stdout",
     "output_type": "stream",
     "text": [
      "Total ASTRID fuel from spent UOX:\n",
      "2772.864\n",
      "Total ASTRID fuel from spent ASTRID fuel:\n",
      "56810.304\n"
     ]
    }
   ],
   "source": [
    "# where does the astrid fuel come from?\n",
    "agent_ids = an.get_agent_ids(cur, 'Reactor')\n",
    "astrid_loading = an.facility_commodity_flux(cur, agent_ids, ['astrid_fuel_legacy', 'astrid_fuel_new'], False, False)\n",
    "an.stacked_bar_chart(astrid_loading, timestep,\n",
    "                  'Years', 'Mass[MTHM]',\n",
    "                  'ASTRID Fuel Loading vs Time',\n",
    "                  'where_fuel',\n",
    "                  init_year)\n",
    "print('Total ASTRID fuel from spent UOX:')\n",
    "print(sum(astrid_loading['astrid_fuel_legacy']))\n",
    "print('Total ASTRID fuel from spent ASTRID fuel:')\n",
    "print(sum(astrid_loading['astrid_fuel_new']))\n"
   ]
  },
  {
   "cell_type": "code",
   "execution_count": 76,
   "metadata": {},
   "outputs": [
    {
     "name": "stderr",
     "output_type": "stream",
     "text": [
      "/home/dkadkf/anaconda3/lib/python3.5/site-packages/matplotlib/__init__.py:1710: MatplotlibDeprecationWarning: The *left* kwarg to `bar` is deprecated use *x* instead. Support for *left* will be removed in Matplotlib 3.0\n",
      "  return func(ax, *args, **kwargs)\n"
     ]
    },
    {
     "name": "stdout",
     "output_type": "stream",
     "text": [
      "Total Pu from Spent UOX:\n",
      "616.43008\n",
      "Total Pu from Spent ASTRID Fuel:\n",
      "13130.91712\n",
      "Total Pu Reprocessed:\n",
      "13747.3472\n"
     ]
    }
   ],
   "source": [
    "# cum plutonium flux\n",
    "agent_ids = an.get_agent_ids(cur, 'separations')\n",
    "pu = an.facility_commodity_flux(cur, agent_ids, ['uox_Pu', 'astrid_Pu'], True, False)\n",
    "pu['pu from legacy'] = pu.pop('uox_Pu')\n",
    "pu['pu from spent sfr fuel'] = pu.pop('astrid_Pu')\n",
    "an.stacked_bar_chart(pu, timestep, 'Years', 'Mass [MTHM]', 'Total Pu Mass vs Time', 'pu', init_year)\n",
    "\n",
    "print('Total Pu from Spent UOX:')\n",
    "print(sum(pu['pu from legacy']))\n",
    "print('Total Pu from Spent ASTRID Fuel:')\n",
    "print(sum(pu['pu from spent sfr fuel']))\n",
    "print('Total Pu Reprocessed:')\n",
    "print(sum(pu['pu from spent sfr fuel']) + sum(pu['pu from legacy']))\n"
   ]
  },
  {
   "cell_type": "code",
   "execution_count": 77,
   "metadata": {},
   "outputs": [
    {
     "name": "stderr",
     "output_type": "stream",
     "text": [
      "/home/dkadkf/anaconda3/lib/python3.5/site-packages/matplotlib/__init__.py:1710: MatplotlibDeprecationWarning: The *left* kwarg to `bar` is deprecated use *x* instead. Support for *left* will be removed in Matplotlib 3.0\n",
      "  return func(ax, *args, **kwargs)\n"
     ]
    },
    {
     "name": "stdout",
     "output_type": "stream",
     "text": [
      "Total Reprocessed U Inventory:\n",
      "148587.122738\n"
     ]
    }
   ],
   "source": [
    "# Total Reprocessed Uranium Stockpile\n",
    "agent_ids = an.get_agent_ids(cur, 'sink')\n",
    "repu_inv = an.facility_commodity_flux(cur, agent_ids, ['uox_U', 'astrid_U'], False, True)\n",
    "an.stacked_bar_chart(repu_inv, timestep, 'Years', 'Mass[MTHM]', 'Total Rep U Mass vs Time', 'repu', init_year)\n",
    "\n",
    "print('Total Reprocessed U Inventory:')\n",
    "print(max([x+y for x, y in zip(repu_inv['uox_U'], repu_inv['astrid_U'])]))"
   ]
  },
  {
   "cell_type": "code",
   "execution_count": 78,
   "metadata": {},
   "outputs": [
    {
     "name": "stderr",
     "output_type": "stream",
     "text": [
      "/home/dkadkf/anaconda3/lib/python3.5/site-packages/matplotlib/__init__.py:1710: MatplotlibDeprecationWarning: The *left* kwarg to `bar` is deprecated use *x* instead. Support for *left* will be removed in Matplotlib 3.0\n",
      "  return func(ax, *args, **kwargs)\n"
     ]
    },
    {
     "name": "stdout",
     "output_type": "stream",
     "text": [
      "Total Raffinate:\n",
      "17121.9183872\n"
     ]
    }
   ],
   "source": [
    "# Raffinate\n",
    "agent_ids = an.get_agent_ids(cur, 'separations')\n",
    "reprocess_waste = an.facility_commodity_flux(cur, agent_ids, ['lahague_raffinate', 'uox_raffinate', 'astrid_raffinate'], True, False)\n",
    "an.stacked_bar_chart(reprocess_waste, timestep, 'Years', 'Mass [MTHM]',\n",
    "                     'Raffinate Inventory vs Time', 'raffinate', init_year)\n",
    "print('Total Raffinate:')\n",
    "print(sum([x+y+z for x, y, z in zip(reprocess_waste['lahague_raffinate'], reprocess_waste['uox_raffinate'], reprocess_waste['astrid_raffinate']\n",
    ")]))"
   ]
  },
  {
   "cell_type": "code",
   "execution_count": 79,
   "metadata": {
    "scrolled": true
   },
   "outputs": [
    {
     "name": "stdout",
     "output_type": "stream",
     "text": [
      "Total UOX Waste in MTHM:\n",
      "176214.483\n",
      "Total UOX Waste Stored:\n",
      "110045.923\n",
      "Total MOX Waste in MTHM:\n",
      "7371.488\n"
     ]
    }
   ],
   "source": [
    "# get spent fuel no_cum and cumulative plot\n",
    "agent_ids = an.get_agent_ids(cur, 'Storage')\n",
    "snf_dict_no_cum = an.facility_commodity_flux(cur, agent_ids, ['uox_waste'],\n",
    "                                        False, False)\n",
    "snf_dict = an.facility_commodity_flux(cur, agent_ids, ['uox_waste'],\n",
    "                                        False, True) \n",
    "dictionary = {}\n",
    "dictionary['monthly_discharge'] = snf_dict_no_cum['uox_waste'][:960]\n",
    "dict2 = {}\n",
    "dict2['cum_mass'] = snf_dict['uox_waste'][:960]\n",
    "\n",
    "an.double_axis_bar_line_plot(dictionary,dict2, timestep[:960], 'Years',  'Monthly Discharge Mass [MTHM]','Cumulative Mass [MTHM]',\n",
    "                    'Spent Fuel Discharge vs Time', 'snf_discharge', init_year)\n",
    "\n",
    "agent_ids = an.get_agent_ids(cur, 'Storage')\n",
    "snf_dict = an.facility_commodity_flux(cur, agent_ids, ['uox_waste', 'french_uox_waste'],\n",
    "                                        False)\n",
    "print('Total UOX Waste in MTHM:')\n",
    "print(max([x + y for x, y in zip(snf_dict['uox_waste'], snf_dict['french_uox_waste'])]))\n",
    "print('Total UOX Waste Stored:')\n",
    "print(max(snf_dict['uox_waste']))\n",
    "agent_ids = an.get_agent_ids(cur, 'Sink')\n",
    "snf_dict = an.facility_commodity_flux(cur, agent_ids, ['mox_waste'],\n",
    "                                        False)\n",
    "print('Total MOX Waste in MTHM:')\n",
    "print(max(snf_dict['mox_waste']))"
   ]
  },
  {
   "cell_type": "code",
   "execution_count": 80,
   "metadata": {},
   "outputs": [
    {
     "name": "stdout",
     "output_type": "stream",
     "text": [
      "Total Natural U in MTHM:\n",
      "1243221.87292\n",
      "Total UOX usage in MTHM:\n",
      "176214.483\n",
      "Total MOX usage in MTHM:\n",
      "7371.488\n",
      "Total Tailings in MTHM:\n",
      "1067007.38992\n",
      "Finished!\n"
     ]
    }
   ],
   "source": [
    "# Display important simulation results\n",
    "\n",
    "# natural uranium demand\n",
    "dictionary = collections.OrderedDict()\n",
    "dictionary['natural_uranium'] = an.nat_u_timeseries(cur)\n",
    "print('Total Natural U in MTHM:')\n",
    "print(max(dictionary['natural_uranium']))\n",
    "\n",
    "# get spent fuel timeseries separated by region\n",
    "\n",
    "agent_ids = an.get_agent_ids(cur, 'Storage')\n",
    "comm_dict = an.commodity_flux_region(cur, agent_ids, ['uox_waste', 'french_uox_waste'], False)\n",
    "\n",
    "# get fuel usage timeseries in stacked bar chart\n",
    "fuel_dict = an.fuel_usage_timeseries(cur, ['uox', 'mox'])\n",
    "\n",
    "print('Total UOX usage in MTHM:')\n",
    "print(max(fuel_dict['uox']))\n",
    "print('Total MOX usage in MTHM:')\n",
    "print(max(fuel_dict['mox']))\n",
    "\n",
    "# get tailings timeseries\n",
    "agent_ids = an.get_agent_ids(cur, 'Storage')\n",
    "tails_dict = an.facility_commodity_flux(cur, agent_ids, ['tails'], False)\n",
    "print('Total Tailings in MTHM:')\n",
    "print(max(tails_dict['tails']))\n",
    "\n",
    "print('Finished!')"
   ]
  },
  {
   "cell_type": "code",
   "execution_count": 81,
   "metadata": {},
   "outputs": [
    {
     "data": {
      "image/png": "[encoded data removed]",
      "text/plain": [
       "<IPython.core.display.Image object>"
      ]
     },
     "execution_count": 81,
     "metadata": {},
     "output_type": "execute_result"
    }
   ],
   "source": [
    "# Display Net Capacity vs Time\n",
    "from IPython.display import Image\n",
    "Image(filename='power_plot.png')"
   ]
  },
  {
   "cell_type": "code",
   "execution_count": 82,
   "metadata": {
    "scrolled": false
   },
   "outputs": [
    {
     "data": {
      "image/png": "[encoded data removed]",
      "text/plain": [
       "<IPython.core.display.Image object>"
      ]
     },
     "execution_count": 82,
     "metadata": {},
     "output_type": "execute_result"
    }
   ],
   "source": [
    "# Display Number of Reactors vs Time\n",
    "from IPython.display import Image\n",
    "Image(filename='num_plot.png')"
   ]
  },
  {
   "cell_type": "code",
   "execution_count": 83,
   "metadata": {},
   "outputs": [
    {
     "data": {
      "image/png": "[encoded data removed]",
      "text/plain": [
       "<IPython.core.display.Image object>"
      ]
     },
     "execution_count": 83,
     "metadata": {},
     "output_type": "execute_result"
    }
   ],
   "source": [
    "# Display natural U demand  vs Time\n",
    "from IPython.display import Image\n",
    "Image(filename='cum_mass_snf_discharge.png')"
   ]
  },
  {
   "cell_type": "code",
   "execution_count": 84,
   "metadata": {},
   "outputs": [
    {
     "data": {
      "image/png": "[encoded data removed]",
      "text/plain": [
       "<IPython.core.display.Image object>"
      ]
     },
     "execution_count": 84,
     "metadata": {},
     "output_type": "execute_result"
    }
   ],
   "source": [
    "# Display spent fuel vs Time\n",
    "from IPython.display import Image\n",
    "Image(filename='tails_tailings.png')"
   ]
  },
  {
   "cell_type": "code",
   "execution_count": 85,
   "metadata": {},
   "outputs": [
    {
     "data": {
      "image/png": "[encoded data removed]",
      "text/plain": [
       "<IPython.core.display.Image object>"
      ]
     },
     "execution_count": 85,
     "metadata": {},
     "output_type": "execute_result"
    }
   ],
   "source": [
    "# Display total fuel usage  vs Time\n",
    "from IPython.display import Image\n",
    "Image(filename='total_fuel.png')"
   ]
  },
  {
   "cell_type": "code",
   "execution_count": null,
   "metadata": {
    "collapsed": true
   },
   "outputs": [],
   "source": []
  }
 ],
 "metadata": {
  "kernelspec": {
   "display_name": "Python [default]",
   "language": "python",
   "name": "python3"
  },
  "language_info": {
   "codemirror_mode": {
    "name": "ipython",
    "version": 3
   },
   "file_extension": ".py",
   "mimetype": "text/x-python",
   "name": "python",
   "nbconvert_exporter": "python",
   "pygments_lexer": "ipython3",
   "version": "3.5.3"
  }
 },
 "nbformat": 4,
 "nbformat_minor": 2
}
