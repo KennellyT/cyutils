{
 "cells": [
  {
   "cell_type": "markdown",
   "metadata": {},
   "source": [
    "### Import Necessary Module and Set Path "
   ]
  },
  {
   "cell_type": "code",
   "execution_count": 6,
   "metadata": {
    "collapsed": true
   },
   "outputs": [],
   "source": [
    "import sqlite3 as lite\n",
    "import os\n",
    "import sys\n",
    "from pyne import nucname\n",
    "sys.path.insert(0, '../scripts/')\n",
    "jupyter_directory = os.getcwd()"
   ]
  },
  {
   "cell_type": "code",
   "execution_count": 2,
   "metadata": {
    "collapsed": true
   },
   "outputs": [],
   "source": [
    "import analysis as an"
   ]
  },
  {
   "cell_type": "markdown",
   "metadata": {},
   "source": [
    "## Run Cyclus Input file"
   ]
  },
  {
   "cell_type": "code",
   "execution_count": 22,
   "metadata": {
    "collapsed": false
   },
   "outputs": [
    {
     "name": "stdout",
     "output_type": "stream",
     "text": [
      "              :                                                               \n",
      "          .CL:CC CC             _Q     _Q  _Q_Q    _Q    _Q              _Q   \n",
      "        CC;CCCCCCCC:C;         /_\\)   /_\\)/_/\\\\)  /_\\)  /_\\)            /_\\)  \n",
      "        CCCCCCCCCCCCCl       __O|/O___O|/O_OO|/O__O|/O__O|/O____________O|/O__\n",
      "     CCCCCCf     iCCCLCC     /////////////////////////////////////////////////\n",
      "     iCCCt  ;;;;;.  CCCC                                                      \n",
      "    CCCC  ;;;;;;;;;. CClL.                          c                         \n",
      "   CCCC ,;;       ;;: CCCC  ;                   : CCCCi                       \n",
      "    CCC ;;         ;;  CC   ;;:                CCC`   `C;                     \n",
      "  lCCC ;;              CCCC  ;;;:             :CC .;;. C;   ;    :   ;  :;;   \n",
      "  CCCC ;.              CCCC    ;;;,           CC ;    ; Ci  ;    :   ;  :  ;  \n",
      "   iCC :;               CC       ;;;,        ;C ;       CC  ;    :   ; .      \n",
      "  CCCi ;;               CCC        ;;;.      .C ;       tf  ;    :   ;  ;.    \n",
      "  CCC  ;;               CCC          ;;;;;;; fC :       lC  ;    :   ;    ;:  \n",
      "   iCf ;;               CC         :;;:      tC ;       CC  ;    :   ;     ;  \n",
      "  fCCC :;              LCCf      ;;;:         LC :.  ,: C   ;    ;   ; ;   ;  \n",
      "  CCCC  ;;             CCCC    ;;;:           CCi `;;` CC.  ;;;; :;.;.  ; ,;  \n",
      "    CCl ;;             CC    ;;;;              CCC    CCL                     \n",
      "   tCCC  ;;        ;; CCCL  ;;;                  tCCCCC.                      \n",
      "    CCCC  ;;     :;; CCCCf  ;                     ,L                          \n",
      "     lCCC   ;;;;;;  CCCL                                                      \n",
      "     CCCCCC  :;;  fCCCCC                                                      \n",
      "      . CCCC     CCCC .                                                       \n",
      "       .CCCCCCCCCCCCCi                                                        \n",
      "          iCCCCCLCf                                                           \n",
      "           .  C. ,                                                            \n",
      "              :                                                               \n",
      "\n",
      "Status: Cyclus run successful!\n",
      "Output location: cyclus.sqlite\n",
      "Simulation ID: 0a283211-8e80-4206-bba3-83ee4ede891b\n"
     ]
    }
   ],
   "source": [
    "! rm cyclus.sqlite\n",
    "! cyclus eg01-eg29-cycamore.xml"
   ]
  },
  {
   "cell_type": "markdown",
   "metadata": {},
   "source": [
    "### The output file should be named \n",
    "         \n",
    "          cyclus.sqlite"
   ]
  },
  {
   "cell_type": "code",
   "execution_count": 26,
   "metadata": {
    "collapsed": false
   },
   "outputs": [
    {
     "name": "stderr",
     "output_type": "stream",
     "text": [
      "/home/user/anaconda3/lib/python3.6/site-packages/ipykernel_launcher.py:13: RuntimeWarning: invalid value encountered in double_scalars\n",
      "  del sys.path[0]\n"
     ]
    },
    {
     "name": "stdout",
     "output_type": "stream",
     "text": [
      "Finished!\n"
     ]
    }
   ],
   "source": [
    "filename = 'cyclus.sqlite'\n",
    "# Wait for the complete message to move on\n",
    "cur = an.get_cursor(filename)\n",
    "# get simulation time info\n",
    "init_year, init_month, duration, timestep = an.get_timesteps(cur)\n",
    "\n",
    "# prints net capacity and number of reactor timeseries\n",
    "power_dict, num_dict = an.get_power_dict(cur)\n",
    "an.plot_power(cur)\n",
    "ratio = {}\n",
    "ratio['fr_to_lwr_ratio'] =[x/y for x, y in zip(power_dict['fr_inst'], power_dict['mox_lwr_inst'])]\n",
    "an.stacked_bar_chart(ratio, timestep, 'Year', 'FR capacity / LWR capacity',\n",
    "                     'Ratio vs Time', 'ratio', init_year)\n",
    "\n",
    "# get tailings mass timeseries\n",
    "agent_ids = an.get_agent_ids('enrichment')\n",
    "tailings = an.facility_commodity_flux(cur, agent_ids,\n",
    "                                      ['tailings'], True)\n",
    "an.stacked_bar_chart(tailings, timestep,\n",
    "                  'Year', 'Mass [MTHM]',\n",
    "                  'Tailings vs Time',\n",
    "                  'tailings', init_year)\n",
    "\n",
    "# get fuel mass timeseries\n",
    "fuel_dict = an.fuel_usage_timeseries(cur, ['uox', 'mox'])\n",
    "an.stacked_bar_chart(fuel_dict, timestep,\n",
    "                  'Years', 'Mass[MTHM]',\n",
    "                  'Total Fuel Mass vs Time',\n",
    "                  'total_fuel',\n",
    "                  init_year)\n",
    "\n",
    "# uranium utilization\n",
    "dictionary = {}\n",
    "dictionary['uranium_utilization'] = an.u_util_calc(cur)\n",
    "an.stacked_bar_chart(dictionary, timestep,\n",
    "                     'Years', 'U Utilization Factor',\n",
    "                     'U Utilization vs Time',\n",
    "                     'u_util', init_year)\n",
    "\n",
    "# get reprocessed material flow\n",
    "agent_ids = an.get_agent_ids('separations')\n",
    "combined = an.facility_commodity_flux(cur, agent_ids, ['mox_Pu', 'uox_Pu'], True)\n",
    "uox_Pu = an.facility_commodity_flux(cur, agent_ids, ['uox_Pu'], True)\n",
    "mox_Pu = an.facility_commodity_flux(cur, agent_ids, ['mox_Pu'], True)\n",
    "an.stacked_bar_chart(combined, timestep, 'Years', 'Mass[MTHM]',\n",
    "                  'Total reprocessed outflux vs Time', 'combined',\n",
    "                  init_year)\n",
    "an.stacked_bar_chart(from_spent_uox, timestep, 'Years', 'Mass[MTHM]',\n",
    "                  'reprocessed from spent UOX vs Time', 'from_spent_uox',\n",
    "                  init_year)\n",
    "an.stacked_bar_chart(from_spent_mox, timestep, 'Years', 'Mass[MTHM]',\n",
    "                  'reprocessed from spent MOX vs Time', 'from_spent_mox',\n",
    "                  init_year)\n",
    "\n",
    "print('Finished!')"
   ]
  },
  {
   "cell_type": "code",
   "execution_count": null,
   "metadata": {
    "collapsed": true
   },
   "outputs": [],
   "source": [
    "# Number of Reactors Deployed\n",
    "cur = an.get_cursor(filename)\n",
    "lwr = cur.execute('SELECT count(*) FROM agententry '\n",
    "                  'WHERE prototype = \"lwr\"').fetchone()\n",
    "print('The Number of LWRs Deployed:')\n",
    "print(lwr[0])\n",
    "\n",
    "sfr = cur.execute('SELECT count(*) FROM agententry '\n",
    "                  'WHERE prototype = \"fr\"').fetchone()\n",
    "print('The Number of FRs Deployed:')\n",
    "print(sfr[0])"
   ]
  },
  {
   "cell_type": "code",
   "execution_count": null,
   "metadata": {
    "collapsed": true
   },
   "outputs": [],
   "source": [
    "# Fresh and Spent Fuel Composition\n",
    "cur = an.get_cursor(filename)\n",
    "\n",
    "sfr_fuel_qualid = cur.execute('SELECT qualid FROM transactions '\n",
    "                              'INNER JOIN resources ON '\n",
    "                              'resources.resourceid = transactions.resourceid '\n",
    "                              'WHERE commodity = \"sfr_fuel\"').fetchone()\n",
    "fresh_sfr_mox_comp = cur.execute('SELECT nucid, massfrac FROM compositions '\n",
    "                                 'WHERE qualid = ' + str(sfr_fuel_qualid[0])).fetchall()\n",
    "print('Composition for fresh sfr fuel: ')\n",
    "for isotope in fresh_sfr_mox_comp:\n",
    "    print(nucname.name(isotope[0]) + ': ' + str(isotope[1] * 100) + ' %')\n",
    "\n",
    "print('\\n \\n')\n",
    "\n",
    "sfr_waste_comp = cur.execute('SELECT nucid, massfrac FROM recipes '\n",
    "                             'LEFT OUTER JOIN compositions '\n",
    "                             'ON recipes.qualid = compositions.qualid '\n",
    "                             'WHERE recipe = \"sfr_waste_recipe\"').fetchall()\n",
    "print('Composition for fresh sfr spent fuel: ')\n",
    "for isotope in sfr_waste_comp:\n",
    "    print(nucname.name(isotope[0]) + ': ' + str(isotope[1] * 100) + ' %')"
   ]
  },
  {
   "cell_type": "markdown",
   "metadata": {},
   "source": [
    "### Plots"
   ]
  },
  {
   "cell_type": "code",
   "execution_count": null,
   "metadata": {
    "collapsed": true
   },
   "outputs": [],
   "source": [
    "# Display Net Capacity vs Time\n",
    "from IPython.display import Image\n",
    "Image(filename='power_plot.png')\n",
    "\n",
    "# Display Number of Reactors vs Time\n",
    "from IPython.display import Image\n",
    "Image(filename='number_plot.png')\n",
    "\n",
    "# Display Tailings vs Time\n",
    "from IPython.display import Image\n",
    "Image(filename='tailings.png')\n",
    "\n",
    "# Display Total Fuel vs Time\n",
    "from IPython.display import Image\n",
    "Image(filename='total_fuel.png')\n",
    "\n",
    "# Display Uranium Utilization vs Time\n",
    "from IPython.display import Image\n",
    "Image(filename='u_util.png')\n",
    "\n",
    "# Display Separated Pu Flow\n",
    "from IPython.display import Image\n",
    "Image(filename='combined.png')\n",
    "\n",
    "from IPython.display import Image\n",
    "Image(filename='mox_Pu.png')\n",
    "\n",
    "from IPython.display import Image\n",
    "Image(filename='uox_Pu.png')"
   ]
  }
 ],
 "metadata": {
  "kernelspec": {
   "display_name": "Python 3",
   "language": "python",
   "name": "python3"
  },
  "language_info": {
   "codemirror_mode": {
    "name": "ipython",
    "version": 3
   },
   "file_extension": ".py",
   "mimetype": "text/x-python",
   "name": "python",
   "nbconvert_exporter": "python",
   "pygments_lexer": "ipython3",
   "version": "3.5.2"
  }
 },
 "nbformat": 4,
 "nbformat_minor": 2
}
