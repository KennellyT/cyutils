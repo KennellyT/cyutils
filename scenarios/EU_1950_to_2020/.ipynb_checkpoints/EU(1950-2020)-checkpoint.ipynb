{
 "cells": [
  {
   "cell_type": "code",
   "execution_count": 1,
   "metadata": {
    "collapsed": false
   },
   "outputs": [],
   "source": [
    "# Change Directory into scripts\n",
    "# ONLY RUN ONCE IN THE BEGINNING\n",
    "import sqlite3 as lite\n",
    "import os\n",
    "jupyter_directory = os.getcwd()"
   ]
  },
  {
   "cell_type": "code",
   "execution_count": 2,
   "metadata": {
    "collapsed": false
   },
   "outputs": [
    {
     "name": "stdout",
     "output_type": "stream",
     "text": [
      "/home/dkadkf/Desktop/poopeepoop/module_branch/transition-scenarios/scripts\n"
     ]
    }
   ],
   "source": [
    "cd ../../scripts"
   ]
  },
  {
   "cell_type": "code",
   "execution_count": 3,
   "metadata": {
    "collapsed": false
   },
   "outputs": [],
   "source": [
    "# Import necessary modules\n",
    "import write_deployinst_input as wr"
   ]
  },
  {
   "cell_type": "code",
   "execution_count": 4,
   "metadata": {
    "collapsed": false
   },
   "outputs": [],
   "source": [
    "# Write the Cyclus Input File\n",
    "csv_file = '../scenarios/EU_1950_to_2020/eu_reactors_pris.csv'\n",
    "wr.main(csv_file, 19500101, 840,\n",
    "        './templates/reactor_template.xml.in',\n",
    "        './templates/deployinst_template.xml.in',\n",
    "        './templates/input_template.xml.in')"
   ]
  },
  {
   "cell_type": "markdown",
   "metadata": {},
   "source": [
    "### The input file is created in the folder:\n",
    "\n",
    "          transition-scenarios/scripts/\n",
    "\n",
    "### cd into the directory, then run cyclus:\n",
    "\n",
    "          cyclus complete_input.xml\n",
    "          \n",
    "### The output file should be named \n",
    "         \n",
    "          cyclus.sqlite"
   ]
  },
  {
   "cell_type": "code",
   "execution_count": 5,
   "metadata": {
    "collapsed": false
   },
   "outputs": [
    {
     "name": "stdout",
     "output_type": "stream",
     "text": [
      "['total snf inventory = 104025750.00028554kg', 'U235 = 4161030.0000114217', 'U238 = 99864720.0002741', 'U235 = 868892.1200614088', 'U236 = 566050.2659662858', 'U238 = 101344546.80224752', 'Np237 = 75707.69156670813', 'Pu238 = 27957.959034190764', 'Pu239 = 589556.4619418895', 'Pu240 = 229279.65730260313', 'Pu241 = 202225.35627407822', 'Pu242 = 85304.20695203119', 'Am241 = 6841.190055163872', 'Am243 = 19996.898321698613', 'Cm244 = 2389.4269965766844', 'Cm245 = 7001.963565374367']\n"
     ]
    }
   ],
   "source": [
    "# Get Final SNF capacity of Output\n",
    "# and stacked bar chart of capacity and number of reactors\n",
    "import analysis as an\n",
    "output = 'cyclus.sqlite'\n",
    "con = lite.connect(output)\n",
    "with con:\n",
    "    cur = con.cursor()\n",
    "    print(an.snf(output, cur))\n",
    "    an.plot_power(output, cur)"
   ]
  },
  {
   "cell_type": "code",
   "execution_count": null,
   "metadata": {
    "collapsed": true
   },
   "outputs": [],
   "source": [
    "from IPython.display import Image\n",
    "Image(filename='power_plot.png')\n",
    "\n",
    "from IPython.display import Image\n",
    "Image(filename='number_plot.png')"
   ]
  },
  {
   "cell_type": "code",
   "execution_count": null,
   "metadata": {
    "collapsed": true
   },
   "outputs": [],
   "source": []
  }
 ],
 "metadata": {
  "kernelspec": {
   "display_name": "Python 3",
   "language": "python",
   "name": "python3"
  },
  "language_info": {
   "codemirror_mode": {
    "name": "ipython",
    "version": 3
   },
   "file_extension": ".py",
   "mimetype": "text/x-python",
   "name": "python",
   "nbconvert_exporter": "python",
   "pygments_lexer": "ipython3",
   "version": "3.5.2"
  }
 },
 "nbformat": 4,
 "nbformat_minor": 2
}
