{
 "cells": [
  {
   "cell_type": "markdown",
   "metadata": {},
   "source": [
    "# Predicting the past, United States"
   ]
  },
  {
   "cell_type": "markdown",
   "metadata": {},
   "source": [
    "## Introduction\n",
    "\n",
    "In the United States, 112 commercial reactors have been deployed and operated since 1967. Predicting the past repository uses published data of those commercial reactors and simulates these reactors using _CYCLUS_, an agent-based simulation software, to predict and compare information such as the amount of power generated. Furthermore, these simulations can be used as baseline comparison models for any future studies that involve simulations modeling or predicting the future such is as DOE-NE's study to screen fuel cycle options that aims to identify the potential benefits and challenges of fuel cycle options. Information regarding reactors were obtained from Power Reactor Information System's (PRIS) reactor database. [reactors_pris_2016.csv](import_data/reactors_pris_2016.csv) repository."
   ]
  },
  {
   "cell_type": "markdown",
   "metadata": {},
   "source": [
    "## Obtaining Recipes for Simulation\n",
    "\n",
    "First, a input file for _CYCLUS_ that specifies information such as the simulation start year, reactor deployment year, facility deployment, and recipes for fresh and spent nuclear fuel (SNF) need to be produced. The recipes for fresh and SNF were obtained from `vision_recipes.xls` spreadsheet file. The file contains composition data for fresh and spent nuclear fuel for uranium oxide (UOX) and mixed oxide (MOX) fuels for different burn ups.\n",
    "\n",
    "Importing raw composition data from `vision_recipes.xls` was performed through python and will be demonstrated below. Due to limited information regarding the reactors, all reactors were assumed to operate at a burn up of 51 GWd/MTHM.\n",
    "\n",
    "### Demonstration\n",
    "__Import necessary libraries__"
   ]
  },
  {
   "cell_type": "code",
   "execution_count": 1,
   "metadata": {},
   "outputs": [],
   "source": [
    "from pyne import nucname as nn\n",
    "import csv\n",
    "import jinja2\n",
    "import os\n",
    "import sys"
   ]
  },
  {
   "cell_type": "markdown",
   "metadata": {},
   "source": [
    "__Read fuel recipe data__\n",
    "\n",
    "Opens and saves contents from `vision_recipes.xls` files to a list by looping over each cell in the spreadsheet file."
   ]
  },
  {
   "cell_type": "code",
   "execution_count": 2,
   "metadata": {
    "scrolled": true
   },
   "outputs": [
    {
     "name": "stdout",
     "output_type": "stream",
     "text": [
      "['Fuel Recipe Column # ==>', '1', '2', '3', '4', '5', '6', '7']\n",
      "['Isotope', 'UOX 33 Bu fresh', 'UOX 33 Bu SF', 'UOX 51 Bu fresh', 'UOX 51 Bu SF', 'UOX 100 Bu fresh', 'UOX 100 Bu SF', 'Depleted U Composition']\n",
      "['He4', '0', '2.09687731425456E-07', '0', '9.47457840128509E-07', '0', '2.0692755421168E-06', '0']\n",
      "['Ra226', '0', '1.18893043712383E-14', '0', '9.78856442957042E-14', '0', '0', '0']\n",
      "['Ra228', '0', '6.05164592554536E-21', '0', '2.75087759176098E-20', '0', '6.0138599011451E-20', '0']\n",
      "['Pb206', '0', '7.66855132237399E-20', '0', '5.57475193532078E-18', '0', '1.40345550165974E-17', '0']\n",
      "['Pb207', '0', '6.51861860354101E-17', '0', '1.68592497990149E-15', '0', '4.17687747042409E-15', '0']\n",
      "['Pb208', '0', '1.2309279798986E-13', '0', '3.6888358546006E-12', '0', '9.17047581755368E-12', '0']\n",
      "['Pb210', '0', '2.49685391210951E-20', '0', '3.02386544437848E-19', '0', '7.27830258222134E-19', '0']\n",
      "['Th228', '0', '6.56361597079969E-13', '0', '8.47562285269577E-12', '0', '1.92576399560947E-11', '0']\n",
      ".\n",
      ".\n",
      ".\n"
     ]
    }
   ],
   "source": [
    "def import_csv(in_csv, delimit):\n",
    "    \"\"\" Imports contents of a comma delimited csv file\n",
    "    to a 2D list.\n",
    "\n",
    "    Parameters\n",
    "    ---------\n",
    "    in_csv: str\n",
    "        csv file name.\n",
    "    delimit: str\n",
    "        delimiter of the csv file\n",
    "\n",
    "    Returns\n",
    "    -------\n",
    "    data_list: list\n",
    "        list with fleetcomp data.\n",
    "    \"\"\"\n",
    "    with open(in_csv, encoding='utf-8') as source:\n",
    "        sourcereader = csv.reader(source, delimiter=delimit)\n",
    "        data_list = []\n",
    "        for row in sourcereader:\n",
    "            data_list.append(row)\n",
    "    return data_list\n",
    "\n",
    "\n",
    "recipes = import_csv('import_data/vision_recipes/uox.csv', ',')\n",
    "print(*recipes[:10], '.', '.', '.', sep='\\n')"
   ]
  },
  {
   "cell_type": "markdown",
   "metadata": {},
   "source": [
    "__Load template for _CYCLUS_ input file__\n",
    "\n",
    "Imports the template file used to render recipe data."
   ]
  },
  {
   "cell_type": "code",
   "execution_count": 3,
   "metadata": {},
   "outputs": [],
   "source": [
    "def load_template(in_template):\n",
    "    \"\"\" Returns a jinja2 template.\n",
    "\n",
    "    Parameters\n",
    "    ---------\n",
    "    in_template: str\n",
    "        template file name.\n",
    "\n",
    "    Returns\n",
    "    -------\n",
    "    output_template: jinja template object\n",
    "    \"\"\"\n",
    "    with open(in_template, 'r') as default:\n",
    "        output_template = jinja2.Template(default.read())\n",
    "    return output_template\n",
    "\n",
    "\n",
    "recipe_template = load_template('templates/US/recipes_template.xml')"
   ]
  },
  {
   "cell_type": "markdown",
   "metadata": {},
   "source": [
    "__Select appropriate recipe for a given burnup__\n",
    "\n",
    "Uses the imported list and a given amount of burnup to select the appropriate composition data. The data is then stored into a dictionary. "
   ]
  },
  {
   "cell_type": "code",
   "execution_count": 4,
   "metadata": {},
   "outputs": [
    {
     "name": "stdout",
     "output_type": "stream",
     "text": [
      "Spent Fuel Composition:\n",
      "ISOTOPE:   Massfrac\n",
      "20040000 :  9.47457840128509e-07\n",
      "882260000 :  9.78856442957042e-14\n",
      "882280000 :  2.75087759176098e-20\n",
      "822060000 :  5.57475193532078e-18\n",
      "822070000 :  1.68592497990149e-15\n",
      "822080000 :  3.6888358546006e-12\n",
      "822100000 :  3.02386544437848e-19\n",
      "902280000 :  8.47562285269577e-12\n",
      "902290000 :  2.72787861516683e-12\n",
      "902300000 :  2.6258831537493e-09\n",
      ".\n",
      ".\n",
      ".\n"
     ]
    }
   ],
   "source": [
    "def get_composition_fresh(in_list, burnup):\n",
    "    \"\"\" Returns a dictionary of isotope and composition (in mass fraction)\n",
    "    using vision_recipes for fresh UOX\n",
    "\n",
    "    Parameters\n",
    "    ---------\n",
    "    in_list: list\n",
    "        list file containing vision_recipes data.\n",
    "    burnup: int\n",
    "        burnup\n",
    "\n",
    "    Returns\n",
    "    -------\n",
    "    data_dict: dictionary\n",
    "        dictionary with key: isotope, and value: composition.\n",
    "    \"\"\"\n",
    "    data_dict = {}\n",
    "    for i in range(len(in_list)):\n",
    "        if i > 1:\n",
    "            if burnup == 33:\n",
    "                data_dict.update({nn.id(in_list[i][0]):\n",
    "                                  float(in_list[i][1])})\n",
    "            elif burnup == 51:\n",
    "                data_dict.update({nn.id(in_list[i][0]):\n",
    "                                  float(in_list[i][3])})\n",
    "            else:\n",
    "                data_dict.update({nn.id(in_list[i][0]):\n",
    "                                  float(in_list[i][5])})\n",
    "    return data_dict\n",
    "\n",
    "\n",
    "def get_composition_spent(in_list, burnup):\n",
    "    \"\"\" Returns a dictionary of isotope and composition (in mass fraction)\n",
    "    using vision_recipes for spent nuclear fuel\n",
    "\n",
    "    Parameters\n",
    "    ---------\n",
    "    in_list: list\n",
    "        list file containing vision_recipes data.\n",
    "    burnup: int\n",
    "        burnup\n",
    "\n",
    "    Returns\n",
    "    -------\n",
    "    data_dict: dictionary\n",
    "        dictionary with key: isotope, and value: composition.\n",
    "    \"\"\"\n",
    "    data_dict = {}\n",
    "    for i in range(len(in_list)):\n",
    "        if i > 1:\n",
    "            if burnup == 33:\n",
    "                data_dict.update({nn.id(in_list[i][0]):\n",
    "                                  float(in_list[i][2])})\n",
    "            elif burnup == 51:\n",
    "                data_dict.update({nn.id(in_list[i][0]):\n",
    "                                  float(in_list[i][4])})\n",
    "            else:\n",
    "                data_dict.update({nn.id(in_list[i][0]):\n",
    "                                  float(in_list[i][6])})\n",
    "    return data_dict\n",
    "\n",
    "\n",
    "fresh = get_composition_fresh(recipes, 51)\n",
    "spent = get_composition_spent(recipes, 51)\n",
    "print('Spent Fuel Composition:')\n",
    "print('ISOTOPE:   Massfrac')\n",
    "for k in list(spent.keys())[:10]:\n",
    "    print(k, ': ', spent[k])\n",
    "print('.', '.', '.', sep='\\n')"
   ]
  },
  {
   "cell_type": "markdown",
   "metadata": {},
   "source": [
    "__Render recipe template with recipe data__\n",
    "\n",
    "Uses `jinja2` to render recipe data stored in a dictionary to `recipe_template` and `pyne` to convert isotope name for _CYCLUS_. Saves rendered object file to an xml file for use with _CYCLUS_."
   ]
  },
  {
   "cell_type": "code",
   "execution_count": 5,
   "metadata": {},
   "outputs": [],
   "source": [
    "def write_recipes(fresh_dict, spent_dict, in_template, burnup):\n",
    "    \"\"\" Renders jinja template using fresh and spent fuel composition and\n",
    "    outputs an xml file containing recipe data\n",
    "\n",
    "    Parameters\n",
    "    ---------\n",
    "    fresh_dict: dictionary\n",
    "        dictionary with key=isotope, and value=composition for fresh UOX\n",
    "    spent_dict: dictionary\n",
    "        dictionary with key=isotope, and value=composition for spent fuel\n",
    "    in_template: jinja template object\n",
    "        jinja template object to be rendered.\n",
    "    burnup: int\n",
    "        amount of burnup\n",
    "\n",
    "    Returns\n",
    "    -------\n",
    "    null\n",
    "        generates reactor files for cyclus.\n",
    "    \"\"\"\n",
    "    rendered = in_template.render(fresh=fresh_dict,\n",
    "                                  spent=spent_dict)\n",
    "    with open('cyclus/input/US/recipes/uox_' + str(burnup) +\n",
    "              '.xml', 'w') as output:\n",
    "        output.write(rendered)\n",
    "\n",
    "\n",
    "write_recipes(fresh, spent, recipe_template, 51)"
   ]
  },
  {
   "cell_type": "markdown",
   "metadata": {},
   "source": [
    "[uox_51.xml](cyclus/input/US/recipes/uox_51.xml) file shows the rendered result. "
   ]
  },
  {
   "cell_type": "markdown",
   "metadata": {},
   "source": [
    "__recipe template__\n",
    "\n",
    "`jinja2` allows iteration over iterable objects such as lists, sets, and dictionaries. This allows end-users to produce rendered output files that vary in length depending on the data that it has been rendered with. An example is shown below.\n",
    "\n",
    "Recipe template file:\n",
    "\n",
    "```\n",
    "    <recipes>\n",
    "      <recipe>\n",
    "        <name>fresh_uox</name>\n",
    "        <basis>atom</basis>\n",
    "        <nuclide>\n",
    "          <id>922350000</id>\n",
    "          <comp>4.5</comp>\n",
    "        </nuclide>\n",
    "        <nuclide>\n",
    "          <id>922380000</id>\n",
    "          <comp>95.5</comp>\n",
    "        </nuclide>\n",
    "      </recipe>\n",
    "      <recipe>\n",
    "        <name>spent_uox</name>\n",
    "        <basis>atom</basis>\n",
    "        {% for key, value in vision.items() -%}\n",
    "        <nuclide>  <id>{{ key }}</id>  <comp>{{ value }}</comp>  </nuclide>\n",
    "        {% endfor -%}\n",
    "      </recipe>\n",
    "    </recipes>\n",
    "```\n",
    "\n",
    "The template is a template for an xml file that follows the _CYCLUS_ xml schema. `jinja2` recognizes the for-loop in the following lines \n",
    "```\n",
    "    {% for key, value in vision.items() -%}`\n",
    "    <nuclide>  <id>{{ key }}</id>  <comp>{{ value }}</comp>  </nuclide>\n",
    "    {% endfor -%}\n",
    "```\n",
    "and iterates over the composition dictionary to render the isotope and its composition.\n",
    "\n",
    "[uox_51.xml](cyclus/input/US/recipes/uox_51.xml) file shows the rendered result. \n",
    "\n",
    "## Obtaining Deployment Data\n",
    "\n",
    "Reactors specified in [US fleetcomp](import_data/fleetcomp/US_Fleet.txt) spreadsheet, need to be properly imported and deployed at the correct timesteps for a successful simulation. The spreadsheet file contains reactor informations such as name, deployment date, end date, extended end date, and  power generated. These information are useful for an accurate _CYCLUS_ simulation. \n",
    "\n",
    "Obtaining information regarding reactors for _CYCLUS_ is also performed using a set of python functions. The same generic steps are repeated for this demonstration: importing data stored in a delimited text file, and rendering the imported data to a template file for _CYCLUS_\n",
    "\n",
    "### Demonstration\n",
    "__Read fleetcomp reactor data__\n",
    "\n",
    "The `import_csv` function is also used for this application and will be used for any other functions that requires data stored in a spreadsheet file to be imported."
   ]
  },
  {
   "cell_type": "code",
   "execution_count": 6,
   "metadata": {},
   "outputs": [
    {
     "name": "stdout",
     "output_type": "stream",
     "text": [
      "['Haddam Neck', '1635.00', '587', '560', 'BWR', '120', '348', '10440', '96880', '12', '1', '1967', '12', '4', '1996', '0', '0', '0', '0', '0', '0', '540', '83', '1998', '3', '16.4', '16.4', '50', '1900', '16.4', '16.4', '50', '1968', '17.03', '17.03', '52', '1973', '20.5', '20.5', '54', '1978', '23.44', '23.44', '54', '1983', '23.44', '23.44', '63', '1988', '30.3', '30.3', '70', '1993', '34.58', '34.58', '78', '1998', '38.76', '38.76', '87', '2003', '43.02', '43.02', '91', '2008', '44.72', '44.72', '91', '2013']\n",
      "['Oyster Creek', '1930.00', '641', '619', 'BWR', '144', '472', '14160', '92036', '12', '1', '1969', '4', '9', '2009', '0', '0', '0', '0', '0', '0', '540', '83', '1998', '3', '16.4', '16.4', '50', '1900', '16.4', '16.4', '50', '1968', '17.03', '17.03', '52', '1973', '20.5', '20.5', '54', '1978', '23.44', '23.44', '54', '1983', '23.44', '23.44', '63', '1988', '30.3', '30.3', '70', '1993', '34.58', '34.58', '78', '1998', '38.76', '38.76', '87', '2003', '43.02', '43.02', '91', '2008', '44.72', '44.72', '91', '2013']\n",
      ".\n",
      ".\n",
      ".\n"
     ]
    }
   ],
   "source": [
    "fleetcomp = import_csv('import_data/fleetcomp/US_Fleet.txt', '\\t')\n",
    "\n",
    "print(*fleetcomp[:2], sep='\\n')\n",
    "print('.', '.', '.', sep='\\n')"
   ]
  },
  {
   "cell_type": "markdown",
   "metadata": {},
   "source": [
    "__Load template for _CYCLUS input file__\n",
    "\n",
    "An xml-template that complies with _CYCLUS_ xml schema for _CYCAMORE::REACTORS_ archetype is used for rendering."
   ]
  },
  {
   "cell_type": "code",
   "execution_count": 7,
   "metadata": {},
   "outputs": [],
   "source": [
    "reactor_template = load_template('templates/reactors_template.xml')"
   ]
  },
  {
   "cell_type": "markdown",
   "metadata": {},
   "source": [
    "__Select and render useful reactor information__\n",
    "\n",
    "In this step, the following raw information is obtained from the fleetcomp text file: reactor name, type, number of batches, core mass, lifetime, and capacity. Other information, such as number of assemblies, assemblies per batch, and mass of assembly is derived using reactor type and mass of core. For these derived variables, a typical value for reactors is quoted from the book, _Book Name Here_.\n",
    "\n",
    "\n",
    "The function loops over each row (reactor) and checks the type of reactor. Then, it obtains all the raw and derived variables necessary and renders the information to the template.\n",
    "\n",
    "The result of this function is 112 xml files with each xml file containing data for a reactor in the United States."
   ]
  },
  {
   "cell_type": "code",
   "execution_count": 8,
   "metadata": {},
   "outputs": [],
   "source": [
    "def write_reactors_xml(in_list, in_template):\n",
    "    \"\"\" Renders jinja template using data from in_list and\n",
    "    outputs an xml file for a single reactor.\n",
    "\n",
    "    Parameters\n",
    "    ---------\n",
    "    in_list: list\n",
    "        list file containing fleetcomp data.\n",
    "    in_template: jinja template object\n",
    "        jinja template object to be rendered.\n",
    "\n",
    "    Returns\n",
    "    -------\n",
    "    null\n",
    "        generates reactor files for cyclus.\n",
    "    \"\"\"\n",
    "    for col, item in enumerate(in_list):\n",
    "        reactor_type = in_list[col][6]\n",
    "        batch = int(in_list[col][24])\n",
    "        assem_per_batch = 0\n",
    "        assem_no = 0\n",
    "        assem_size = 0\n",
    "        if reactor_type == 'BWR':\n",
    "            assem_no = 732\n",
    "            assem_per_batch = assem_no / batch\n",
    "            assem_size = float(in_list[col][8]) / assem_no\n",
    "        else:\n",
    "            assem_no = 240\n",
    "            assem_per_batch = int(assem_no / batch)\n",
    "            assem_size = float(in_list[col][8]) / assem_no\n",
    "        rendered = in_template.render(name=in_list[col][0].replace(' ', '_'),\n",
    "                                      lifetime=in_list[col][6],\n",
    "                                      assem_size=assem_size,\n",
    "                                      n_assem_core=assem_no,\n",
    "                                      n_assem_batch=assem_per_batch,\n",
    "                                      power_cap=in_list[col][2])\n",
    "        with open('cyclus/input/US/reactors/' +\n",
    "                  in_list[col][0].replace(' ', '_') +\n",
    "                  '.xml', 'w') as output:\n",
    "            output.write(rendered)\n",
    "\n",
    "\n",
    "write_reactors_xml(fleetcomp, reactor_template)"
   ]
  },
  {
   "cell_type": "markdown",
   "metadata": {},
   "source": [
    "[reactors](cyclus/input/US/reactors) folder contains xml files for all the reactors that will be deployed in the _CYCLUS_ simulation.\n",
    "\n",
    "## Writing Deployment\n",
    "\n",
    "Since the reactor information were obtained and saved to files, they need to be properly deployed at the appropriate timestep during the simulation. To do so, build time needs to be calculated. This is done by obtaining the difference between the start date of the simulation and the reactor start date. Since _CYCLUS_ default timestep is a month, the difference is also calculated in months.\n",
    "\n",
    "### Demonstration \n",
    "__Read fleetcomp reactor data__\n",
    "\n",
    "The `import_csv` function is also used for this application and will be used for any other functions that requires data stored in a spreadsheet file to be imported."
   ]
  },
  {
   "cell_type": "code",
   "execution_count": 9,
   "metadata": {},
   "outputs": [],
   "source": [
    "fleetcomp = import_csv('import_data/fleetcomp/US_Fleet.txt', '\\t')"
   ]
  },
  {
   "cell_type": "markdown",
   "metadata": {},
   "source": [
    "__Calculate build times for reactors__\n",
    "\n",
    "The build time for reactors is obtained by calculating the difference between the reactor start date and the simulation start date in months. This needs to be performed for all reactors that were obtained from the previous step. This was performed using three functions: `deploy_reactors`, `get_build_time` and `write_deployment`. \n",
    "\n",
    "The `deploy_reactors` function stores the path of all the reactors files produced in the previous step. It also imports the `fleetcomp` spreadsheet file, which contains reactor information, and passes these two variables into `get_build_time` function which calculates the difference between the simulation start date (01/01/1965), and the reactor start date. The difference in days were converted to months by calculating the average number of days in a month throughout a year. Then, the results of the calculations are stored in a dictionary with key as reactor name and value as difference in months. Finally, this dictionary and the templates are passed onto `write_deployment` function, which renders the data stored in the dictionary to the `jinja2` template objects."
   ]
  },
  {
   "cell_type": "code",
   "execution_count": 10,
   "metadata": {
    "scrolled": true
   },
   "outputs": [],
   "source": [
    "def deploy_reactors(in_csv, deployinst_template, inclusions_template, path):\n",
    "    \"\"\" Generates xml files that specifies the reactors that will be included\n",
    "    in a cyclus simulation.\n",
    "    Parameters\n",
    "    ---------\n",
    "    in_csv: str\n",
    "        csv file name.\n",
    "    deployinst_template: jinja template object\n",
    "        jinja template object to be rendered with deployinst.\n",
    "    inclusions_template: jinja template object\n",
    "        jinja template object to be rendered with reactor inclusions.\n",
    "    path: str\n",
    "        path to reactors folder\n",
    "    Returns\n",
    "    -------\n",
    "    null\n",
    "        generates single xml file that includes reactors specified in\n",
    "        the dictionary.\n",
    "    \"\"\"\n",
    "    lists = []\n",
    "    if path[-1] != '/':\n",
    "        path += '/'\n",
    "    for files in os.listdir(path):\n",
    "        lists.append(path + files)\n",
    "    fleet_list = import_csv(in_csv, '\\t')\n",
    "    buildtime_dict = get_build_time(fleet_list, lists)\n",
    "    deployinst_temp = load_template(deployinst_template)\n",
    "    inclusions_temp = load_template(inclusions_template)\n",
    "    write_deployment(buildtime_dict, deployinst_temp, inclusions_temp)\n",
    "\n",
    "\n",
    "def get_build_time(in_list, path_list):\n",
    "    \"\"\" Returns a dictionary of reactor name and build_time (in months)\n",
    "    using the fleetcomp list for reactors specified in *args.\n",
    "    Parameters\n",
    "    ---------\n",
    "    in_list: list\n",
    "        list file containing fleetcomp data.\n",
    "    path_list: str\n",
    "        path and name of reactors that will be added to cyclus simulation.\n",
    "    Returns\n",
    "    -------\n",
    "    data_dict: dictionary\n",
    "        dictionary with key: reactor name, and value: buildtime.\n",
    "    \"\"\"\n",
    "    data_dict = {}\n",
    "    for row, item in enumerate(in_list):\n",
    "        start_date = [in_list[row][11], in_list[row][9], in_list[row][10]]\n",
    "        month_diff = int((int(start_date[0]) - 1965) * 12 +\n",
    "                         int(start_date[1]) +\n",
    "                         int(start_date[2]) / (365.0 / 12))\n",
    "        for index, reactor in enumerate(path_list):\n",
    "            fleet_name = in_list[row][0].replace(' ', '_')\n",
    "            file_name = (reactor.replace(\n",
    "                os.path.dirname(path_list[index]), '')).replace('/', '')\n",
    "            if (fleet_name + '.xml' == file_name):\n",
    "                data_dict.update({fleet_name: month_diff})\n",
    "\n",
    "    return data_dict\n",
    "\n",
    "\n",
    "def write_deployment(in_dict, deployinst_template, inclusions_template):\n",
    "    \"\"\" Renders jinja template using dictionary of reactor name and buildtime\n",
    "    and outputs an xml file that uses xinclude to include the reactors located\n",
    "    in cyclus_input/reactors.\n",
    "\n",
    "    Parameters\n",
    "    ---------\n",
    "    in_dict: dictionary\n",
    "        dictionary with key: reactor name, and value: buildtime.\n",
    "    deployinst_template: jinja template object\n",
    "        jinja template object to be rendered with deployinst.\n",
    "    inclusions_template: jinja template object\n",
    "        jinja template object to be rendered with reactor inclusions.\n",
    "\n",
    "    Returns\n",
    "    -------\n",
    "    null\n",
    "        generates single xml file that includes reactors specified in\n",
    "        the dictionary.\n",
    "    \"\"\"\n",
    "    rendered_deployinst = deployinst_template.render(reactors=in_dict)\n",
    "    rendered_inclusions = inclusions_template.render(reactors=in_dict)\n",
    "    with open('cyclus/input/US/buildtimes/deployinst.xml', 'w') as output1:\n",
    "        output1.write(rendered_deployinst)\n",
    "    with open('cyclus/input/US/buildtimes/inclusions.xml', 'w') as output2:\n",
    "        output2.write(rendered_inclusions)\n",
    "\n",
    "\n",
    "deploy_reactors('import_data/fleetcomp/US_Fleet.txt',\n",
    "                'templates/US/deployinst_template.xml',\n",
    "                'templates/inclusions_template.xml',\n",
    "                'cyclus/input/US/reactors/')"
   ]
  },
  {
   "cell_type": "markdown",
   "metadata": {},
   "source": [
    "[deployinst.xml](cyclus/input/US/buildtimes/deployinst.xml) and [inclusions.xml](cyclus/input/US/buildtimes/inclusions.xml) show the rendered result. \n",
    "\n",
    "`deployinst.xml` contains configurations for the _CYCAMORE::DeployInst_ archetype for the reactors in the simulation and `inclusions.xml` contains xml inclusions so that _CYCLUS_ can find and include the reactor files produced during __Obtaining Deployment Data__ step."
   ]
  },
  {
   "cell_type": "markdown",
   "metadata": {},
   "source": [
    "## XML inclusion and  Setting XML base for final input file\n",
    "\n",
    "It is important to make sure that an xml base has been specified when xml inclusions through `XInclude` has been used. `XInclude` is an easy way to include xml files within other xml files. This introduces modularity to _CYCLUS_ input files and simulations. \n",
    "\n",
    "__XInclude basics__\n",
    "\n",
    "In order to use `XInclude` simply add the `XInclude` namespace to the root element of the xml file that needs to include another xml file.\n",
    "\n",
    "> xmlns:xi=\"http://www.w3.org/2001/XInclude\"\n",
    "\n",
    "Then, reference the xml file that needs to be added to the base xml file using an `href` tag under the `XInclude` namespace.\n",
    "\n",
    "> `<xi:include href=\"link_to_xml_file_to_be_added.xml\" />`\n",
    "\n",
    "\n",
    "__Example__\n",
    "\n",
    "Below is an example of xml inclusion from the final _CYCLUS_ [input file](cyclus/input/US.xml) (click to open the full file).\n",
    "```\n",
    "<simulation xml:base=\"/home/gyutae/cyclus/predicting-the-past/cyclus/input/\"\n",
    "  xmlns:xi=\"http://www.w3.org/2001/XInclude\">\n",
    "  <control>\n",
    "    <duration>1020</duration>\n",
    "    <startmonth>1</startmonth>\n",
    "    <startyear>1965</startyear>\n",
    "  </control>\n",
    "  <archetypes>\n",
    "    <spec><lib>cycamore</lib> <name>Enrichment</name> </spec>\n",
    "    <spec><lib>cycamore</lib> <name>Reactor</name>    </spec>\n",
    "    <spec><lib>cycamore</lib> <name>Sink</name>       </spec>\n",
    "    <spec><lib>cycamore</lib> <name>Source</name>     </spec>\n",
    "    <spec><lib>cycamore</lib> <name>Storage</name>    </spec>\n",
    "    <spec><lib>cycamore</lib> <name>DeployInst</name> </spec>\n",
    "    <spec><lib>cycamore</lib> <name>ManagerInst</name></spec>\n",
    "    <spec><lib>agents</lib>   <name>NullRegion</name> </spec>\n",
    "  </archetypes>\n",
    "  <xi:include href=\"US/buildtimes/inclusions.xml#xpointer(/inclusions/child::*)\"/>\n",
    ".\n",
    ".\n",
    ".\n",
    "```\n",
    "As shown above, `XInclude` namespace has been added to the root element: `simulation`. The xml file to be added (inclusions.xml) is declared under the namespace using `xi:include` with the relative link `US/buildtimes/inclusions.xml#xpointer(/inclusions/child::*)`.\n",
    "\n",
    "__Rationale for setting xml base__\n",
    "\n",
    "One issue that arises with the use of relative path to reference an external entity in XInclude, is that the xml parser does not know the base path of which the xml file referenced using the relative path should be based off. Thus, parsing the xml from different directory yields different results and often produces unable-to-find-external-entity errors. Setting an xml base allows the parser to correctly find the referenced files.\n",
    "\n",
    "__Setting an xml base__\n",
    "\n",
    "Setting an xml base is done by finding the absolute path of the _CYCLUS_ input file, and using `jinja2` to render the absolute path using an input file template. "
   ]
  },
  {
   "cell_type": "code",
   "execution_count": 11,
   "metadata": {},
   "outputs": [],
   "source": [
    "def set_xml_base(cyclus_template, path, output_name):\n",
    "    \"\"\" Sets xml:base attribute for cyclus input\n",
    "\n",
    "    Parameters\n",
    "    ---------\n",
    "    cyclus_template: str\n",
    "        path and name to cyclus input template\n",
    "    path: str\n",
    "        relative path to cyclus input file\n",
    "    output_name: str\n",
    "        name of the output file\n",
    "\n",
    "    Returns\n",
    "    -------\n",
    "    null\n",
    "        generates single xml file that includes reactors specified in\n",
    "        the dictionary.\n",
    "    \"\"\"\n",
    "    path = os.path.abspath(path) + '/'\n",
    "    cyclus_input = load_template(cyclus_template).render(base_dir=path)\n",
    "    with open(path + output_name + '.xml', 'w') as output1:\n",
    "        output1.write(cyclus_input)\n",
    "\n",
    "\n",
    "set_xml_base('templates/US/US_template.xml', 'cyclus/input/', 'US')"
   ]
  },
  {
   "cell_type": "markdown",
   "metadata": {},
   "source": [
    "[US.xml](cyclus/input/US.xml) shows the final _CYCLUS_ input file with all the xml inclusions and xml base.\n",
    "\n",
    "__Running _CYCLUS_ Simulation__\n",
    "\n",
    "Using the final input file above, a _CYCLUS_ simulation was run using the following command on bash:"
   ]
  },
  {
   "cell_type": "code",
   "execution_count": 12,
   "metadata": {},
   "outputs": [
    {
     "name": "stdout",
     "output_type": "stream",
     "text": [
      "              :                                                               \n",
      "          .CL:CC CC             _Q     _Q  _Q_Q    _Q    _Q              _Q   \n",
      "        CC;CCCCCCCC:C;         /_\\)   /_\\)/_/\\\\)  /_\\)  /_\\)            /_\\)  \n",
      "        CCCCCCCCCCCCCl       __O|/O___O|/O_OO|/O__O|/O__O|/O____________O|/O__\n",
      "     CCCCCCf     iCCCLCC     /////////////////////////////////////////////////\n",
      "     iCCCt  ;;;;;.  CCCC                                                      \n",
      "    CCCC  ;;;;;;;;;. CClL.                          c                         \n",
      "   CCCC ,;;       ;;: CCCC  ;                   : CCCCi                       \n",
      "    CCC ;;         ;;  CC   ;;:                CCC`   `C;                     \n",
      "  lCCC ;;              CCCC  ;;;:             :CC .;;. C;   ;    :   ;  :;;   \n",
      "  CCCC ;.              CCCC    ;;;,           CC ;    ; Ci  ;    :   ;  :  ;  \n",
      "   iCC :;               CC       ;;;,        ;C ;       CC  ;    :   ; .      \n",
      "  CCCi ;;               CCC        ;;;.      .C ;       tf  ;    :   ;  ;.    \n",
      "  CCC  ;;               CCC          ;;;;;;; fC :       lC  ;    :   ;    ;:  \n",
      "   iCf ;;               CC         :;;:      tC ;       CC  ;    :   ;     ;  \n",
      "  fCCC :;              LCCf      ;;;:         LC :.  ,: C   ;    ;   ; ;   ;  \n",
      "  CCCC  ;;             CCCC    ;;;:           CCi `;;` CC.  ;;;; :;.;.  ; ,;  \n",
      "    CCl ;;             CC    ;;;;              CCC    CCL                     \n",
      "   tCCC  ;;        ;; CCCL  ;;;                  tCCCCC.                      \n",
      "    CCCC  ;;     :;; CCCCf  ;                     ,L                          \n",
      "     lCCC   ;;;;;;  CCCL                                                      \n",
      "     CCCCCC  :;;  fCCCCC                                                      \n",
      "      . CCCC     CCCC .                                                       \n",
      "       .CCCCCCCCCCCCCi                                                        \n",
      "          iCCCCCLCf                                                           \n",
      "           .  C. ,                                                            \n",
      "              :                                                               \n",
      "\n",
      "Status: Cyclus run successful!\n",
      "Output location: cyclus/US.sqlite\n",
      "Simulation ID: 81b06cfe-d162-4243-9542-062fa3204da7\n"
     ]
    }
   ],
   "source": [
    "! rm cyclus/US.sqlite\n",
    "! cyclus --input-file cyclus/input/US.xml -o cyclus/US.sqlite --warn-limit 0"
   ]
  },
  {
   "cell_type": "markdown",
   "metadata": {},
   "source": [
    "The first command removes the previous output file if it exists. This is to prevent the final output file from having the results of the previous simulation, which is unwanted for this simulation.\n",
    "\n",
    "The output file is named [US.sqlite](cyclus/US.sqlite). The results of the simulation are stored as an SQLite file. Thus, a set of functions were written in python to make sqlite queries. With python, the results of the queries can be processed to perform a more meaningful analysis.\n",
    "\n",
    "## Analysis and Results\n",
    "\n",
    "The results for the analysis performed above are shown below. Unfortunately, the only data that is available for comparison is the power generated over time. NEI has also published this on their website (US Nuclear Generating Statistics). The data published by the NEI was saved in a spreadsheet so that it can be plotted for comparison. Since the data contains power generated by US nuclear power plants from 1971 to 2016, a new plot was generated to only show the power generated between that period in Figure 10. The plot of power generated produced from the data published by the NEI is shown in Figure 11.\n",
    "\n",
    "__Import Necessary Libraries__"
   ]
  },
  {
   "cell_type": "code",
   "execution_count": 13,
   "metadata": {},
   "outputs": [],
   "source": [
    "import collections\n",
    "import numpy as np\n",
    "import matplotlib.pyplot as plt\n",
    "import sqlite3 as lite\n",
    "import sys\n",
    "from matplotlib import cm\n",
    "from pyne import nucname\n",
    "from IPython.display import Image\n",
    "\n",
    "sys.path.append('analysis/')\n",
    "import analysis as an"
   ]
  },
  {
   "cell_type": "markdown",
   "metadata": {},
   "source": [
    "__Connect to SQLite file__\n",
    "\n",
    "To make sqlite queries in _python_, a cursor, which acts like a pointer to the sqlite file is required. The use of `row_factory` class allows columns in the sqlite table to be indexed by both integer values and by their case-insensitive name. The use of row_factory allows easy debugging, and prevents confusion that may arise from the change of sqlite queries."
   ]
  },
  {
   "cell_type": "code",
   "execution_count": 14,
   "metadata": {},
   "outputs": [],
   "source": [
    "def get_cursor(file_name):\n",
    "    \"\"\" Connects and returns a cursor to an sqlite output file\n",
    "\n",
    "    Parameters\n",
    "    ----------\n",
    "    file_name: str\n",
    "        name of the sqlite file\n",
    "\n",
    "    Returns\n",
    "    -------\n",
    "    sqlite cursor\n",
    "    \"\"\"\n",
    "    con = lite.connect(file_name)\n",
    "    con.row_factory = lite.Row\n",
    "    return con.cursor()\n",
    "\n",
    "\n",
    "cursor = get_cursor('cyclus/US.sqlite')"
   ]
  },
  {
   "cell_type": "markdown",
   "metadata": {},
   "source": [
    "__Get simulation start time, duration, and timestep__\n",
    "\n",
    "Since all analysis results will be plotted for a visual representation, simulation start time, and timestep are obtained by making an sqlite query."
   ]
  },
  {
   "cell_type": "code",
   "execution_count": 15,
   "metadata": {},
   "outputs": [
    {
     "name": "stdout",
     "output_type": "stream",
     "text": [
      "1965 1 1020 [  0.00000000e+00   1.00000000e+00   2.00000000e+00 ...,   1.01700000e+03\n",
      "   1.01800000e+03   1.01900000e+03]\n"
     ]
    }
   ],
   "source": [
    "def get_timesteps(cur):\n",
    "    \"\"\" Returns simulation start year, month, duration and\n",
    "    timesteps (in numpy linspace).\n",
    "\n",
    "    Parameters\n",
    "    ----------\n",
    "    cur: sqlite cursor\n",
    "        sqlite cursor\n",
    "\n",
    "    Returns\n",
    "    -------\n",
    "    init_year: int\n",
    "        start year of simulation\n",
    "    init_month: int\n",
    "        start month of simulation\n",
    "    duration: int\n",
    "        duration of simulation\n",
    "    timestep: list\n",
    "        linspace up to duration\n",
    "    \"\"\"\n",
    "    info = cur.execute('SELECT initialyear, initialmonth, '\n",
    "                       'duration FROM info').fetchone()\n",
    "    init_year = info['initialyear']\n",
    "    init_month = info['initialmonth']\n",
    "    duration = info['duration']\n",
    "    timestep = np.linspace(0, duration - 1, num=duration)\n",
    "\n",
    "    return init_year, init_month, duration, timestep\n",
    "\n",
    "\n",
    "ini_yr, ini_month, dur, timestep = get_timesteps(cursor)\n",
    "print(ini_yr, ini_month, dur, timestep)"
   ]
  },
  {
   "cell_type": "markdown",
   "metadata": {},
   "source": [
    "__Nat_u consumption vs Time__\n",
    "\n",
    "`nat_u_timeseries` function returns a timeseries list of natural uranium sent into the enrichment facility. Unfortunately, this does not represent the real amount of natural uranium used as _CYCAMORE::enrichment_ facility does not enrich fuel on a need-basis. If _CYCAMORE::enrichment_ gets updated to enrich fuel on a need-basis, this analysis would be more accurate.\n",
    "\n",
    "The `nat_u_timeseries` function makes an sqlite query on the `timeseriesenrichmentfeed` table and passes on the results to `get_timeseries_cum` function. The `get_timeseries_cum` function calculates the chronological cumulative sum of the amount of transactions that has happened over a period of time. The resulting timeseries list is often used to plot the change in certain commodities over time."
   ]
  },
  {
   "cell_type": "code",
   "execution_count": 16,
   "metadata": {},
   "outputs": [],
   "source": [
    "def nat_u_timeseries(cur):\n",
    "    \"\"\" Finds natural uranium supply from source\n",
    "        Since currently the source supplies all its capacity,\n",
    "        the timeseriesenrichmentfeed is used.\n",
    "\n",
    "    Parameters\n",
    "    ----------\n",
    "    cur: sqlite cursor\n",
    "        sqlite cursor\n",
    "\n",
    "    Returns\n",
    "    -------\n",
    "    get_timeseries: function\n",
    "        calls a function that returns timeseries list of natural U\n",
    "        demand from enrichment [MTHM]\n",
    "    \"\"\"\n",
    "    init_year, init_month, duration, timestep = get_timesteps(cur)\n",
    "    # Get Nat U feed to enrichment from timeseriesenrichmentfeed\n",
    "    feed = cur.execute('SELECT time, sum(value) '\n",
    "                       'FROM timeseriesenrichmentfeed '\n",
    "                       'GROUP BY time').fetchall()\n",
    "\n",
    "    return get_timeseries_cum(feed, duration, True)\n",
    "\n",
    "\n",
    "def get_timeseries_cum(in_list, duration, kg_to_tons):\n",
    "    \"\"\" returns a timeseries list from in_list data.\n",
    "\n",
    "    Parameters\n",
    "    ----------\n",
    "    in_list: list\n",
    "        list of data to be created into timeseries\n",
    "        list[0] = time\n",
    "        list[1] = value, quantity\n",
    "    multiplyby: int\n",
    "        integer to multiply the value in the list by for\n",
    "        unit conversion from kilograms\n",
    "    kg_to_tons: bool\n",
    "        if True, list returned has units of tons\n",
    "        if False, list returned as units of kilograms\n",
    "\n",
    "    Returns\n",
    "    -------\n",
    "    timeseries of commodities in kg or tons\n",
    "    \"\"\"\n",
    "    value = 0\n",
    "    value_timeseries = []\n",
    "    array = np.array(in_list)\n",
    "    if len(in_list) > 0:\n",
    "        for i in range(0, duration):\n",
    "            value += sum(array[array[:, 0] == i][:, 1])\n",
    "            if kg_to_tons:\n",
    "                value_timeseries.append(value * 0.001)\n",
    "            else:\n",
    "                value_timeseries.append(value)\n",
    "    return value_timeseries\n",
    "\n",
    "\n",
    "consumption = {'Nat_u_consumption': nat_u_timeseries(cursor)}"
   ]
  },
  {
   "cell_type": "markdown",
   "metadata": {},
   "source": [
    "The resulting timeseries list is passed onto `stacked_bar_chart` function for plotting."
   ]
  },
  {
   "cell_type": "code",
   "execution_count": 17,
   "metadata": {},
   "outputs": [
    {
     "name": "stderr",
     "output_type": "stream",
     "text": [
      "/home/gyutae/anaconda3/lib/python3.6/site-packages/matplotlib/__init__.py:1710: MatplotlibDeprecationWarning: The *left* kwarg to `bar` is deprecated use *x* instead. Support for *left* will be removed in Matplotlib 3.0\n",
      "  return func(ax, *args, **kwargs)\n"
     ]
    },
    {
     "data": {
      "image/png": "[encoded data removed]",
      "text/plain": [
       "<IPython.core.display.Image object>"
      ]
     },
     "execution_count": 17,
     "metadata": {},
     "output_type": "execute_result"
    }
   ],
   "source": [
    "an.stacked_bar_chart(consumption, timestep,\n",
    "                     'Time [Yr]', 'Nat_u Consumed [MTHM]',\n",
    "                     'Nat_u consumed vs time',\n",
    "                     'analysis/results/US/Nat_u consumption',\n",
    "                     ini_yr)\n",
    "\n",
    "Image(filename='analysis/results/US/Nat_u consumption.png')"
   ]
  },
  {
   "cell_type": "markdown",
   "metadata": {},
   "source": [
    "As shown in the figure above, the mass of natural uranium consumed over the period of the simulation linearly increases. This indicates that the enrichment facility enriches fuel at a contant rate throughout the simulation, regardless of the demand for fresh fuel. This will hopefully be improved in the future so that the enrichment facilities also take the demand for fresh fuel into account.\n",
    "\n",
    "__Amount of fuel into reactors vs. time__\n",
    "\n",
    "A more accurate analysis for fuel consumption would be the amount of fuel sent to reactors over time. While the enrichment facility constantly produces fresh fuel, the total amount of fuel sent to reactors change based on the number and size of the reactors in operation at each timestep. This is performed with the `fuel_into_reactors` function, which makes an sqlite query to the `resources`, `transactions`, and `agententry` table to obtain the amount of each fuel sent to reactors throughout the simulation. The resulting data is sent to `get_timeseries_cum` function to obtain the timeseries list of different fuels sent to reactors throughout the simulation."
   ]
  },
  {
   "cell_type": "code",
   "execution_count": 18,
   "metadata": {},
   "outputs": [
    {
     "name": "stderr",
     "output_type": "stream",
     "text": [
      "/home/gyutae/anaconda3/lib/python3.6/site-packages/matplotlib/__init__.py:1710: MatplotlibDeprecationWarning: The *left* kwarg to `bar` is deprecated use *x* instead. Support for *left* will be removed in Matplotlib 3.0\n",
      "  return func(ax, *args, **kwargs)\n"
     ]
    },
    {
     "data": {
      "image/png": "[encoded data removed]",
      "text/plain": [
       "<IPython.core.display.Image object>"
      ]
     },
     "execution_count": 18,
     "metadata": {},
     "output_type": "execute_result"
    }
   ],
   "source": [
    "def fuel_into_reactors(cur):\n",
    "    \"\"\" Finds timeseries of mass of fuel received by reactors\n",
    "\n",
    "    Parameters\n",
    "    ----------\n",
    "    cur: sqlite cursor\n",
    "        sqlite cursor\n",
    "\n",
    "    Returns\n",
    "    -------\n",
    "    timeseries list of fuel into reactors [tons]\n",
    "    \"\"\"\n",
    "    init_year, init_month, duration, timestep = get_timesteps(cur)\n",
    "    fuel = cur.execute('SELECT time, sum(quantity) FROM transactions '\n",
    "                       'INNER JOIN resources ON '\n",
    "                       'resources.resourceid = transactions.resourceid '\n",
    "                       'INNER JOIN agententry ON '\n",
    "                       'transactions.receiverid = agententry.agentid '\n",
    "                       'WHERE spec LIKE \"%Reactor%\" '\n",
    "                       'GROUP BY time').fetchall()\n",
    "\n",
    "    return get_timeseries_cum(fuel, duration, True)\n",
    "\n",
    "\n",
    "to_reactor = {'Fuel_to_reactor': fuel_into_reactors(cursor)}\n",
    "an.stacked_bar_chart(to_reactor, timestep,\n",
    "                     'Time [Yr]', 'Fuel into Reactors [MTHM]',\n",
    "                     'Fuel to Reactors over Time',\n",
    "                     'analysis/results/US/Fuel to Reactors over Time',\n",
    "                     ini_yr)\n",
    "\n",
    "Image(filename='analysis/results/US/Fuel to Reactors over Time.png')"
   ]
  },
  {
   "cell_type": "markdown",
   "metadata": {},
   "source": [
    "As shown in the figure above, the amount of fuel into reactors over time is not linear and changes with fuel demand by the reactors. This figure reflects the state of the reactor (whether it is operating or refueling), and the number of reactors. From the plot, it can be seen that the number of reactors greatly increased between 1980 and 2000.\n",
    "\n",
    "__Fuel utilization vs. time__\n",
    "\n",
    "Fuel utilization factor is the ratio of fuel spent to the amount of natural uranium consumed. While, fuel utilization factor is a value of interest, it is unfortunately, inaccurate at this moment because the enrichment facilities in _CYCLUS_ does not perform demand-driven fuel enrichment. Since the amount of natural uranium consumed is not accurate due to limitations with software, fuel utilization factor, which is a derived variable, will still be inaccurate. However, the functions used to calculate the fuel utilization factor over time will still be displayed for future usage. This is performed with `u_util_calc` function, which runs `nat_u_timeseries` function and `fuel_into_reactors` function to obtain the timeseries lists of natural uranium consumed and the amount of fuel consumed. Then, and element-wise division of the two lists were performed to obtain the fuel utilization factor."
   ]
  },
  {
   "cell_type": "code",
   "execution_count": 19,
   "metadata": {},
   "outputs": [
    {
     "name": "stdout",
     "output_type": "stream",
     "text": [
      "The Average Fuel Utilization Factor is: \n",
      "0.0963157542591\n"
     ]
    },
    {
     "name": "stderr",
     "output_type": "stream",
     "text": [
      "/home/gyutae/anaconda3/lib/python3.6/site-packages/matplotlib/__init__.py:1710: MatplotlibDeprecationWarning: The *left* kwarg to `bar` is deprecated use *x* instead. Support for *left* will be removed in Matplotlib 3.0\n",
      "  return func(ax, *args, **kwargs)\n"
     ]
    },
    {
     "data": {
      "image/png": "[encoded data removed]",
      "text/plain": [
       "<IPython.core.display.Image object>"
      ]
     },
     "execution_count": 19,
     "metadata": {},
     "output_type": "execute_result"
    }
   ],
   "source": [
    "def u_util_calc(cur):\n",
    "    \"\"\" Returns fuel utilization factor of fuel cycle\n",
    "\n",
    "    Parameters\n",
    "    ----------\n",
    "    cur: sqlite cursor\n",
    "        sqlite cursor\n",
    "\n",
    "    Returns\n",
    "    -------\n",
    "    u_util_timeseries: numpy array\n",
    "        Timeseries of Uranium utilization factor\n",
    "    Prints simulation average Uranium Utilization\n",
    "    \"\"\"\n",
    "    # timeseries of natural uranium\n",
    "    u_supply_timeseries = np.array(nat_u_timeseries(cur))\n",
    "\n",
    "    # timeseries of fuel into reactors\n",
    "    fuel_timeseries = np.array(fuel_into_reactors(cur))\n",
    "\n",
    "    # timeseries of Uranium utilization\n",
    "    u_util_timeseries = np.nan_to_num(fuel_timeseries / u_supply_timeseries)\n",
    "    print('The Average Fuel Utilization Factor is: ')\n",
    "    print(sum(u_util_timeseries) / len(u_util_timeseries))\n",
    "\n",
    "    return u_util_timeseries\n",
    "\n",
    "\n",
    "fuel_util = {'Fuel Utilization Factor': u_util_calc(cursor)}\n",
    "an.stacked_bar_chart(fuel_util, timestep,\n",
    "                     'Time [Yr]', 'Fuel utiliization',\n",
    "                     'Fuel utilization',\n",
    "                     'analysis/results/US/Fuel utilization', ini_yr)\n",
    "\n",
    "Image(filename='analysis/results/US/Fuel utilization.png')"
   ]
  },
  {
   "cell_type": "markdown",
   "metadata": {},
   "source": [
    "__Capacity vs. time__\n",
    "\n",
    "Total capacity over time is obtained using `get_power_dict` function and `capacity_calc` function. The `get_power_dict` function performs four sqlite queries to obtain the following: simulation start date, timesteps, institutions declared in _CYCLUS_, and reactors entry and exit timesteps. The results are sent to `capacity_calc` function, which calculates the timeseries value of the total capacity of the reactors in each institution."
   ]
  },
  {
   "cell_type": "code",
   "execution_count": 20,
   "metadata": {},
   "outputs": [
    {
     "name": "stdout",
     "output_type": "stream",
     "text": [
      "FuelCycle has no values\n"
     ]
    },
    {
     "name": "stderr",
     "output_type": "stream",
     "text": [
      "/home/gyutae/anaconda3/lib/python3.6/site-packages/matplotlib/__init__.py:1710: MatplotlibDeprecationWarning: The *left* kwarg to `bar` is deprecated use *x* instead. Support for *left* will be removed in Matplotlib 3.0\n",
      "  return func(ax, *args, **kwargs)\n"
     ]
    },
    {
     "data": {
      "image/png": "[encoded data removed]",
      "text/plain": [
       "<IPython.core.display.Image object>"
      ]
     },
     "execution_count": 20,
     "metadata": {},
     "output_type": "execute_result"
    }
   ],
   "source": [
    "def get_power_dict(cur):\n",
    "    \"\"\" Gets dictionary of power capacity by calling capacity_calc\n",
    "\n",
    "    Parameters\n",
    "    ----------\n",
    "    cur: sqlite cursor\n",
    "        sqlite cursor\n",
    "\n",
    "    Returns\n",
    "    ------\n",
    "    power_dict: dictionary\n",
    "        \"dictionary with key=government, and\n",
    "        value=timeseries list of installed capacity\"\n",
    "    \"\"\"\n",
    "    init_year, init_month, duration, timestep = get_timesteps(cur)\n",
    "    governments = get_inst(cur)\n",
    "\n",
    "    # get power cap values\n",
    "    entry = cur.execute('SELECT max(value), timeseriespower.agentid, '\n",
    "                        'parentid, entertime FROM agententry '\n",
    "                        'INNER JOIN timeseriespower '\n",
    "                        'ON agententry.agentid = timeseriespower.agentid '\n",
    "                        'GROUP BY timeseriespower.agentid').fetchall()\n",
    "\n",
    "    exit_step = cur.execute('SELECT max(value), timeseriespower.agentid, '\n",
    "                            'parentid, exittime FROM agentexit '\n",
    "                            'INNER JOIN timeseriespower '\n",
    "                            'ON agentexit.agentid = timeseriespower.agentid'\n",
    "                            ' INNER JOIN agententry '\n",
    "                            'ON agentexit.agentid = agententry.agentid '\n",
    "                            'GROUP BY timeseriespower.agentid').fetchall()\n",
    "\n",
    "    return capacity_calc(governments, timestep, entry, exit_step)\n",
    "\n",
    "\n",
    "def get_inst(cur):\n",
    "    \"\"\" Returns prototype and agentids of institutions\n",
    "\n",
    "    Parameters\n",
    "    ----------\n",
    "    cur: sqlite cursor\n",
    "        sqlite cursor\n",
    "\n",
    "    Returns\n",
    "    -------\n",
    "    sqlite query result (list of tuples)\n",
    "    \"\"\"\n",
    "    return cur.execute('SELECT prototype, agentid FROM agententry '\n",
    "                       'WHERE kind = \"Inst\"').fetchall()\n",
    "\n",
    "\n",
    "def capacity_calc(governments, timestep, entry, exit_step):\n",
    "    \"\"\"Adds and subtracts capacity over time for plotting\n",
    "\n",
    "    Parameters\n",
    "    ----------\n",
    "    governments: list\n",
    "        list of governments (countries)\n",
    "    timestep: np.linspace\n",
    "        list of timestep from 0 to simulation time\n",
    "    entry: list\n",
    "        power_cap, agentid, parentid, entertime\n",
    "        of all entered reactors\n",
    "    exit_step: list\n",
    "        power_cap, agentid, parenitd, exittime\n",
    "        of all decommissioned reactors\n",
    "\n",
    "    Returns\n",
    "    -------\n",
    "    power_dict: dictionary\n",
    "        \"dictionary with key=government, and\n",
    "        value=timeseries list capacity\"\n",
    "    \"\"\"\n",
    "    power_dict = collections.OrderedDict()\n",
    "    for gov in governments:\n",
    "        capacity = []\n",
    "        cap = 0\n",
    "        for t in timestep:\n",
    "            for enter in entry:\n",
    "                if (enter['entertime'] == t and\n",
    "                        enter['parentid'] == gov['agentid']):\n",
    "                    cap += enter['max(value)'] * 0.001\n",
    "            for dec in exit_step:\n",
    "                if (dec['exittime'] == t and\n",
    "                        dec['parentid'] == gov['agentid']):\n",
    "                    cap -= dec['max(value)'] * 0.001\n",
    "            capacity.append(cap)\n",
    "        power_dict[gov['prototype']] = np.asarray(capacity)\n",
    "\n",
    "    return power_dict\n",
    "\n",
    "\n",
    "capacity_dict = get_power_dict(cursor)\n",
    "\n",
    "an.stacked_bar_chart(capacity_dict, timestep,\n",
    "                     'Years', 'Net_Capacity [GWe]',\n",
    "                     'Net Capacity vs Time',\n",
    "                     'analysis/results/US/Capacity vs Time',\n",
    "                     ini_yr)\n",
    "\n",
    "Image(filename='analysis/results/US/Capacity vs Time.png')"
   ]
  },
  {
   "cell_type": "markdown",
   "metadata": {},
   "source": [
    "As shown in the figure above, the net capacity greatly increases between 1965 and 1990. The increase in capacity reflects the increase in the number of reactors in operation. Then, the capacity decreases gradually from around 1995. This trend is also shown in the figure of number of reactors over time below.\n",
    "\n",
    "__Number of reactors vs time__\n",
    "\n",
    "A very similar procedure is used to obtain the number of reactors over time. The same four queries made to calculate capacity over time were made to get the number of reactors over time. Then, this is passed to `reactor_deployments` functions, which uses a counter to keep track of the number of reactors operating over time. "
   ]
  },
  {
   "cell_type": "code",
   "execution_count": 21,
   "metadata": {},
   "outputs": [
    {
     "name": "stdout",
     "output_type": "stream",
     "text": [
      "FuelCycle has no values\n"
     ]
    },
    {
     "name": "stderr",
     "output_type": "stream",
     "text": [
      "/home/gyutae/anaconda3/lib/python3.6/site-packages/matplotlib/__init__.py:1710: MatplotlibDeprecationWarning: The *left* kwarg to `bar` is deprecated use *x* instead. Support for *left* will be removed in Matplotlib 3.0\n",
      "  return func(ax, *args, **kwargs)\n"
     ]
    },
    {
     "data": {
      "image/png": "[encoded data removed]",
      "text/plain": [
       "<IPython.core.display.Image object>"
      ]
     },
     "execution_count": 21,
     "metadata": {},
     "output_type": "execute_result"
    }
   ],
   "source": [
    "def get_deployment_dict(cur):\n",
    "    \"\"\" Gets dictionary of reactors deployed over time\n",
    "    by calling reactor_deployments\n",
    "\n",
    "    Parameters\n",
    "    ----------\n",
    "    cur: sqlite cursor\n",
    "        sqlite cursor\n",
    "\n",
    "    Returns\n",
    "    ------\n",
    "    num_dict: dictionary\n",
    "        \"dictionary with key=government, and\n",
    "        value=timeseries list of number of reactors\"\n",
    "    \"\"\"\n",
    "    init_year, init_month, duration, timestep = get_timesteps(cur)\n",
    "    governments = get_inst(cur)\n",
    "\n",
    "    # get power cap values\n",
    "    entry = cur.execute('SELECT max(value), timeseriespower.agentid, '\n",
    "                        'parentid, entertime FROM agententry '\n",
    "                        'INNER JOIN timeseriespower '\n",
    "                        'ON agententry.agentid = timeseriespower.agentid '\n",
    "                        'GROUP BY timeseriespower.agentid').fetchall()\n",
    "\n",
    "    exit_step = cur.execute('SELECT max(value), timeseriespower.agentid, '\n",
    "                            'parentid, exittime FROM agentexit '\n",
    "                            'INNER JOIN timeseriespower '\n",
    "                            'ON agentexit.agentid = timeseriespower.agentid'\n",
    "                            ' INNER JOIN agententry '\n",
    "                            'ON agentexit.agentid = agententry.agentid '\n",
    "                            'GROUP BY timeseriespower.agentid').fetchall()\n",
    "\n",
    "    return reactor_deployments(governments, timestep, entry, exit_step)\n",
    "\n",
    "\n",
    "def reactor_deployments(governments, timestep, entry, exit_step):\n",
    "    \"\"\"Adds and subtracts number of reactors deployed over time\n",
    "    for plotting\n",
    "\n",
    "    Parameters\n",
    "    ----------\n",
    "    governments: list\n",
    "        list of governments (countries)\n",
    "    timestep: np.linspace\n",
    "        list of timestep from 0 to simulation time\n",
    "    entry: list\n",
    "        power_cap, agentid, parentid, entertime\n",
    "        of all entered reactors\n",
    "\n",
    "    exit_step: list\n",
    "        power_cap, agentid, parenitd, exittime\n",
    "        of all decommissioned reactors\n",
    "\n",
    "    Returns\n",
    "    -------\n",
    "    deployment: dictionary\n",
    "        \"dictionary with key=government, and\n",
    "        value=timeseries number of reactors\"\n",
    "    \"\"\"\n",
    "    deployment = collections.OrderedDict()\n",
    "    for gov in governments:\n",
    "        num_reactors = []\n",
    "        count = 0\n",
    "        for t in timestep:\n",
    "            for enter in entry:\n",
    "                if (enter['entertime'] == t and\n",
    "                        enter['parentid'] == gov['agentid']):\n",
    "                    count += 1\n",
    "            for dec in exit_step:\n",
    "                if (dec['exittime'] == t and\n",
    "                        dec['parentid'] == gov['agentid']):\n",
    "                    count -= 1\n",
    "            num_reactors.append(count)\n",
    "        deployment[gov['prototype']] = np.asarray(num_reactors)\n",
    "\n",
    "    return deployment\n",
    "\n",
    "\n",
    "an.stacked_bar_chart(get_deployment_dict(cursor),\n",
    "                     timestep, 'Years',\n",
    "                     'Number of Reactors',\n",
    "                     'Number of Reactors vs Time',\n",
    "                     'analysis/results/US/Number of Reactors vs Time',\n",
    "                     ini_yr)\n",
    "\n",
    "Image(filename='analysis/results/US/Number of Reactors vs Time.png')"
   ]
  },
  {
   "cell_type": "markdown",
   "metadata": {},
   "source": [
    "__Power generated vs. time__\n",
    "\n",
    "The amount of power generated over time is can be calculated from capacity over time with a few assumptions. Power generated can be calculated from capacity with the using the following function.\n",
    "\n",
    "$$P(t)=C(t)\\times CF(t)\\times HRPYR$$\n",
    "\n",
    "where,\n",
    "\n",
    "$$P(t) = Power\\ generated\\ over\\ a\\ year\\ [GWh]$$\n",
    "$$C(t) = Capacity\\ over\\ time\\ [GWe]$$\n",
    "$$CF(t)= Capacity\\ factor$$\n",
    "$$HRPYR= Number\\ of\\ hours\\ in\\ a\\ year$$\n",
    "\n",
    "The following assumptions were used for the calculation above.\n",
    "\n",
    "1. Refueling time of all reactors is 1 month.\n",
    "2. Capacity factor is constant throughout the year, and equal for all reactors.\n",
    "3. Reactor generates its full power even during startup and shutdown.\n",
    "4. Capacity factor data is obtained from the Energy Information Administration (EIA), which has the average capacity factor for reactors in the United States over a year from 1971 to 2017. The capacity factor is assumed constant from 2016 to the end of the simulation and from 1965 to 1971.\n",
    "\n",
    "Capacity factor for each year is stored in a separate [spreadsheet file](analysis/published_data/US/capacity_factor_extrapolated.csv). A set of python functions were used to calculate the power generated over time."
   ]
  },
  {
   "cell_type": "code",
   "execution_count": 22,
   "metadata": {},
   "outputs": [
    {
     "name": "stdout",
     "output_type": "stream",
     "text": [
      "['Year', 'Capacity Factor']\n",
      "['1965', '48.2']\n",
      "['1966', '48.2']\n",
      "['1967', '48.2']\n",
      "['1968', '48.2']\n",
      "['1969', '48.2']\n",
      "['1970', '48.2']\n",
      "['1971', '48.2']\n",
      "['1972', '42.5']\n",
      "['1973', '53.5']\n",
      "['1974', '47.8']\n",
      "['1975', '55.9']\n",
      "['1976', '54.7']\n",
      "['1977', '63.3']\n",
      "['1978', '64.5']\n",
      "['1979', '58.4']\n",
      "['1980', '56.3']\n",
      "['1981', '58.2']\n",
      "['1982', '56.6']\n",
      "['1983', '54.4']\n",
      ".\n",
      ".\n",
      ".\n"
     ]
    }
   ],
   "source": [
    "hours_in_year = 24 * 365.25\n",
    "cf_data = import_csv('analysis/published_data/US/capacity_factor_extrapolated.csv',\n",
    "                     ',')\n",
    "print(*cf_data[:20], sep='\\n')\n",
    "print('.', '.', '.', sep='\\n')"
   ]
  },
  {
   "cell_type": "markdown",
   "metadata": {},
   "source": [
    "Assumption 4 can be seen from `cf_data`. The capacity factor is assumed to be constant at 48.2% from 1965 to 1971, and at 92.5% from 2017 to 2049. Power generated at each timestep is calculated by performing an element-wise multiplication of  the capacity factor data and the capacity. However, since capacity factor is stored for each year, Assumption 2 is used. A separate function is used to create a list that stores the capacity factor for each timestep of the simulation."
   ]
  },
  {
   "cell_type": "code",
   "execution_count": 23,
   "metadata": {},
   "outputs": [
    {
     "name": "stderr",
     "output_type": "stream",
     "text": [
      "/home/gyutae/anaconda3/lib/python3.6/site-packages/matplotlib/__init__.py:1710: MatplotlibDeprecationWarning: The *left* kwarg to `bar` is deprecated use *x* instead. Support for *left* will be removed in Matplotlib 3.0\n",
      "  return func(ax, *args, **kwargs)\n"
     ]
    },
    {
     "data": {
      "image/png": "[encoded data removed]",
      "text/plain": [
       "<IPython.core.display.Image object>"
      ]
     },
     "execution_count": 23,
     "metadata": {},
     "output_type": "execute_result"
    }
   ],
   "source": [
    "def get_cf(in_list):\n",
    "    \"\"\" Creates a list of capacity factor from\n",
    "    the imported csv file\n",
    "\n",
    "    Parameters\n",
    "    ----------\n",
    "    in_list: list\n",
    "        list containing data stored in a csv file\n",
    "\n",
    "    Returns\n",
    "    -------\n",
    "    cf: list\n",
    "        list of capacity factors per month\n",
    "    \"\"\"\n",
    "    cf = []\n",
    "    for row in in_list[1:]:\n",
    "        for i in range(0, 12):\n",
    "            cf.append(float(row[1]) / 100)\n",
    "\n",
    "    return cf\n",
    "\n",
    "\n",
    "cf = np.asarray(get_cf(cf_data))\n",
    "capacity = capacity_dict['Power']\n",
    "generated = {\"US\": np.multiply(capacity, cf) * hours_in_year}\n",
    "an.stacked_bar_chart(generated, timestep,\n",
    "                     'Years', 'Power Generated [GWh]',\n",
    "                     'Power Generated',\n",
    "                     'analysis/results/US/Power Generated',\n",
    "                     ini_yr)\n",
    "\n",
    "Image(filename='analysis/results/US/Power Generated.png')"
   ]
  },
  {
   "cell_type": "markdown",
   "metadata": {},
   "source": [
    "__Power generated between 1971 and 2016__\n",
    "\n",
    "The United States Nuclear Energy Institute (NEI) has published the amount of power generated by nuclear power plants in the United States between 1971 and 2016 (US Nuclear Generating Statistics, NEI). This information is used to compare the simulation results with the actual data. Thus, the data obtained from the previous analysis is used to obtain the power generated between 1971 and 2016 by calculating the starting index and the ending index. The actual data is plotted for comparison."
   ]
  },
  {
   "cell_type": "code",
   "execution_count": 24,
   "metadata": {},
   "outputs": [
    {
     "name": "stderr",
     "output_type": "stream",
     "text": [
      "/home/gyutae/anaconda3/lib/python3.6/site-packages/matplotlib/__init__.py:1710: MatplotlibDeprecationWarning: The *left* kwarg to `bar` is deprecated use *x* instead. Support for *left* will be removed in Matplotlib 3.0\n",
      "  return func(ax, *args, **kwargs)\n"
     ]
    },
    {
     "data": {
      "image/png": "[encoded data removed]",
      "text/plain": [
       "<IPython.core.display.Image object>"
      ]
     },
     "execution_count": 24,
     "metadata": {},
     "output_type": "execute_result"
    }
   ],
   "source": [
    "start_year = 1971\n",
    "end_year = 2017\n",
    "start_index = (start_year - 1965) * 12\n",
    "end_index = (end_year - 1965) * 12\n",
    "dura = end_year - start_year\n",
    "\n",
    "timestep_range = timestep[start_index: end_index]\n",
    "cf_range = cf[start_index: end_index]\n",
    "generated_range = {\"US\": generated[\"US\"][start_index: end_index]}\n",
    "\n",
    "an.stacked_bar_chart(generated_range, timestep_range,\n",
    "                     \"Years\", \"Power Generated [GWh]\",\n",
    "                     \"Power Generated\",\n",
    "                     \"analysis/results/US/Power Generated 1971~2016\",\n",
    "                     1965)\n",
    "\n",
    "Image(filename='analysis/results/US/Power Generated 1971~2016.png')"
   ]
  },
  {
   "cell_type": "code",
   "execution_count": 25,
   "metadata": {},
   "outputs": [
    {
     "data": {
      "image/png": "[encoded data removed]",
      "text/plain": [
       "<IPython.core.display.Image object>"
      ]
     },
     "execution_count": 25,
     "metadata": {},
     "output_type": "execute_result"
    }
   ],
   "source": [
    "Image(filename='analysis/published_data/US/Power Generated NEI.png')"
   ]
  },
  {
   "cell_type": "markdown",
   "metadata": {},
   "source": [
    "As shown in the two plots above,the plot of power generated between 1971 and 2016 from the _CYCLUS_ simulation matches very closely to that published by the NEI. There are a few differences that can be noticed between the two plots. First, the power generated according to _CYCLUS_ is slightly higher than the power generated according to the NEI. This can be explained from the difference in refueling times between simulation and real-world scenarios. Due to software limitations of _CYCLUS_, refueling time for reactors can only be entered in integers of month, and stays constant throughout the lifetime of the plant whereas actual refueling time can vary in floating points of month and changes depending on various factors.\n",
    "\n",
    "_CYCLUS_ simulation used to obtain the power generated over time assumes a refueling period of 1 month. According to the NEI, the average  refueling period for reactors in the United States varies quite significantly. The average refueling period in 1990 was 104 days, a period of over 3 months, and generally decreases to an average refueling period of 35 days, a period of just over 1 month, in 2017. As published by the NEI, the average refueling period of nuclear reactors in the United States has been greater than 1 month between 1990 and 2017. This means that the power generated by the reactors deployed in the _CYCLUS_ simulation would have a greater amount of power generated over a period of time."
   ]
  },
  {
   "cell_type": "markdown",
   "metadata": {},
   "source": [
    "## Conclusion\n",
    "\n",
    "To conclude, _CYCLUS_ has been able to perform simulations at a fairly accurate level as shown in the comparison of the power generation plots. Still, some improvements in _CYCLUS_ would be benefitial: the implementation of an enrichment facility that processes fuel on a need basis. There are other improvements that can be potentially made for this simulation to improve its accuracy.\n",
    "\n",
    "+  Specify actual burnup for reactors\n",
    "    + Currently, the reactors deployed in Cyclus are all deployed with a burnup of 51 GWd/MTHM. \n",
    "    \n",
    "    \n",
    "+  Specify reactor n_assembly_core and batch\n",
    "    + Reactors were deployed in cyclus without the actual number of assemblies per core and batch. The typical values were used for each reactor type (Source needs to be added for the typical values). While the effects of changing these values may not be significant in the outcome of the simulation, specifying such information may benefit the accuracy of the simulation results.\n",
    "    \n",
    "    \n",
    "+  Apply a similar analysis to different regions such as the EU or in the world\n"
   ]
  },
  {
   "cell_type": "markdown",
   "metadata": {},
   "source": [
    "## References\n",
    "*  US Nuclear Generating Statistics. (n.d.). Retrieved from https://www.nei.org/Knowledge-Center/Nuclear-Statistics/US-Nuclear-Power-Plants/US-Nuclear-Generating-Statistics\n",
    "\n",
    "\n",
    "*  US Nuclear Refueling Outage Days. (n.d.). Retrieved from https://www.nei.org/Knowledge-Center/Nuclear-Statistics/US-Nuclear-Power-Plants/US-Nuclear-Refueling-Outage-Days\n"
   ]
  }
 ],
 "metadata": {
  "kernelspec": {
   "display_name": "Python 3",
   "language": "python",
   "name": "python3"
  },
  "language_info": {
   "codemirror_mode": {
    "name": "ipython",
    "version": 3
   },
   "file_extension": ".py",
   "mimetype": "text/x-python",
   "name": "python",
   "nbconvert_exporter": "python",
   "pygments_lexer": "ipython3",
   "version": "3.6.3"
  }
 },
 "nbformat": 4,
 "nbformat_minor": 2
}
