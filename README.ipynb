{
 "cells": [
  {
   "cell_type": "markdown",
   "metadata": {},
   "source": [
    "# Predicting the past, United States"
   ]
  },
  {
   "cell_type": "code",
   "execution_count": 3,
   "metadata": {
    "collapsed": true
   },
   "outputs": [],
   "source": [
    "import sys\n",
    "sys.path.append('analysis/')\n",
    "\n",
    "import analysis as an\n",
    "import import_data as imd"
   ]
  },
  {
   "cell_type": "markdown",
   "metadata": {},
   "source": [
    "## Abstract\n",
    "In an effort to produce a cross comparison data of the US fleet, _CYCLUS_, an agent-based simulation software was used to simulate and analyze all reactors that have been deployed from 1965. US fleet of nuclear reactors were obtained from a text file and used to specify the reactor name, type, core mass, capacity, deployment date, and closure date.\n",
    "\n",
    "To be continued"
   ]
  },
  {
   "cell_type": "markdown",
   "metadata": {},
   "source": [
    "## Methodology\n",
    "This project relies on the following: recipes for reactor fuel, information regarding reactors, choosing the reactors to deploy, running the simulation, and analyzing the simulation output. \n",
    "\n",
    "### Obtaining Recipes for Simulation\n",
    "#### Files Used\n",
    "\n",
    "##### Input\n",
    "*  [uox.csv](import_data/vision_recipes/uox.csv) - contains isotopes and compositions of UOX, and SNF at different burnups\n",
    "*  [recipe_template.xml](templates/recipe_template.xml) - an xml template that provides the structure of the recipe file that complies with _CYCLUS_\n",
    "\n",
    "##### Script\n",
    "*  [import_data.py](import_data.py) - a script that is used to import, process and produce recipes for UOX, and SNF\n",
    "\n",
    "##### Output\n",
    "*  [uox_51.xml](cyclus/input/recipes/uox_51/xml) - an xml file containing the isotopes and their compositions\n",
    "\n",
    "\n",
    "Recipes that describe the composition of spent nuclear fuel for uranium oxide (UOX) at the burn up of 51 GWd/MTHM, was obtained from `uox.csv`, a text file that contains the results of origen simulations. `import_data` script was used to obtain the necessary isotope and composition data.\n",
    "\n",
    "This involved importing the text file (`uox.csv`), and a template for recipes (`recipe_template.xml`), extracting the relevant isotope, and composition information for the specified burnup, and using `jinja2` to render the imported template.\n",
    "\n",
    "### Obtaining Reactors for Simulation\n",
    "#### Files Used\n",
    "\n",
    "##### Input\n",
    "*  [US_Fleet.txt](import_data/fleetcomp/US_Fleet.txt) - fleetcomp data of US nuclear power plants\n",
    "*  [reactors_template.xml](templates/reactors_template.xml) - an xml template that provides the structure of the recipe file that complies with _CYCAMORE_ reactors input file\n",
    "\n",
    "##### Script\n",
    "*  [import_data.py](import_data.py) - a script that is used to import, process and produce recipes for UOX, and SNF\n",
    "\n",
    "##### Output\n",
    "*  [112 Reactor files](cyclus/input/reactors) - 112 files containing information regarding a reactor deployed in the United States since 1965\n",
    "\n",
    "### Adding Deployment Data\n",
    "#### Files Used\n",
    "\n",
    "##### Input\n",
    "*  [US_Fleet.txt](import_data/fleetcomp/US_Fleet.txt) - fleetcomp data of US nuclear power plants\n",
    "*  [reactors_template.xml](templates/reactors_template.xml) - an xml template that provides the structure of the recipe file that complies with _CYCAMORE_ reactors input file\n",
    "\n",
    "##### Script\n",
    "*  [import_data.py](import_data.py) - a script that is used to import, process and produce recipes for UOX, and SNF\n",
    "\n",
    "##### Output\n",
    "*  [112 Reactor files](cyclus/input/reactors) - 112 files containing information regarding a reactor deployed in the United States since 1965\n",
    "\n",
    "### Obtaining Reactors for Simulation\n",
    "#### Files Used\n",
    "\n",
    "##### Input\n",
    "*  [US_Fleet.txt](import_data/fleetcomp/US_Fleet.txt) - fleetcomp data of US nuclear power plants\n",
    "*  [reactors_template.xml](templates/reactors_template.xml) - an xml template that provides the structure of the recipe file that complies with _CYCAMORE_ reactors input file\n",
    "\n",
    "##### Script\n",
    "*  [import_data.py](import_data.py) - a script that is used to import, process and produce recipes for UOX, and SNF\n",
    "\n",
    "##### Output\n",
    "*  [112 Reactor files](cyclus/input/reactors) - 112 files containing information regarding a reactor deployed in the United States since 1965\n"
   ]
  },
  {
   "cell_type": "markdown",
   "metadata": {},
   "source": [
    "## Results"
   ]
  },
  {
   "cell_type": "markdown",
   "metadata": {},
   "source": [
    "## Discussion"
   ]
  },
  {
   "cell_type": "markdown",
   "metadata": {},
   "source": [
    "## Future Goals\n",
    "+  Specify actual burnup for reactors\n",
    "    - Currently, the reactors deployed in Cyclus are all deployed with a burnup of 51 GWd/MTHM. \n",
    "    \n",
    "+  Specify reactor n_assembly_core and batch\n",
    "    - Reactors were deployed in cyclus without the actual number of assemblies per core and batch. The typical values were used for each reactor type (Source needs to be added for the typical values). While the effects of changing these values may not be significant in the outcome of the simulation, specifying such information may benefit the accuracy of the simulation results.\n",
    "    \n",
    "+  Apply a similar analysis to different regions such as the EU or in the world\n"
   ]
  },
  {
   "cell_type": "markdown",
   "metadata": {},
   "source": [
    "## References\n",
    "*  US Nuclear Generating Statistics. (n.d.). Retrieved from https://www.nei.org/Knowledge-Center/Nuclear-Statistics/US-Nuclear-Power-Plants/US-Nuclear-Generating-Statistics\n",
    "\n",
    "*  US Nuclear Refueling Outage Days. (n.d.). Retrieved from https://www.nei.org/Knowledge-Center/Nuclear-Statistics/US-Nuclear-Power-Plants/US-Nuclear-Refueling-Outage-Days\n",
    "\n",
    "*  EIA. (n.d.). Capacity factor of nuclear power plants in the U.S. from 1975 to 2016*. In Statista - The Statistics Portal. Retrieved from https://www.statista.com/statistics/191201/capacity-factor-of-nuclear-power-plants-in-the-us-since-1975/. "
   ]
  }
 ],
 "metadata": {
  "kernelspec": {
   "display_name": "Python 3",
   "language": "python",
   "name": "python3"
  },
  "language_info": {
   "codemirror_mode": {
    "name": "ipython",
    "version": 3
   },
   "file_extension": ".py",
   "mimetype": "text/x-python",
   "name": "python",
   "nbconvert_exporter": "python",
   "pygments_lexer": "ipython3",
   "version": "3.6.1"
  }
 },
 "nbformat": 4,
 "nbformat_minor": 2
}
