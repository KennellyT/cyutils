{
 "cells": [
  {
   "cell_type": "markdown",
   "metadata": {},
   "source": [
    "# Tutorial for the *CYCLUS* Fuel Cycle Simulator\n",
    "\n",
    "[*CYCLUS*](http://fuelcycle.org/) is an open soruce fuel cycle simulator.  It is agent-based, and its user-customizable archetypes (called <font color='800000'>prototypes</font>) allow for more freedom in the fidelity, depth, and focus of the simulation.\n",
    "<br><br>\n",
    "This tutorial will begin with a simple exercise using Cycamore archetypes to familiarize the user with creating input files (in xml) and accessing data from the SQLite database output.  This tutorial is not an [exhaustive list](http://fuelcycle.org/user/index.html) of ways to do these things, but it should give new users a good starting point."
   ]
  },
  {
   "cell_type": "markdown",
   "metadata": {},
   "source": [
    "## Exercise 1:\n",
    "This first exercise will model a very simple scenario:\n",
    "-  There is a single uranium mine\n",
    "-  One enrichment facility producing UOX fuel\n",
    "-  One LWR, with a 1000 MWe capacity\n",
    "-  One repository, which takes SNF\n",
    "-  This is an open fuel cycle, there is no reprocessing or MOX fuel.\n",
    "\n",
    "Throughout this tutorial, there will be cells of code mixed into the explanations.  Some of these will need information entered before they are run - a comment at the beginning of the cell will tell you.  If you are unfamiliar with Jupyter notebook, you can run a cell by selecting it, and using shift+enter or ctrl+enter (selected cells will have a blue or green line around them).  Please do not run all cells at once."
   ]
  },
  {
   "cell_type": "markdown",
   "metadata": {},
   "source": [
    "### Simulation: Control\n",
    "Let's begin by choosing our simulation parameters.\n",
    "\n",
    "*CYCLUS* works in timesteps of 1 month by default.  At each time step, *CYCLUS* has phases in which each agent can take particular actions:\n",
    "-  <font color='800000'>Deployment</font>: New agents may enter the system\n",
    "-  Each agent prepares for material exchange\n",
    "-  The material trade occurs\n",
    "-  The agents act after the exchange\n",
    "-  <font color='800000'>Decommissioning</font>: Agents may leave the system\n",
    "<br><br>\n",
    "\n",
    "\n",
    "*CYCLUS* will manage these phases automatically, but the user must give:\n",
    "-  The duration (in months)\n",
    "-  The start month (e.g.: 1 for January)\n",
    "-  The start year\n",
    "-  Decay treatment:  'never' if all decay is turned off, 'manual', meaning it is only on if the individual archetype decays their own inventory, or 'lazy', which will compute decay only when archetypes fetch a particular composition.\n",
    "<br>\n",
    "There are other [optional parameters](http://fuelcycle.org/user/input_specs/control.html) that could be given, but these are the ones we will use during the tutorial.\n",
    "<br><br>\n",
    "For this exercise, the simuation will run for 50 years, or 600 months.  We'll model a system that starts in January, 2018.  Decay will be set to 'never' for now."
   ]
  },
  {
   "cell_type": "code",
   "execution_count": 1,
   "metadata": {},
   "outputs": [
    {
     "name": "stderr",
     "output_type": "stream",
     "text": [
      "/home/tyler/anaconda3/lib/python3.6/importlib/_bootstrap.py:219: QAWarning: pyne.data is not yet QA compliant.\n",
      "  return f(*args, **kwds)\n",
      "/home/tyler/anaconda3/lib/python3.6/importlib/_bootstrap.py:219: QAWarning: pyne.material is not yet QA compliant.\n",
      "  return f(*args, **kwds)\n",
      "/home/tyler/anaconda3/lib/python3.6/importlib/_bootstrap.py:219: QAWarning: pyne.enrichment is not yet QA compliant.\n",
      "  return f(*args, **kwds)\n"
     ]
    }
   ],
   "source": [
    "# This cell requires user input.  Run it when you have entered everything.\n",
    "from pyne import nucname\n",
    "import cyutils\n",
    "from cyutils import analysis\n",
    "\n",
    "duration = 720\n",
    "start_month = 1\n",
    "start_year = 2018\n",
    "decay = 'never'\n",
    "\n",
    "simulation_parameters = [duration,start_month,start_year,decay]"
   ]
  },
  {
   "cell_type": "markdown",
   "metadata": {},
   "source": [
    "### Archetypes:\n",
    "One of the features of *CYCLUS* is its ability to switch between different models of the facilities within the fuel cycle.  These models, called <font color='800000'>archetypes</font>, may change how the facility interacts with other facilities or how the physics of the facility are represented.\n",
    "<br><br>\n",
    "For example, reactor archetypes may change how they calculate their fresh and spent fuel compostions.  A very simple model might take fixed input and output recipes, and assume all material entering matches its input, and all material exiting matches its output.  A more complex model may tabulate reactor performance and physics parameters, and use interpolation to determine input and output recipes.  The most complex model could perform a full depletion calculation each time new fuel enters the reactor.\n",
    "<br><br>\n",
    "A simple set of archetypes have been created in [Cycamore](http://fuelcycle.org/user/cycamoreagents.html).  They are a good fit for simple tutorials, or for modeling facilities that are required, but not the focus of the simulation.  The Cycamore archetypes include:\n",
    "-  <font color='800000'>Source</font>: This is a generic source of fresh material.  This could cover a uranium mine, an enrichment facility, or even a fabrication facility, depending on how explicitly the user wants to model the front-end of the fuel cycle.\n",
    "-  <font color ='800000'>Enrichment</font>: This archetype uses the standard equations for enrichment of U-235, and has a limit on total enrichment capacity.\n",
    "-  <font color='800000'>Reactor</font>: This facility takes set input and output fuel recipes, and loads new assemblies at regular intervals.\n",
    "-  <font color='800000'>Separations</font>: This facility splits all the isotopes in its input stream into separate output streams.\n",
    "-  <font color='800000'>FuelFab</font>: This archetype uses the d-factor approach to mix streams of fissile and fissionable material and approximate a given recipe.\n",
    "-  <font color='800000'>Sink</font>:  This is a generic sink for any facility that will permanently hold nuclear material.  This could be an interim storage facility, a geological repository, or other long-term disposal methods a user may want to model.\n",
    "\n",
    "When you customize or specify the details of an archetype, that is referred to as a <font color ='800000'>prototype</font>."
   ]
  },
  {
   "cell_type": "markdown",
   "metadata": {},
   "source": [
    "### Commodities:\n",
    "\n",
    "*CYCLUS* models resource exchange through the use of the <font color='800000'>dynamic resource exchange</font>, or DRE.  A <font color='800000'>commodity</font> simply defines a resource that agents in the simulation may want to exchange with each other  For example, spent fuel would be a commodity that leaves a reactor facility, and then is \"exchanged\" with a repository to simulate its final disposal.  Defining a commodity gives no information about its composition - that is done be defining <font color='800000'>recipes</font>."
   ]
  },
  {
   "cell_type": "markdown",
   "metadata": {},
   "source": [
    "### A Note On Input Files:\n",
    "\n",
    "There are multiple ways to create a *CYCLUS* input file.  This tutorial uses the jinja2 template library and .xml templates to create its input.  More detail will be given later, but for now, know that some parts of the archetypes (such as the name of the enrichment facility) are already included in the templates provided for the tutorial.  Beyond this lesson, it is possible to use or create other templates and tweak these \"preloaded\" details. "
   ]
  },
  {
   "cell_type": "markdown",
   "metadata": {},
   "source": [
    "### Creating recipes:\n",
    "\n",
    "Whenever *CYCLUS* needs to know the composition of a material, it looks at the recipe for that material given in the input file.  Until now, \"recipe\" has been used to refer to fuel recipes, but the \"recipe\" section of the input file can include the recipe for natural uranium, spent fuel, fresh fuel, or any other material where the isotopic composition needs to be tracked.\n",
    "<br><br>\n",
    "First, we can declare the isotopic compostions of fresh and spent fuel.  We'll be using simple recipes: fresh fuel is 4.0% U-235 by mass, remainder U-238.  Spent fuel is 1.1% U-235, 94.0% U-238, 0.9% Pu-239, and 4.0% Cs-137."
   ]
  },
  {
   "cell_type": "code",
   "execution_count": 2,
   "metadata": {},
   "outputs": [
    {
     "name": "stdout",
     "output_type": "stream",
     "text": [
      "Usage: python write_input.py [csv][init_date] [duration] [output_file_name]\n"
     ]
    }
   ],
   "source": [
    "from cyutils import cywrite\n",
    "from cyutils import cymetric_analysis\n",
    "import cymetric as cym\n",
    "import matplotlib.pyplot as plt\n",
    "import numpy as np\n",
    "\n",
    "fresh_id = [92235,92238]\n",
    "fresh_comp = [0.04, 0.96]\n",
    "\n",
    "spent_id = [92235, 92238, 94239, 55137]\n",
    "spent_comp = [0.011, 0.94, 0.009, 0.04]"
   ]
  },
  {
   "cell_type": "markdown",
   "metadata": {},
   "source": [
    "We will take the fresh and spent ids and compostitions above and use the recipe function to create a fuel recipe. \n"
   ]
  },
  {
   "cell_type": "code",
   "execution_count": 3,
   "metadata": {},
   "outputs": [
    {
     "name": "stdout",
     "output_type": "stream",
     "text": [
      "{92235: 0.04, 92238: 0.96}\n",
      "{92235: 0.011, 92238: 0.94, 94239: 0.009, 55137: 0.04}\n"
     ]
    }
   ],
   "source": [
    "fresh,spent = cywrite.recipe(fresh_id,fresh_comp,spent_id,spent_comp)\n",
    "print(fresh)\n",
    "print(spent)"
   ]
  },
  {
   "cell_type": "markdown",
   "metadata": {},
   "source": [
    "The recipe for natural uranium has already been included in the template."
   ]
  },
  {
   "cell_type": "markdown",
   "metadata": {},
   "source": [
    "### Providing Reactor Data:\n",
    "\n",
    "<font size='2'>Note: For the purposes of the tutorial, we'll input reactor information here in the notebook, then render it into a csv file and import it again.  Obviously, this isn't needed - we could directly input our reactor data and never bother with external files.  However, we're including this step to help new users who may be unfamiliar with python with one of many ways to import external data.</font>\n",
    "<br><br>\n",
    "\n",
    "Exercise 1 models a single PWR.  It has a power capacity of 1000 MWe, and there is only one of them in the region.  Fill in the missing information."
   ]
  },
  {
   "cell_type": "code",
   "execution_count": 4,
   "metadata": {},
   "outputs": [],
   "source": [
    "country = 'The Beehive'\n",
    "reactor_name = 'Honeycomb3000'\n",
    "type_reactor = 'PWR'\n",
    "net_elec_capacity = 1000\n",
    "operator = 'SeveralBees'"
   ]
  },
  {
   "cell_type": "code",
   "execution_count": 5,
   "metadata": {},
   "outputs": [],
   "source": [
    "if type_reactor != 'PWR':\n",
    "    print('You gave a reactor type that was unexpected.  The tutorial will still run, '\n",
    "          'but it will default to PWR conditions \\n' + 'where necessary.  '\n",
    "          'If you entered pwr instead of PWR, try capitalizing it.')\n",
    "\n",
    "header = ['Country','Reactor Name','Type','Net Electric Capacity','Operator']\n",
    "raw_input = [country,reactor_name,type_reactor,net_elec_capacity,operator]\n",
    "filename = \"tutorial_data.csv\"\n",
    "\n",
    "cywrite.write_csv(header,raw_input, filename)"
   ]
  },
  {
   "cell_type": "markdown",
   "metadata": {},
   "source": [
    "Within the reactor data, we gave how many reactors were initially deployed.  However, we still need to set how many mines, enrichment facilities, and repositories are in our region.  For now, we'll say that there is one of each facility in our region."
   ]
  },
  {
   "cell_type": "code",
   "execution_count": 6,
   "metadata": {},
   "outputs": [],
   "source": [
    "n_mine = 1 \n",
    "n_enrichment = 1\n",
    "n_repository = 1"
   ]
  },
  {
   "cell_type": "markdown",
   "metadata": {},
   "source": [
    "### Rendering the Input File:\n",
    "\n",
    "In practice, your simulation may have more variables, and you may be pulling data from external databases.  But, for this tutorial, we are ready to render the main input file for *CYCLUS*.  At this point, it may be helpful to open the basics.py script, as a reference.<br>First, we'll import our \"external data\"  from a csv file with the information we gave earlier:"
   ]
  },
  {
   "cell_type": "code",
   "execution_count": 7,
   "metadata": {},
   "outputs": [],
   "source": [
    "# This cell does not need user input, and you can run it now.\n",
    "\n",
    "reactor_data = cywrite.import_csv('test_data.csv')"
   ]
  },
  {
   "cell_type": "code",
   "execution_count": 8,
   "metadata": {
    "scrolled": true
   },
   "outputs": [
    {
     "name": "stdout",
     "output_type": "stream",
     "text": [
      "{'The Beehive': [1, 1, 1], 'The Other Beehive': [1, 1, 1]}\n"
     ]
    }
   ],
   "source": [
    "deployment_data = {}\n",
    "for element in reactor_data.loc[:,'Country'].drop_duplicates():\n",
    "    deployment_data[element] = [n_mine,n_enrichment,n_repository]\n",
    "        \n",
    "print(deployment_data)"
   ]
  },
  {
   "cell_type": "markdown",
   "metadata": {},
   "source": [
    "The input file is created in parts - it is common to have separate, smaller templates for the reactor, the recipes, and other blocks of the input file that require many variables.\n",
    "<br><br>\n",
    "Templates have been mentioned before this point, but haven't been shown.  Let's start by taking a look at the reactor template:"
   ]
  },
  {
   "cell_type": "code",
   "execution_count": 9,
   "metadata": {},
   "outputs": [
    {
     "name": "stdout",
     "output_type": "stream",
     "text": [
      "<facility>\n",
      "  <name>{{capacity}}MWe {{reactor_name}}</name>\n",
      "  <config>\n",
      "    <Reactor>\n",
      "      <fuel_incommods> <val>fresh-uox</val> </fuel_incommods>\n",
      "      <fuel_inrecipes> <val>fresh-uox</val> </fuel_inrecipes>\n",
      "      <fuel_outcommods> <val>spent-uox</val> </fuel_outcommods>\n",
      "      <fuel_outrecipes> <val>spent-uox</val> </fuel_outrecipes>\n",
      "      <cycle_time>18</cycle_time>\n",
      "      <refuel_time>1</refuel_time>\n",
      "      <assem_size>{{assem_size}}</assem_size>\n",
      "      <n_assem_core>{{n_assem_core}}</n_assem_core>\n",
      "      <n_assem_batch>{{n_assem_batch}}</n_assem_batch>\n",
      "      <power_cap>{{capacity}}</power_cap>\n",
      "    </Reactor>\n",
      "  </config>\n",
      "</facility>\n",
      "\n"
     ]
    }
   ],
   "source": [
    "# This cell does not need user input, and you can run it now.\n",
    "\n",
    "with open('reactor_template.xml','r') as reactor:\n",
    "    print(reactor.read())"
   ]
  },
  {
   "cell_type": "markdown",
   "metadata": {},
   "source": [
    "The facility and /facility subroots **(what is the right term here???)**  hold all the information about a specific prototype. There are facility blocks for each prototype made - the mine, the enrichment facility, and repository all have their own section within the main input, as well as sections for setting simulation parameters, and defining archetypes and commodities.\n",
    "<br><br>\n",
    "You may notice that some values had been replaced by something in {{ }}.  The template will recognize these as variables.  We can also take a look at the region, recipe, and main templates:"
   ]
  },
  {
   "cell_type": "code",
   "execution_count": 10,
   "metadata": {},
   "outputs": [
    {
     "name": "stdout",
     "output_type": "stream",
     "text": [
      "\n",
      "{% for country, operator in country_reactor_dict.items() -%}\n",
      "{% for operators, reactors in operator.items() -%}\n",
      "<region>\n",
      "  <name>{{country}} {{operators}} Reactors</name>\n",
      "  <config>\n",
      "    <NullRegion/>\n",
      "  </config>\n",
      "  <institution>\n",
      "    <initialfacilitylist>\n",
      "      {% for reactor_name, reactor_info in reactors.items() -%}\n",
      "      <entry>\n",
      "        <prototype>{{reactor_info[1]}}MWe {{reactor_name}}</prototype>\n",
      "        <number>{{reactor_info[0]}}</number>\n",
      "      </entry>\n",
      "      {% endfor -%}\n",
      "    </initialfacilitylist>\n",
      "    <name>{{operators}} in {{country}}</name>\n",
      "    <config>\n",
      "      <NullInst/>\n",
      "    </config>\n",
      "  </institution>\n",
      "</region>\n",
      "\n",
      "{% endfor -%}\n",
      "{% endfor -%}\n",
      "\n",
      "\n",
      "{% for country, deploy in countries_infra.items() -%}\n",
      "<region>\n",
      "  <name>{{country}} Infrastructure</name>\n",
      "  <config>\n",
      "    <NullRegion/>\n",
      "  </config>\n",
      "  <institution>\n",
      "    <initialfacilitylist>\n",
      "      <entry>\n",
      "        <prototype>UraniumMine</prototype>\n",
      "        <number>{{deploy[0]}}</number>\n",
      "      </entry>\n",
      "      <entry>\n",
      "        <prototype>EnrichmentPlant</prototype>\n",
      "        <number>{{deploy[1]}}</number>\n",
      "      </entry>\n",
      "      <entry>\n",
      "        <prototype>NuclearRepository</prototype>\n",
      "        <number>{{deploy[2]}}</number>\n",
      "      </entry>\n",
      "    </initialfacilitylist>\n",
      "    <name>{{country}} Nuclear</name>\n",
      "    <config>\n",
      "      <NullInst/>\n",
      "    </config>\n",
      "  </institution>\n",
      "</region>\n",
      "{% endfor -%}\n",
      "\n"
     ]
    }
   ],
   "source": [
    "with open('region_template.xml','r') as region:\n",
    "    print(region.read())"
   ]
  },
  {
   "cell_type": "markdown",
   "metadata": {},
   "source": [
    "Within the region and recipe template, you will see {% for x,y in z.items() -%} ... {% endfor -%}.  These are for loops, and work similarly to for loops in other languages.  For each element in x,y (note that in both templates, we might more accurately say that the loops are {% for key, value in dicitionary.items() -%}, as in this specific instance, the input-rendering functions use dictionaries.) it copies whatever is between the {%-%} {% -%} brackets, and fills in the variables in the designated locations."
   ]
  },
  {
   "cell_type": "code",
   "execution_count": 11,
   "metadata": {},
   "outputs": [
    {
     "name": "stdout",
     "output_type": "stream",
     "text": [
      "<recipe>\n",
      "  <name>nat-u</name>\n",
      "  <basis>mass</basis>\n",
      "  <nuclide>\n",
      "    <id>92235</id>\n",
      "    <comp>0.00711</comp>\n",
      "  </nuclide>\n",
      "  <nuclide>\n",
      "    <id>92238</id>\n",
      "    <comp>0.99289</comp>\n",
      "  </nuclide>\n",
      "</recipe>\n",
      "\n",
      "<recipe>\n",
      "  <name>fresh-uox</name>\n",
      "  <basis>mass</basis>\n",
      "  {% for key, value in fresh_fuel.items() -%}\n",
      "  <nuclide>\n",
      "    <id>{{key}}</id>\n",
      "    <comp>{{value}}</comp>\n",
      "  </nuclide>\n",
      "  {% endfor -%}\n",
      "</recipe>\n",
      "\n",
      "<recipe>\n",
      "  <name>spent-uox</name>\n",
      "  <basis>mass</basis>\n",
      "  {% for key, value in spent_fuel.items() -%}\n",
      "  <nuclide>\n",
      "    <id>{{key}}</id>\n",
      "    <comp>{{value}}</comp>\n",
      "  </nuclide>\n",
      "  {% endfor -%}\n",
      "</recipe>\n",
      "\n"
     ]
    }
   ],
   "source": [
    "with open('recipe_template.xml','r') as recipe:\n",
    "    print(recipe.read())"
   ]
  },
  {
   "cell_type": "markdown",
   "metadata": {},
   "source": [
    "For example, in the recipe template above, the for loop in the fresh fuel recipe block will make a new nuclide block for each isotope in the fresh_fuel dicitionary.  To see this in action, we can simply render the recipe portion:"
   ]
  },
  {
   "cell_type": "code",
   "execution_count": 12,
   "metadata": {},
   "outputs": [
    {
     "name": "stdout",
     "output_type": "stream",
     "text": [
      "<recipe>\n",
      "  <name>nat-u</name>\n",
      "  <basis>mass</basis>\n",
      "  <nuclide>\n",
      "    <id>92235</id>\n",
      "    <comp>0.00711</comp>\n",
      "  </nuclide>\n",
      "  <nuclide>\n",
      "    <id>92238</id>\n",
      "    <comp>0.99289</comp>\n",
      "  </nuclide>\n",
      "</recipe>\n",
      "\n",
      "<recipe>\n",
      "  <name>fresh-uox</name>\n",
      "  <basis>mass</basis>\n",
      "  <nuclide>\n",
      "    <id>92235</id>\n",
      "    <comp>0.04</comp>\n",
      "  </nuclide>\n",
      "  <nuclide>\n",
      "    <id>92238</id>\n",
      "    <comp>0.96</comp>\n",
      "  </nuclide>\n",
      "  </recipe>\n",
      "\n",
      "<recipe>\n",
      "  <name>spent-uox</name>\n",
      "  <basis>mass</basis>\n",
      "  <nuclide>\n",
      "    <id>92235</id>\n",
      "    <comp>0.011</comp>\n",
      "  </nuclide>\n",
      "  <nuclide>\n",
      "    <id>92238</id>\n",
      "    <comp>0.94</comp>\n",
      "  </nuclide>\n",
      "  <nuclide>\n",
      "    <id>94239</id>\n",
      "    <comp>0.009</comp>\n",
      "  </nuclide>\n",
      "  <nuclide>\n",
      "    <id>55137</id>\n",
      "    <comp>0.04</comp>\n",
      "  </nuclide>\n",
      "  </recipe>\n"
     ]
    }
   ],
   "source": [
    "rendered_recipe = cywrite.write_recipes(fresh,spent,'recipe_template.xml','1xn-rendered-recipe.xml')\n",
    "\n",
    "with open(rendered_recipe,'r') as recipe:\n",
    "    print(recipe.read())"
   ]
  },
  {
   "cell_type": "markdown",
   "metadata": {},
   "source": [
    "As you can see, within the fresh fuel recipe there are now two nuclide blocks, one for each isotope in the fresh dictionary we made earlier.<br><br>\n",
    "We can also look at the main input template.  In order to insert the already rendered parts into the main input file, it has {{variable}} sections where each section would go.  Then, in a fashion simiar to how the templates have been opened here in the notebook, the files are assigned to variables and inserted into the template."
   ]
  },
  {
   "cell_type": "code",
   "execution_count": 13,
   "metadata": {},
   "outputs": [
    {
     "name": "stdout",
     "output_type": "stream",
     "text": [
      "<simulation>\n",
      "  <control>\n",
      "    <duration>{{duration}}</duration>\n",
      "    <startmonth>{{start_month}}</startmonth>\n",
      "    <startyear>{{start_year}}</startyear>\n",
      "    <decay>{{decay}}</decay>\n",
      "  </control>\n",
      "\n",
      "  <archetypes>\n",
      "    <spec>\n",
      "      <lib>cycamore</lib>\n",
      "      <name>Enrichment</name>\n",
      "    </spec>\n",
      "    <spec>\n",
      "      <lib>cycamore</lib>\n",
      "      <name>Reactor</name>\n",
      "    </spec>\n",
      "    <spec>\n",
      "      <lib>cycamore</lib>\n",
      "      <name>Source</name>\n",
      "    </spec>\n",
      "    <spec>\n",
      "      <lib>cycamore</lib>\n",
      "      <name>Sink</name>\n",
      "    </spec>\n",
      "    <spec>\n",
      "      <lib>agents</lib>\n",
      "      <name>NullRegion</name>\n",
      "    </spec>\n",
      "    <spec>\n",
      "      <lib>agents</lib>\n",
      "      <name>NullInst</name>\n",
      "    </spec>\n",
      "  </archetypes>\n",
      "\n",
      "  <commodity>\n",
      "    <name>u-ore</name>\n",
      "    <solution_priority>1.0</solution_priority>\n",
      "  </commodity>\n",
      "  <commodity>\n",
      "    <name>fresh-uox</name>\n",
      "    <solution_priority>1.0</solution_priority>\n",
      "  </commodity>\n",
      "  <commodity>\n",
      "    <name>tails</name>\n",
      "    <solution_priority>1.0</solution_priority>\n",
      "  </commodity>\n",
      "  <commodity>\n",
      "    <name>spent-uox</name>\n",
      "    <solution_priority>1.0</solution_priority>\n",
      "  </commodity>\n",
      "\n",
      "  <facility>\n",
      "    <name>UraniumMine</name>\n",
      "    <config>\n",
      "      <Source>\n",
      "        <outcommod>u-ore</outcommod>\n",
      "      </Source>\n",
      "    </config>\n",
      "  </facility>\n",
      "\n",
      "  <facility>\n",
      "    <name>EnrichmentPlant</name>\n",
      "    <config>\n",
      "      <Enrichment>\n",
      "        <feed_commod>u-ore</feed_commod>\n",
      "        <feed_recipe>nat-u</feed_recipe>\n",
      "        <product_commod>fresh-uox</product_commod>\n",
      "        <tails_commod>tails</tails_commod>\n",
      "        <max_feed_inventory>1000000</max_feed_inventory>\n",
      "      </Enrichment>\n",
      "    </config>\n",
      "  </facility>\n",
      "\n",
      "  {{reactor_input}}\n",
      "\n",
      "  <facility>\n",
      "    <name>NuclearRepository</name>\n",
      "    <config>\n",
      "      <Sink>\n",
      "        <in_commods>\n",
      "          <val>spent-uox</val>\n",
      "        </in_commods>\n",
      "      </Sink>\n",
      "    </config>\n",
      "  </facility>\n",
      "\n",
      "  {{region_input}}\n",
      "\n",
      "  {{recipe_input}}\n",
      "\n",
      "</simulation>\n",
      "\n"
     ]
    }
   ],
   "source": [
    "with open('main_input.xml','r') as main:\n",
    "    print(main.read())\n",
    "    \n",
    "# this output is long:  To toggle showing this cell's output: press Esc to enter command mode, then press o to\n",
    "# suppress output.  press o again in command mode to show it again."
   ]
  },
  {
   "cell_type": "markdown",
   "metadata": {},
   "source": [
    "Now, let's actually create the input file.  The recipe portion was made earlier, so the only the reactor, region, and main input remains."
   ]
  },
  {
   "cell_type": "code",
   "execution_count": 14,
   "metadata": {},
   "outputs": [
    {
     "name": "stdout",
     "output_type": "stream",
     "text": [
      "<facility>\n",
      "  <name>1000MWe Honeycomb3000</name>\n",
      "  <config>\n",
      "    <Reactor>\n",
      "      <fuel_incommods> <val>fresh-uox</val> </fuel_incommods>\n",
      "      <fuel_inrecipes> <val>fresh-uox</val> </fuel_inrecipes>\n",
      "      <fuel_outcommods> <val>spent-uox</val> </fuel_outcommods>\n",
      "      <fuel_outrecipes> <val>spent-uox</val> </fuel_outrecipes>\n",
      "      <cycle_time>18</cycle_time>\n",
      "      <refuel_time>1</refuel_time>\n",
      "      <assem_size>33000</assem_size>\n",
      "      <n_assem_core>3</n_assem_core>\n",
      "      <n_assem_batch>1</n_assem_batch>\n",
      "      <power_cap>1000</power_cap>\n",
      "    </Reactor>\n",
      "  </config>\n",
      "</facility>\n",
      " \n",
      "<facility>\n",
      "  <name>1500MWe Honeycomb3000</name>\n",
      "  <config>\n",
      "    <Reactor>\n",
      "      <fuel_incommods> <val>fresh-uox</val> </fuel_incommods>\n",
      "      <fuel_inrecipes> <val>fresh-uox</val> </fuel_inrecipes>\n",
      "      <fuel_outcommods> <val>spent-uox</val> </fuel_outcommods>\n",
      "      <fuel_outrecipes> <val>spent-uox</val> </fuel_outrecipes>\n",
      "      <cycle_time>18</cycle_time>\n",
      "      <refuel_time>1</refuel_time>\n",
      "      <assem_size>33000</assem_size>\n",
      "      <n_assem_core>3</n_assem_core>\n",
      "      <n_assem_batch>1</n_assem_batch>\n",
      "      <power_cap>1500</power_cap>\n",
      "    </Reactor>\n",
      "  </config>\n",
      "</facility>\n",
      " \n",
      "<facility>\n",
      "  <name>1000MWe Pollinator</name>\n",
      "  <config>\n",
      "    <Reactor>\n",
      "      <fuel_incommods> <val>fresh-uox</val> </fuel_incommods>\n",
      "      <fuel_inrecipes> <val>fresh-uox</val> </fuel_inrecipes>\n",
      "      <fuel_outcommods> <val>spent-uox</val> </fuel_outcommods>\n",
      "      <fuel_outrecipes> <val>spent-uox</val> </fuel_outrecipes>\n",
      "      <cycle_time>18</cycle_time>\n",
      "      <refuel_time>1</refuel_time>\n",
      "      <assem_size>33000</assem_size>\n",
      "      <n_assem_core>3</n_assem_core>\n",
      "      <n_assem_batch>1</n_assem_batch>\n",
      "      <power_cap>1000</power_cap>\n",
      "    </Reactor>\n",
      "  </config>\n",
      "</facility>\n",
      " \n",
      "\n"
     ]
    }
   ],
   "source": [
    "rendered_reactor = cywrite.write_reactor(reactor_data, 'reactor_template.xml','1xn-rendered-reactor.xml')\n",
    "with open(rendered_reactor,'r') as reactor:\n",
    "    print(reactor.read())"
   ]
  },
  {
   "cell_type": "code",
   "execution_count": 15,
   "metadata": {},
   "outputs": [
    {
     "name": "stdout",
     "output_type": "stream",
     "text": [
      "\n",
      "<region>\n",
      "  <name>The Beehive QueenBee Reactors</name>\n",
      "  <config>\n",
      "    <NullRegion/>\n",
      "  </config>\n",
      "  <institution>\n",
      "    <initialfacilitylist>\n",
      "      <entry>\n",
      "        <prototype>1000MWe Honeycomb3000</prototype>\n",
      "        <number>2</number>\n",
      "      </entry>\n",
      "      <entry>\n",
      "        <prototype>1000MWe Pollinator</prototype>\n",
      "        <number>1</number>\n",
      "      </entry>\n",
      "      </initialfacilitylist>\n",
      "    <name>QueenBee in The Beehive</name>\n",
      "    <config>\n",
      "      <NullInst/>\n",
      "    </config>\n",
      "  </institution>\n",
      "</region>\n",
      "\n",
      "<region>\n",
      "  <name>The Beehive SeveralBees Reactors</name>\n",
      "  <config>\n",
      "    <NullRegion/>\n",
      "  </config>\n",
      "  <institution>\n",
      "    <initialfacilitylist>\n",
      "      <entry>\n",
      "        <prototype>1500MWe Honeycomb3000</prototype>\n",
      "        <number>2</number>\n",
      "      </entry>\n",
      "      <entry>\n",
      "        <prototype>1000MWe Pollinator</prototype>\n",
      "        <number>2</number>\n",
      "      </entry>\n",
      "      </initialfacilitylist>\n",
      "    <name>SeveralBees in The Beehive</name>\n",
      "    <config>\n",
      "      <NullInst/>\n",
      "    </config>\n",
      "  </institution>\n",
      "</region>\n",
      "\n",
      "<region>\n",
      "  <name>The Other Beehive QueenBee Reactors</name>\n",
      "  <config>\n",
      "    <NullRegion/>\n",
      "  </config>\n",
      "  <institution>\n",
      "    <initialfacilitylist>\n",
      "      <entry>\n",
      "        <prototype>1000MWe Honeycomb3000</prototype>\n",
      "        <number>2</number>\n",
      "      </entry>\n",
      "      <entry>\n",
      "        <prototype>1000MWe Pollinator</prototype>\n",
      "        <number>1</number>\n",
      "      </entry>\n",
      "      </initialfacilitylist>\n",
      "    <name>QueenBee in The Other Beehive</name>\n",
      "    <config>\n",
      "      <NullInst/>\n",
      "    </config>\n",
      "  </institution>\n",
      "</region>\n",
      "\n",
      "<region>\n",
      "  <name>The Other Beehive SeveralBees Reactors</name>\n",
      "  <config>\n",
      "    <NullRegion/>\n",
      "  </config>\n",
      "  <institution>\n",
      "    <initialfacilitylist>\n",
      "      <entry>\n",
      "        <prototype>1500MWe Honeycomb3000</prototype>\n",
      "        <number>1</number>\n",
      "      </entry>\n",
      "      <entry>\n",
      "        <prototype>1000MWe Pollinator</prototype>\n",
      "        <number>1</number>\n",
      "      </entry>\n",
      "      </initialfacilitylist>\n",
      "    <name>SeveralBees in The Other Beehive</name>\n",
      "    <config>\n",
      "      <NullInst/>\n",
      "    </config>\n",
      "  </institution>\n",
      "</region>\n",
      "\n",
      "<region>\n",
      "  <name>The Beehive Infrastructure</name>\n",
      "  <config>\n",
      "    <NullRegion/>\n",
      "  </config>\n",
      "  <institution>\n",
      "    <initialfacilitylist>\n",
      "      <entry>\n",
      "        <prototype>UraniumMine</prototype>\n",
      "        <number>1</number>\n",
      "      </entry>\n",
      "      <entry>\n",
      "        <prototype>EnrichmentPlant</prototype>\n",
      "        <number>1</number>\n",
      "      </entry>\n",
      "      <entry>\n",
      "        <prototype>NuclearRepository</prototype>\n",
      "        <number>1</number>\n",
      "      </entry>\n",
      "    </initialfacilitylist>\n",
      "    <name>The Beehive Nuclear</name>\n",
      "    <config>\n",
      "      <NullInst/>\n",
      "    </config>\n",
      "  </institution>\n",
      "</region>\n",
      "<region>\n",
      "  <name>The Other Beehive Infrastructure</name>\n",
      "  <config>\n",
      "    <NullRegion/>\n",
      "  </config>\n",
      "  <institution>\n",
      "    <initialfacilitylist>\n",
      "      <entry>\n",
      "        <prototype>UraniumMine</prototype>\n",
      "        <number>1</number>\n",
      "      </entry>\n",
      "      <entry>\n",
      "        <prototype>EnrichmentPlant</prototype>\n",
      "        <number>1</number>\n",
      "      </entry>\n",
      "      <entry>\n",
      "        <prototype>NuclearRepository</prototype>\n",
      "        <number>1</number>\n",
      "      </entry>\n",
      "    </initialfacilitylist>\n",
      "    <name>The Other Beehive Nuclear</name>\n",
      "    <config>\n",
      "      <NullInst/>\n",
      "    </config>\n",
      "  </institution>\n",
      "</region>\n",
      "\n"
     ]
    }
   ],
   "source": [
    "rendered_region = cywrite.write_region(reactor_data,deployment_data,'region_template.xml','1xn-rendered-region.xml')\n",
    "with open(rendered_region,'r') as region:\n",
    "    print(region.read())"
   ]
  },
  {
   "cell_type": "code",
   "execution_count": 16,
   "metadata": {},
   "outputs": [
    {
     "name": "stdout",
     "output_type": "stream",
     "text": [
      "<simulation>\n",
      "  <control>\n",
      "    <duration>720</duration>\n",
      "    <startmonth>1</startmonth>\n",
      "    <startyear>2018</startyear>\n",
      "    <decay>never</decay>\n",
      "  </control>\n",
      "\n",
      "  <archetypes>\n",
      "    <spec>\n",
      "      <lib>cycamore</lib>\n",
      "      <name>Enrichment</name>\n",
      "    </spec>\n",
      "    <spec>\n",
      "      <lib>cycamore</lib>\n",
      "      <name>Reactor</name>\n",
      "    </spec>\n",
      "    <spec>\n",
      "      <lib>cycamore</lib>\n",
      "      <name>Source</name>\n",
      "    </spec>\n",
      "    <spec>\n",
      "      <lib>cycamore</lib>\n",
      "      <name>Sink</name>\n",
      "    </spec>\n",
      "    <spec>\n",
      "      <lib>agents</lib>\n",
      "      <name>NullRegion</name>\n",
      "    </spec>\n",
      "    <spec>\n",
      "      <lib>agents</lib>\n",
      "      <name>NullInst</name>\n",
      "    </spec>\n",
      "  </archetypes>\n",
      "\n",
      "  <commodity>\n",
      "    <name>u-ore</name>\n",
      "    <solution_priority>1.0</solution_priority>\n",
      "  </commodity>\n",
      "  <commodity>\n",
      "    <name>fresh-uox</name>\n",
      "    <solution_priority>1.0</solution_priority>\n",
      "  </commodity>\n",
      "  <commodity>\n",
      "    <name>tails</name>\n",
      "    <solution_priority>1.0</solution_priority>\n",
      "  </commodity>\n",
      "  <commodity>\n",
      "    <name>spent-uox</name>\n",
      "    <solution_priority>1.0</solution_priority>\n",
      "  </commodity>\n",
      "\n",
      "  <facility>\n",
      "    <name>UraniumMine</name>\n",
      "    <config>\n",
      "      <Source>\n",
      "        <outcommod>u-ore</outcommod>\n",
      "      </Source>\n",
      "    </config>\n",
      "  </facility>\n",
      "\n",
      "  <facility>\n",
      "    <name>EnrichmentPlant</name>\n",
      "    <config>\n",
      "      <Enrichment>\n",
      "        <feed_commod>u-ore</feed_commod>\n",
      "        <feed_recipe>nat-u</feed_recipe>\n",
      "        <product_commod>fresh-uox</product_commod>\n",
      "        <tails_commod>tails</tails_commod>\n",
      "        <max_feed_inventory>1000000</max_feed_inventory>\n",
      "      </Enrichment>\n",
      "    </config>\n",
      "  </facility>\n",
      "\n",
      "  <facility>\n",
      "  <name>1000MWe Honeycomb3000</name>\n",
      "  <config>\n",
      "    <Reactor>\n",
      "      <fuel_incommods> <val>fresh-uox</val> </fuel_incommods>\n",
      "      <fuel_inrecipes> <val>fresh-uox</val> </fuel_inrecipes>\n",
      "      <fuel_outcommods> <val>spent-uox</val> </fuel_outcommods>\n",
      "      <fuel_outrecipes> <val>spent-uox</val> </fuel_outrecipes>\n",
      "      <cycle_time>18</cycle_time>\n",
      "      <refuel_time>1</refuel_time>\n",
      "      <assem_size>33000</assem_size>\n",
      "      <n_assem_core>3</n_assem_core>\n",
      "      <n_assem_batch>1</n_assem_batch>\n",
      "      <power_cap>1000</power_cap>\n",
      "    </Reactor>\n",
      "  </config>\n",
      "</facility>\n",
      " \n",
      "<facility>\n",
      "  <name>1500MWe Honeycomb3000</name>\n",
      "  <config>\n",
      "    <Reactor>\n",
      "      <fuel_incommods> <val>fresh-uox</val> </fuel_incommods>\n",
      "      <fuel_inrecipes> <val>fresh-uox</val> </fuel_inrecipes>\n",
      "      <fuel_outcommods> <val>spent-uox</val> </fuel_outcommods>\n",
      "      <fuel_outrecipes> <val>spent-uox</val> </fuel_outrecipes>\n",
      "      <cycle_time>18</cycle_time>\n",
      "      <refuel_time>1</refuel_time>\n",
      "      <assem_size>33000</assem_size>\n",
      "      <n_assem_core>3</n_assem_core>\n",
      "      <n_assem_batch>1</n_assem_batch>\n",
      "      <power_cap>1500</power_cap>\n",
      "    </Reactor>\n",
      "  </config>\n",
      "</facility>\n",
      " \n",
      "<facility>\n",
      "  <name>1000MWe Pollinator</name>\n",
      "  <config>\n",
      "    <Reactor>\n",
      "      <fuel_incommods> <val>fresh-uox</val> </fuel_incommods>\n",
      "      <fuel_inrecipes> <val>fresh-uox</val> </fuel_inrecipes>\n",
      "      <fuel_outcommods> <val>spent-uox</val> </fuel_outcommods>\n",
      "      <fuel_outrecipes> <val>spent-uox</val> </fuel_outrecipes>\n",
      "      <cycle_time>18</cycle_time>\n",
      "      <refuel_time>1</refuel_time>\n",
      "      <assem_size>33000</assem_size>\n",
      "      <n_assem_core>3</n_assem_core>\n",
      "      <n_assem_batch>1</n_assem_batch>\n",
      "      <power_cap>1000</power_cap>\n",
      "    </Reactor>\n",
      "  </config>\n",
      "</facility>\n",
      " \n",
      "\n",
      "\n",
      "  <facility>\n",
      "    <name>NuclearRepository</name>\n",
      "    <config>\n",
      "      <Sink>\n",
      "        <in_commods>\n",
      "          <val>spent-uox</val>\n",
      "        </in_commods>\n",
      "      </Sink>\n",
      "    </config>\n",
      "  </facility>\n",
      "\n",
      "  \n",
      "<region>\n",
      "  <name>The Beehive QueenBee Reactors</name>\n",
      "  <config>\n",
      "    <NullRegion/>\n",
      "  </config>\n",
      "  <institution>\n",
      "    <initialfacilitylist>\n",
      "      <entry>\n",
      "        <prototype>1000MWe Honeycomb3000</prototype>\n",
      "        <number>2</number>\n",
      "      </entry>\n",
      "      <entry>\n",
      "        <prototype>1000MWe Pollinator</prototype>\n",
      "        <number>1</number>\n",
      "      </entry>\n",
      "      </initialfacilitylist>\n",
      "    <name>QueenBee in The Beehive</name>\n",
      "    <config>\n",
      "      <NullInst/>\n",
      "    </config>\n",
      "  </institution>\n",
      "</region>\n",
      "\n",
      "<region>\n",
      "  <name>The Beehive SeveralBees Reactors</name>\n",
      "  <config>\n",
      "    <NullRegion/>\n",
      "  </config>\n",
      "  <institution>\n",
      "    <initialfacilitylist>\n",
      "      <entry>\n",
      "        <prototype>1500MWe Honeycomb3000</prototype>\n",
      "        <number>2</number>\n",
      "      </entry>\n",
      "      <entry>\n",
      "        <prototype>1000MWe Pollinator</prototype>\n",
      "        <number>2</number>\n",
      "      </entry>\n",
      "      </initialfacilitylist>\n",
      "    <name>SeveralBees in The Beehive</name>\n",
      "    <config>\n",
      "      <NullInst/>\n",
      "    </config>\n",
      "  </institution>\n",
      "</region>\n",
      "\n",
      "<region>\n",
      "  <name>The Other Beehive QueenBee Reactors</name>\n",
      "  <config>\n",
      "    <NullRegion/>\n",
      "  </config>\n",
      "  <institution>\n",
      "    <initialfacilitylist>\n",
      "      <entry>\n",
      "        <prototype>1000MWe Honeycomb3000</prototype>\n",
      "        <number>2</number>\n",
      "      </entry>\n",
      "      <entry>\n",
      "        <prototype>1000MWe Pollinator</prototype>\n",
      "        <number>1</number>\n",
      "      </entry>\n",
      "      </initialfacilitylist>\n",
      "    <name>QueenBee in The Other Beehive</name>\n",
      "    <config>\n",
      "      <NullInst/>\n",
      "    </config>\n",
      "  </institution>\n",
      "</region>\n",
      "\n",
      "<region>\n",
      "  <name>The Other Beehive SeveralBees Reactors</name>\n",
      "  <config>\n",
      "    <NullRegion/>\n",
      "  </config>\n",
      "  <institution>\n",
      "    <initialfacilitylist>\n",
      "      <entry>\n",
      "        <prototype>1500MWe Honeycomb3000</prototype>\n",
      "        <number>1</number>\n",
      "      </entry>\n",
      "      <entry>\n",
      "        <prototype>1000MWe Pollinator</prototype>\n",
      "        <number>1</number>\n",
      "      </entry>\n",
      "      </initialfacilitylist>\n",
      "    <name>SeveralBees in The Other Beehive</name>\n",
      "    <config>\n",
      "      <NullInst/>\n",
      "    </config>\n",
      "  </institution>\n",
      "</region>\n",
      "\n",
      "<region>\n",
      "  <name>The Beehive Infrastructure</name>\n",
      "  <config>\n",
      "    <NullRegion/>\n",
      "  </config>\n",
      "  <institution>\n",
      "    <initialfacilitylist>\n",
      "      <entry>\n",
      "        <prototype>UraniumMine</prototype>\n",
      "        <number>1</number>\n",
      "      </entry>\n",
      "      <entry>\n",
      "        <prototype>EnrichmentPlant</prototype>\n",
      "        <number>1</number>\n",
      "      </entry>\n",
      "      <entry>\n",
      "        <prototype>NuclearRepository</prototype>\n",
      "        <number>1</number>\n",
      "      </entry>\n",
      "    </initialfacilitylist>\n",
      "    <name>The Beehive Nuclear</name>\n",
      "    <config>\n",
      "      <NullInst/>\n",
      "    </config>\n",
      "  </institution>\n",
      "</region>\n",
      "<region>\n",
      "  <name>The Other Beehive Infrastructure</name>\n",
      "  <config>\n",
      "    <NullRegion/>\n",
      "  </config>\n",
      "  <institution>\n",
      "    <initialfacilitylist>\n",
      "      <entry>\n",
      "        <prototype>UraniumMine</prototype>\n",
      "        <number>1</number>\n",
      "      </entry>\n",
      "      <entry>\n",
      "        <prototype>EnrichmentPlant</prototype>\n",
      "        <number>1</number>\n",
      "      </entry>\n",
      "      <entry>\n",
      "        <prototype>NuclearRepository</prototype>\n",
      "        <number>1</number>\n",
      "      </entry>\n",
      "    </initialfacilitylist>\n",
      "    <name>The Other Beehive Nuclear</name>\n",
      "    <config>\n",
      "      <NullInst/>\n",
      "    </config>\n",
      "  </institution>\n",
      "</region>\n",
      "\n",
      "\n",
      "  <recipe>\n",
      "  <name>nat-u</name>\n",
      "  <basis>mass</basis>\n",
      "  <nuclide>\n",
      "    <id>92235</id>\n",
      "    <comp>0.00711</comp>\n",
      "  </nuclide>\n",
      "  <nuclide>\n",
      "    <id>92238</id>\n",
      "    <comp>0.99289</comp>\n",
      "  </nuclide>\n",
      "</recipe>\n",
      "\n",
      "<recipe>\n",
      "  <name>fresh-uox</name>\n",
      "  <basis>mass</basis>\n",
      "  <nuclide>\n",
      "    <id>92235</id>\n",
      "    <comp>0.04</comp>\n",
      "  </nuclide>\n",
      "  <nuclide>\n",
      "    <id>92238</id>\n",
      "    <comp>0.96</comp>\n",
      "  </nuclide>\n",
      "  </recipe>\n",
      "\n",
      "<recipe>\n",
      "  <name>spent-uox</name>\n",
      "  <basis>mass</basis>\n",
      "  <nuclide>\n",
      "    <id>92235</id>\n",
      "    <comp>0.011</comp>\n",
      "  </nuclide>\n",
      "  <nuclide>\n",
      "    <id>92238</id>\n",
      "    <comp>0.94</comp>\n",
      "  </nuclide>\n",
      "  <nuclide>\n",
      "    <id>94239</id>\n",
      "    <comp>0.009</comp>\n",
      "  </nuclide>\n",
      "  <nuclide>\n",
      "    <id>55137</id>\n",
      "    <comp>0.04</comp>\n",
      "  </nuclide>\n",
      "  </recipe>\n",
      "\n",
      "</simulation>\n"
     ]
    }
   ],
   "source": [
    "cywrite.write_main_input(simulation_parameters,rendered_reactor,rendered_region,rendered_recipe,\n",
    "                 'main_input.xml','1xn-rendered-main-input.xml')\n",
    "with open('1xn-rendered-main-input.xml','r') as maininput:\n",
    "    print(maininput.read())"
   ]
  },
  {
   "cell_type": "markdown",
   "metadata": {},
   "source": [
    "It is possible to change some of the variables in this input file to suit user preference.  However, certain names used in one scetion must match the names used in others.  For reference, an image of an input file has been included below, with the parts that must match each other highlighted in matching colors.\n",
    "<br><br>\n",
    "<img src=\"img/colorcodet1.png\">\n",
    "<img src=\"img/colorcodet2.png\">\n",
    "<img src=\"img/colorcodet3.png\">\n",
    "<img src=\"img/colorcodet4.png\">\n",
    "<img src=\"img/colorcodet5.png\">\n",
    "<img src=\"img/colorcodet6.png\">"
   ]
  },
  {
   "cell_type": "markdown",
   "metadata": {},
   "source": [
    "### Run the Simulation:\n",
    "*CYCLUS* can be run using a single terminal command, given below.  The cell will run this command for you, but it's also possible to remove the ! and directly run it in the terminal"
   ]
  },
  {
   "cell_type": "code",
   "execution_count": 17,
   "metadata": {},
   "outputs": [],
   "source": [
    "# CYCLUS will not overwrite an old file - delete the old version if you run a simulation again and put\n",
    "# the output to the same filename\n",
    "#!rm singlereactortutorial.sqlite\n",
    "#!cyclus 1xn-rendered-main-input.xml -o singlereactortutorial.sqlite\n",
    "# this is a command that can be executed in your terminal, without the ! . The -o flag is used to\n",
    "# set the name of the output file.  Without it, the default is \"cyclus.sqlite\""
   ]
  },
  {
   "cell_type": "markdown",
   "metadata": {},
   "source": [
    "### Analyze the results:\n",
    "*CYCLUS* creates a .sqlite file as its output.  SQL is a database file type that consists of a series of tables.  A few functions have been included in basics.py to pull information from the sqlite database and create figures.<br><br>\n",
    "An sqlite database can be opened and its contents viewed, but these database browsers often aren't as helpful as importing the data into an external function and manipulating it with there would be.  However, it can still be helpful to open and view the tables.\n",
    "<img src=\"img/Selection_002.png\" width=\"850\"><br><br>\n",
    "This a view of the tables within the database (using DB browser for SQLite).  However, to view the data within these tables, switch to the Browse Data tab:<br>\n",
    "<img src=\"img/Selection_003.png\" width=\"850\"><br>\n",
    "And select the table of interest.  Some tables have data that may need to be manipulated or used alongside other data in other tables, which is why using something such as a python script is often ideal."
   ]
  },
  {
   "cell_type": "markdown",
   "metadata": {},
   "source": [
    "First, a cursor that points to the sqlite file is created:"
   ]
  },
  {
   "cell_type": "code",
   "execution_count": 18,
   "metadata": {},
   "outputs": [],
   "source": [
    "cur = analysis.cursor('singlereactortutorial.sqlite')\n",
    "ev  = cymetric_analysis.evaluator('singlereactortutorial.sqlite')"
   ]
  },
  {
   "cell_type": "markdown",
   "metadata": {},
   "source": [
    "plot_in_out_flux will plot the material coming into or out of the prototype of choice, and allows for cumulative and total plotting options.  For example, setting the influx boolean to true, cumulative to true, and total to true adds up all the isotopes cumulatively at each timestep for materials entering the reactor.  This creates a plot of cumulative fuel into reactors over time."
   ]
  },
  {
   "cell_type": "code",
   "execution_count": 19,
   "metadata": {},
   "outputs": [
    {
     "data": {
      "image/png": "[encoded data removed]",
      "text/plain": [
       "<Figure size 432x288 with 1 Axes>"
      ]
     },
     "metadata": {},
     "output_type": "display_data"
    }
   ],
   "source": [
    "analysis.plot_in_flux_cumulative(cur, 'NuclearRepository','Cumulative Isotope Inventory of Repository')"
   ]
  },
  {
   "cell_type": "code",
   "execution_count": 20,
   "metadata": {},
   "outputs": [
    {
     "data": {
      "image/png": "[encoded data removed]",
      "text/plain": [
       "<Figure size 432x288 with 1 Axes>"
      ]
     },
     "metadata": {},
     "output_type": "display_data"
    }
   ],
   "source": [
    "analysis.plot_out_flux_cumulative(cur, 'UraniumMine','Cumulative Isotope Outflux of Uranium Mine')\n"
   ]
  },
  {
   "cell_type": "code",
   "execution_count": 21,
   "metadata": {},
   "outputs": [
    {
     "data": {
      "image/png": "[encoded data removed]",
      "text/plain": [
       "<Figure size 432x288 with 1 Axes>"
      ]
     },
     "metadata": {},
     "output_type": "display_data"
    }
   ],
   "source": [
    "analysis.plot_out_flux_cumulative(cur, '1000MWe Honeycomb3000','Cumulative Isotope Outflux of 1000MWe Honeycomb3000')"
   ]
  },
  {
   "cell_type": "code",
   "execution_count": 22,
   "metadata": {},
   "outputs": [
    {
     "data": {
      "image/png": "[encoded data removed]",
      "text/plain": [
       "<Figure size 432x288 with 1 Axes>"
      ]
     },
     "metadata": {},
     "output_type": "display_data"
    }
   ],
   "source": [
    "analysis.plot_in_flux_basic(cur, '1000MWe Honeycomb3000','Isotope Influx of 1000MWe Honeycomb3000')"
   ]
  },
  {
   "cell_type": "code",
   "execution_count": 23,
   "metadata": {},
   "outputs": [
    {
     "data": {
      "text/plain": [
       "['52', '57']"
      ]
     },
     "execution_count": 23,
     "metadata": {},
     "output_type": "execute_result"
    }
   ],
   "source": [
    "analysis.prototype_id(cur, 'UraniumMine')"
   ]
  },
  {
   "cell_type": "code",
   "execution_count": 24,
   "metadata": {},
   "outputs": [],
   "source": [
    "outputfile = cym.dbopen('singlereactortutorial.sqlite')\n",
    "evaluate = cym.Evaluator(outputfile)\n",
    "ev1 = cym.Evaluator(outputfile)\n"
   ]
  },
  {
   "cell_type": "code",
   "execution_count": 25,
   "metadata": {},
   "outputs": [
    {
     "name": "stdout",
     "output_type": "stream",
     "text": [
      "total_mass of isotope in kg:\n"
     ]
    },
    {
     "data": {
      "text/plain": [
       "143570444.52554709"
      ]
     },
     "execution_count": 25,
     "metadata": {},
     "output_type": "execute_result"
    }
   ],
   "source": [
    "cymetric_analysis.total_isotope_mined(ev,isotope=[922380000],mines=['UraniumMine'])"
   ]
  },
  {
   "cell_type": "markdown",
   "metadata": {},
   "source": [
    "After reading and understanding the general structure of the *CYCLUS* output file and how to index within an sql file, you should be able to pull desired data in ways beyond the functions in this tutorial."
   ]
  },
  {
   "cell_type": "code",
   "execution_count": 26,
   "metadata": {},
   "outputs": [
    {
     "data": {
      "image/png": "[encoded data removed]",
      "text/plain": [
       "<Figure size 432x288 with 1 Axes>"
      ]
     },
     "metadata": {},
     "output_type": "display_data"
    }
   ],
   "source": [
    "analysis.plot_net_flux(cur,'1000MWe Honeycomb3000','Net flux')\n"
   ]
  },
  {
   "cell_type": "code",
   "execution_count": 27,
   "metadata": {},
   "outputs": [
    {
     "name": "stdout",
     "output_type": "stream",
     "text": [
      "The Average Fuel Utilization Factor is: \n",
      "0.0177723910034\n"
     ]
    },
    {
     "data": {
      "text/plain": [
       "array([ 0.        ,  0.11108108,  0.05554054,  0.07405405,  0.05554054,\n",
       "        0.06664865,  0.05554054,  0.0634749 ,  0.05554054,  0.06171171,\n",
       "        0.05554054,  0.06058968,  0.05554054,  0.05126819,  0.04760618,\n",
       "        0.04443243,  0.04165541,  0.03920509,  0.03702703,  0.0373547 ,\n",
       "        0.03577187,  0.03612393,  0.03471284,  0.03507824,  0.03380729,\n",
       "        0.03417879,  0.03302411,  0.03339693,  0.03234006,  0.03271099,\n",
       "        0.03173745,  0.03082018,  0.02995445,  0.02913602,  0.02836113,\n",
       "        0.02762638,  0.02692875,  0.02626548,  0.02670218,  0.02607537,\n",
       "        0.0264964 ,  0.02590231,  0.02630868,  0.02574411,  0.02613672,\n",
       "        0.02559893,  0.02597864,  0.02546523,  0.02583281,  0.02534169,\n",
       "        0.0248689 ,  0.02441342,  0.02397433,  0.02355076,  0.02314189,\n",
       "        0.02274698,  0.02236532,  0.02272946,  0.02236048,  0.02271306,\n",
       "        0.02235594,  0.02269768,  0.02235168,  0.02268322,  0.02234767,\n",
       "        0.02266961,  0.0223439 ,  0.02265676,  0.02234033,  0.02203261,\n",
       "        0.02173325,  0.02144192,  0.0211583 ,  0.02088208,  0.02061298,\n",
       "        0.02035073,  0.02065327,  0.02039702,  0.02069157,  0.02044107,\n",
       "        0.02072805,  0.02048304,  0.02076282,  0.02052306,  0.020796  ,\n",
       "        0.02056128,  0.0208277 ,  0.02059782,  0.02037295,  0.02015294,\n",
       "        0.01993763,  0.01972687,  0.01952052,  0.01931845,  0.01912051,\n",
       "        0.01937723,  0.01918268,  0.01943367,  0.01924239,  0.01948791,\n",
       "        0.0192998 ,  0.01954008,  0.01935504,  0.01959028,  0.01940822,\n",
       "        0.01963864,  0.01945946,  0.01928351,  0.01911072,  0.018941  ,\n",
       "        0.01877427,  0.01861044,  0.01844945,  0.01829122,  0.01851351,\n",
       "        0.01835741,  0.01857543,  0.01842141,  0.01863531,  0.01848331,\n",
       "        0.01869326,  0.01854323,  0.01874935,  0.01860126,  0.01880369,\n",
       "        0.01865748,  0.01851351,  0.01837176,  0.01823215,  0.01809466,\n",
       "        0.01795922,  0.01782579,  0.01769433,  0.01789007,  0.01776006,\n",
       "        0.0179525 ,  0.0178239 ,  0.01801315,  0.01788594,  0.0180721 ,\n",
       "        0.01794625,  0.01812942,  0.0180049 ,  0.01818517,  0.01806196,\n",
       "        0.01794042,  0.01782049,  0.01770216,  0.0175854 ,  0.01747016,\n",
       "        0.01735642,  0.01724415,  0.01741888,  0.01730765,  0.01747976,\n",
       "        0.01736955,  0.01753912,  0.01742991,  0.017597  ,  0.01748878,\n",
       "        0.01765347,  0.01754622,  0.01770858,  0.01760228,  0.01749726,\n",
       "        0.01739348,  0.01729092,  0.01718957,  0.0170894 ,  0.01699039,\n",
       "        0.01689251,  0.01705025,  0.01695315,  0.01710875,  0.01701242,\n",
       "        0.01716595,  0.01707037,  0.01722187,  0.01712704,  0.01727658,\n",
       "        0.01718248,  0.01733009,  0.01723672,  0.01714435,  0.01705296,\n",
       "        0.01696254,  0.01687308,  0.01678455,  0.01669695,  0.01661026,\n",
       "        0.01675396,  0.01666787,  0.01680982,  0.01672431,  0.01686454,\n",
       "        0.01677962,  0.01691816,  0.01683382,  0.01697072,  0.01688696,\n",
       "        0.01702225,  0.01693905,  0.01685666,  0.01677507,  0.01669427,\n",
       "        0.01661424,  0.01653497,  0.01645646,  0.01637868,  0.01651064,\n",
       "        0.01643334,  0.01656381,  0.01648699,  0.01661601,  0.01653965,\n",
       "        0.01666724,  0.01659135,  0.01671755,  0.01664211,  0.01676696,\n",
       "        0.01669197,  0.01661765,  0.01654399,  0.01647098,  0.01639861,\n",
       "        0.01632688,  0.01625577,  0.01618527,  0.01630724,  0.01623713,\n",
       "        0.01635783,  0.0162881 ,  0.01640756,  0.01633821,  0.01645646,\n",
       "        0.01638749,  0.01650453,  0.01643594,  0.01655182,  0.01648359,\n",
       "        0.01641592,  0.01634881,  0.01628224,  0.01621622,  0.01615072,\n",
       "        0.01608576,  0.01602131,  0.01613468,  0.01607055,  0.01618283,\n",
       "        0.01611902,  0.01623023,  0.01616673,  0.01627688,  0.0162137 ,\n",
       "        0.01632282,  0.01625994,  0.01636805,  0.01630548,  0.01624339,\n",
       "        0.01618177,  0.01612061,  0.01605992,  0.01599968,  0.01593989,\n",
       "        0.01588054,  0.01598645,  0.01592737,  0.01603232,  0.01597351,\n",
       "        0.01607752,  0.01601898,  0.01612207,  0.01606379,  0.01616598,\n",
       "        0.01610795,  0.01620926,  0.01615149,  0.01609413,  0.01603718,\n",
       "        0.01598064,  0.01592448,  0.01586873,  0.01581336,  0.01575837,\n",
       "        0.01585773,  0.01580297,  0.01590149,  0.01584696,  0.01594465,\n",
       "        0.01589035,  0.01598723,  0.01593315,  0.01602923,  0.01597537,\n",
       "        0.01607067,  0.01601703,  0.01596375,  0.01591082,  0.01585824,\n",
       "        0.015806  ,  0.01575411,  0.01570256,  0.01565135,  0.01574491,\n",
       "        0.01569389,  0.01578672,  0.01573589,  0.01582798,  0.01577735,\n",
       "        0.01586873,  0.01581828,  0.01590895,  0.0158587 ,  0.01594867,\n",
       "        0.01589861,  0.01584887,  0.01579943,  0.0157503 ,  0.01570148,\n",
       "        0.01565296,  0.01560474,  0.01555681,  0.01564522,  0.01559747,\n",
       "        0.01568522,  0.01563763,  0.01572473,  0.01567731,  0.01576376,\n",
       "        0.01571651,  0.01580233,  0.01575524,  0.01584044,  0.01579352,\n",
       "        0.01574688,  0.01570051,  0.01565441,  0.01560858,  0.01556302,\n",
       "        0.01551773,  0.0154727 ,  0.01555649,  0.01551161,  0.01559481,\n",
       "        0.01555008,  0.01563269,  0.0155881 ,  0.01567014,  0.0156257 ,\n",
       "        0.01570717,  0.01566287,  0.01574378,  0.01569963,  0.01565572,\n",
       "        0.01561206,  0.01556865,  0.01552548,  0.01548254,  0.01543984,\n",
       "        0.01539738,  0.01547701,  0.01543468,  0.01551378,  0.01547158,\n",
       "        0.01555015,  0.01550807,  0.01558612,  0.01554418,  0.01562171,\n",
       "        0.01557989,  0.01565692,  0.01561523,  0.01557377,  0.01553252,\n",
       "        0.0154915 ,  0.01545069,  0.01541009,  0.01536971,  0.01532954,\n",
       "        0.01540541,  0.01536535,  0.01544073,  0.01540079,  0.01547569,\n",
       "        0.01543587,  0.01551029,  0.01547059,  0.01554454,  0.01550495,\n",
       "        0.01557844,  0.01553897,  0.01549969,  0.0154606 ,  0.01542172,\n",
       "        0.01538303,  0.01534453,  0.01530623,  0.01526812,  0.01534056,\n",
       "        0.01530255,  0.01537454,  0.01533664,  0.0154082 ,  0.01537039,\n",
       "        0.01544152,  0.01540382,  0.01547452,  0.01543692,  0.0155072 ,\n",
       "        0.01546971,  0.01543239,  0.01539526,  0.01535831,  0.01532153,\n",
       "        0.01528493,  0.0152485 ,  0.01521225,  0.01528155,  0.01524539,\n",
       "        0.01531429,  0.01527823,  0.01534673,  0.01531075,  0.01537886,\n",
       "        0.01534298,  0.01541069,  0.0153749 ,  0.01544223,  0.01540653,\n",
       "        0.015371  ,  0.01533563,  0.01530042,  0.01526538,  0.0152305 ,\n",
       "        0.01519577,  0.0151612 ,  0.01522764,  0.01519316,  0.01525922,\n",
       "        0.01522482,  0.01529051,  0.0152562 ,  0.01532153,  0.0152873 ,\n",
       "        0.01535227,  0.01531812,  0.01538273,  0.01534867,  0.01531476,\n",
       "        0.015281  ,  0.01524738,  0.01521391,  0.01518059,  0.01514742,\n",
       "        0.01511439,  0.01517818,  0.01514523,  0.01520867,  0.0151758 ,\n",
       "        0.01523891,  0.01520611,  0.01526888,  0.01523615,  0.01529859,\n",
       "        0.01526594,  0.01532805,  0.01529548,  0.01526305,  0.01523075,\n",
       "        0.01519859,  0.01516657,  0.01513468,  0.01510292,  0.0150713 ,\n",
       "        0.01513265,  0.0151011 ,  0.01516213,  0.01513065,  0.01519136,\n",
       "        0.01515995,  0.01522035,  0.01518901,  0.01524911,  0.01521783,\n",
       "        0.01527763,  0.01524642,  0.01521535,  0.0151844 ,  0.01515357,\n",
       "        0.01512287,  0.01509229,  0.01506184,  0.01503151,  0.0150906 ,\n",
       "        0.01506033,  0.01511912,  0.01508892,  0.01514742,  0.01511728,\n",
       "        0.01517549,  0.01514542,  0.01520334,  0.01517333,  0.01523098,\n",
       "        0.01520103,  0.0151712 ,  0.01514149,  0.01511189,  0.01508241,\n",
       "        0.01505304,  0.01502379,  0.01499465,  0.01505164,  0.01502256,\n",
       "        0.01507927,  0.01505025,  0.01510669,  0.01507772,  0.01513389,\n",
       "        0.01510499,  0.01516089,  0.01513205,  0.01518769,  0.0151589 ,\n",
       "        0.01513023,  0.01510166,  0.0150732 ,  0.01504484,  0.01501659,\n",
       "        0.01498845,  0.01496041,  0.01501544,  0.01498746,  0.01504223,\n",
       "        0.0150143 ,  0.01506882,  0.01504095,  0.01509521,  0.01506739,\n",
       "        0.01512141,  0.01509365,  0.01514742,  0.01511971,  0.0150921 ,\n",
       "        0.01506459,  0.01503718,  0.01500987,  0.01498265,  0.01495554,\n",
       "        0.01492853,  0.01498173,  0.01495476,  0.01500772,  0.01498081,\n",
       "        0.01503353,  0.01500666,  0.01505915,  0.01503234,  0.0150846 ,\n",
       "        0.01505783,  0.01510986,  0.01508315,  0.01505652,  0.01503   ,\n",
       "        0.01500356,  0.01497722,  0.01495098,  0.01492482,  0.01489875,\n",
       "        0.01495024,  0.01492422,  0.01497549,  0.01494952,  0.01500056,\n",
       "        0.01497464,  0.01502546,  0.01499958,  0.01505019,  0.01502435,\n",
       "        0.01507475,  0.01504896,  0.01502326,  0.01499765,  0.01497213,\n",
       "        0.01494669,  0.01492134,  0.01489607,  0.0148709 ,  0.01492078,\n",
       "        0.01489564,  0.01494532,  0.01492023,  0.01496969,  0.01494464,\n",
       "        0.0149939 ,  0.0149689 ,  0.01501796,  0.01499299,  0.01504185,\n",
       "        0.01501693,  0.01499209,  0.01496733,  0.01494266,  0.01491806,\n",
       "        0.01489355,  0.01486912,  0.01484477,  0.01489315,  0.01486884,\n",
       "        0.01491702,  0.01489275,  0.01494073,  0.0149165 ,  0.01496429,\n",
       "        0.0149401 ,  0.0149877 ,  0.01496355,  0.01501096,  0.01498685,\n",
       "        0.01496281,  0.01493886,  0.01491498,  0.01489118,  0.01486745,\n",
       "        0.0148438 ,  0.01482022,  0.01486718,  0.01484364,  0.01489041,\n",
       "        0.01486691,  0.0149135 ,  0.01489004,  0.01493644,  0.01491302,\n",
       "        0.01495924,  0.01493586,  0.0149819 ,  0.01495855,  0.01493527,\n",
       "        0.01491207,  0.01488893,  0.01486587,  0.01484288,  0.01481996,\n",
       "        0.01479711,  0.01484273,  0.01481992,  0.01486536,  0.01484258,\n",
       "        0.01488786,  0.01486511,  0.01491021,  0.0148875 ,  0.01493243,\n",
       "        0.01490976,  0.01495452,  0.01493188,  0.01490931,  0.01488681,\n",
       "        0.01486438,  0.01484201,  0.01481971,  0.01479748,  0.01477531,\n",
       "        0.01481967,  0.01479754,  0.01484173,  0.01481963,  0.01486366,\n",
       "        0.01484159,  0.01488546,  0.01486342,  0.01490713,  0.01488513,\n",
       "        0.01492867,  0.0149067 ,  0.0148848 ,  0.01486296,  0.01484119,\n",
       "        0.01481948,  0.01479783,  0.01477625,  0.01475473,  0.01479789,\n",
       "        0.0147764 ,  0.0148194 ,  0.01479794,  0.01484079,  0.01481936,\n",
       "        0.01486206,  0.01484066,  0.0148832 ,  0.01486184,  0.01490423,\n",
       "        0.01488289,  0.01486162,  0.01484041,  0.01481925,  0.01479816,\n",
       "        0.01477713,  0.01475616,  0.01473525,  0.01477727,  0.01475639,\n",
       "        0.01479827,  0.01477742,  0.01481915,  0.01479832,  0.01483991,\n",
       "        0.01481911,  0.01486055,  0.01483979,  0.01488108,  0.01486035,\n",
       "        0.01483967,  0.01481904,  0.01479848,  0.01477797,  0.01475752])"
      ]
     },
     "execution_count": 27,
     "metadata": {},
     "output_type": "execute_result"
    }
   ],
   "source": [
    "analysis.u_util_calc(cur)"
   ]
  },
  {
   "cell_type": "code",
   "execution_count": 28,
   "metadata": {},
   "outputs": [
    {
     "name": "stdout",
     "output_type": "stream",
     "text": [
      "The Average Fuel Utilization Factor is: \n",
      "0.0177723910034\n"
     ]
    },
    {
     "data": {
      "image/png": "[encoded data removed]",
      "text/plain": [
       "<Figure size 432x288 with 1 Axes>"
      ]
     },
     "metadata": {},
     "output_type": "display_data"
    }
   ],
   "source": [
    "analysis.plot_uranium_utilization(cur)\n"
   ]
  },
  {
   "cell_type": "code",
   "execution_count": null,
   "metadata": {},
   "outputs": [],
   "source": []
  }
 ],
 "metadata": {
  "kernelspec": {
   "display_name": "Python 3",
   "language": "python",
   "name": "python3"
  },
  "language_info": {
   "codemirror_mode": {
    "name": "ipython",
    "version": 3
   },
   "file_extension": ".py",
   "mimetype": "text/x-python",
   "name": "python",
   "nbconvert_exporter": "python",
   "pygments_lexer": "ipython3",
   "version": "3.6.5"
  }
 },
 "nbformat": 4,
 "nbformat_minor": 2
}
