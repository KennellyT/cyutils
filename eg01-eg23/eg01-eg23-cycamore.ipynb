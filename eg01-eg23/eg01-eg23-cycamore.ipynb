{
 "cells": [
  {
   "cell_type": "markdown",
   "metadata": {
    "collapsed": false
   },
   "source": [
    "### Import Necessary Module and Set Path "
   ]
  },
  {
   "cell_type": "code",
   "execution_count": 5,
   "metadata": {
    "collapsed": true
   },
   "outputs": [],
   "source": [
    "import sqlite3 as lite\n",
    "import os\n",
    "import sys\n",
    "import collections\n",
    "from pyne import nucname\n",
    "sys.path.insert(0, '../scripts/')\n",
    "jupyter_directory = os.getcwd()"
   ]
  },
  {
   "cell_type": "code",
   "execution_count": 6,
   "metadata": {
    "collapsed": false
   },
   "outputs": [],
   "source": [
    "import analysis as an"
   ]
  },
  {
   "cell_type": "markdown",
   "metadata": {},
   "source": [
    "## Run Cyclus Input file"
   ]
  },
  {
   "cell_type": "code",
   "execution_count": 7,
   "metadata": {
    "collapsed": false
   },
   "outputs": [
    {
     "name": "stdout",
     "output_type": "stream",
     "text": [
      "              :                                                               \n",
      "          .CL:CC CC             _Q     _Q  _Q_Q    _Q    _Q              _Q   \n",
      "        CC;CCCCCCCC:C;         /_\\)   /_\\)/_/\\\\)  /_\\)  /_\\)            /_\\)  \n",
      "        CCCCCCCCCCCCCl       __O|/O___O|/O_OO|/O__O|/O__O|/O____________O|/O__\n",
      "     CCCCCCf     iCCCLCC     /////////////////////////////////////////////////\n",
      "     iCCCt  ;;;;;.  CCCC                                                      \n",
      "    CCCC  ;;;;;;;;;. CClL.                          c                         \n",
      "   CCCC ,;;       ;;: CCCC  ;                   : CCCCi                       \n",
      "    CCC ;;         ;;  CC   ;;:                CCC`   `C;                     \n",
      "  lCCC ;;              CCCC  ;;;:             :CC .;;. C;   ;    :   ;  :;;   \n",
      "  CCCC ;.              CCCC    ;;;,           CC ;    ; Ci  ;    :   ;  :  ;  \n",
      "   iCC :;               CC       ;;;,        ;C ;       CC  ;    :   ; .      \n",
      "  CCCi ;;               CCC        ;;;.      .C ;       tf  ;    :   ;  ;.    \n",
      "  CCC  ;;               CCC          ;;;;;;; fC :       lC  ;    :   ;    ;:  \n",
      "   iCf ;;               CC         :;;:      tC ;       CC  ;    :   ;     ;  \n",
      "  fCCC :;              LCCf      ;;;:         LC :.  ,: C   ;    ;   ; ;   ;  \n",
      "  CCCC  ;;             CCCC    ;;;:           CCi `;;` CC.  ;;;; :;.;.  ; ,;  \n",
      "    CCl ;;             CC    ;;;;              CCC    CCL                     \n",
      "   tCCC  ;;        ;; CCCL  ;;;                  tCCCCC.                      \n",
      "    CCCC  ;;     :;; CCCCf  ;                     ,L                          \n",
      "     lCCC   ;;;;;;  CCCL                                                      \n",
      "     CCCCCC  :;;  fCCCCC                                                      \n",
      "      . CCCC     CCCC .                                                       \n",
      "       .CCCCCCCCCCCCCi                                                        \n",
      "          iCCCCCLCf                                                           \n",
      "           .  C. ,                                                            \n",
      "              :                                                               \n",
      "Experimental Warning: MatlSellPolicy is experimental and its API may be subject to change\n",
      "Experimental Warning: the Mixer archetype is experimental\n",
      "Experimental Warning: MatlBuyPolicy is experimental and its API may be subject to change\n",
      "Experimental Warning: MatlSellPolicy is experimental and its API may be subject to change\n",
      "Experimental Warning: The Storage Facility is experimental.\n",
      "Experimental Warning: MatlSellPolicy is experimental and its API may be subject to change\n",
      "Experimental Warning: the Mixer archetype is experimental\n",
      "Experimental Warning: MatlBuyPolicy is experimental and its API may be subject to change\n",
      "Experimental Warning: MatlSellPolicy is experimental and its API may be subject to change\n",
      "Experimental Warning: The Storage Facility is experimental.\n",
      "Experimental Warning: MatlBuyPolicy is experimental and its API may be subject to change\n",
      "Experimental Warning: MatlSellPolicy is experimental and its API may be subject to change\n",
      "Experimental Warning: The Storage Facility is experimental.\n",
      "Experimental Warning: MatlSellPolicy is experimental and its API may be subject to change\n",
      "Experimental Warning: the Mixer archetype is experimental\n",
      "Experimental Warning: MatlBuyPolicy is experimental and its API may be subject to change\n",
      "Experimental Warning: MatlSellPolicy is experimental and its API may be subject to change\n",
      "Experimental Warning: The Storage Facility is experimental.\n",
      "Experimental Warning: MatlBuyPolicy is experimental and its API may be subject to change\n",
      "Experimental Warning: MatlSellPolicy is experimental and its API may be subject to change\n",
      "Experimental Warning: The Storage Facility is experimental.\n",
      "Experimental Warning: MatlSellPolicy is experimental and its API may be subject to change\n",
      "Experimental Warning: the Mixer archetype is experimental\n",
      "Experimental Warning: MatlBuyPolicy is experimental and its API may be subject to change\n",
      "Experimental Warning: MatlSellPolicy is experimental and its API may be subject to change\n",
      "Experimental Warning: The Storage Facility is experimental.\n",
      "Experimental Warning: MatlBuyPolicy is experimental and its API may be subject to change\n",
      "Experimental Warning: MatlSellPolicy is experimental and its API may be subject to change\n",
      "Experimental Warning: The Storage Facility is experimental.\n",
      "Experimental Warning: MatlSellPolicy is experimental and its API may be subject to change\n",
      "Experimental Warning: the Mixer archetype is experimental\n",
      "Experimental Warning: MatlBuyPolicy is experimental and its API may be subject to change\n",
      "Experimental Warning: MatlSellPolicy is experimental and its API may be subject to change\n",
      "Experimental Warning: The Storage Facility is experimental.\n",
      "Experimental Warning: MatlBuyPolicy is experimental and its API may be subject to change\n",
      "Experimental Warning: MatlSellPolicy is experimental and its API may be subject to change\n",
      "Experimental Warning: The Storage Facility is experimental.\n",
      "\n",
      "Status: Cyclus run successful!\n",
      "Output location: cyclus.sqlite\n",
      "Simulation ID: 3e9e4d33-b931-40b3-ace5-5b533dcd8e8e\n"
     ]
    }
   ],
   "source": [
    "! rm cyclus.sqlite\n",
    "! cyclus eg01-eg23-cycamore.xml"
   ]
  },
  {
   "cell_type": "markdown",
   "metadata": {},
   "source": [
    "### The output file should be named \n",
    "         \n",
    "          cyclus.sqlite"
   ]
  },
  {
   "cell_type": "code",
   "execution_count": 8,
   "metadata": {
    "collapsed": false
   },
   "outputs": [
    {
     "name": "stdout",
     "output_type": "stream",
     "text": [
      "sink_source_facilities has no values\n",
      "sink_source_facilities has no values\n"
     ]
    },
    {
     "name": "stderr",
     "output_type": "stream",
     "text": [
      "../scripts/analysis.py:855: RuntimeWarning: invalid value encountered in true_divide\n",
      "  u_util_timeseries = np.nan_to_num(fuel_timeseries / u_supply_timeseries)\n"
     ]
    },
    {
     "name": "stdout",
     "output_type": "stream",
     "text": [
      "The Average Fuel Utilization Factor is: \n",
      "0.164129777288\n",
      "Finished!\n"
     ]
    }
   ],
   "source": [
    "filename = 'cyclus.sqlite'\n",
    "# Wait for the complete message to move on\n",
    "cur = an.get_cursor(filename)\n",
    "# get simulation time info\n",
    "init_year, init_month, duration, timestep = an.get_timesteps(cur)\n",
    "\n",
    "# get fuel mass timeseries\n",
    "fuel_dict = an.fuel_usage_timeseries(cur, ['uox', 'sfr_fuel'])\n",
    "an.stacked_bar_chart(fuel_dict, timestep,\n",
    "                  'Years', 'Mass[MTHM]',\n",
    "                  'Total Fuel Mass vs Time',\n",
    "                  'total_fuel',\n",
    "                  init_year)\n",
    "\n",
    "\n",
    "# prints net capacity and number of reactor timeseries\n",
    "an.plot_power(cur)\n",
    "\n",
    "# get tailings mass timeseries\n",
    "agent_ids = an.get_agent_ids(cur, 'enrichment')\n",
    "tailings = an.facility_commodity_flux(cur, agent_ids,\n",
    "                                      ['tailings'], True)\n",
    "an.stacked_bar_chart(tailings, timestep,\n",
    "                  'Year', 'Mass [MTHM]',\n",
    "                  'Tailings vs Time',\n",
    "                  'tailings', init_year)\n",
    "\n",
    "# natural uranium demand\n",
    "nat_u = collections.OrderedDict()\n",
    "nat_u['nat_u'] = an.nat_u_timeseries(cur)\n",
    "an.stacked_bar_chart(nat_u, timestep,\n",
    "                     'Years', 'Natural Uranium Mass',\n",
    "                     'Natural Uranium Demand vs Time',\n",
    "                     'nat_u', init_year)\n",
    "\n",
    "# uranium utilization\n",
    "dictionary = {}\n",
    "dictionary['uranium_utilization'] = an.u_util_calc(cur)\n",
    "an.stacked_bar_chart(dictionary, timestep,\n",
    "                     'Years', 'U Utilization Factor',\n",
    "                     'U Utilization vs Time',\n",
    "                     'u_util', init_year)\n",
    "\n",
    "# get plutonium flow\n",
    "agent_ids = an.get_agent_ids(cur, 'separations')\n",
    "combined = an.facility_commodity_flux(cur, agent_ids, ['uox_Pu', 'sfr_Pu'], True)\n",
    "uox_Pu = an.facility_commodity_flux(cur, agent_ids, ['uox_Pu'], True)\n",
    "mox_Pu = an.facility_commodity_flux(cur, agent_ids, ['sfr_Pu'], True)\n",
    "an.stacked_bar_chart(combined, timestep, 'Years', 'Mass[MTHM]',\n",
    "                  'Total reprocessed Pu outflux vs Time', 'combined',\n",
    "                  init_year)\n",
    "an.stacked_bar_chart(uox_Pu, timestep, 'Years', 'Mass[MTHM]',\n",
    "                  'reprocessed Pu from spent UOX vs Time', 'uox_Pu',\n",
    "                  init_year)\n",
    "an.stacked_bar_chart(mox_Pu, timestep, 'Years', 'Mass[MTHM]',\n",
    "                  'reprocessed Pu from spent MOX vs Time', 'sfr_Pu',\n",
    "                  init_year)\n",
    "\n",
    "print('Finished!')"
   ]
  },
  {
   "cell_type": "code",
   "execution_count": 7,
   "metadata": {
    "collapsed": false
   },
   "outputs": [
    {
     "name": "stdout",
     "output_type": "stream",
     "text": [
      "The Number of LWRs Deployed:\n",
      "391\n",
      "The Number of FRs Deployed:\n",
      "2041\n"
     ]
    }
   ],
   "source": [
    "# Number of Reactors Deployed\n",
    "cur = an.get_cursor(filename)\n",
    "lwr = cur.execute('SELECT count(*) FROM agententry '\n",
    "                  'WHERE prototype = \"lwr\"').fetchone()\n",
    "print('The Number of LWRs Deployed:')\n",
    "print(lwr[0])\n",
    "\n",
    "sfr = cur.execute('SELECT count(*) FROM agententry '\n",
    "                  'WHERE prototype = \"fr\"').fetchone()\n",
    "print('The Number of FRs Deployed:')\n",
    "print(sfr[0])"
   ]
  },
  {
   "cell_type": "code",
   "execution_count": 8,
   "metadata": {
    "collapsed": false
   },
   "outputs": [
    {
     "name": "stdout",
     "output_type": "stream",
     "text": [
      "Composition for fresh sfr fuel: \n",
      "U232: 7.641387132369223e-08 %\n",
      "U233: 1.691727832793353e-07 %\n",
      "U234: 0.013134963735120636 %\n",
      "U235: 0.6309463459081436 %\n",
      "U236: 0.4359981482910589 %\n",
      "U238: 86.01992029647901 %\n",
      "Pu238: 0.31638317090264156 %\n",
      "Pu239: 6.583809648037809 %\n",
      "Pu240: 3.1540637705938117 %\n",
      "Pu241: 1.9080675065539083 %\n",
      "Pu242: 0.9376448082728538 %\n",
      "Pu244: 3.109563897755565e-05 %\n",
      "\n",
      " \n",
      "\n",
      "Composition for fresh sfr spent fuel: \n",
      "H1: 6.768403861700439 %\n",
      "H3: 1.9314999999983778e-05 %\n",
      "He4: 0.0011680230123193587 %\n",
      "Kr81: 8.733999999992664e-10 %\n",
      "Kr85: 0.0032470999999972727 %\n",
      "Sr90: 0.05990220999994968 %\n",
      "Tc99: 0.1815299999998475 %\n",
      "I129: 0.057136999999952 %\n",
      "Cs134: 0.006368999999994649 %\n",
      "Cs135: 0.3108399999997389 %\n",
      "Cs137: 0.2763700399997679 %\n",
      "Pb206: 1.0353499999991303e-16 %\n",
      "Pb207: 1.6660922243959807e-14 %\n",
      "Pb208: 6.474133140217591e-09 %\n",
      "Pb210: 2.553670126997855e-15 %\n",
      "Bi209: 3.1156750209278127e-12 %\n",
      "Ra226: 4.086999999996567e-12 %\n",
      "Ra228: 3.363099999997175e-19 %\n",
      "Ac227: 4.331999999996361e-13 %\n",
      "Th228: 1.1001799999990758e-08 %\n",
      "Th229: 4.470299999996244e-10 %\n",
      "Th230: 1.9999999999983201e-07 %\n",
      "Th232: 3.5132818999970485e-09 %\n",
      "Pa231: 1.3482716999988676e-08 %\n",
      "U232: 2.2319645796591453e-06 %\n",
      "U233: 6.407108081024619e-07 %\n",
      "U234: 0.018945999999984087 %\n",
      "U235: 0.01978299999998338 %\n",
      "U236: 0.03061499999997428 %\n",
      "U238: 78.17999999993434 %\n",
      "Np237: 0.08513798999992848 %\n",
      "Pu238: 0.1485752099998752 %\n",
      "Pu239: 9.003626989992435 %\n",
      "Pu240: 3.720000209996875 %\n",
      "Pu241: 0.4649199999996094 %\n",
      "Pu242: 0.30911765999974034 %\n",
      "Pu244: 1.3562999999988608e-06 %\n",
      "Am241: 0.17946999999984925 %\n",
      "Am242M: 0.011609599999990247 %\n",
      "Am243: 0.08391315999992952 %\n",
      "Cm242: 0.008819610462992592 %\n",
      "Cm243: 0.0006117599999994861 %\n",
      "Cm244: 0.05056050999995754 %\n",
      "Cm245: 0.012434999999989552 %\n",
      "Cm246: 0.006586999999994467 %\n",
      "Cm247: 0.0002609999999997807 %\n",
      "Cm248: 1.858599999998439e-05 %\n",
      "Cm250: 3.839799999996774e-12 %\n",
      "Cf249: 6.656011849984409e-07 %\n",
      "Cf250: 3.2563334381712644e-08 %\n",
      "Cf251: 9.378999999992124e-10 %\n",
      "Cf252: 2.0886999999982456e-11 %\n"
     ]
    }
   ],
   "source": [
    "# Fresh and Spent Fuel Composition\n",
    "cur = an.get_cursor(filename)\n",
    "\n",
    "sfr_fuel_qualid = cur.execute('SELECT qualid FROM transactions '\n",
    "                              'INNER JOIN resources ON '\n",
    "                              'resources.resourceid = transactions.resourceid '\n",
    "                              'WHERE commodity = \"sfr_fuel\"').fetchone()\n",
    "fresh_sfr_mox_comp = cur.execute('SELECT nucid, massfrac FROM compositions '\n",
    "                                 'WHERE qualid = ' + str(sfr_fuel_qualid[0])).fetchall()\n",
    "print('Composition for fresh sfr fuel: ')\n",
    "for isotope in fresh_sfr_mox_comp:\n",
    "    print(nucname.name(isotope[0]) + ': ' + str(isotope[1] * 100) + ' %')\n",
    "\n",
    "print('\\n \\n')\n",
    "\n",
    "sfr_waste_comp = cur.execute('SELECT nucid, massfrac FROM recipes '\n",
    "                             'LEFT OUTER JOIN compositions '\n",
    "                             'ON recipes.qualid = compositions.qualid '\n",
    "                             'WHERE recipe = \"sfr_waste_recipe\"').fetchall()\n",
    "print('Composition for sfr spent fuel: ')\n",
    "for isotope in sfr_waste_comp:\n",
    "    print(nucname.name(isotope[0]) + ': ' + str(isotope[1] * 100) + ' %')"
   ]
  },
  {
   "cell_type": "markdown",
   "metadata": {},
   "source": [
    "### Simulation Results"
   ]
  },
  {
   "cell_type": "code",
   "execution_count": 18,
   "metadata": {
    "collapsed": false
   },
   "outputs": [
    {
     "ename": "NameError",
     "evalue": "name 'nat_u' is not defined",
     "output_type": "error",
     "traceback": [
      "\u001b[0;31m---------------------------------------------------------------------------\u001b[0m",
      "\u001b[0;31mNameError\u001b[0m                                 Traceback (most recent call last)",
      "\u001b[0;32m<ipython-input-18-53479d2695b4>\u001b[0m in \u001b[0;36m<module>\u001b[0;34m()\u001b[0m\n\u001b[1;32m     21\u001b[0m \u001b[0;34m\u001b[0m\u001b[0m\n\u001b[1;32m     22\u001b[0m \u001b[0moutstring\u001b[0m \u001b[0;34m+=\u001b[0m \u001b[0;34m'Total Natural Uranium [MTHM]'\u001b[0m \u001b[0;34m+\u001b[0m \u001b[0;34m'\\n'\u001b[0m\u001b[0;34m\u001b[0m\u001b[0m\n\u001b[0;32m---> 23\u001b[0;31m \u001b[0moutstring\u001b[0m \u001b[0;34m+=\u001b[0m \u001b[0;34m'\\t'\u001b[0m \u001b[0;34m+\u001b[0m \u001b[0mstr\u001b[0m\u001b[0;34m(\u001b[0m\u001b[0mmax\u001b[0m\u001b[0;34m(\u001b[0m\u001b[0mnat_u\u001b[0m\u001b[0;34m[\u001b[0m\u001b[0;34m'nat_u'\u001b[0m\u001b[0;34m]\u001b[0m\u001b[0;34m)\u001b[0m\u001b[0;34m)\u001b[0m \u001b[0;34m+\u001b[0m \u001b[0;34m'\\n'\u001b[0m\u001b[0;34m\u001b[0m\u001b[0m\n\u001b[0m\u001b[1;32m     24\u001b[0m \u001b[0;34m\u001b[0m\u001b[0m\n\u001b[1;32m     25\u001b[0m \u001b[0moutstring\u001b[0m \u001b[0;34m+=\u001b[0m \u001b[0;34m'Total Tailings [MTHM]'\u001b[0m \u001b[0;34m+\u001b[0m \u001b[0;34m'\\n'\u001b[0m\u001b[0;34m\u001b[0m\u001b[0m\n",
      "\u001b[0;31mNameError\u001b[0m: name 'nat_u' is not defined"
     ]
    }
   ],
   "source": [
    "outstring = ''\n",
    "outstring += 'Initial Year:' + str(init_year) + '\\n'\n",
    "outstring += 'Initial Month:' + str(init_month) + '\\n'\n",
    "outstring += 'Duration in Months:' + str(duration) + '\\n'\n",
    "outstring += 'End Year:' + str(int(init_year + duration/12)) + '\\n'\n",
    "\n",
    "outstring += '\\n'\n",
    "\n",
    "outstring += 'Total Fuel Used: [MTHM]' + '\\n'\n",
    "first = True\n",
    "for key in fuel_dict:\n",
    "    outstring += '\\t' + key + ': ' + str(max(fuel_dict[key])) + '\\n'\n",
    "    if first:\n",
    "        total = fuel_dict[key]\n",
    "        first = False\n",
    "    else:\n",
    "        total = [x + y for x, y in zip(total, fuel_dict[key])]\n",
    "outstring += '\\t' + key + ': ' + str(max(total)) + '\\n'\n",
    "\n",
    "outstring += '\\n'\n",
    "\n",
    "outstring += 'Total Natural Uranium [MTHM]' + '\\n'\n",
    "outstring += '\\t' + str(max(nat_u['nat_u'])) + '\\n'\n",
    "\n",
    "outstring += 'Total Tailings [MTHM]' + '\\n'\n",
    "outstring += '\\t' + str(max(tailings['tailings'])) + '\\n'\n",
    "\n",
    "outstring += '\\n'\n",
    "\n",
    "outstring += 'Average Fuel Utilization Factor (Fuel/NatU):' + '\\n'\n",
    "outstring += '\\t' + str(sum(dictionary['uranium_utilization']) / len(dictionary['uranium_utilization'])) + '\\n'\n",
    "\n",
    "outstring += '\\n'\n",
    "\n",
    "outstring += 'Plutonium reprocessed: [MTHM]' + '\\n'\n",
    "first = True\n",
    "for key in combined:\n",
    "    outstring += '\\t' + key + ': ' + str(max(combined[key])) + '\\n'\n",
    "    if first:\n",
    "        total = combined[key]\n",
    "        first = False\n",
    "    else:\n",
    "        total = [x + y for x, y in zip(total, combined[key])]\n",
    "outstring += '\\t Total: ' + str(max(total)) + '\\n'\n",
    "\n",
    "outstring += '\\n' \n",
    "\n",
    "outstring += 'Reactors Deployed:' + '\\n'\n",
    "outstring += '\\t LWR: ' + str(lwr[0]) + '\\n'\n",
    "outstring += '\\t FR: ' + str(sfr[0]) + '\\n'\n",
    "\n",
    "outstring += '\\n'\n",
    "\n",
    "outstring += 'Compositions' + '\\n'\n",
    "outstring += '\\t Composition for fresh sfr fuel: ' + '\\n'\n",
    "for isotope in fresh_sfr_mox_comp:\n",
    "    outstring += '\\t\\t ' + nucname.name(isotope[0]) + ': ' + str(isotope[1] * 100) + ' %' + '\\n'\n",
    "    \n",
    "outstring += '\\t Composition for fresh sfr spent fuel: ' + '\\n'\n",
    "for isotope in sfr_waste_comp:\n",
    "    outstring += '\\t\\t' + nucname.name(isotope[0]) + ': ' + str(isotope[1] * 100) + ' %' + '\\n'\n",
    "\n",
    "    \n",
    "print(outstring)\n",
    "if 'simulation_results':\n",
    "    with open('simulation_results', 'w') as output:\n",
    "        output.write(outstring)"
   ]
  },
  {
   "cell_type": "markdown",
   "metadata": {},
   "source": [
    "### Plots"
   ]
  },
  {
   "cell_type": "code",
   "execution_count": 14,
   "metadata": {
    "collapsed": false
   },
   "outputs": [
    {
     "ename": "FileNotFoundError",
     "evalue": "[Errno 2] No such file or directory: 'power_plot.png'",
     "output_type": "error",
     "traceback": [
      "\u001b[0;31m---------------------------------------------------------------------------\u001b[0m",
      "\u001b[0;31mFileNotFoundError\u001b[0m                         Traceback (most recent call last)",
      "\u001b[0;32m<ipython-input-14-42707f57e68d>\u001b[0m in \u001b[0;36m<module>\u001b[0;34m()\u001b[0m\n\u001b[1;32m      1\u001b[0m \u001b[0;31m# Display Net Capacity vs Time\u001b[0m\u001b[0;34m\u001b[0m\u001b[0;34m\u001b[0m\u001b[0m\n\u001b[1;32m      2\u001b[0m \u001b[0;32mfrom\u001b[0m \u001b[0mIPython\u001b[0m\u001b[0;34m.\u001b[0m\u001b[0mdisplay\u001b[0m \u001b[0;32mimport\u001b[0m \u001b[0mImage\u001b[0m\u001b[0;34m\u001b[0m\u001b[0m\n\u001b[0;32m----> 3\u001b[0;31m \u001b[0mImage\u001b[0m\u001b[0;34m(\u001b[0m\u001b[0mfilename\u001b[0m\u001b[0;34m=\u001b[0m\u001b[0;34m'power_plot.png'\u001b[0m\u001b[0;34m)\u001b[0m\u001b[0;34m\u001b[0m\u001b[0m\n\u001b[0m\u001b[1;32m      4\u001b[0m \u001b[0;34m\u001b[0m\u001b[0m\n\u001b[1;32m      5\u001b[0m \u001b[0;31m# Display Number of Reactors vs Time\u001b[0m\u001b[0;34m\u001b[0m\u001b[0;34m\u001b[0m\u001b[0m\n",
      "\u001b[0;32m/home/dkadkf/miniconda3/lib/python3.5/site-packages/IPython/core/display.py\u001b[0m in \u001b[0;36m__init__\u001b[0;34m(self, data, url, filename, format, embed, width, height, retina, unconfined, metadata)\u001b[0m\n\u001b[1;32m    756\u001b[0m         \u001b[0mself\u001b[0m\u001b[0;34m.\u001b[0m\u001b[0munconfined\u001b[0m \u001b[0;34m=\u001b[0m \u001b[0munconfined\u001b[0m\u001b[0;34m\u001b[0m\u001b[0m\n\u001b[1;32m    757\u001b[0m         \u001b[0mself\u001b[0m\u001b[0;34m.\u001b[0m\u001b[0mmetadata\u001b[0m \u001b[0;34m=\u001b[0m \u001b[0mmetadata\u001b[0m\u001b[0;34m\u001b[0m\u001b[0m\n\u001b[0;32m--> 758\u001b[0;31m         \u001b[0msuper\u001b[0m\u001b[0;34m(\u001b[0m\u001b[0mImage\u001b[0m\u001b[0;34m,\u001b[0m \u001b[0mself\u001b[0m\u001b[0;34m)\u001b[0m\u001b[0;34m.\u001b[0m\u001b[0m__init__\u001b[0m\u001b[0;34m(\u001b[0m\u001b[0mdata\u001b[0m\u001b[0;34m=\u001b[0m\u001b[0mdata\u001b[0m\u001b[0;34m,\u001b[0m \u001b[0murl\u001b[0m\u001b[0;34m=\u001b[0m\u001b[0murl\u001b[0m\u001b[0;34m,\u001b[0m \u001b[0mfilename\u001b[0m\u001b[0;34m=\u001b[0m\u001b[0mfilename\u001b[0m\u001b[0;34m)\u001b[0m\u001b[0;34m\u001b[0m\u001b[0m\n\u001b[0m\u001b[1;32m    759\u001b[0m \u001b[0;34m\u001b[0m\u001b[0m\n\u001b[1;32m    760\u001b[0m         \u001b[0;32mif\u001b[0m \u001b[0mretina\u001b[0m\u001b[0;34m:\u001b[0m\u001b[0;34m\u001b[0m\u001b[0m\n",
      "\u001b[0;32m/home/dkadkf/miniconda3/lib/python3.5/site-packages/IPython/core/display.py\u001b[0m in \u001b[0;36m__init__\u001b[0;34m(self, data, url, filename)\u001b[0m\n\u001b[1;32m    392\u001b[0m         \u001b[0mself\u001b[0m\u001b[0;34m.\u001b[0m\u001b[0mfilename\u001b[0m \u001b[0;34m=\u001b[0m \u001b[0;32mNone\u001b[0m \u001b[0;32mif\u001b[0m \u001b[0mfilename\u001b[0m \u001b[0;32mis\u001b[0m \u001b[0;32mNone\u001b[0m \u001b[0;32melse\u001b[0m \u001b[0municode_type\u001b[0m\u001b[0;34m(\u001b[0m\u001b[0mfilename\u001b[0m\u001b[0;34m)\u001b[0m\u001b[0;34m\u001b[0m\u001b[0m\n\u001b[1;32m    393\u001b[0m \u001b[0;34m\u001b[0m\u001b[0m\n\u001b[0;32m--> 394\u001b[0;31m         \u001b[0mself\u001b[0m\u001b[0;34m.\u001b[0m\u001b[0mreload\u001b[0m\u001b[0;34m(\u001b[0m\u001b[0;34m)\u001b[0m\u001b[0;34m\u001b[0m\u001b[0m\n\u001b[0m\u001b[1;32m    395\u001b[0m         \u001b[0mself\u001b[0m\u001b[0;34m.\u001b[0m\u001b[0m_check_data\u001b[0m\u001b[0;34m(\u001b[0m\u001b[0;34m)\u001b[0m\u001b[0;34m\u001b[0m\u001b[0m\n\u001b[1;32m    396\u001b[0m \u001b[0;34m\u001b[0m\u001b[0m\n",
      "\u001b[0;32m/home/dkadkf/miniconda3/lib/python3.5/site-packages/IPython/core/display.py\u001b[0m in \u001b[0;36mreload\u001b[0;34m(self)\u001b[0m\n\u001b[1;32m    778\u001b[0m         \u001b[0;34m\"\"\"Reload the raw data from file or URL.\"\"\"\u001b[0m\u001b[0;34m\u001b[0m\u001b[0m\n\u001b[1;32m    779\u001b[0m         \u001b[0;32mif\u001b[0m \u001b[0mself\u001b[0m\u001b[0;34m.\u001b[0m\u001b[0membed\u001b[0m\u001b[0;34m:\u001b[0m\u001b[0;34m\u001b[0m\u001b[0m\n\u001b[0;32m--> 780\u001b[0;31m             \u001b[0msuper\u001b[0m\u001b[0;34m(\u001b[0m\u001b[0mImage\u001b[0m\u001b[0;34m,\u001b[0m\u001b[0mself\u001b[0m\u001b[0;34m)\u001b[0m\u001b[0;34m.\u001b[0m\u001b[0mreload\u001b[0m\u001b[0;34m(\u001b[0m\u001b[0;34m)\u001b[0m\u001b[0;34m\u001b[0m\u001b[0m\n\u001b[0m\u001b[1;32m    781\u001b[0m             \u001b[0;32mif\u001b[0m \u001b[0mself\u001b[0m\u001b[0;34m.\u001b[0m\u001b[0mretina\u001b[0m\u001b[0;34m:\u001b[0m\u001b[0;34m\u001b[0m\u001b[0m\n\u001b[1;32m    782\u001b[0m                 \u001b[0mself\u001b[0m\u001b[0;34m.\u001b[0m\u001b[0m_retina_shape\u001b[0m\u001b[0;34m(\u001b[0m\u001b[0;34m)\u001b[0m\u001b[0;34m\u001b[0m\u001b[0m\n",
      "\u001b[0;32m/home/dkadkf/miniconda3/lib/python3.5/site-packages/IPython/core/display.py\u001b[0m in \u001b[0;36mreload\u001b[0;34m(self)\u001b[0m\n\u001b[1;32m    410\u001b[0m         \u001b[0;34m\"\"\"Reload the raw data from file or URL.\"\"\"\u001b[0m\u001b[0;34m\u001b[0m\u001b[0m\n\u001b[1;32m    411\u001b[0m         \u001b[0;32mif\u001b[0m \u001b[0mself\u001b[0m\u001b[0;34m.\u001b[0m\u001b[0mfilename\u001b[0m \u001b[0;32mis\u001b[0m \u001b[0;32mnot\u001b[0m \u001b[0;32mNone\u001b[0m\u001b[0;34m:\u001b[0m\u001b[0;34m\u001b[0m\u001b[0m\n\u001b[0;32m--> 412\u001b[0;31m             \u001b[0;32mwith\u001b[0m \u001b[0mopen\u001b[0m\u001b[0;34m(\u001b[0m\u001b[0mself\u001b[0m\u001b[0;34m.\u001b[0m\u001b[0mfilename\u001b[0m\u001b[0;34m,\u001b[0m \u001b[0mself\u001b[0m\u001b[0;34m.\u001b[0m\u001b[0m_read_flags\u001b[0m\u001b[0;34m)\u001b[0m \u001b[0;32mas\u001b[0m \u001b[0mf\u001b[0m\u001b[0;34m:\u001b[0m\u001b[0;34m\u001b[0m\u001b[0m\n\u001b[0m\u001b[1;32m    413\u001b[0m                 \u001b[0mself\u001b[0m\u001b[0;34m.\u001b[0m\u001b[0mdata\u001b[0m \u001b[0;34m=\u001b[0m \u001b[0mf\u001b[0m\u001b[0;34m.\u001b[0m\u001b[0mread\u001b[0m\u001b[0;34m(\u001b[0m\u001b[0;34m)\u001b[0m\u001b[0;34m\u001b[0m\u001b[0m\n\u001b[1;32m    414\u001b[0m         \u001b[0;32melif\u001b[0m \u001b[0mself\u001b[0m\u001b[0;34m.\u001b[0m\u001b[0murl\u001b[0m \u001b[0;32mis\u001b[0m \u001b[0;32mnot\u001b[0m \u001b[0;32mNone\u001b[0m\u001b[0;34m:\u001b[0m\u001b[0;34m\u001b[0m\u001b[0m\n",
      "\u001b[0;31mFileNotFoundError\u001b[0m: [Errno 2] No such file or directory: 'power_plot.png'"
     ]
    }
   ],
   "source": [
    "# Display Net Capacity vs Time\n",
    "from IPython.display import Image\n",
    "Image(filename='power_plot.png')\n"
   ]
  },
  {
   "cell_type": "code",
   "execution_count": null,
   "metadata": {
    "collapsed": true
   },
   "outputs": [],
   "source": [
    "\n",
    "# Display Number of Reactors vs Time\n",
    "from IPython.display import Image\n",
    "Image(filename='num_plot.png')\n"
   ]
  },
  {
   "cell_type": "code",
   "execution_count": null,
   "metadata": {
    "collapsed": true
   },
   "outputs": [],
   "source": [
    "\n",
    "# Display Tailings vs Time\n",
    "from IPython.display import Image\n",
    "Image(filename='tailings.png')\n"
   ]
  },
  {
   "cell_type": "code",
   "execution_count": null,
   "metadata": {
    "collapsed": true
   },
   "outputs": [],
   "source": [
    "\n",
    "# Display Total Fuel vs Time\n",
    "from IPython.display import Image\n",
    "Image(filename='total_fuel.png')\n"
   ]
  },
  {
   "cell_type": "code",
   "execution_count": null,
   "metadata": {
    "collapsed": true
   },
   "outputs": [],
   "source": [
    "\n",
    "# Display Natural Uranium vs Time\n",
    "from IPython.display import Image\n",
    "Image(filename='nat_u.png')\n"
   ]
  },
  {
   "cell_type": "code",
   "execution_count": null,
   "metadata": {
    "collapsed": true
   },
   "outputs": [],
   "source": [
    "\n",
    "# Display Uranium Utilization vs Time\n",
    "from IPython.display import Image\n",
    "Image(filename='u_util.png')\n"
   ]
  },
  {
   "cell_type": "code",
   "execution_count": null,
   "metadata": {
    "collapsed": true
   },
   "outputs": [],
   "source": [
    "\n",
    "# Display Separated Pu Flow\n",
    "from IPython.display import Image\n",
    "Image(filename='combined.png')\n"
   ]
  },
  {
   "cell_type": "code",
   "execution_count": null,
   "metadata": {
    "collapsed": true
   },
   "outputs": [],
   "source": [
    "\n",
    "from IPython.display import Image\n",
    "Image(filename='sfr_Pu.png')\n"
   ]
  },
  {
   "cell_type": "code",
   "execution_count": null,
   "metadata": {
    "collapsed": true
   },
   "outputs": [],
   "source": [
    "\n",
    "from IPython.display import Image\n",
    "Image(filename='uox_Pu.png')"
   ]
  }
 ],
 "metadata": {
  "kernelspec": {
   "display_name": "Python 3",
   "language": "python",
   "name": "python3"
  },
  "language_info": {
   "codemirror_mode": {
    "name": "ipython",
    "version": 3
   },
   "file_extension": ".py",
   "mimetype": "text/x-python",
   "name": "python",
   "nbconvert_exporter": "python",
   "pygments_lexer": "ipython3",
   "version": "3.5.2"
  }
 },
 "nbformat": 4,
 "nbformat_minor": 2
}
