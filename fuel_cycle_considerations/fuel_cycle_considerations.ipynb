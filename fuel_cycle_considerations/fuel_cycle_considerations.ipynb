{
 "cells": [
  {
   "cell_type": "markdown",
   "metadata": {},
   "source": [
    "# Reactor Considerations"
   ]
  },
  {
   "cell_type": "markdown",
   "metadata": {},
   "source": [
    "## CANDU\n",
    "\n",
    "\n",
    "- natural uranium\n",
    "- heavy water ($D_2O$)\n",
    "- online refuelling\n",
    "- each bundle: 50 cm long 10 cm diameter"
   ]
  },
  {
   "cell_type": "markdown",
   "metadata": {},
   "source": [
    "## PWR \n",
    "\n",
    "- UO2 fuel\n",
    "- Zircalloy cladding (typically)\n",
    "- Height: 4.1m\n",
    "- Hardware mostly Zircaloy (Zr with Sn, Fe, Cr)\n",
    "- Grid spacers: Zircaloy, Inconel, stainless steel\n",
    "- End pieces: Stainless steel, Inconel\n",
    "- 200-250 fuel assemblies per core\n",
    "- Each Assembly: \n",
    "  - 14 x 14 to 17 x 17 fuel elements\n",
    "  - 21cm x 21cm\n",
    "  - Fuel element size: 1 cm diameter, \n",
    "  - Fuel element height: 3.9m\n",
    "  - Assembly weight: 1400lb\n",
    "  - Enrichment: 3-5%\n",
    "  - May have separate burnable poison rods\n",
    "  "
   ]
  },
  {
   "cell_type": "markdown",
   "metadata": {},
   "source": [
    "## BWR\n",
    "\n",
    "A BWR has about 600-800 fuel assemblies per core. Each assembly:\n",
    "\n",
    "- 14ft (4.5m) tall\n",
    "- Zircalloy channel around the assembly\n",
    "- Hardware mostly Zircaloy (Zr with Sn, Fe, Cr)\n",
    "- Grid spacers: Zircaloy\n",
    "- Channel (aka shroud): Zircaloy\n",
    "- End pieces: Stainless steel\n",
    "- Each assembly\n",
    "  - 700lb\n",
    "  - 5.5x5.5 inches (14 cm x 14 cm) square assembly\n",
    "  - Fuel element array: 8 x 8 or 10 x 10\n",
    "  - Fuel element size: 1.25 cm diameter, height = 4.1m\n",
    "  - Enrichment: 2.5-4.5%\n",
    "  - May have Gd in some rods and variable enrichment in 3D"
   ]
  },
  {
   "cell_type": "markdown",
   "metadata": {},
   "source": [
    "## References\n",
    "\n",
    "This section was developed to complement pages 86-119 of [1]. \n",
    "\n",
    "[1] N. Tsoulfanidis, The Nuclear Fuel Cycle. La Grange Park, Illinois, USA: American Nuclear Society, 2013.  \n",
    "[2] www.github.com/katyhuff/npre412\n"
   ]
  },
  {
   "cell_type": "markdown",
   "metadata": {},
   "source": [
    "# Fuel Cycle"
   ]
  },
  {
   "cell_type": "markdown",
   "metadata": {},
   "source": [
    "## once through  \n",
    "![alt text](./once_through.jpg)"
   ]
  },
  {
   "cell_type": "markdown",
   "metadata": {},
   "source": [
    "## reprocessing\n",
    "![alt img](./reprocessing.png)"
   ]
  },
  {
   "cell_type": "markdown",
   "metadata": {},
   "source": [
    "# reprocessing\n",
    "# Separations Methods\n",
    "\n",
    "Separations is typically either aqueous or electrochemical (pyro). The most common method, by far, today is aqueous separations via PUREX. \n",
    "\n",
    "The basic options are thus:\n",
    "\n",
    "- Separate U, Pu, (as today).\n",
    "- Separate U, Pu+U (small amount of U).\n",
    "- Separate U, Pu, minor actinides.\n",
    "- Separate U, Pu+Np, Am+Cm.\n",
    "- Separate U+Pu all together.\n",
    "- Separate U, Pu+actinides, certain fission products\n",
    "\n",
    "Current capacity ([via world nuclear association](http://www.world-nuclear.org/information-library/nuclear-fuel-cycle/fuel-recycling/processing-of-used-nuclear-fuel.aspx)):\n",
    "\n",
    "|  Reactor | Nation  | Facility  | tonnes per year  |  \n",
    "|---|---|---|---|\n",
    "| LWR  |  France | La Hague  | 1700  |  \n",
    "| LWR  |  UK     | Sellafield (THORP)  | 600  |\n",
    "| LWR  |  Russia | Ozersk  (Mayak)  | 400  |   \n",
    "| LWR  |  Japan  | Rokkasho  | 800  |  \n",
    "| Other  |  UK | Sellafield (Magnox)  | 1500  |   \n",
    "| Other  |  India | PHWR  | 330  |   \n",
    "| Other  |  Japan |  Tokai, MOX | 40  |   \n"
   ]
  },
  {
   "cell_type": "code",
   "execution_count": null,
   "metadata": {
    "collapsed": true
   },
   "outputs": [],
   "source": []
  }
 ],
 "metadata": {
  "kernelspec": {
   "display_name": "Python 3",
   "language": "python",
   "name": "python3"
  },
  "language_info": {
   "codemirror_mode": {
    "name": "ipython",
    "version": 3
   },
   "file_extension": ".py",
   "mimetype": "text/x-python",
   "name": "python",
   "nbconvert_exporter": "python",
   "pygments_lexer": "ipython3",
   "version": "3.5.2"
  }
 },
 "nbformat": 4,
 "nbformat_minor": 2
}
