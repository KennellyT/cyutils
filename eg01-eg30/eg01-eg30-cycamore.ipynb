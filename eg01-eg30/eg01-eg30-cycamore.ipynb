{
 "cells": [
  {
   "cell_type": "markdown",
   "metadata": {},
   "source": [
    "### Import Necessary Module and Set Path "
   ]
  },
  {
   "cell_type": "code",
   "execution_count": 1,
   "metadata": {
    "collapsed": false
   },
   "outputs": [],
   "source": [
    "import sqlite3 as lite\n",
    "import os\n",
    "import sys\n",
    "import collections\n",
    "from pyne import nucname\n",
    "sys.path.insert(0, '../scripts/')\n",
    "jupyter_directory = os.getcwd()"
   ]
  },
  {
   "cell_type": "code",
   "execution_count": 2,
   "metadata": {
    "collapsed": false
   },
   "outputs": [],
   "source": [
    "import analysis as an"
   ]
  },
  {
   "cell_type": "markdown",
   "metadata": {},
   "source": [
    "## Run Cyclus Input file"
   ]
  },
  {
   "cell_type": "code",
   "execution_count": 6,
   "metadata": {
    "collapsed": false,
    "scrolled": true
   },
   "outputs": [
    {
     "name": "stdout",
     "output_type": "stream",
     "text": [
      "              :                                                               \n",
      "          .CL:CC CC             _Q     _Q  _Q_Q    _Q    _Q              _Q   \n",
      "        CC;CCCCCCCC:C;         /_\\)   /_\\)/_/\\\\)  /_\\)  /_\\)            /_\\)  \n",
      "        CCCCCCCCCCCCCl       __O|/O___O|/O_OO|/O__O|/O__O|/O____________O|/O__\n",
      "     CCCCCCf     iCCCLCC     /////////////////////////////////////////////////\n",
      "     iCCCt  ;;;;;.  CCCC                                                      \n",
      "    CCCC  ;;;;;;;;;. CClL.                          c                         \n",
      "   CCCC ,;;       ;;: CCCC  ;                   : CCCCi                       \n",
      "    CCC ;;         ;;  CC   ;;:                CCC`   `C;                     \n",
      "  lCCC ;;              CCCC  ;;;:             :CC .;;. C;   ;    :   ;  :;;   \n",
      "  CCCC ;.              CCCC    ;;;,           CC ;    ; Ci  ;    :   ;  :  ;  \n",
      "   iCC :;               CC       ;;;,        ;C ;       CC  ;    :   ; .      \n",
      "  CCCi ;;               CCC        ;;;.      .C ;       tf  ;    :   ;  ;.    \n",
      "  CCC  ;;               CCC          ;;;;;;; fC :       lC  ;    :   ;    ;:  \n",
      "   iCf ;;               CC         :;;:      tC ;       CC  ;    :   ;     ;  \n",
      "  fCCC :;              LCCf      ;;;:         LC :.  ,: C   ;    ;   ; ;   ;  \n",
      "  CCCC  ;;             CCCC    ;;;:           CCi `;;` CC.  ;;;; :;.;.  ; ,;  \n",
      "    CCl ;;             CC    ;;;;              CCC    CCL                     \n",
      "   tCCC  ;;        ;; CCCL  ;;;                  tCCCCC.                      \n",
      "    CCCC  ;;     :;; CCCCf  ;                     ,L                          \n",
      "     lCCC   ;;;;;;  CCCL                                                      \n",
      "     CCCCCC  :;;  fCCCCC                                                      \n",
      "      . CCCC     CCCC .                                                       \n",
      "       .CCCCCCCCCCCCCi                                                        \n",
      "          iCCCCCLCf                                                           \n",
      "           .  C. ,                                                            \n",
      "              :                                                               \n",
      "Experimental Warning: MatlSellPolicy is experimental and its API may be subject to change\n",
      "Experimental Warning: the Mixer archetype is experimental\n",
      "Experimental Warning: MatlBuyPolicy is experimental and its API may be subject to change\n",
      "Experimental Warning: MatlSellPolicy is experimental and its API may be subject to change\n",
      "Experimental Warning: The Storage Facility is experimental.\n",
      "Experimental Warning: MatlSellPolicy is experimental and its API may be subject to change\n",
      "Experimental Warning: the Mixer archetype is experimental\n",
      "Experimental Warning: MatlSellPolicy is experimental and its API may be subject to change\n",
      "Experimental Warning: the Mixer archetype is experimental\n",
      "Experimental Warning: MatlBuyPolicy is experimental and its API may be subject to change\n",
      "Experimental Warning: MatlSellPolicy is experimental and its API may be subject to change\n",
      "Experimental Warning: The Storage Facility is experimental.\n",
      "Experimental Warning: MatlBuyPolicy is experimental and its API may be subject to change\n",
      "Experimental Warning: MatlSellPolicy is experimental and its API may be subject to change\n",
      "Experimental Warning: The Storage Facility is experimental.\n",
      "Experimental Warning: MatlBuyPolicy is experimental and its API may be subject to change\n",
      "Experimental Warning: MatlSellPolicy is experimental and its API may be subject to change\n",
      "Experimental Warning: The Storage Facility is experimental.\n",
      "Experimental Warning: MatlSellPolicy is experimental and its API may be subject to change\n",
      "Experimental Warning: the Mixer archetype is experimental\n",
      "Experimental Warning: MatlSellPolicy is experimental and its API may be subject to change\n",
      "Experimental Warning: the Mixer archetype is experimental\n",
      "Experimental Warning: MatlBuyPolicy is experimental and its API may be subject to change\n",
      "Experimental Warning: MatlSellPolicy is experimental and its API may be subject to change\n",
      "Experimental Warning: The Storage Facility is experimental.\n",
      "Experimental Warning: MatlBuyPolicy is experimental and its API may be subject to change\n",
      "Experimental Warning: MatlSellPolicy is experimental and its API may be subject to change\n",
      "Experimental Warning: The Storage Facility is experimental.\n",
      "Experimental Warning: MatlBuyPolicy is experimental and its API may be subject to change\n",
      "Experimental Warning: MatlSellPolicy is experimental and its API may be subject to change\n",
      "Experimental Warning: The Storage Facility is experimental.\n",
      "Experimental Warning: MatlSellPolicy is experimental and its API may be subject to change\n",
      "Experimental Warning: the Mixer archetype is experimental\n",
      "Experimental Warning: MatlSellPolicy is experimental and its API may be subject to change\n",
      "Experimental Warning: the Mixer archetype is experimental\n",
      "Experimental Warning: MatlBuyPolicy is experimental and its API may be subject to change\n",
      "Experimental Warning: MatlSellPolicy is experimental and its API may be subject to change\n",
      "Experimental Warning: The Storage Facility is experimental.\n",
      "Experimental Warning: MatlBuyPolicy is experimental and its API may be subject to change\n",
      "Experimental Warning: MatlSellPolicy is experimental and its API may be subject to change\n",
      "Experimental Warning: The Storage Facility is experimental.\n",
      "Experimental Warning: MatlBuyPolicy is experimental and its API may be subject to change\n",
      "Further Experimental Warnings will be suppressed.\n",
      "\n",
      "Status: Cyclus run successful!\n",
      "Output location: cyclus.sqlite\n",
      "Simulation ID: 3ac5209b-5f42-4255-b045-c007e3a1be9c\n"
     ]
    }
   ],
   "source": [
    "! rm cyclus.sqlite\n",
    "! cyclus eg01-eg30-simple-newdep.xml"
   ]
  },
  {
   "cell_type": "markdown",
   "metadata": {},
   "source": [
    "### The output file should be named \n",
    "         \n",
    "          cyclus.sqlite"
   ]
  },
  {
   "cell_type": "code",
   "execution_count": 8,
   "metadata": {
    "collapsed": false
   },
   "outputs": [
    {
     "name": "stdout",
     "output_type": "stream",
     "text": [
      "1877.472\n",
      "728.53\n",
      "sink_source_facilities has no values\n",
      "sink_source_facilities has no values\n"
     ]
    },
    {
     "name": "stderr",
     "output_type": "stream",
     "text": [
      "/home/teddy/miniconda3/lib/python3.5/site-packages/ipykernel/__main__.py:36: RuntimeWarning: invalid value encountered in double_scalars\n"
     ]
    }
   ],
   "source": [
    "filename = 'poop.sqlite'\n",
    "# Wait for the complete message to move on\n",
    "cur = an.get_cursor(filename)\n",
    "# get simulation time info\n",
    "init_year, init_month, duration, timestep = an.get_timesteps(cur)\n",
    "\n",
    "sfr_fuel = cur.execute('SELECT time, sum(quantity) FROM transactions '\n",
    "                       'INNER JOIN resources ON resources.resourceid = '\n",
    "                       'transactions.resourceid WHERE commodity = \"sfr_fuel\"'\n",
    "                       ' GROUP BY time').fetchall()\n",
    "print(max(an.get_timeseries(sfr_fuel, duration, True)))\n",
    "\n",
    "mox = cur.execute('SELECT time, sum(quantity) FROM transactions '\n",
    "                       'INNER JOIN resources ON resources.resourceid = '\n",
    "                       'transactions.resourceid WHERE commodity = \"mox\"'\n",
    "                       ' GROUP BY time').fetchall()\n",
    "print(max(an.get_timeseries(mox, duration, True)))\n",
    "fuel_stuff ={}\n",
    "fuel_stuff['sfr_fuel'] = an.get_timeseries(sfr_fuel, duration, True)\n",
    "fuel_stuff['mox'] = an.get_timeseries(mox, duration, True)\n",
    "an.multi_line_plot(fuel_stuff, timestep, 'Years', 'Mass[MTHM]', 'Fuel', 'Fuel', init_year)\n",
    "\n",
    "# get fuel mass timeseries\n",
    "fuel_dict = an.fuel_usage_timeseries(cur, ['uox', 'mox', 'sfr_fuel'])\n",
    "an.stacked_bar_chart(fuel_dict, timestep,\n",
    "                  'Years', 'Mass[MTHM]',\n",
    "                  'Total Fuel Mass vs Time',\n",
    "                  'total_fuel',\n",
    "                  init_year)\n",
    "\n",
    "\n",
    "# prints net capacity and number of reactor timeseries\n",
    "power_dict = an.get_power_dict(cur)\n",
    "an.plot_power(cur)\n",
    "ratio = {}\n",
    "ratio['fr_to_lwr_ratio'] =[x/y for x, y in zip(power_dict['fr_inst'], power_dict['mox_lwr_inst'])]\n",
    "an.stacked_bar_chart(ratio, timestep, 'Year', 'FR capacity / LWR capacity',\n",
    "                     'Ratio vs Time', 'ratio', init_year)"
   ]
  },
  {
   "cell_type": "code",
   "execution_count": null,
   "metadata": {
    "collapsed": true
   },
   "outputs": [],
   "source": [
    "# Number of Reactors Deployed\n",
    "cur = an.get_cursor(filename)\n",
    "lwr = cur.execute('SELECT count(*) FROM agententry '\n",
    "                  'WHERE prototype = \"lwr\"').fetchone()\n",
    "print('The Number of LWRs Deployed:')\n",
    "print(lwr[0])\n",
    "\n",
    "mox_lwr = cur.execute('SELECT count(*) FROM agententry '\n",
    "                  'WHERE prototype = \"mox_lwr\"').fetchone()\n",
    "print('The Number of MOX LWRs Deployed:')\n",
    "print(mox_lwr[0])\n",
    "\n",
    "sfr = cur.execute('SELECT count(*) FROM agententry '\n",
    "                  'WHERE prototype = \"fr\"').fetchone()\n",
    "print('The Number of FRs Deployed:')\n",
    "print(sfr[0])"
   ]
  },
  {
   "cell_type": "code",
   "execution_count": 32,
   "metadata": {
    "collapsed": false
   },
   "outputs": [
    {
     "name": "stdout",
     "output_type": "stream",
     "text": [
      "6303.873\n",
      "728.53\n",
      "sink_source_facilities has no values\n",
      "sink_source_facilities has no values\n"
     ]
    },
    {
     "name": "stderr",
     "output_type": "stream",
     "text": [
      "/home/dkadkf/miniconda3/lib/python3.5/site-packages/ipykernel/__main__.py:32: RuntimeWarning: invalid value encountered in double_scalars\n",
      "../scripts/analysis.py:857: RuntimeWarning: invalid value encountered in true_divide\n",
      "  u_util_timeseries = np.nan_to_num(fuel_timeseries / u_supply_timeseries)\n"
     ]
    },
    {
     "name": "stdout",
     "output_type": "stream",
     "text": [
      "The Average Fuel Utilization Factor is: \n",
      "0.124854002726\n",
      "Finished!\n"
     ]
    }
   ],
   "source": [
    "filename = 'cyclus.sqlite'\n",
    "# Wait for the complete message to move on\n",
    "cur = an.get_cursor(filename)\n",
    "# get simulation time info\n",
    "init_year, init_month, duration, timestep = an.get_timesteps(cur)\n",
    "\n",
    "sfr_fuel = cur.execute('SELECT time, sum(quantity) FROM transactions '\n",
    "                       'INNER JOIN resources ON resources.resourceid = '\n",
    "                       'transactions.resourceid WHERE commodity = \"sfr_fuel\"'\n",
    "                       ' GROUP BY time').fetchall()\n",
    "print(max(an.get_timeseries(sfr_fuel, duration, True)))\n",
    "\n",
    "mox = cur.execute('SELECT time, sum(quantity) FROM transactions '\n",
    "                       'INNER JOIN resources ON resources.resourceid = '\n",
    "                       'transactions.resourceid WHERE commodity = \"mox\"'\n",
    "                       ' GROUP BY time').fetchall()\n",
    "print(max(an.get_timeseries(mox, duration, True)))\n",
    "\n",
    "# get fuel mass timeseries\n",
    "fuel_dict = an.fuel_usage_timeseries(cur, ['uox', 'mox', 'sfr_fuel'])\n",
    "an.stacked_bar_chart(fuel_dict, timestep,\n",
    "                  'Years', 'Mass[MTHM]',\n",
    "                  'Total Fuel Mass vs Time',\n",
    "                  'total_fuel',\n",
    "                  init_year)\n",
    "\n",
    "\n",
    "# prints net capacity and number of reactor timeseries\n",
    "power_dict = an.get_power_dict(cur)\n",
    "an.plot_power(cur)\n",
    "ratio = {}\n",
    "ratio['fr_to_lwr_ratio'] =[x/y for x, y in zip(power_dict['fr_inst'], power_dict['mox_lwr_inst'])]\n",
    "an.stacked_bar_chart(ratio, timestep, 'Year', 'FR capacity / LWR capacity',\n",
    "                     'Ratio vs Time', 'ratio', init_year)\n",
    "\n",
    "\n",
    "# get tailings mass timeseries\n",
    "agent_ids = an.get_agent_ids(cur, 'enrichment')\n",
    "tailings = an.facility_commodity_flux(cur, agent_ids,\n",
    "                                      ['tailings'], True)\n",
    "an.stacked_bar_chart(tailings, timestep,\n",
    "                  'Year', 'Mass [MTHM]',\n",
    "                  'Tailings vs Time',\n",
    "                  'tailings', init_year)\n",
    "\n",
    "# natural uranium demand\n",
    "nat_u = collections.OrderedDict()\n",
    "nat_u['nat_u'] = an.nat_u_timeseries(cur)\n",
    "an.stacked_bar_chart(nat_u, timestep,\n",
    "                     'Years', 'Natural Uranium Mass',\n",
    "                     'Natural Uranium Demand vs Time',\n",
    "                     'nat_u', init_year)\n",
    "\n",
    "# uranium utilization\n",
    "dictionary = {}\n",
    "dictionary['uranium_utilization'] = an.u_util_calc(cur)\n",
    "an.stacked_bar_chart(dictionary, timestep,\n",
    "                     'Years', 'U Utilization Factor',\n",
    "                     'U Utilization vs Time',\n",
    "                     'u_util', init_year)\n",
    "\n",
    "# get reprocessed material flow\n",
    "agent_ids = an.get_agent_ids(cur, 'separations')\n",
    "combined = an.facility_commodity_flux(cur, agent_ids, ['mox_TRU', 'uox_TRU', 'sfr_TRU'], True)\n",
    "uox_TRU = an.facility_commodity_flux(cur, agent_ids, ['uox_TRU'], True)\n",
    "mox_TRU = an.facility_commodity_flux(cur, agent_ids, ['mox_TRU'], True)\n",
    "sfr_TRU = an.facility_commodity_flux(cur, agent_ids, ['sfr_TRU'], True)\n",
    "an.stacked_bar_chart(combined, timestep, 'Years', 'Mass[MTHM]',\n",
    "                  'Total reprocessed outflux vs Time', 'combined',\n",
    "                  init_year)\n",
    "an.stacked_bar_chart(uox_TRU, timestep, 'Years', 'Mass[MTHM]',\n",
    "                  'reprocessed from spent UOX vs Time', 'from_spent_uox',\n",
    "                  init_year)\n",
    "an.stacked_bar_chart(mox_TRU, timestep, 'Years', 'Mass[MTHM]',\n",
    "                  'reprocessed from spent MOX vs Time', 'from_spent_mox',\n",
    "                  init_year)\n",
    "an.stacked_bar_chart(sfr_TRU, timestep, 'Years', 'Mass[MTHM]',\n",
    "                  'reprocessed from spent SFR Fuel vs Time', 'from_spent_sfr',\n",
    "                  init_year)\n",
    "print('Finished!')"
   ]
  },
  {
   "cell_type": "code",
   "execution_count": null,
   "metadata": {
    "collapsed": true
   },
   "outputs": [],
   "source": [
    "# Number of Reactors Deployed\n",
    "cur = an.get_cursor(filename)\n",
    "lwr = cur.execute('SELECT count(*) FROM agententry '\n",
    "                  'WHERE prototype = \"lwr\"').fetchone()\n",
    "print('The Number of LWRs Deployed:')\n",
    "print(lwr[0])\n",
    "\n",
    "mox_lwr = cur.execute('SELECT count(*) FROM agententry '\n",
    "                  'WHERE prototype = \"mox_lwr\"').fetchone()\n",
    "print('The Number of MOX LWRs Deployed:')\n",
    "print(mox_lwr[0])\n",
    "\n",
    "sfr = cur.execute('SELECT count(*) FROM agententry '\n",
    "                  'WHERE prototype = \"fr\"').fetchone()\n",
    "print('The Number of FRs Deployed:')\n",
    "print(sfr[0])"
   ]
  },
  {
   "cell_type": "code",
   "execution_count": null,
   "metadata": {
    "collapsed": true
   },
   "outputs": [],
   "source": [
    "# Fresh and Spent Fuel Composition\n",
    "cur = an.get_cursor(filename)\n",
    "\n",
    "sfr_fuel_qualid = cur.execute('SELECT qualid FROM transactions '\n",
    "                              'INNER JOIN resources ON '\n",
    "                              'resources.resourceid = transactions.resourceid '\n",
    "                              'WHERE commodity = \"sfr_fuel\"').fetchone()\n",
    "fresh_sfr_mox_comp = cur.execute('SELECT nucid, massfrac FROM compositions '\n",
    "                                 'WHERE qualid = ' + str(sfr_fuel_qualid[0])).fetchall()\n",
    "print('Composition for fresh sfr fuel: ')\n",
    "for isotope in fresh_sfr_mox_comp:\n",
    "    print(nucname.name(isotope[0]) + ': ' + str(isotope[1] * 100) + ' %')\n",
    "\n",
    "print('\\n \\n')\n",
    "\n",
    "sfr_waste_comp = cur.execute('SELECT nucid, massfrac FROM recipes '\n",
    "                             'LEFT OUTER JOIN compositions '\n",
    "                             'ON recipes.qualid = compositions.qualid '\n",
    "                             'WHERE recipe = \"sfr_waste_recipe\"').fetchall()\n",
    "print('Composition for sfr spent fuel: ')\n",
    "for isotope in sfr_waste_comp:\n",
    "    print(nucname.name(isotope[0]) + ': ' + str(isotope[1] * 100) + ' %')\n",
    "    \n",
    "\n",
    "\n",
    "mox_fuel_qualid = cur.execute('SELECT qualid FROM transactions '\n",
    "                              'INNER JOIN resources ON '\n",
    "                              'resources.resourceid = transactions.resourceid '\n",
    "                              'WHERE commodity = \"mox\"').fetchone()\n",
    "fresh_mox_comp = cur.execute('SELECT nucid, massfrac FROM compositions '\n",
    "                             'WHERE qualid = ' + str(sfr_fuel_qualid[0])).fetchall()\n",
    "print('Composition for fresh mox fuel: ')\n",
    "for isotope in fresh_mox_comp:\n",
    "    print(nucname.name(isotope[0]) + ': ' + str(isotope[1] * 100) + ' %')\n",
    "\n",
    "\n",
    "mox_waste_comp = cur.execute('SELECT nucid, massfrac FROM recipes '\n",
    "                             'LEFT OUTER JOIN compositions '\n",
    "                             'ON recipes.qualid = compositions.qualid '\n",
    "                             'WHERE recipe = \"mox_waste_recipe\"').fetchall()\n",
    "print('Composition for mox spent fuel: ')\n",
    "for isotope in mox_waste_comp:\n",
    "    print(nucname.name(isotope[0]) + ': ' + str(isotope[1] * 100) + ' %')"
   ]
  },
  {
   "cell_type": "code",
   "execution_count": null,
   "metadata": {
    "collapsed": true
   },
   "outputs": [],
   "source": [
    "outstring = ''\n",
    "outstring += 'Initial Year:' + str(init_year) + '\\n'\n",
    "outstring += 'Initial Month:' + str(init_month) + '\\n'\n",
    "outstring += 'Duration in Months:' + str(duration) + '\\n'\n",
    "outstring += 'End Year:' + str(int(init_year + duration/12)) + '\\n'\n",
    "\n",
    "outstring += '\\n'\n",
    "\n",
    "outstring += 'Total Fuel Used: [MTHM]' + '\\n'\n",
    "first = True\n",
    "for key in fuel_dict:\n",
    "    outstring += '\\t' + key + ': ' + str(max(fuel_dict[key])) + '\\n'\n",
    "    if first:\n",
    "        total = fuel_dict[key]\n",
    "        first = False\n",
    "    else:\n",
    "        total = [x + y for x, y in zip(total, fuel_dict[key])]\n",
    "outstring += '\\t' + key + ': ' + str(max(total)) + '\\n'\n",
    "\n",
    "outstring += '\\n'\n",
    "\n",
    "outstring += 'Total Natural Uranium [MTHM]' + '\\n'\n",
    "outstring += '\\t' + str(max(nat_u['nat_u'])) + '\\n'\n",
    "\n",
    "outstring += 'Total Tailings [MTHM]' + '\\n'\n",
    "outstring += '\\t' + str(max(tailings['tailings'])) + '\\n'\n",
    "\n",
    "outstring += '\\n'\n",
    "\n",
    "outstring += 'Average Fuel Utilization Factor (Fuel/NatU):' + '\\n'\n",
    "outstring += '\\t' + str(sum(dictionary['uranium_utilization']) / len(dictionary['uranium_utilization'])) + '\\n'\n",
    "\n",
    "outstring += '\\n'\n",
    "\n",
    "outstring += 'TRU reprocessed: [MTHM]' + '\\n'\n",
    "first = True\n",
    "for key in combined:\n",
    "    outstring += '\\t' + key + ': ' + str(max(combined[key])) + '\\n'\n",
    "    if first:\n",
    "        total = combined[key]\n",
    "        first = False\n",
    "    else:\n",
    "        total = [x + y for x, y in zip(total, combined[key])]\n",
    "outstring += '\\t Total: ' + str(max(total)) + '\\n'\n",
    "\n",
    "outstring += '\\n' \n",
    "\n",
    "outstring += 'Reactors Deployed:' + '\\n'\n",
    "outstring += '\\t LWR: ' + str(lwr[0]) + '\\n'\n",
    "outstring += '\\t FR: ' + str(sfr[0]) + '\\n'\n",
    "outstring += '\\t MOX_LWR: ' + str(mox_lwr[0]) + '\\n'\n",
    "\n",
    "outstring += '\\n'\n",
    "\n",
    "outstring += 'Compositions' + '\\n'\n",
    "outstring += '\\t Composition for fresh sfr fuel: ' + '\\n'\n",
    "for isotope in fresh_sfr_mox_comp:\n",
    "    outstring += '\\t\\t ' + nucname.name(isotope[0]) + ': ' + str(isotope[1] * 100) + ' %' + '\\n'\n",
    "    \n",
    "outstring += '\\t Composition for fresh sfr spent fuel: ' + '\\n'\n",
    "for isotope in sfr_waste_comp:\n",
    "    outstring += '\\t\\t' + nucname.name(isotope[0]) + ': ' + str(isotope[1] * 100) + ' %' + '\\n'\n",
    "\n",
    "outstring += 'Composition for fresh mox fuel: '\n",
    "for isotope in fresh_mox_comp:\n",
    "    outstring += '\\t\\t' + nucname.name(isotope[0]) + ': ' + str(isotope[1] * 100) + ' %' +'\\n'\n",
    "    \n",
    "outstring += 'Composition for mox spent fuel: '\n",
    "for isotope in mox_waste_comp:\n",
    "    outstring +=  '\\t\\t' + nucname.name(isotope[0]) + ': ' + str(isotope[1] * 100) + ' %' + '\\n'\n",
    "    \n",
    "print(outstring)\n",
    "if 'simulation_results':\n",
    "    with open('simulation_results', 'w') as output:\n",
    "        output.write(outstring)"
   ]
  },
  {
   "cell_type": "markdown",
   "metadata": {},
   "source": [
    "### Plots"
   ]
  },
  {
   "cell_type": "code",
   "execution_count": null,
   "metadata": {
    "collapsed": true
   },
   "outputs": [],
   "source": [
    "# Display Net Capacity vs Time\n",
    "from IPython.display import Image\n",
    "Image(filename='power_plot.png')\n",
    "\n",
    "# Display Number of Reactors vs Time\n",
    "from IPython.display import Image\n",
    "Image(filename='number_plot.png')\n",
    "\n",
    "# Display Tailings vs Time\n",
    "from IPython.display import Image\n",
    "Image(filename='tailings.png')\n",
    "\n",
    "# Display Total Fuel vs Time\n",
    "from IPython.display import Image\n",
    "Image(filename='total_fuel.png')\n",
    "\n",
    "# Display Uranium Utilization vs Time\n",
    "from IPython.display import Image\n",
    "Image(filename='u_util.png')\n",
    "\n",
    "# Display Separated Pu Flow\n",
    "from IPython.display import Image\n",
    "Image(filename='combined.png')\n",
    "\n",
    "from IPython.display import Image\n",
    "Image(filename='mox_Pu.png')\n",
    "\n",
    "from IPython.display import Image\n",
    "Image(filename='uox_Pu.png')"
   ]
  }
 ],
 "metadata": {
  "kernelspec": {
   "display_name": "Python 3",
   "language": "python",
   "name": "python3"
  },
  "language_info": {
   "codemirror_mode": {
    "name": "ipython",
    "version": 3
   },
   "file_extension": ".py",
   "mimetype": "text/x-python",
   "name": "python",
   "nbconvert_exporter": "python",
   "pygments_lexer": "ipython3",
   "version": "3.5.2"
  }
 },
 "nbformat": 4,
 "nbformat_minor": 2
}
