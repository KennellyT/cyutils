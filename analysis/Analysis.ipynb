{
 "cells": [
  {
   "cell_type": "code",
   "execution_count": null,
   "metadata": {
    "collapsed": true
   },
   "outputs": [],
   "source": [
    "#Import All Libraries\n",
    "from IPython.display import Image\n",
    "from os import listdir"
   ]
  },
  {
   "cell_type": "code",
   "execution_count": null,
   "metadata": {},
   "outputs": [
    {
     "name": "stdout",
     "output_type": "stream",
     "text": [
      "              :                                                               \n",
      "          .CL:CC CC             _Q     _Q  _Q_Q    _Q    _Q              _Q   \n",
      "        CC;CCCCCCCC:C;         /_\\)   /_\\)/_/\\\\)  /_\\)  /_\\)            /_\\)  \n",
      "        CCCCCCCCCCCCCl       __O|/O___O|/O_OO|/O__O|/O__O|/O____________O|/O__\n",
      "     CCCCCCf     iCCCLCC     /////////////////////////////////////////////////\n",
      "     iCCCt  ;;;;;.  CCCC                                                      \n",
      "    CCCC  ;;;;;;;;;. CClL.                          c                         \n",
      "   CCCC ,;;       ;;: CCCC  ;                   : CCCCi                       \n",
      "    CCC ;;         ;;  CC   ;;:                CCC`   `C;                     \n",
      "  lCCC ;;              CCCC  ;;;:             :CC .;;. C;   ;    :   ;  :;;   \n",
      "  CCCC ;.              CCCC    ;;;,           CC ;    ; Ci  ;    :   ;  :  ;  \n",
      "   iCC :;               CC       ;;;,        ;C ;       CC  ;    :   ; .      \n",
      "  CCCi ;;               CCC        ;;;.      .C ;       tf  ;    :   ;  ;.    \n",
      "  CCC  ;;               CCC          ;;;;;;; fC :       lC  ;    :   ;    ;:  \n",
      "   iCf ;;               CC         :;;:      tC ;       CC  ;    :   ;     ;  \n",
      "  fCCC :;              LCCf      ;;;:         LC :.  ,: C   ;    ;   ; ;   ;  \n",
      "  CCCC  ;;             CCCC    ;;;:           CCi `;;` CC.  ;;;; :;.;.  ; ,;  \n",
      "    CCl ;;             CC    ;;;;              CCC    CCL                     \n",
      "   tCCC  ;;        ;; CCCL  ;;;                  tCCCCC.                      \n",
      "    CCCC  ;;     :;; CCCCf  ;                     ,L                          \n",
      "     lCCC   ;;;;;;  CCCL                                                      \n",
      "     CCCCCC  :;;  fCCCCC                                                      \n",
      "      . CCCC     CCCC .                                                       \n",
      "       .CCCCCCCCCCCCCi                                                        \n",
      "          iCCCCCLCf                                                           \n",
      "           .  C. ,                                                            \n",
      "              :                                                               \n",
      "Experimental Warning: MatlBuyPolicy is experimental and its API may be subject to change\n",
      "Experimental Warning: MatlSellPolicy is experimental and its API may be subject to change\n",
      "Experimental Warning: The Storage Facility is experimental.\n",
      "Experimental Warning: MatlBuyPolicy is experimental and its API may be subject to change\n",
      "Experimental Warning: MatlSellPolicy is experimental and its API may be subject to change\n",
      "Experimental Warning: The Storage Facility is experimental.\n",
      "Experimental Warning: MatlBuyPolicy is experimental and its API may be subject to change\n",
      "Experimental Warning: MatlSellPolicy is experimental and its API may be subject to change\n",
      "Experimental Warning: The Storage Facility is experimental.\n",
      "Experimental Warning: MatlBuyPolicy is experimental and its API may be subject to change\n",
      "Experimental Warning: MatlSellPolicy is experimental and its API may be subject to change\n",
      "Experimental Warning: The Storage Facility is experimental.\n",
      "Experimental Warning: MatlBuyPolicy is experimental and its API may be subject to change\n",
      "Experimental Warning: MatlSellPolicy is experimental and its API may be subject to change\n",
      "Experimental Warning: The Storage Facility is experimental.\n",
      "Experimental Warning: MatlBuyPolicy is experimental and its API may be subject to change\n",
      "Experimental Warning: MatlSellPolicy is experimental and its API may be subject to change\n",
      "Experimental Warning: The Storage Facility is experimental.\n",
      "Experimental Warning: MatlBuyPolicy is experimental and its API may be subject to change\n",
      "Experimental Warning: MatlSellPolicy is experimental and its API may be subject to change\n",
      "Experimental Warning: The Storage Facility is experimental.\n",
      "Experimental Warning: MatlBuyPolicy is experimental and its API may be subject to change\n",
      "Experimental Warning: MatlSellPolicy is experimental and its API may be subject to change\n",
      "Experimental Warning: The Storage Facility is experimental.\n",
      "Experimental Warning: MatlBuyPolicy is experimental and its API may be subject to change\n",
      "Experimental Warning: MatlSellPolicy is experimental and its API may be subject to change\n",
      "Experimental Warning: The Storage Facility is experimental.\n",
      "Experimental Warning: MatlBuyPolicy is experimental and its API may be subject to change\n",
      "Experimental Warning: MatlSellPolicy is experimental and its API may be subject to change\n",
      "Experimental Warning: The Storage Facility is experimental.\n",
      "Experimental Warning: MatlBuyPolicy is experimental and its API may be subject to change\n",
      "Experimental Warning: MatlSellPolicy is experimental and its API may be subject to change\n",
      "Experimental Warning: The Storage Facility is experimental.\n",
      "Experimental Warning: MatlBuyPolicy is experimental and its API may be subject to change\n",
      "Experimental Warning: MatlSellPolicy is experimental and its API may be subject to change\n",
      "Experimental Warning: The Storage Facility is experimental.\n",
      "Experimental Warning: MatlBuyPolicy is experimental and its API may be subject to change\n",
      "Experimental Warning: MatlSellPolicy is experimental and its API may be subject to change\n",
      "Experimental Warning: The Storage Facility is experimental.\n",
      "Experimental Warning: MatlBuyPolicy is experimental and its API may be subject to change\n",
      "Experimental Warning: MatlSellPolicy is experimental and its API may be subject to change\n",
      "Experimental Warning: The Storage Facility is experimental.\n",
      "Further Experimental Warnings will be suppressed.\n"
     ]
    }
   ],
   "source": [
    "# Run cyclus simulation\n",
    "!rm ../cyclus_output/latest.sqlite\n",
    "!cyclus -i ../cyclus_input/predicting_the_past.xml -o ../cyclus_output/latest.sqlite\n",
    "print('Done!')"
   ]
  },
  {
   "cell_type": "code",
   "execution_count": null,
   "metadata": {},
   "outputs": [],
   "source": [
    "# Run analysis script\n",
    "%run analysis.py ../cyclus_output/latest.sqlite\n",
    "print('Done!')"
   ]
  },
  {
   "cell_type": "code",
   "execution_count": null,
   "metadata": {},
   "outputs": [],
   "source": [
    "# Nat_u consumption vs Time\n",
    "Image(filename = 'results/Nat_u consumption.png')"
   ]
  },
  {
   "cell_type": "code",
   "execution_count": null,
   "metadata": {},
   "outputs": [],
   "source": [
    "# Fuel into Reactors vs Time\n",
    "Image(filename = 'results/Fuel to Reactors over Time.png')"
   ]
  },
  {
   "cell_type": "code",
   "execution_count": null,
   "metadata": {},
   "outputs": [],
   "source": [
    "# Fuel utilization vs Time\n",
    "Image(filename = 'results/Fuel utilization.png')"
   ]
  },
  {
   "cell_type": "code",
   "execution_count": null,
   "metadata": {},
   "outputs": [],
   "source": [
    "# Capacity vs Time\n",
    "Image(filename = 'results/Capacity vs Time.png')"
   ]
  },
  {
   "cell_type": "code",
   "execution_count": null,
   "metadata": {},
   "outputs": [],
   "source": [
    "# Number of Reactors vs Time\n",
    "Image(filename = 'results/Number of Reactors vs Time.png')"
   ]
  },
  {
   "cell_type": "code",
   "execution_count": null,
   "metadata": {},
   "outputs": [],
   "source": [
    "# SWU vs Time\n",
    "Image(filename = 'results/SWU vs Time.png')"
   ]
  },
  {
   "cell_type": "code",
   "execution_count": null,
   "metadata": {},
   "outputs": [],
   "source": [
    "# Tailings vs Time\n",
    "Image(filename = 'results/Tailings vs Time.png')"
   ]
  }
 ],
 "metadata": {
  "kernelspec": {
   "display_name": "Python 3",
   "language": "python",
   "name": "python3"
  },
  "language_info": {
   "codemirror_mode": {
    "name": "ipython",
    "version": 3
   },
   "file_extension": ".py",
   "mimetype": "text/x-python",
   "name": "python",
   "nbconvert_exporter": "python",
   "pygments_lexer": "ipython3",
   "version": "3.6.1"
  }
 },
 "nbformat": 4,
 "nbformat_minor": 2
}
