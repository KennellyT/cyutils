{
 "cells": [
  {
   "cell_type": "markdown",
   "metadata": {},
   "source": [
    "# Predicting the past, Europe"
   ]
  },
  {
   "cell_type": "markdown",
   "metadata": {},
   "source": [
    "## Introduction\n",
    "\n",
    "The Power Reactor Information System (PRIS) publishes information about nuclear reactors around the world. Reactors deployed in Europe are obtained from the spreadsheet published by PRIS to run a benchmarking simulation. _CYCLUS_, an agent-based simulation software is used and analysis of the results is performed. Only commercial reactors are considered for this simulation, and nuclear reactors from the following countries are included: Belgium, Bulgaria, Czechoslovakia, Finland, France, Germany, Italy, Netherlands, Romania, Russia, Slovenia, Spain, Sweden, Switzerland, and the United Kingdom."
   ]
  },
  {
   "cell_type": "markdown",
   "metadata": {},
   "source": [
    "## Obtaining Recipes for Simulation\n",
    "\n",
    "First, an input file for _CYCLUS_ specifying the recipes for fresh and spent nuclear fuel (SNF) is produced. The recipes for fresh and SNF are obtained from [vision_recipes.xls](import_data/vision_recipies/vision_recipies.xls) spreadsheet file, which contains isotopes and compositions for fresh and SNF for uranium oxide (UOX) and mixed oxide (MOX) fuel at different burn ups.\n",
    "\n",
    "Importing raw composition data from `vision_recipes.xls` is performed with a python script and is demonstrated below. Due to limited information about the reactors, all reactors are assumed to operate at a burn up of 51 GWd/MTHM.\n",
    "\n",
    "### Demonstration\n",
    "__Import necessary libraries__"
   ]
  },
  {
   "cell_type": "code",
   "execution_count": 1,
   "metadata": {
    "ExecuteTime": {
     "end_time": "2018-03-23T19:42:33.783278Z",
     "start_time": "2018-03-23T19:42:33.339655Z"
    }
   },
   "outputs": [],
   "source": [
    "import csv\n",
    "import collections\n",
    "import dateutil.parser as date\n",
    "import import_fleetcomp as idata\n",
    "import jinja2\n",
    "import matplotlib.pyplot as plt\n",
    "import numpy as np\n",
    "import os\n",
    "import pathlib\n",
    "import sys\n",
    "import sqlite3 as lite\n",
    "from matplotlib import cm\n",
    "from pyne import nucname as nn\n",
    "from IPython.display import Image\n",
    "\n",
    "sys.path.append('analysis/')\n",
    "import analysis as an\n",
    "\n",
    "region = 'europe'"
   ]
  },
  {
   "cell_type": "markdown",
   "metadata": {},
   "source": [
    "__Read fuel recipe data__\n",
    "\n",
    "`vision_recipes.xls` is stored to a list object by looping over each row in the spreadsheet file."
   ]
  },
  {
   "cell_type": "code",
   "execution_count": 2,
   "metadata": {
    "ExecuteTime": {
     "end_time": "2018-03-23T19:42:34.532485Z",
     "start_time": "2018-03-23T19:42:34.520534Z"
    },
    "scrolled": false
   },
   "outputs": [
    {
     "name": "stdout",
     "output_type": "stream",
     "text": [
      "['He4', '0', '2.09687731425456E-07', '0', '9.47457840128509E-07', '0', '2.0692755421168E-06', '0']\n",
      "['Ra226', '0', '1.18893043712383E-14', '0', '9.78856442957042E-14', '0', '0', '0']\n",
      "['Ra228', '0', '6.05164592554536E-21', '0', '2.75087759176098E-20', '0', '6.0138599011451E-20', '0']\n",
      "['Pb206', '0', '7.66855132237399E-20', '0', '5.57475193532078E-18', '0', '1.40345550165974E-17', '0']\n",
      ".\n",
      ".\n",
      ".\n"
     ]
    }
   ],
   "source": [
    "def import_csv(in_csv, delimit):\n",
    "    \"\"\" Imports contents of a comma delimited csv file\n",
    "    to a 2D list.\n",
    "\n",
    "    Parameters\n",
    "    ---------\n",
    "    in_csv: str\n",
    "        csv file name.\n",
    "    delimit: str\n",
    "        delimiter of the csv file\n",
    "\n",
    "    Returns\n",
    "    -------\n",
    "    data_list: list\n",
    "        list with fleetcomp data.\n",
    "    \"\"\"\n",
    "    with open(in_csv, encoding='utf-8') as source:\n",
    "        sourcereader = csv.reader(source, delimiter=delimit)\n",
    "        data_list = []\n",
    "        for row in sourcereader:\n",
    "            data_list.append(row)\n",
    "    return data_list\n",
    "\n",
    "\n",
    "recipes = import_csv('import_data/vision_recipes/uox.csv', ',')\n",
    "print(*recipes[2:6], '.', '.', '.', sep='\\n')"
   ]
  },
  {
   "cell_type": "markdown",
   "metadata": {},
   "source": [
    "__Load template for _CYCLUS_ input file__\n",
    "\n",
    "A jinja template file, used to produce parts of the final _CYCLUS_ simulation input file, is loaded to memory."
   ]
  },
  {
   "cell_type": "code",
   "execution_count": 3,
   "metadata": {
    "ExecuteTime": {
     "end_time": "2018-03-23T19:42:35.126562Z",
     "start_time": "2018-03-23T19:42:35.110343Z"
    }
   },
   "outputs": [],
   "source": [
    "def load_template(in_template):\n",
    "    \"\"\" Returns a jinja2 template.\n",
    "\n",
    "    Parameters\n",
    "    ---------\n",
    "    in_template: str\n",
    "        template file name.\n",
    "\n",
    "    Returns\n",
    "    -------\n",
    "    output_template: jinja template object\n",
    "    \"\"\"\n",
    "    with open(in_template, 'r') as default:\n",
    "        output_template = jinja2.Template(default.read())\n",
    "    return output_template\n",
    "\n",
    "\n",
    "recipe_template = load_template('templates/recipes_template.xml')"
   ]
  },
  {
   "cell_type": "markdown",
   "metadata": {},
   "source": [
    "__Select appropriate recipe for a given burnup__\n",
    "\n",
    "The appropriate composition for fresh and spent nuclear fuel is selected by specifying burnup. The composition data is then stored into a dictionary object with {isotope: mass fraction composition} as {key : value} pair."
   ]
  },
  {
   "cell_type": "code",
   "execution_count": 4,
   "metadata": {
    "ExecuteTime": {
     "end_time": "2018-03-23T19:42:35.611559Z",
     "start_time": "2018-03-23T19:42:35.530460Z"
    }
   },
   "outputs": [
    {
     "name": "stdout",
     "output_type": "stream",
     "text": [
      "Spent Fuel Composition:\n",
      "ISOTOPE:   Massfrac\n",
      "20040000 :  9.47457840128509e-07\n",
      "882260000 :  9.78856442957042e-14\n",
      "882280000 :  2.75087759176098e-20\n",
      ".\n",
      ".\n",
      ".\n"
     ]
    }
   ],
   "source": [
    "def get_composition_fresh(in_list, burnup):\n",
    "    \"\"\" Returns a dictionary of isotope and composition (in mass fraction)\n",
    "    using vision_recipes for fresh UOX\n",
    "\n",
    "    Parameters\n",
    "    ---------\n",
    "    in_list: list\n",
    "        list file containing vision_recipes data.\n",
    "    burnup: int\n",
    "        burnup\n",
    "\n",
    "    Returns\n",
    "    -------\n",
    "    data_dict: dictionary\n",
    "        dictionary with key: isotope, and value: composition.\n",
    "    \"\"\"\n",
    "    data_dict = {}\n",
    "    for i in range(len(in_list)):\n",
    "        if i > 1:\n",
    "            if burnup == 33:\n",
    "                data_dict.update({nn.id(in_list[i][0]):\n",
    "                                  float(in_list[i][1])})\n",
    "            elif burnup == 51:\n",
    "                data_dict.update({nn.id(in_list[i][0]):\n",
    "                                  float(in_list[i][3])})\n",
    "            else:\n",
    "                data_dict.update({nn.id(in_list[i][0]):\n",
    "                                  float(in_list[i][5])})\n",
    "    return data_dict\n",
    "\n",
    "\n",
    "def get_composition_spent(in_list, burnup):\n",
    "    \"\"\" Returns a dictionary of isotope and composition (in mass fraction)\n",
    "    using vision_recipes for spent nuclear fuel\n",
    "\n",
    "    Parameters\n",
    "    ---------\n",
    "    in_list: list\n",
    "        list file containing vision_recipes data.\n",
    "    burnup: int\n",
    "        burnup\n",
    "\n",
    "    Returns\n",
    "    -------\n",
    "    data_dict: dictionary\n",
    "        dictionary with key: isotope, and value: composition.\n",
    "    \"\"\"\n",
    "    data_dict = {}\n",
    "    for i in range(len(in_list)):\n",
    "        if i > 1:\n",
    "            if burnup == 33:\n",
    "                data_dict.update({nn.id(in_list[i][0]):\n",
    "                                  float(in_list[i][2])})\n",
    "            elif burnup == 51:\n",
    "                data_dict.update({nn.id(in_list[i][0]):\n",
    "                                  float(in_list[i][4])})\n",
    "            else:\n",
    "                data_dict.update({nn.id(in_list[i][0]):\n",
    "                                  float(in_list[i][6])})\n",
    "    return data_dict\n",
    "\n",
    "\n",
    "fresh = get_composition_fresh(recipes, 51)\n",
    "spent = get_composition_spent(recipes, 51)\n",
    "print('Spent Fuel Composition:')\n",
    "print('ISOTOPE:   Massfrac')\n",
    "for k in list(spent.keys())[:3]:\n",
    "    print(k, ': ', spent[k])\n",
    "print('.', '.', '.', sep='\\n')"
   ]
  },
  {
   "cell_type": "markdown",
   "metadata": {},
   "source": [
    "__Render recipe template with recipe data__\n",
    "\n",
    "`jinja2` library is used to render recipe data to the previously loaded `recipe_template`. `pyne` library is used to convert the isotope names to _CYCLUS_ readable format. The rendered information is then saved to an xml file for use with _CYCLUS_."
   ]
  },
  {
   "cell_type": "code",
   "execution_count": 5,
   "metadata": {
    "ExecuteTime": {
     "end_time": "2018-03-23T19:42:36.019069Z",
     "start_time": "2018-03-23T19:42:35.991777Z"
    }
   },
   "outputs": [],
   "source": [
    "def write_recipes(fresh_dict, spent_dict, in_template, burnup, region):\n",
    "    \"\"\" Renders jinja template using fresh and spent fuel composition and\n",
    "    outputs an xml file containing recipe data\n",
    "\n",
    "    Parameters\n",
    "    ---------\n",
    "    fresh_dict: dictionary\n",
    "        dictionary with key=isotope, and value=composition for fresh UOX\n",
    "    spent_dict: dictionary\n",
    "        dictionary with key=isotope, and value=composition for spent fuel\n",
    "    in_template: jinja template object\n",
    "        jinja template object to be rendered.\n",
    "    burnup: int\n",
    "        amount of burnup\n",
    "\n",
    "    Returns\n",
    "    -------\n",
    "    null\n",
    "        generates reactor files for cyclus.\n",
    "    \"\"\"\n",
    "    out_path = 'cyclus/input/' + region + '/recipes/'\n",
    "    pathlib.Path(out_path).mkdir(parents=True, exist_ok=True)\n",
    "    rendered = in_template.render(fresh=fresh_dict,\n",
    "                                  spent=spent_dict)\n",
    "    with open(out_path + '/uox_' +\n",
    "              str(burnup) + '.xml', 'w') as output:\n",
    "        output.write(rendered)\n",
    "\n",
    "\n",
    "write_recipes(fresh, spent, recipe_template, 33, region)\n",
    "write_recipes(fresh, spent, recipe_template, 51, region)\n",
    "write_recipes(fresh, spent, recipe_template, 100, region)"
   ]
  },
  {
   "cell_type": "markdown",
   "metadata": {},
   "source": [
    "\n",
    "`jinja2` library is used to produce various parts of the final  _CYCLUS_ input file using templates. The library replaces simulation-specific information, such as the recipe for SNF, from the specified template file. This allows end-users to produce _CYCLUS_ simulation inputs that vary depending on the data with which they have been rendered. An example is shown below.\n",
    "\n",
    "Recipe template file:\n",
    "\n",
    "```\n",
    "    <recipes>\n",
    "      <recipe>\n",
    "        <name>fresh_uox</name>\n",
    "        <basis>atom</basis>\n",
    "        <nuclide>\n",
    "          <id>922350000</id>\n",
    "          <comp>4.5</comp>\n",
    "        </nuclide>\n",
    "        <nuclide>\n",
    "          <id>922380000</id>\n",
    "          <comp>95.5</comp>\n",
    "        </nuclide>\n",
    "      </recipe>\n",
    "      <recipe>\n",
    "        <name>spent_uox</name>\n",
    "        <basis>atom</basis>\n",
    "        {% for key, value in vision.items() -%}\n",
    "        <nuclide>  <id>{{ key }}</id>  <comp>{{ value }}</comp>  </nuclide>\n",
    "        {% endfor -%}\n",
    "      </recipe>\n",
    "    </recipes>\n",
    "```\n",
    "\n",
    "The template shown above is a recipe template. `jinja2` recognizes variables within the brackets (`{{ }}`) and replaces the variables with appropriate values. The library also recognizes loops to produce multiple lines of text from a list of data. For instance, `jinja2` used the for-loop in the following lines\n",
    "```\n",
    "    {% for key, value in vision.items() -%}`\n",
    "    <nuclide>  <id>{{ key }}</id>  <comp>{{ value }}</comp>  </nuclide>\n",
    "    {% endfor -%}\n",
    "```\n",
    "and iterated over the composition dictionary to render the isotope and its composition.\n",
    "\n",
    "[uox_51.xml](cyclus/input/US/recipes/uox_51.xml) is the rendered result. \n",
    "\n",
    "## Obtaining Deployment Data\n",
    "\n",
    "Reactors specified in [reactors_pris_2016.csv](import_data/reactors_pris_2016.csv), need to be properly imported. The reactors should be deployed at the correct timesteps for an accurate simulation. The spreadsheet file contains reactor information including the name, deployment date, net capacity, and deployment nation. Obtaining reactor information for _CYCLUS_ is performed using a set of python functions. The same generic steps were repeated for this demonstration: importing data stored in a delimited text file, and rendering the imported data to a _CYCLUS_ template file using `jinja2`.\n",
    "\n",
    "### Demonstration\n",
    "__Read fleetcomp reactor data__"
   ]
  },
  {
   "cell_type": "code",
   "execution_count": 6,
   "metadata": {
    "ExecuteTime": {
     "end_time": "2018-03-23T19:42:36.362249Z",
     "start_time": "2018-03-23T19:42:36.355398Z"
    },
    "scrolled": false
   },
   "outputs": [
    {
     "name": "stdout",
     "output_type": "stream",
     "text": [
      "['Argentina', 'ATUCHA-1', 'PHWR', '335', 'Operational', 'NASA', '6/1/1968', '1968', '1/13/1974', '3/19/1974', '6/24/1974', '', '83.1']\n",
      "['Argentina', 'EMBALSE', 'PHWR', '600', 'Operational', 'NASA', '4/1/1974', '1974', '3/13/1983', '4/25/1983', '1/20/1984', '', '69.6']\n",
      "['Argentina', 'ATUCHA-2', 'PHWR', '692', 'Operational', 'NASA', '7/14/1981', '1981', '6/3/2014', '6/27/2014', '', '', '0']\n",
      "['Argentina', 'CAREM25', 'PWR', '25', 'Under Construction', 'CNEA', '2/8/2014', '2014', '', '', '', '', '']\n",
      "['Bangladesh', 'Rooppur Nuclear Power Plant (Unit-I)', 'VVER', '1000-1250', 'Planned', '', '2016', '', '', '', '2021', '', '']\n",
      ".\n",
      ".\n",
      ".\n"
     ]
    }
   ],
   "source": [
    "pris = import_csv('import_data/reactors_pris_2016.csv', ',')\n",
    "print(*pris[1:6], sep='\\n')\n",
    "print('.', '.', '.', sep='\\n')"
   ]
  },
  {
   "cell_type": "markdown",
   "metadata": {},
   "source": [
    "__Select reactors in the specified region__\n",
    "\n",
    "PRIS reactor spreadsheet file contains information about nuclear reactors from various nations. In order to obtain commercial reactors deployed in Europe, a separate function was written that searches for reactors from the Europe."
   ]
  },
  {
   "cell_type": "code",
   "execution_count": 7,
   "metadata": {
    "ExecuteTime": {
     "end_time": "2018-03-23T19:42:36.751815Z",
     "start_time": "2018-03-23T19:42:36.708413Z"
    }
   },
   "outputs": [
    {
     "name": "stdout",
     "output_type": "stream",
     "text": [
      "['Belgium', 'BR-3', 'PWR', '10', 'Permanent Shutdown', 'CEN/SCK', '11/1/1957', '1957', '8/29/1962', '10/10/1962', '10/10/1962', '6/30/1987', '']\n",
      "['Belgium', 'DOEL-1', 'PWR', '433', 'Operational', 'ELECTRAB', '7/1/1969', '1969', '7/18/1974', '8/28/1974', '2/15/1975', '', '97.9']\n",
      "['Belgium', 'TIHANGE-1', 'PWR', '962', 'Operational', 'ELECTRAB', '6/1/1970', '1970', '2/21/1975', '3/7/1975', '10/1/1975', '', '80.9']\n",
      "['Belgium', 'DOEL-2', 'PWR', '433', 'Operational', 'ELECTRAB', '9/1/1971', '1971', '8/4/1975', '8/21/1975', '12/1/1975', '', '93.8']\n",
      ".\n",
      ".\n",
      ".\n"
     ]
    }
   ],
   "source": [
    "def select_region(in_list, region):\n",
    "    \"\"\" Returns a list of reactors that have a start_date\n",
    "    and are note experimental\n",
    "\n",
    "    Parameters\n",
    "    ----------\n",
    "    in_list: list\n",
    "            imported csv file in list format\n",
    "    region: str\n",
    "            name of the region\n",
    "\n",
    "    Returns\n",
    "    -------\n",
    "    reactor_list: list\n",
    "            list of reactors from PRIS\n",
    "    \"\"\"\n",
    "    UNITED_STATES = {'UNITED STATES'}\n",
    "    SOUTH_AMERICA = {'ARGENTINA', 'BRAZIL'}\n",
    "    NORTH_AMERICA = {'CANADA', 'MEXICO', 'UNITED STATES'}\n",
    "    EUROPE = {'BELARUS', 'BELGIUM', 'BULGARIA',\n",
    "              'CZECHOSLOVAKIA', 'FINLAND', 'FRANCE',\n",
    "              'GERMANY', 'ITALY', 'NETHERLANDS',\n",
    "              'POLAND', 'ROMANIA', 'RUSSIA',\n",
    "              'SLOVENIA', 'SOVIET UNION', 'SPAIN',\n",
    "              'SWEDEN', 'SWITZERLAND', 'TURKEY',\n",
    "              'UKRAINE', 'UNITED KINGDOM'\n",
    "              }\n",
    "    ASIA = {'BANGLADESH', 'CHINA', 'INDIA',\n",
    "            'IRAN', 'JAPAN', 'KAZAKHSTAN',\n",
    "            'PAKISTAN', 'PHILIPPINES', 'SOUTH KOREA',\n",
    "            'UNITED ARAB EMIRATES', 'VIETNAM'}\n",
    "    AFRICA = {'EGYPT', 'MOROCCO', 'SOUTH AFRICA', 'TUNISIA'}\n",
    "    ALL = SOUTH_AMERICA | NORTH_AMERICA | EUROPE | ASIA | AFRICA | UNITED_STATES\n",
    "    regions = {'SOUTH_AMERICA': SOUTH_AMERICA, 'NORTH_AMERICA': NORTH_AMERICA,\n",
    "               'ASIA': ASIA, 'AFRICA': AFRICA, 'EUROPE': EUROPE, \n",
    "               'UNITED_STATES': UNITED_STATES, 'ALL': ALL}\n",
    "\n",
    "    if region.upper() not in regions.keys():\n",
    "        raise ValueError(region + 'is not a valid region')\n",
    "    reactor_list = []\n",
    "    for row in in_list:\n",
    "        country = row[0]\n",
    "        if country.upper() in regions[region.upper()]:\n",
    "            start_date = row[9]\n",
    "            if start_date.strip():\n",
    "                reactor_list.append(row)\n",
    "    return reactor_list\n",
    "\n",
    "reactor_list = select_region(pris, region)\n",
    "print(*reactor_list[:4], '.', '.', '.', sep='\\n')"
   ]
  },
  {
   "cell_type": "markdown",
   "metadata": {},
   "source": [
    "__Select and render useful reactor information__\n",
    "\n",
    "In this step, the following information is obtained from the PRIS spreadsheet: reactor name, type, deployed nation, and capacity. Reactor specifications such as number of assemblies, assemblies per batch, mass of core, and mass of assembly were obtained from published sources [1], [2]. Then, `write_reactors` function is used to render these information. The function loops over each row and checks the type of reactor and its capacity. Reactors with capacity less than 400 MWe were assumed to be experimental reactors. Then, all the raw and derived variables necessary for simulation are rendered to individual reactor files. Reactor specifications that are not available in [1], and [2], use PWR specifications. This can be improved in the future but is considered a minor inaccuracy as most reactors that lacked specifications are experimental reactors."
   ]
  },
  {
   "cell_type": "code",
   "execution_count": 8,
   "metadata": {
    "ExecuteTime": {
     "end_time": "2018-03-23T19:42:38.268655Z",
     "start_time": "2018-03-23T19:42:37.484512Z"
    }
   },
   "outputs": [],
   "source": [
    "def write_reactors(in_list, out_path, reactor_template):\n",
    "    \"\"\" Obtains information regarding reactors\n",
    "    and renders the information into a jinja template\n",
    "\n",
    "    Parameters\n",
    "    ----------\n",
    "    in_list: list\n",
    "        list containing PRIS data\n",
    "    out_path: str\n",
    "        output path for reactor files\n",
    "    reactor_template: str\n",
    "        path to reactor template\n",
    "\n",
    "    Returns\n",
    "    -------\n",
    "    null\n",
    "        writes xml files containing information about a reactor\n",
    "    \"\"\"\n",
    "    if out_path[-1] != '/':\n",
    "        out_path += '/'\n",
    "    pathlib.Path(out_path).mkdir(parents=True, exist_ok=True)\n",
    "    reactor_template = idata.load_template(reactor_template)\n",
    "    for row in in_list:\n",
    "        capacity = float(row[3])\n",
    "        if capacity >= 400:\n",
    "            name = row[1].replace(' ', '_').lower()\n",
    "            assem_per_batch = 0\n",
    "            assem_no = 0\n",
    "            assem_size = 0\n",
    "            reactor_type = row[2]\n",
    "            if reactor_type in ['BWR', 'ESBWR']:\n",
    "                assem_no = 732\n",
    "                assem_per_batch = assem_no / 3\n",
    "                assem_size = 138000 / assem_no\n",
    "            elif reactor_type in ['GCR', 'HWGCR']:  # Need batch number\n",
    "                assem_no = 324\n",
    "                assem_per_batch = assem_no / 3\n",
    "                assem_size = 114000 / assem_no\n",
    "            elif reactor_type == 'HTGR':  # Need batch number\n",
    "                assem_no = 3944\n",
    "                assem_per_batch = assem_no / 3\n",
    "                assem_size = 39000 / assem_no\n",
    "            elif reactor_type == 'PHWR':\n",
    "                assem_no = 390\n",
    "                assem_per_batch = assem_no / 45\n",
    "                assem_size = 80000 / assem_no\n",
    "            elif reactor_type == 'VVER':  # Need batch number\n",
    "                assem_no = 312\n",
    "                assem_per_batch = assem_no / 3\n",
    "                assem_size = 41500 / assem_no\n",
    "            elif reactor_type == 'VVER-1200':  # Need batch number\n",
    "                assem_no = 163\n",
    "                assem_per_batch = assem_no / 3\n",
    "                assem_size = 80000 / assem_no\n",
    "            else:\n",
    "                assem_no = 241\n",
    "                assem_per_batch = assem_no / 3\n",
    "                assem_size = 103000 / assem_no\n",
    "\n",
    "            rendered = reactor_template.render(name=name,\n",
    "                                               lifetime=get_lifetime(row),\n",
    "                                               assem_size=assem_size,\n",
    "                                               n_assem_core=assem_no,\n",
    "                                               n_assem_batch=int(\n",
    "                                                   assem_per_batch),\n",
    "                                               power_cap=row[3])\n",
    "            name = out_path + name.replace(' ', '_') + '.xml'\n",
    "            with open(name.lower(), 'w') as output:\n",
    "                output.write(rendered)\n",
    "\n",
    "\n",
    "def get_lifetime(in_list):\n",
    "    \"\"\" Calculates the lifetime of a reactor using first\n",
    "    grid data and shutdown date. Defaults to 720 if these\n",
    "    data are not available\n",
    "\n",
    "    Parameters\n",
    "    ----------\n",
    "    in_list: list\n",
    "        single row from PRIS data that contains reactor\n",
    "        information\n",
    "\n",
    "    Returns\n",
    "    -------\n",
    "    lifetime: int\n",
    "        lifetime of reactor\n",
    "    \"\"\"\n",
    "    grid_date = in_list[9]\n",
    "    shutdown_date = in_list[11]\n",
    "    if not shutdown_date.strip():\n",
    "        return 720\n",
    "    else:\n",
    "        n_days_month = 365.0 / 12\n",
    "        delta = (date.parse(shutdown_date) - date.parse(grid_date)).days\n",
    "        return int(delta / n_days_month)\n",
    "\n",
    "\n",
    "out_path = 'cyclus/input/' + region + '/reactors'\n",
    "reactor_template = 'templates/reactors_template.xml'\n",
    "write_reactors(reactor_list, out_path, reactor_template)"
   ]
  },
  {
   "cell_type": "markdown",
   "metadata": {},
   "source": [
    "[reactors](cyclus/input/europe/reactors) folder contains individual reactor specifications.\n",
    "\n",
    "## Writing Deployment\n",
    "\n",
    "In order to ensure proper deployment of all reactors during simulation, a function was written to calculate then save deployment information. `build_time`, the number of timesteps taken to deploy the reactors, is calculated using the difference between simulation start date and the reactor first grid date in _CYCLUS_ timesteps (months).\n",
    "\n",
    "### Demonstration \n",
    "__Read PRIS reactor data__\n",
    "\n",
    "`deploy_reactors` function is used for this application. The function imports the PRIS reactor file, produces the folder structure necessary for file output, and calls `get_buildtime` function and `write_deployment` function. `get_buildtime` function parses the deployment dates stored in the PRIS reactor file, and calculates the difference between simulation start date and reactor deployment date in months. Then, the resulting build_time is stored in a dictionary object with the reactor name as key, and the deployed country and deployment month as value. Finally, `write_deployment` function uses the dictionary obtained from `get_buildtime` function to produce deployment specifications."
   ]
  },
  {
   "cell_type": "code",
   "execution_count": 9,
   "metadata": {
    "ExecuteTime": {
     "end_time": "2018-03-23T19:42:39.681326Z",
     "start_time": "2018-03-23T19:42:39.144783Z"
    },
    "scrolled": false
   },
   "outputs": [
    {
     "name": "stdout",
     "output_type": "stream",
     "text": [
      "doel-1 :  ('belgium', 117)\n",
      "tihange-1 :  ('belgium', 123)\n",
      "doel-2 :  ('belgium', 129)\n",
      "doel-3 :  ('belgium', 211)\n",
      ".\n",
      ".\n",
      ".\n"
     ]
    }
   ],
   "source": [
    "def deploy_reactors(in_csv, region, start_year, deployinst_template,\n",
    "                    inclusions_template, reactors_path, deployment_path):\n",
    "    \"\"\" Generates xml files that specifies the reactors that will be included\n",
    "    in a cyclus simulation.\n",
    "\n",
    "    Parameters\n",
    "    ---------\n",
    "    in_csv: str\n",
    "        csv file name.\n",
    "    region: str\n",
    "        region name\n",
    "    start_year: int\n",
    "        starting year of simulation\n",
    "    deployinst_template: str\n",
    "        path to deployinst template\n",
    "    inclusions_template: str\n",
    "        path to inclusions template\n",
    "    reactors_path: str\n",
    "        path containing reactor files\n",
    "    deployment_path: str\n",
    "        output path for deployinst xml\n",
    "\n",
    "    Returns\n",
    "    -------\n",
    "    buildtime_dict: dict\n",
    "        dictionary with key=[name of reactor], and\n",
    "        value=[set of country and buildtime]\n",
    "    \"\"\"\n",
    "    lists = []\n",
    "    if reactors_path[-1] != '/':\n",
    "        reactors_path += '/'\n",
    "    for files in os.listdir(reactors_path):\n",
    "        lists.append(reactors_path + files)\n",
    "    in_data = idata.import_csv(in_csv, ',')\n",
    "    reactor_list = select_region(in_data, region)\n",
    "    buildtime = get_buildtime(reactor_list, start_year, lists)\n",
    "    write_deployment(buildtime, deployment_path, deployinst_template,\n",
    "                     inclusions_template)\n",
    "    return buildtime\n",
    "\n",
    "\n",
    "def get_buildtime(in_list, start_year, path_list):\n",
    "    \"\"\" Obtains information regarding reactors that need to\n",
    "    be deployed and renders the information into a jinja\n",
    "    template\n",
    "\n",
    "    Parameters\n",
    "    ----------\n",
    "    in_list: list\n",
    "        list of reactors\n",
    "    start_year: int\n",
    "        starting year of simulation\n",
    "    path_list: list\n",
    "        list of paths to reactor files\n",
    "\n",
    "    Returns\n",
    "    -------\n",
    "    buildtime_dict: dict\n",
    "        dictionary with key=[name of reactor], and\n",
    "        value=[set of country and buildtime]\n",
    "    \"\"\"\n",
    "    buildtime_dict = {}\n",
    "    for row in in_list:\n",
    "        grid_date = date.parse(row[9])\n",
    "        start_date = [grid_date.year, grid_date.month, grid_date.day]\n",
    "        delta = ((start_date[0] - int(start_year)) * 12 +\n",
    "                 (start_date[1]) +\n",
    "                 round(start_date[2] / (365.0 / 12)))\n",
    "        for index, reactor in enumerate(path_list):\n",
    "            name = row[1].replace(' ', '_').lower()\n",
    "            country = row[0].lower()\n",
    "            file_name = (reactor.replace(\n",
    "                os.path.dirname(path_list[index]), '')).replace('/', '')\n",
    "            if (name + '.xml' == file_name):\n",
    "                buildtime_dict.update({name: (country, delta)})\n",
    "    return buildtime_dict\n",
    "\n",
    "\n",
    "def write_deployment(in_dict, out_path, deployinst_template,\n",
    "                     inclusions_template):\n",
    "    \"\"\" Renders jinja template using dictionary of reactor name and buildtime\n",
    "    and outputs an xml file that uses xinclude to include the reactors located\n",
    "    in cyclus_input/reactors.\n",
    "\n",
    "    Parameters\n",
    "    ---------\n",
    "    in_dict: dictionary\n",
    "        dictionary with key: reactor name, and value: buildtime.\n",
    "    out_path: str\n",
    "        output path for files\n",
    "    deployinst_template: str\n",
    "        path to deployinst template\n",
    "    inclusions_template: str\n",
    "        path to inclusions template\n",
    "\n",
    "    Returns\n",
    "    -------\n",
    "    null\n",
    "        generates input files that have deployment and xml inclusions\n",
    "    \"\"\"\n",
    "    if out_path[-1] != '/':\n",
    "        out_path += '/'\n",
    "    pathlib.Path(out_path).mkdir(parents=True, exist_ok=True)\n",
    "    deployinst_template = idata.load_template(deployinst_template)\n",
    "    inclusions_template = idata.load_template(inclusions_template)\n",
    "    country_list = {value[0] for value in in_dict.values()}\n",
    "    for nation in country_list:\n",
    "        temp_dict = {}\n",
    "        for reactor in in_dict.keys():\n",
    "            if in_dict[reactor][0].upper() == nation.upper():\n",
    "                temp_dict.update({reactor: in_dict[reactor][1]})\n",
    "        pathlib.Path(out_path + nation.replace(' ', '_') +\n",
    "                     '/').mkdir(parents=True, exist_ok=True)\n",
    "        deployinst = deployinst_template.render(reactors=temp_dict)\n",
    "        with open(out_path + nation.replace(' ', '_') +\n",
    "                  '/deployinst.xml', 'w') as output1:\n",
    "            output1.write(deployinst)\n",
    "    in_dict =  {k.lower(): v for k, v in in_dict.items()}\n",
    "    inclusions = inclusions_template.render(reactors=in_dict)\n",
    "    with open(out_path + 'inclusions.xml', 'w') as output2:\n",
    "        output2.write(inclusions)\n",
    "\n",
    "\n",
    "pris_file = 'import_data/reactors_pris_2016.csv'\n",
    "deployinst_tmpl = 'templates/' + region + '/deployinst_template.xml'\n",
    "inclusions_tmpl = 'templates/inclusions_template.xml'\n",
    "reactor_path = 'cyclus/input/' + region + '/reactors'\n",
    "dployment_path = 'cyclus/input/' + region + '/buildtimes'\n",
    "buildtime = deploy_reactors(pris_file, region, 1965, deployinst_tmpl,\n",
    "                            inclusions_tmpl, reactor_path, dployment_path)\n",
    "\n",
    "for k in list(buildtime.keys())[:4]:\n",
    "    print(k, ': ', buildtime[k])\n",
    "print('.', '.', '.', sep='\\n')"
   ]
  },
  {
   "cell_type": "markdown",
   "metadata": {},
   "source": [
    "[deployinst folder](cyclus/input/europe/buildtimes/) and [inclusions.xml](cyclus/input/europe/buildtimes/inclusions.xml) show the rendered result. \n",
    "\n",
    "`deployinst.xml` contains configurations for _CYCAMORE::DeployInst_ archetype for the agents in the deploy institution and `inclusions.xml` contains xml inclusions so that the final _CYCLUS_ input file references the individual reactor files produced during __Obtaining Deployment Data__ step.\n",
    "\n",
    "## XML inclusion and  Setting XML base for final input file\n",
    "\n",
    "For this investigation, `XInclude` was used to produce modular _CYCLUS_ input files. Rather than a single lengthy input file, the use of xml inclusion allows the creation of _CYCLUS_ input files that contain certain sections such as deployment information, reactor specifications, or even entire regions. This introduces modularity to _CYCLUS_ input files and simulations. To use `XInclude` to reference other files within the input file, an xml base needs to be specified. \n",
    "\n",
    "__XInclude basics__\n",
    "\n",
    "In order to use `XInclude` simply add the `XInclude` namespace to the root element of the xml file that needs to reference another xml file.\n",
    "\n",
    "> xmlns:xi=\"http://www.w3.org/2001/XInclude\"\n",
    "\n",
    "Then, reference the xml file that needs to be added to the base xml file using an `href` tag under the `XInclude` namespace.\n",
    "\n",
    "> `<xi:include href=\"link_to_xml_file_to_be_added.xml\" />`\n",
    "\n",
    "\n",
    "__Example__\n",
    "\n",
    "Below is an example of xml inclusion from the final _CYCLUS_ [input file](cyclus/input/UNITED_STATES.xml) (click to open the full file).\n",
    "\n",
    "```\n",
    "<simulation xml:base=\"/home/gyutae/cyclus/predicting-the-past/cyclus/input/\"\n",
    "  xmlns:xi=\"http://www.w3.org/2001/XInclude\">\n",
    "  <control>\n",
    "    <duration>1020</duration>\n",
    "    <startmonth>1</startmonth>\n",
    "    <startyear>1965</startyear>\n",
    "  </control>\n",
    "  <archetypes>\n",
    "    <spec><lib>cycamore</lib> <name>Enrichment</name> </spec>\n",
    "    <spec><lib>cycamore</lib> <name>Reactor</name>    </spec>\n",
    "    <spec><lib>cycamore</lib> <name>Sink</name>       </spec>\n",
    "    <spec><lib>cycamore</lib> <name>Source</name>     </spec>\n",
    "    <spec><lib>cycamore</lib> <name>Storage</name>    </spec>\n",
    "    <spec><lib>cycamore</lib> <name>DeployInst</name> </spec>\n",
    "    <spec><lib>cycamore</lib> <name>ManagerInst</name></spec>\n",
    "    <spec><lib>agents</lib>   <name>NullRegion</name> </spec>\n",
    "  </archetypes>\n",
    "  <xi:include href=\"UNITED_STATES/buildtimes/inclusions.xml#xpointer(/inclusions/child::*)\"/>\n",
    ".\n",
    ".\n",
    ".\n",
    "```\n",
    "As shown above, `XInclude` namespace was added to the root element: `simulation`. The xml file to be added was declared under the namespace using `xi:include` with the relative link `UNITED_STATES/buildtimes/inclusions.xml#xpointer(/inclusions/child::*)`.\n",
    "\n",
    "__Rationale for setting xml base__\n",
    "\n",
    "One issue that arises with the use of relative path to reference an external document, is that the xml parser (including the one used in _CYCLUS_) does not know where to find the referenced documents. Thus, parsing the final input file from different paths yielded different results and often lead to _unable-to-find-external-entity_ errors. Setting an xml base allows the parser to correctly find the referenced files.\n",
    "\n",
    "__Rendering final input file__\n",
    "\n",
    "Setting an xml base is done by finding the absolute path of the _CYCLUS_ input file, and using `jinja2` to render the absolute path. Furthermore, in order to specify all the nations that are included for this simulation, `jinja2` is also used to render the different nations as institutions."
   ]
  },
  {
   "cell_type": "code",
   "execution_count": 10,
   "metadata": {
    "ExecuteTime": {
     "end_time": "2018-03-23T19:42:40.721145Z",
     "start_time": "2018-03-23T19:42:40.685339Z"
    }
   },
   "outputs": [],
   "source": [
    "def render_cyclus(cyclus_template, region, in_dict, out_path):\n",
    "    \"\"\" Renders final cyclus output file with xml base, and institutions\n",
    "    for each country\n",
    "\n",
    "    Parameters\n",
    "    ----------\n",
    "    cyclus_template: str\n",
    "        path to cyclus_tempalte\n",
    "    region: str\n",
    "        region chosen for cyclus simulation\n",
    "    in_dict: dictionary\n",
    "        in_dict should be buildtime_dict from get_buildtime function\n",
    "    out_path: str\n",
    "        output path for cyclus input file\n",
    "    output_name:\n",
    "\n",
    "    Returns\n",
    "    -------\n",
    "    null\n",
    "        writes cyclus input file in out_path\n",
    "    \"\"\"\n",
    "    if out_path[-1] != '/':\n",
    "        out_path += '/'\n",
    "    cyclus_template = idata.load_template(cyclus_template)\n",
    "    country_list = {value[0].replace(' ', '_') for value in in_dict.values()}\n",
    "    rendered = cyclus_template.render(countries=country_list,\n",
    "                                      base_dir=os.path.abspath(out_path) + '/')\n",
    "    with open(out_path + region + '.xml', 'w') as output:\n",
    "        output.write(rendered)\n",
    "\n",
    "\n",
    "cyclus_tmpl = ('templates/' + region + '/' + region + '_template.xml')\n",
    "render_cyclus(cyclus_tmpl, region, buildtime, 'cyclus/input/')"
   ]
  },
  {
   "cell_type": "markdown",
   "metadata": {},
   "source": [
    "[europe.xml](cyclus/input/europe.xml) shows the final _CYCLUS_ input file with all the xml inclusions and xml base.\n",
    "\n",
    "__Running _CYCLUS_ Simulation__\n",
    "\n",
    "Using the final input file above, a _CYCLUS_ simulation is run using the following command on bash. The output of the simulation is uploaded to the ARFC Box for use if _CYCLUS_ is not installed in the device. In such case, skip to _Analysis and Results_ section."
   ]
  },
  {
   "cell_type": "code",
   "execution_count": 11,
   "metadata": {
    "ExecuteTime": {
     "end_time": "2018-03-23T20:15:57.174578Z",
     "start_time": "2018-03-23T19:42:41.762111Z"
    },
    "scrolled": false
   },
   "outputs": [
    {
     "name": "stdout",
     "output_type": "stream",
     "text": [
      "rm: cannot remove 'cyclus/europe.sqlite': No such file or directory\n",
      "              :                                                               \n",
      "          .CL:CC CC             _Q     _Q  _Q_Q    _Q    _Q              _Q   \n",
      "        CC;CCCCCCCC:C;         /_\\)   /_\\)/_/\\\\)  /_\\)  /_\\)            /_\\)  \n",
      "        CCCCCCCCCCCCCl       __O|/O___O|/O_OO|/O__O|/O__O|/O____________O|/O__\n",
      "     CCCCCCf     iCCCLCC     /////////////////////////////////////////////////\n",
      "     iCCCt  ;;;;;.  CCCC                                                      \n",
      "    CCCC  ;;;;;;;;;. CClL.                          c                         \n",
      "   CCCC ,;;       ;;: CCCC  ;                   : CCCCi                       \n",
      "    CCC ;;         ;;  CC   ;;:                CCC`   `C;                     \n",
      "  lCCC ;;              CCCC  ;;;:             :CC .;;. C;   ;    :   ;  :;;   \n",
      "  CCCC ;.              CCCC    ;;;,           CC ;    ; Ci  ;    :   ;  :  ;  \n",
      "   iCC :;               CC       ;;;,        ;C ;       CC  ;    :   ; .      \n",
      "  CCCi ;;               CCC        ;;;.      .C ;       tf  ;    :   ;  ;.    \n",
      "  CCC  ;;               CCC          ;;;;;;; fC :       lC  ;    :   ;    ;:  \n",
      "   iCf ;;               CC         :;;:      tC ;       CC  ;    :   ;     ;  \n",
      "  fCCC :;              LCCf      ;;;:         LC :.  ,: C   ;    ;   ; ;   ;  \n",
      "  CCCC  ;;             CCCC    ;;;:           CCi `;;` CC.  ;;;; :;.;.  ; ,;  \n",
      "    CCl ;;             CC    ;;;;              CCC    CCL                     \n",
      "   tCCC  ;;        ;; CCCL  ;;;                  tCCCCC.                      \n",
      "    CCCC  ;;     :;; CCCCf  ;                     ,L                          \n",
      "     lCCC   ;;;;;;  CCCL                                                      \n",
      "     CCCCCC  :;;  fCCCCC                                                      \n",
      "      . CCCC     CCCC .                                                       \n",
      "       .CCCCCCCCCCCCCi                                                        \n",
      "          iCCCCCLCf                                                           \n",
      "           .  C. ,                                                            \n",
      "              :                                                               \n",
      "\n",
      "Status: Cyclus run successful!\n",
      "Output location: ./cyclus/europe.sqlite\n",
      "Simulation ID: a3c21007-7ee9-4c05-89dd-6cedff757017\n"
     ]
    }
   ],
   "source": [
    "!rm cyclus/europe.sqlite\n",
    "!cyclus --input-file ./cyclus/input/europe.xml -o ./cyclus/europe.sqlite --warn-limit 0"
   ]
  },
  {
   "cell_type": "markdown",
   "metadata": {},
   "source": [
    "The first command removes the previous simulation output file. This is to prevent the final output file from having the results of any previous simulations. The simulation results are stored as an SQLite file [europe.sqlite](cyclus/europe.sqlite). A set of functions were written in python to obtain relevant data from the output file. With python, the results of the queries can be processed to perform meaningful analysis.\n",
    "\n",
    "## Analysis and Results\n",
    "\n",
    "__Connect to SQLite file__\n",
    "\n",
    "To make sqlite queries in python, a cursor, which acts like a pointer to the sqlite file is required. The use of `row_factory` class under `sqlite3` library allows the sqlite table to be indexed by integer values and by case-insensitive row name. `row_factory` produces readable code, and allows easy debugging."
   ]
  },
  {
   "cell_type": "code",
   "execution_count": 12,
   "metadata": {
    "ExecuteTime": {
     "end_time": "2018-03-23T20:15:57.184911Z",
     "start_time": "2018-03-23T20:15:57.177518Z"
    }
   },
   "outputs": [],
   "source": [
    "def get_cursor(file_name):\n",
    "    \"\"\" Connects and returns a cursor to an sqlite output file\n",
    "\n",
    "    Parameters\n",
    "    ----------\n",
    "    file_name: str\n",
    "        name of the sqlite file\n",
    "\n",
    "    Returns\n",
    "    -------\n",
    "    sqlite cursor\n",
    "    \"\"\"\n",
    "    con = lite.connect(file_name)\n",
    "    con.row_factory = lite.Row\n",
    "    return con.cursor()\n",
    "\n",
    "\n",
    "cursor = get_cursor('cyclus/europe.sqlite')"
   ]
  },
  {
   "cell_type": "markdown",
   "metadata": {},
   "source": [
    "__Get simulation start time, duration, and timestep__\n",
    "\n",
    "All analysis results are plotted for a visual representation. `get_timesteps` function is used to obtain simulation start time, and timestep, which are required for plotting."
   ]
  },
  {
   "cell_type": "code",
   "execution_count": 13,
   "metadata": {
    "ExecuteTime": {
     "end_time": "2018-03-23T20:15:57.220085Z",
     "start_time": "2018-03-23T20:15:57.186576Z"
    }
   },
   "outputs": [
    {
     "name": "stdout",
     "output_type": "stream",
     "text": [
      "Year:  1965 \n",
      "Month:  1 \n",
      "Duration:  1400 \n",
      "Timestep:  [0.000e+00 1.000e+00 2.000e+00 ... 1.397e+03 1.398e+03 1.399e+03]\n"
     ]
    }
   ],
   "source": [
    "def get_timesteps(cur):\n",
    "    \"\"\" Returns simulation start year, month, duration and\n",
    "    timesteps (in numpy linspace).\n",
    "\n",
    "    Parameters\n",
    "    ----------\n",
    "    cur: sqlite cursor\n",
    "        sqlite cursor\n",
    "\n",
    "    Returns\n",
    "    -------\n",
    "    init_year: int\n",
    "        start year of simulation\n",
    "    init_month: int\n",
    "        start month of simulation\n",
    "    duration: int\n",
    "        duration of simulation\n",
    "    timestep: list\n",
    "        linspace up to duration\n",
    "    \"\"\"\n",
    "    info = cur.execute('SELECT initialyear, initialmonth, '\n",
    "                       'duration FROM info').fetchone()\n",
    "    init_year = info['initialyear']\n",
    "    init_month = info['initialmonth']\n",
    "    duration = info['duration']\n",
    "    timestep = np.linspace(0, duration - 1, num=duration)\n",
    "\n",
    "    return init_year, init_month, duration, timestep\n",
    "\n",
    "\n",
    "ini_yr, ini_month, dur, timestep = get_timesteps(cursor)\n",
    "print('Year: ', ini_yr, '\\nMonth: ', ini_month, '\\nDuration: ',\n",
    "      dur, '\\nTimestep: ', timestep)"
   ]
  },
  {
   "cell_type": "markdown",
   "metadata": {},
   "source": [
    "__Nat_u consumption vs Time__\n",
    "\n",
    "`nat_u_timeseries` function returns a timeseries list of natural uranium sent to the enrichment facility. Unfortunately, this does not represent the amount of natural uranium used in real life as _CYCAMORE::enrichment_ facility does not enrich fuel on a need-basis. Due to current limits in the software, the enrichment facility enriches the same amount of natural uranium at each timestep. When _CYCAMORE::enrichment_ is updated to enrich fuel on a need-basis, this analysis would be more accurate. \n",
    "\n",
    "The `nat_u_timeseries` function makes an sqlite query on the `timeseriesenrichmentfeed` table from the simulation output file and passes the results to `get_timeseries_cum` function. The `get_timeseries_cum` function then calculates the chronological cumulative sum of the natural uranium transferred. The resulting timeseries list is used to plot the cumulative amount of natural uranium used in enrichment over time. "
   ]
  },
  {
   "cell_type": "code",
   "execution_count": 14,
   "metadata": {
    "ExecuteTime": {
     "end_time": "2018-03-23T20:15:59.607132Z",
     "start_time": "2018-03-23T20:15:57.222045Z"
    },
    "scrolled": false
   },
   "outputs": [
    {
     "name": "stderr",
     "output_type": "stream",
     "text": [
      "/home/park/anaconda3/lib/python3.6/site-packages/matplotlib/__init__.py:1855: MatplotlibDeprecationWarning: The *left* kwarg to `bar` is deprecated use *x* instead. Support for *left* will be removed in Matplotlib 3.0\n",
      "  return func(ax, *args, **kwargs)\n"
     ]
    },
    {
     "data": {
      "image/png": "[encoded data removed]",
      "text/plain": [
       "<IPython.core.display.Image object>"
      ]
     },
     "execution_count": 14,
     "metadata": {},
     "output_type": "execute_result"
    }
   ],
   "source": [
    "def nat_u_timeseries(cur):\n",
    "    \"\"\" Finds natural uranium supply from source\n",
    "        Since currently the source supplies all its capacity,\n",
    "        the timeseriesenrichmentfeed is used.\n",
    "\n",
    "    Parameters\n",
    "    ----------\n",
    "    cur: sqlite cursor\n",
    "        sqlite cursor\n",
    "\n",
    "    Returns\n",
    "    -------\n",
    "    get_timeseries: function\n",
    "        calls a function that returns timeseries list of natural U\n",
    "        demand from enrichment [MTHM]\n",
    "    \"\"\"\n",
    "    init_year, init_month, duration, timestep = get_timesteps(cur)\n",
    "    # Get Nat U feed to enrichment from timeseriesenrichmentfeed\n",
    "    feed = cur.execute('SELECT time, sum(value) '\n",
    "                       'FROM timeseriesenrichmentfeed '\n",
    "                       'GROUP BY time').fetchall()\n",
    "\n",
    "    return get_timeseries_cum(feed, duration, True)\n",
    "\n",
    "\n",
    "def get_timeseries_cum(in_list, duration, kg_to_tons):\n",
    "    \"\"\" returns a timeseries list from in_list data.\n",
    "\n",
    "    Parameters\n",
    "    ----------\n",
    "    in_list: list\n",
    "        list of data to be created into timeseries\n",
    "        list[0] = time\n",
    "        list[1] = value, quantity\n",
    "    multiplyby: int\n",
    "        integer to multiply the value in the list by for\n",
    "        unit conversion from kilograms\n",
    "    kg_to_tons: bool\n",
    "        if True, list returned has units of tons\n",
    "        if False, list returned as units of kilograms\n",
    "\n",
    "    Returns\n",
    "    -------\n",
    "    timeseries of commodities in kg or tons\n",
    "    \"\"\"\n",
    "    value = 0\n",
    "    value_timeseries = []\n",
    "    array = np.array(in_list)\n",
    "    if len(in_list) > 0:\n",
    "        for i in range(0, duration):\n",
    "            value += sum(array[array[:, 0] == i][:, 1])\n",
    "            if kg_to_tons:\n",
    "                value_timeseries.append(value * 0.001)\n",
    "            else:\n",
    "                value_timeseries.append(value)\n",
    "    return value_timeseries\n",
    "\n",
    "\n",
    "img_out = 'analysis/results/' + region + '/'\n",
    "pathlib.Path(img_out).mkdir(parents=True, exist_ok=True)\n",
    "name = 'Nat_u_consumed vs time'\n",
    "consumption = {'Nat_u_consumption': nat_u_timeseries(cursor)}\n",
    "an.stacked_bar_chart(consumption, timestep,\n",
    "                     'Time [Yr]', 'Nat_u_Consumed [MTHM]',\n",
    "                     name, img_out + name, ini_yr)\n",
    "\n",
    "Image(filename=img_out + name + '.png')"
   ]
  },
  {
   "cell_type": "markdown",
   "metadata": {},
   "source": [
    "As shown in the figure above, natural uranium consumed over the period of the simulation linearly increases. This demonstrates the constant rate of fuel processing performed by the enrichment facility regardless of the demand for fresh fuel. This will hopefully be improved in the future so that the enrichment facilities take the demand for fresh fuel into account.\n",
    "\n",
    "__Amount of fuel into reactors vs. time__\n",
    "\n",
    "A more accurate analysis for fuel consumption is the amount of fuel sent to reactors over time. While the enrichment facility constantly produces fresh fuel, the total amount of fuel sent to reactors changes based on the number and size of the reactors in operation at each timestep. This analysis is performed with `fuel_into_reactors` function. The function makes an sqlite query to the `resources`, `transactions`, and `agententry` table to obtain the amount of fuel sent to reactors throughout the simulation. The resulting data was sent to `get_timeseries_cum` function to obtain a timeseries list of different types of fuel sent to reactors throughout the simulation."
   ]
  },
  {
   "cell_type": "code",
   "execution_count": 15,
   "metadata": {
    "ExecuteTime": {
     "end_time": "2018-03-23T20:16:06.829561Z",
     "start_time": "2018-03-23T20:15:59.608902Z"
    },
    "scrolled": false
   },
   "outputs": [
    {
     "name": "stderr",
     "output_type": "stream",
     "text": [
      "/home/park/anaconda3/lib/python3.6/site-packages/matplotlib/__init__.py:1855: MatplotlibDeprecationWarning: The *left* kwarg to `bar` is deprecated use *x* instead. Support for *left* will be removed in Matplotlib 3.0\n",
      "  return func(ax, *args, **kwargs)\n"
     ]
    },
    {
     "data": {
      "image/png": "[encoded data removed]",
      "text/plain": [
       "<IPython.core.display.Image object>"
      ]
     },
     "execution_count": 15,
     "metadata": {},
     "output_type": "execute_result"
    }
   ],
   "source": [
    "def fuel_into_reactors(cur):\n",
    "    \"\"\" Finds timeseries of mass of fuel received by reactors\n",
    "\n",
    "    Parameters\n",
    "    ----------\n",
    "    cur: sqlite cursor\n",
    "        sqlite cursor\n",
    "\n",
    "    Returns\n",
    "    -------\n",
    "    timeseries list of fuel into reactors [tons]\n",
    "    \"\"\"\n",
    "    init_year, init_month, duration, timestep = get_timesteps(cur)\n",
    "    fuel = cur.execute('SELECT time, sum(quantity) FROM transactions '\n",
    "                       'INNER JOIN resources ON '\n",
    "                       'resources.resourceid = transactions.resourceid '\n",
    "                       'INNER JOIN agententry ON '\n",
    "                       'transactions.receiverid = agententry.agentid '\n",
    "                       'WHERE spec LIKE \"%Reactor%\" '\n",
    "                       'GROUP BY time').fetchall()\n",
    "\n",
    "    return get_timeseries_cum(fuel, duration, True)\n",
    "\n",
    "\n",
    "name = 'Fuel into Reactors over Time'\n",
    "to_reactor = {'Fuel_to_reactor': fuel_into_reactors(cursor)}\n",
    "an.stacked_bar_chart(to_reactor, timestep,\n",
    "                     'Time [Yr]', 'Fuel into Reactors [MTHM]',\n",
    "                     name, img_out + name, ini_yr)\n",
    "\n",
    "Image(filename=img_out + name + '.png')"
   ]
  },
  {
   "cell_type": "markdown",
   "metadata": {},
   "source": [
    "As shown in the figure above, the fuel into reactors over time is not linear and changes with fuel demand of the reactors. This figure reflectes the state of the reactors (whether they were operating or refueling), and the number of reactors operating within the simulation. From the plot, the number of reactors greatly increased around 1980s.\n",
    "\n",
    "__Fuel utilization vs. time__\n",
    "\n",
    "Fuel utilization factor is the ratio of fuel spent to the amount of natural uranium consumed. While, fuel utilization factor is a value of interest, it is inaccurate at the moment of this investigation because the enrichment facilities in _CYCLUS_ does not perform a demand-driven fuel enrichment. Since the amount of natural uranium consumed is not accurate, fuel utilization factor, a derived variable, is also inaccurate. However, the functions used to calculate the fuel utilization factor over time is displayed for future usage. This is performed with `u_util_calc` function, which runs `nat_u_timeseries` function and `fuel_into_reactors` function to obtain the timeseries lists of natural uranium consumed and the amount of fuel consumed. Then, and element-wise division of the two lists were performed to obtain the fuel utilization factor."
   ]
  },
  {
   "cell_type": "code",
   "execution_count": 16,
   "metadata": {
    "ExecuteTime": {
     "end_time": "2018-03-23T20:16:14.096081Z",
     "start_time": "2018-03-23T20:16:06.831284Z"
    },
    "scrolled": false
   },
   "outputs": [
    {
     "name": "stderr",
     "output_type": "stream",
     "text": [
      "/home/park/anaconda3/lib/python3.6/site-packages/ipykernel_launcher.py:22: RuntimeWarning: invalid value encountered in true_divide\n",
      "/home/park/anaconda3/lib/python3.6/site-packages/matplotlib/__init__.py:1855: MatplotlibDeprecationWarning: The *left* kwarg to `bar` is deprecated use *x* instead. Support for *left* will be removed in Matplotlib 3.0\n",
      "  return func(ax, *args, **kwargs)\n"
     ]
    },
    {
     "name": "stdout",
     "output_type": "stream",
     "text": [
      "The Average Fuel Utilization Factor is: \n",
      "0.10000517637646797\n"
     ]
    },
    {
     "data": {
      "image/png": "[encoded data removed]",
      "text/plain": [
       "<IPython.core.display.Image object>"
      ]
     },
     "execution_count": 16,
     "metadata": {},
     "output_type": "execute_result"
    }
   ],
   "source": [
    "def u_util_calc(cur):\n",
    "    \"\"\" Returns fuel utilization factor of fuel cycle\n",
    "\n",
    "    Parameters\n",
    "    ----------\n",
    "    cur: sqlite cursor\n",
    "        sqlite cursor\n",
    "\n",
    "    Returns\n",
    "    -------\n",
    "    u_util_timeseries: numpy array\n",
    "        Timeseries of Uranium utilization factor\n",
    "    Prints simulation average Uranium Utilization\n",
    "    \"\"\"\n",
    "    # timeseries of natural uranium\n",
    "    u_supply_timeseries = np.array(nat_u_timeseries(cur))\n",
    "\n",
    "    # timeseries of fuel into reactors\n",
    "    fuel_timeseries = np.array(fuel_into_reactors(cur))\n",
    "\n",
    "    # timeseries of Uranium utilization\n",
    "    u_util_timeseries = np.nan_to_num(fuel_timeseries / u_supply_timeseries)\n",
    "    print('The Average Fuel Utilization Factor is: ')\n",
    "    print(sum(u_util_timeseries) / len(u_util_timeseries))\n",
    "\n",
    "    return u_util_timeseries\n",
    "\n",
    "\n",
    "name = 'Fuel utilization'\n",
    "fuel_util = {'Fuel Utilization Factor': u_util_calc(cursor)}\n",
    "an.stacked_bar_chart(fuel_util, timestep,\n",
    "                     'Time [Yr]', 'Fuel utiliization',\n",
    "                     name, img_out + name, ini_yr)\n",
    "\n",
    "Image(filename=img_out + name + '.png')"
   ]
  },
  {
   "cell_type": "markdown",
   "metadata": {},
   "source": [
    "__Capacity vs. time__\n",
    "\n",
    "Total capacity over time is obtained using `get_power_dict` function and `capacity_calc` function. The `get_power_dict` function performs four sqlite queries to obtain the following: simulation start date, timesteps, institutions declared in _CYCLUS_, and reactors entry and exit timesteps. The results are sent to `capacity_calc` function, which calculates the timeseries value of the total capacity of the reactors in each institution."
   ]
  },
  {
   "cell_type": "code",
   "execution_count": 17,
   "metadata": {
    "ExecuteTime": {
     "end_time": "2018-03-23T20:17:01.036445Z",
     "start_time": "2018-03-23T20:16:14.097871Z"
    },
    "scrolled": false
   },
   "outputs": [
    {
     "name": "stdout",
     "output_type": "stream",
     "text": [
      "FuelCycle has no values\n"
     ]
    },
    {
     "name": "stderr",
     "output_type": "stream",
     "text": [
      "/home/park/anaconda3/lib/python3.6/site-packages/matplotlib/__init__.py:1855: MatplotlibDeprecationWarning: The *left* kwarg to `bar` is deprecated use *x* instead. Support for *left* will be removed in Matplotlib 3.0\n",
      "  return func(ax, *args, **kwargs)\n"
     ]
    },
    {
     "data": {
      "image/png": "[encoded data removed]",
      "text/plain": [
       "<IPython.core.display.Image object>"
      ]
     },
     "execution_count": 17,
     "metadata": {},
     "output_type": "execute_result"
    }
   ],
   "source": [
    "def get_power_dict(cur):\n",
    "    \"\"\" Gets dictionary of power capacity by calling capacity_calc\n",
    "\n",
    "    Parameters\n",
    "    ----------\n",
    "    cur: sqlite cursor\n",
    "        sqlite cursor\n",
    "\n",
    "    Returns\n",
    "    ------\n",
    "    power_dict: dictionary\n",
    "        \"dictionary with key=government, and\n",
    "        value=timeseries list of installed capacity\"\n",
    "    \"\"\"\n",
    "    init_year, init_month, duration, timestep = get_timesteps(cur)\n",
    "    governments = get_inst(cur)\n",
    "\n",
    "    # get power cap values\n",
    "    entry = cur.execute('SELECT max(value), timeseriespower.agentid, '\n",
    "                        'parentid, entertime FROM agententry '\n",
    "                        'INNER JOIN timeseriespower '\n",
    "                        'ON agententry.agentid = timeseriespower.agentid '\n",
    "                        'GROUP BY timeseriespower.agentid').fetchall()\n",
    "\n",
    "    exit_step = cur.execute('SELECT max(value), timeseriespower.agentid, '\n",
    "                            'parentid, exittime FROM agentexit '\n",
    "                            'INNER JOIN timeseriespower '\n",
    "                            'ON agentexit.agentid = timeseriespower.agentid'\n",
    "                            ' INNER JOIN agententry '\n",
    "                            'ON agentexit.agentid = agententry.agentid '\n",
    "                            'GROUP BY timeseriespower.agentid').fetchall()\n",
    "\n",
    "    return capacity_calc(governments, timestep, entry, exit_step)\n",
    "\n",
    "\n",
    "def get_inst(cur):\n",
    "    \"\"\" Returns prototype and agentids of institutions\n",
    "\n",
    "    Parameters\n",
    "    ----------\n",
    "    cur: sqlite cursor\n",
    "        sqlite cursor\n",
    "\n",
    "    Returns\n",
    "    -------\n",
    "    sqlite query result (list of tuples)\n",
    "    \"\"\"\n",
    "    return cur.execute('SELECT prototype, agentid FROM agententry '\n",
    "                       'WHERE kind = \"Inst\"').fetchall()\n",
    "\n",
    "\n",
    "def capacity_calc(governments, timestep, entry, exit_step):\n",
    "    \"\"\"Adds and subtracts capacity over time for plotting\n",
    "\n",
    "    Parameters\n",
    "    ----------\n",
    "    governments: list\n",
    "        list of governments (countries)\n",
    "    timestep: np.linspace\n",
    "        list of timestep from 0 to simulation time\n",
    "    entry: list\n",
    "        power_cap, agentid, parentid, entertime\n",
    "        of all entered reactors\n",
    "    exit_step: list\n",
    "        power_cap, agentid, parenitd, exittime\n",
    "        of all decommissioned reactors\n",
    "\n",
    "    Returns\n",
    "    -------\n",
    "    power_dict: dictionary\n",
    "        \"dictionary with key=government, and\n",
    "        value=timeseries list capacity\"\n",
    "    \"\"\"\n",
    "    power_dict = collections.OrderedDict()\n",
    "    for gov in governments:\n",
    "        capacity = []\n",
    "        cap = 0\n",
    "        for t in timestep:\n",
    "            for enter in entry:\n",
    "                if (enter['entertime'] == t and\n",
    "                        enter['parentid'] == gov['agentid']):\n",
    "                    cap += enter['max(value)'] * 0.001\n",
    "            for dec in exit_step:\n",
    "                if (dec['exittime'] == t and\n",
    "                        dec['parentid'] == gov['agentid']):\n",
    "                    cap -= dec['max(value)'] * 0.001\n",
    "            capacity.append(cap)\n",
    "        power_dict[gov['prototype']] = np.asarray(capacity)\n",
    "\n",
    "    return power_dict\n",
    "\n",
    "\n",
    "name = 'Net Capacity vs Time'\n",
    "capacity_dict = get_power_dict(cursor)\n",
    "an.stacked_bar_chart(capacity_dict, timestep,\n",
    "                     'Years', 'Net_Capacity [GWe]',\n",
    "                     name, img_out + name, ini_yr)\n",
    "\n",
    "Image(filename=img_out + name + '.png')"
   ]
  },
  {
   "cell_type": "markdown",
   "metadata": {},
   "source": [
    "As shown in the figure above, the net capacity greatly increases between 1970 and 1990. The increase in capacity reflects the increase in the number of reactors in operation. Then, the capacity decreases suddenly around 2010. This reflects the Fukushima Daiichi nuclear incident and Germany's subsequent decision to move away from nuclear energy. As shown in the figure above, the net capacity decreases by approximately 10 GWe.\n",
    "\n",
    "__Number of reactors vs time__\n",
    "\n",
    "A very similar procedure is used to obtain the number of reactors over time. The same four queries made to calculate capacity over time are made to get the number of reactors over time. Then, the result of the queries is passed to `reactor_deployments` function, which calculates the number of reactors operating over time.  "
   ]
  },
  {
   "cell_type": "code",
   "execution_count": 18,
   "metadata": {
    "ExecuteTime": {
     "end_time": "2018-03-23T20:17:47.911504Z",
     "start_time": "2018-03-23T20:17:01.038445Z"
    }
   },
   "outputs": [
    {
     "name": "stdout",
     "output_type": "stream",
     "text": [
      "FuelCycle has no values\n"
     ]
    },
    {
     "name": "stderr",
     "output_type": "stream",
     "text": [
      "/home/park/anaconda3/lib/python3.6/site-packages/matplotlib/__init__.py:1855: MatplotlibDeprecationWarning: The *left* kwarg to `bar` is deprecated use *x* instead. Support for *left* will be removed in Matplotlib 3.0\n",
      "  return func(ax, *args, **kwargs)\n"
     ]
    },
    {
     "data": {
      "image/png": "[encoded data removed]",
      "text/plain": [
       "<IPython.core.display.Image object>"
      ]
     },
     "execution_count": 18,
     "metadata": {},
     "output_type": "execute_result"
    }
   ],
   "source": [
    "def get_deployment_dict(cur):\n",
    "    \"\"\" Gets dictionary of reactors deployed over time\n",
    "    by calling reactor_deployments\n",
    "\n",
    "    Parameters\n",
    "    ----------\n",
    "    cur: sqlite cursor\n",
    "        sqlite cursor\n",
    "\n",
    "    Returns\n",
    "    ------\n",
    "    num_dict: dictionary\n",
    "        \"dictionary with key=government, and\n",
    "        value=timeseries list of number of reactors\"\n",
    "    \"\"\"\n",
    "    init_year, init_month, duration, timestep = get_timesteps(cur)\n",
    "    governments = get_inst(cur)\n",
    "\n",
    "    # get power cap values\n",
    "    entry = cur.execute('SELECT max(value), timeseriespower.agentid, '\n",
    "                        'parentid, entertime FROM agententry '\n",
    "                        'INNER JOIN timeseriespower '\n",
    "                        'ON agententry.agentid = timeseriespower.agentid '\n",
    "                        'GROUP BY timeseriespower.agentid').fetchall()\n",
    "\n",
    "    exit_step = cur.execute('SELECT max(value), timeseriespower.agentid, '\n",
    "                            'parentid, exittime FROM agentexit '\n",
    "                            'INNER JOIN timeseriespower '\n",
    "                            'ON agentexit.agentid = timeseriespower.agentid'\n",
    "                            ' INNER JOIN agententry '\n",
    "                            'ON agentexit.agentid = agententry.agentid '\n",
    "                            'GROUP BY timeseriespower.agentid').fetchall()\n",
    "\n",
    "    return reactor_deployments(governments, timestep, entry, exit_step)\n",
    "\n",
    "\n",
    "def reactor_deployments(governments, timestep, entry, exit_step):\n",
    "    \"\"\"Adds and subtracts number of reactors deployed over time\n",
    "    for plotting\n",
    "\n",
    "    Parameters\n",
    "    ----------\n",
    "    governments: list\n",
    "        list of governments (countries)\n",
    "    timestep: np.linspace\n",
    "        list of timestep from 0 to simulation time\n",
    "    entry: list\n",
    "        power_cap, agentid, parentid, entertime\n",
    "        of all entered reactors\n",
    "\n",
    "    exit_step: list\n",
    "        power_cap, agentid, parenitd, exittime\n",
    "        of all decommissioned reactors\n",
    "\n",
    "    Returns\n",
    "    -------\n",
    "    deployment: dictionary\n",
    "        \"dictionary with key=government, and\n",
    "        value=timeseries number of reactors\"\n",
    "    \"\"\"\n",
    "    deployment = collections.OrderedDict()\n",
    "    for gov in governments:\n",
    "        num_reactors = []\n",
    "        count = 0\n",
    "        for t in timestep:\n",
    "            for enter in entry:\n",
    "                if (enter['entertime'] == t and\n",
    "                        enter['parentid'] == gov['agentid']):\n",
    "                    count += 1\n",
    "            for dec in exit_step:\n",
    "                if (dec['exittime'] == t and\n",
    "                        dec['parentid'] == gov['agentid']):\n",
    "                    count -= 1\n",
    "            num_reactors.append(count)\n",
    "        deployment[gov['prototype']] = np.asarray(num_reactors)\n",
    "\n",
    "    return deployment\n",
    "\n",
    "\n",
    "name = 'Number of Reactors vs Time'\n",
    "an.stacked_bar_chart(get_deployment_dict(cursor),\n",
    "                     timestep, 'Years', 'Number of Reactors',\n",
    "                     name, img_out + name, ini_yr)\n",
    "\n",
    "Image(filename=img_out + name + '.png')"
   ]
  },
  {
   "cell_type": "markdown",
   "metadata": {},
   "source": [
    "## Conclusion\n",
    "\n",
    "To conclude, _CYCLUS_ performs simulations at a fairly accurate level as shown in the comparison of the power generation plots. However, some improvements in _CYCLUS_ are benefitial in producing a more accurate simulation: the implementation of an enrichment facility that processes fuel on a need basis. There were other improvements that can be potentially made for this simulation to improve its accuracy.\n",
    "\n",
    "+  Specify actual burnup for reactors\n",
    "    + Currently, the reactors deployed in Cyclus are all deployed with a burnup of 51 GWd/MTHM. \n",
    "    \n",
    "    \n",
    "+  Specify reactor n_assembly_core and batch\n",
    "    + Reactors were deployed in cyclus without the actual number of assemblies per core and batch. The typical values were used for each reactor type (Source needs to be added for the typical values). While the effects of changing these values may not be significant in the outcome of the simulation, specifying such information may benefit the accuracy of the simulation results.\n",
    "    \n",
    "### References\n",
    "\n",
    "[1] N. Todreas and M. Kazimi, Nuclear systems. Boca Raton, FL: CRC Press, 2012.\n",
    "\n",
    "\n",
    "[2] D. Cacuci, Handbook of nuclear engineering. New York: Springer, 2010."
   ]
  }
 ],
 "metadata": {
  "kernelspec": {
   "display_name": "Python 3",
   "language": "python",
   "name": "python3"
  },
  "language_info": {
   "codemirror_mode": {
    "name": "ipython",
    "version": 3
   },
   "file_extension": ".py",
   "mimetype": "text/x-python",
   "name": "python",
   "nbconvert_exporter": "python",
   "pygments_lexer": "ipython3",
   "version": "3.6.4"
  }
 },
 "nbformat": 4,
 "nbformat_minor": 2
}
